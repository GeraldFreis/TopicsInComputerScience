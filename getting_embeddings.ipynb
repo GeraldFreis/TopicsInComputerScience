{
 "cells": [
  {
   "cell_type": "code",
   "execution_count": 1,
   "metadata": {},
   "outputs": [],
   "source": [
    "import pandas as pd\n",
    "\n",
    "raw_data = pd.read_csv(\"IMDB_dataset_final.csv\", low_memory=False)\n",
    "\n",
    "# printing statements to check the variables\n",
    "raw_x = raw_data.review; # print(raw_x)\n",
    "raw_y = raw_data.sentiment; # print(raw_y)\n",
    "\n",
    "number_of_words_in_dic = 37500; \n",
    "\n",
    "import tensorflow\n",
    "from tensorflow.keras.preprocessing.text import Tokenizer\n",
    "\n",
    "tokenizer = Tokenizer(num_words=number_of_words_in_dic) # to tokenize the words for learning\n",
    "tokenizer.fit_on_texts(raw_x)\n",
    "tokenized_sentiments = tokenizer.texts_to_sequences(raw_x) # converting the words to number arrays\n",
    "\n",
    "vocab_size = len(tokenizer.word_index) + 1\n",
    "\n",
    "padded_tokenized_sentiments= tensorflow.keras.utils.pad_sequences(tokenized_sentiments, padding=\"post\", maxlen=1000)"
   ]
  },
  {
   "cell_type": "code",
   "execution_count": 4,
   "metadata": {},
   "outputs": [],
   "source": [
    "import keras\n",
    "from keras import Sequential # we will be using this for the CNN\n",
    "from keras import layers\n",
    "import tensorflow as tf"
   ]
  },
  {
   "cell_type": "code",
   "execution_count": null,
   "metadata": {},
   "outputs": [],
   "source": [
    "# Note that this changes every time you pass data through it. I.e there exists no consistency in results as the embedding layer is not trained\n",
    "embedding_layer = layers.Embedding(1,50,input_length=1000)\n",
    "print(embedding_layer(padded_tokenized_sentiments[0]))"
   ]
  },
  {
   "cell_type": "code",
   "execution_count": 5,
   "metadata": {},
   "outputs": [
    {
     "name": "stdout",
     "output_type": "stream",
     "text": [
      "Model: \"sequential\"\n",
      "_________________________________________________________________\n",
      " Layer (type)                Output Shape              Param #   \n",
      "=================================================================\n",
      " embedding (Embedding)       (None, 1000, 50)          1875000   \n",
      "                                                                 \n",
      " conv1d (Conv1D)             (None, 998, 32)           4832      \n",
      "                                                                 \n",
      " global_max_pooling1d (Globa  (None, 32)               0         \n",
      " lMaxPooling1D)                                                  \n",
      "                                                                 \n",
      " dense (Dense)               (None, 10)                330       \n",
      "                                                                 \n",
      " dense_1 (Dense)             (None, 1)                 11        \n",
      "                                                                 \n",
      "=================================================================\n",
      "Total params: 1,880,173\n",
      "Trainable params: 1,880,173\n",
      "Non-trainable params: 0\n",
      "_________________________________________________________________\n"
     ]
    }
   ],
   "source": [
    "# importing the trained keras cnn\n",
    "CNN = tf.keras.models.load_model(\"Trained_CNN_for_sentiment_prediction\")\n",
    "CNN.summary()"
   ]
  },
  {
   "cell_type": "code",
   "execution_count": null,
   "metadata": {},
   "outputs": [],
   "source": [
    "# getting the outputs from the embedding layer of the CNN\n",
    "embedding_output = "
   ]
  }
 ],
 "metadata": {
  "kernelspec": {
   "display_name": "baseEnv",
   "language": "python",
   "name": "python3"
  },
  "language_info": {
   "codemirror_mode": {
    "name": "ipython",
    "version": 3
   },
   "file_extension": ".py",
   "mimetype": "text/x-python",
   "name": "python",
   "nbconvert_exporter": "python",
   "pygments_lexer": "ipython3",
   "version": "3.8.17"
  },
  "orig_nbformat": 4
 },
 "nbformat": 4,
 "nbformat_minor": 2
}
