{
 "cells": [
  {
   "cell_type": "code",
   "execution_count": 1,
   "metadata": {},
   "outputs": [],
   "source": [
    "import pandas as pd\n",
    "\n",
    "raw_data = pd.read_csv(\"IMDB_dataset_final.csv\", low_memory=False)\n",
    "\n",
    "# printing statements to check the variables\n",
    "raw_x = raw_data.review; # print(raw_x)\n",
    "raw_y = raw_data.sentiment; # print(raw_y)\n",
    "\n",
    "number_of_words_in_dic = 37500; \n",
    "\n",
    "import tensorflow as tf\n",
    "from tensorflow.keras.preprocessing.text import Tokenizer\n",
    "tf.config.set_visible_devices([], 'GPU')\n",
    "\n",
    "\n",
    "tokenizer = Tokenizer(num_words=number_of_words_in_dic) # to tokenize the words for learning\n",
    "tokenizer.fit_on_texts(raw_x)\n",
    "tokenized_sentiments = tokenizer.texts_to_sequences(raw_x) # converting the words to number arrays\n",
    "\n",
    "vocab_size = len(tokenizer.word_index) + 1\n",
    "\n",
    "padded_tokenized_sentiments= tf.keras.utils.pad_sequences(tokenized_sentiments, padding=\"post\", maxlen=1000)"
   ]
  },
  {
   "cell_type": "code",
   "execution_count": 2,
   "metadata": {},
   "outputs": [],
   "source": [
    "import keras\n",
    "from keras import Sequential # we will be using this for the CNN\n",
    "from keras import layers\n",
    "import tensorflow as tf\n",
    "import os"
   ]
  },
  {
   "cell_type": "markdown",
   "metadata": {},
   "source": [
    "The code beneath changes every time you run it and hence shows a bad approach to extracting the embeddings"
   ]
  },
  {
   "cell_type": "code",
   "execution_count": null,
   "metadata": {},
   "outputs": [],
   "source": [
    "# Note that this changes every time you pass data through it. I.e there exists no consistency in results as the embedding layer is not trained\n",
    "embedding_layer = layers.Embedding(1,50,input_length=1000)\n",
    "print(embedding_layer(padded_tokenized_sentiments[0]))"
   ]
  },
  {
   "cell_type": "code",
   "execution_count": 3,
   "metadata": {},
   "outputs": [
    {
     "name": "stdout",
     "output_type": "stream",
     "text": [
      "Model: \"sequential\"\n",
      "_________________________________________________________________\n",
      " Layer (type)                Output Shape              Param #   \n",
      "=================================================================\n",
      " embedding (Embedding)       (None, 1000, 50)          1875000   \n",
      "                                                                 \n",
      " conv1d (Conv1D)             (None, 998, 32)           4832      \n",
      "                                                                 \n",
      " global_max_pooling1d (Globa  (None, 32)               0         \n",
      " lMaxPooling1D)                                                  \n",
      "                                                                 \n",
      " dense (Dense)               (None, 10)                330       \n",
      "                                                                 \n",
      " dense_1 (Dense)             (None, 1)                 11        \n",
      "                                                                 \n",
      "=================================================================\n",
      "Total params: 1,880,173\n",
      "Trainable params: 1,880,173\n",
      "Non-trainable params: 0\n",
      "_________________________________________________________________\n"
     ]
    }
   ],
   "source": [
    "# importing the trained keras cnn\n",
    "CNN = tf.keras.models.load_model(\"Trained_CNN_for_sentiment_prediction\")\n",
    "CNN.summary()"
   ]
  },
  {
   "cell_type": "markdown",
   "metadata": {},
   "source": [
    "Getting the node embedding outputs from the STABLE CNN model"
   ]
  },
  {
   "cell_type": "code",
   "execution_count": 10,
   "metadata": {},
   "outputs": [
    {
     "name": "stdout",
     "output_type": "stream",
     "text": [
      "tf.Tensor(\n",
      "[[[-0.12047946 -0.07198443 -0.03228364 ...  0.00455372 -0.14110881\n",
      "   -0.00318262]\n",
      "  [ 0.02522953 -0.14398038 -0.13661358 ... -0.04930472  0.06729973\n",
      "   -0.17320693]\n",
      "  [-0.04343206 -0.04485501  0.12286492 ... -0.04977522 -0.06138654\n",
      "   -0.02183243]\n",
      "  ...\n",
      "  [ 0.01882174  0.00709695 -0.01237831 ... -0.06010544 -0.07130452\n",
      "   -0.12374803]\n",
      "  [ 0.01882174  0.00709695 -0.01237831 ... -0.06010544 -0.07130452\n",
      "   -0.12374803]\n",
      "  [ 0.01882174  0.00709695 -0.01237831 ... -0.06010544 -0.07130452\n",
      "   -0.12374803]]\n",
      "\n",
      " [[-0.06885604 -0.09118391 -0.07906064 ... -0.02250706 -0.14835048\n",
      "   -0.02511178]\n",
      "  [-0.08446779 -0.0147468  -0.03923324 ...  0.03985319  0.07039006\n",
      "   -0.01437815]\n",
      "  [ 0.09084012  0.02692487  0.08453914 ...  0.00336978 -0.03451585\n",
      "   -0.16510229]\n",
      "  ...\n",
      "  [ 0.01882174  0.00709695 -0.01237831 ... -0.06010544 -0.07130452\n",
      "   -0.12374803]\n",
      "  [ 0.01882174  0.00709695 -0.01237831 ... -0.06010544 -0.07130452\n",
      "   -0.12374803]\n",
      "  [ 0.01882174  0.00709695 -0.01237831 ... -0.06010544 -0.07130452\n",
      "   -0.12374803]]\n",
      "\n",
      " [[-0.00155568 -0.0764398  -0.14510995 ...  0.05492318 -0.00460473\n",
      "    0.06972919]\n",
      "  [-0.0402974  -0.04470833 -0.07801381 ...  0.09282771  0.07706526\n",
      "   -0.06520386]\n",
      "  [-0.06765638  0.01631243 -0.19508056 ...  0.08385246 -0.00294033\n",
      "    0.01059346]\n",
      "  ...\n",
      "  [ 0.01882174  0.00709695 -0.01237831 ... -0.06010544 -0.07130452\n",
      "   -0.12374803]\n",
      "  [ 0.01882174  0.00709695 -0.01237831 ... -0.06010544 -0.07130452\n",
      "   -0.12374803]\n",
      "  [ 0.01882174  0.00709695 -0.01237831 ... -0.06010544 -0.07130452\n",
      "   -0.12374803]]\n",
      "\n",
      " ...\n",
      "\n",
      " [[-0.00155568 -0.0764398  -0.14510995 ...  0.05492318 -0.00460473\n",
      "    0.06972919]\n",
      "  [ 0.12775144  0.08262446  0.12118261 ... -0.10830903  0.07931929\n",
      "    0.1273143 ]\n",
      "  [-0.06885604 -0.09118391 -0.07906064 ... -0.02250706 -0.14835048\n",
      "   -0.02511178]\n",
      "  ...\n",
      "  [ 0.01882174  0.00709695 -0.01237831 ... -0.06010544 -0.07130452\n",
      "   -0.12374803]\n",
      "  [ 0.01882174  0.00709695 -0.01237831 ... -0.06010544 -0.07130452\n",
      "   -0.12374803]\n",
      "  [ 0.01882174  0.00709695 -0.01237831 ... -0.06010544 -0.07130452\n",
      "   -0.12374803]]\n",
      "\n",
      " [[-0.07329494  0.00613164  0.1322469  ...  0.18629013  0.02151854\n",
      "    0.09569946]\n",
      "  [ 0.01130149 -0.05174365  0.00300512 ... -0.02490812 -0.07301007\n",
      "    0.08033442]\n",
      "  [ 0.06853318 -0.00207043  0.02429241 ...  0.06122869  0.03410452\n",
      "   -0.08830179]\n",
      "  ...\n",
      "  [ 0.01882174  0.00709695 -0.01237831 ... -0.06010544 -0.07130452\n",
      "   -0.12374803]\n",
      "  [ 0.01882174  0.00709695 -0.01237831 ... -0.06010544 -0.07130452\n",
      "   -0.12374803]\n",
      "  [ 0.01882174  0.00709695 -0.01237831 ... -0.06010544 -0.07130452\n",
      "   -0.12374803]]\n",
      "\n",
      " [[ 0.07681394  0.11568742  0.22320893 ... -0.15117237 -0.09676971\n",
      "    0.11119228]\n",
      "  [-0.12047946 -0.07198443 -0.03228364 ...  0.00455372 -0.14110881\n",
      "   -0.00318262]\n",
      "  [ 0.01763552 -0.0583682   0.01814335 ... -0.07587489  0.06286362\n",
      "    0.03684347]\n",
      "  ...\n",
      "  [ 0.01882174  0.00709695 -0.01237831 ... -0.06010544 -0.07130452\n",
      "   -0.12374803]\n",
      "  [ 0.01882174  0.00709695 -0.01237831 ... -0.06010544 -0.07130452\n",
      "   -0.12374803]\n",
      "  [ 0.01882174  0.00709695 -0.01237831 ... -0.06010544 -0.07130452\n",
      "   -0.12374803]]], shape=(50000, 1000, 50), dtype=float32)\n"
     ]
    }
   ],
   "source": [
    "# getting the outputs from the embedding layer of the CNN\n",
    "tf.config.set_visible_devices([], 'GPU')\n",
    "\n",
    "embeddings = keras.Model(inputs=CNN.inputs, outputs=CNN.get_layer(name=\"embedding\").output) \n",
    "embedding_outputs = embeddings(padded_tokenized_sentiments[0:50000:1])\n",
    "# in_tensor, out_tensor = embedding_outputs.\n",
    "# print(out_tensor)\n",
    "# os.environ['CUDA_VISIBLE_DEVICES'] = '-1'\n",
    "# embedding_outputs = tf.concat([embedding_outputs,embeddings(padded_tokenized_sentiments[10000:20000:1])], 0)\n",
    "# embedding_outputs = tf.concat([embedding_outputs,embeddings(padded_tokenized_sentiments[20000:30000:1])], 0)\n",
    "# embedding_outputs = tf.concat([embedding_outputs,embeddings(padded_tokenized_sentiments[30000:40000:1])], 0)\n",
    "# embedding_outputs = tf.concat([embedding_outputs,embeddings(padded_tokenized_sentiments[40000:50000:1])], 0)\n",
    "\n",
    "print(embedding_outputs)\n"
   ]
  },
  {
   "cell_type": "markdown",
   "metadata": {},
   "source": [
    "Saving the outputs to the pandas dataframe and then a new csv"
   ]
  },
  {
   "cell_type": "code",
   "execution_count": 6,
   "metadata": {},
   "outputs": [],
   "source": [
    "import numpy as np"
   ]
  },
  {
   "cell_type": "code",
   "execution_count": 5,
   "metadata": {},
   "outputs": [],
   "source": [
    "variabl = tf.Variable(embedding_outputs)\n",
    "# tf.saved_model.save(variabl,\"Embeddings_outputs\")"
   ]
  },
  {
   "cell_type": "code",
   "execution_count": 7,
   "metadata": {},
   "outputs": [
    {
     "data": {
      "text/plain": [
       "TensorShape([50000, 1000, 50])"
      ]
     },
     "execution_count": 7,
     "metadata": {},
     "output_type": "execute_result"
    }
   ],
   "source": [
    "variabl.shape"
   ]
  }
 ],
 "metadata": {
  "kernelspec": {
   "display_name": "baseEnv",
   "language": "python",
   "name": "python3"
  },
  "language_info": {
   "codemirror_mode": {
    "name": "ipython",
    "version": 3
   },
   "file_extension": ".py",
   "mimetype": "text/x-python",
   "name": "python",
   "nbconvert_exporter": "python",
   "pygments_lexer": "ipython3",
   "version": "3.8.17"
  },
  "orig_nbformat": 4
 },
 "nbformat": 4,
 "nbformat_minor": 2
}
