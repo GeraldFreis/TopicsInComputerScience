{
 "cells": [
  {
   "cell_type": "markdown",
   "metadata": {},
   "source": [
    "This code allows the visualisation of SHAP values for interpretability measures"
   ]
  },
  {
   "cell_type": "code",
   "execution_count": 1,
   "metadata": {},
   "outputs": [
    {
     "name": "stderr",
     "output_type": "stream",
     "text": [
      "IProgress not found. Please update jupyter and ipywidgets. See https://ipywidgets.readthedocs.io/en/stable/user_install.html\n"
     ]
    }
   ],
   "source": [
    "import shap\n",
    "import pandas as pd\n",
    "import matplotlib.pyplot as plt\n",
    "import sklearn as sk\n",
    "from sklearn.model_selection import train_test_split\n",
    "import tensorflow as tf\n",
    "import keras\n",
    "from tensorflow.keras.preprocessing.text import Tokenizer\n",
    "from tensorflow.keras.utils import pad_sequences"
   ]
  },
  {
   "cell_type": "code",
   "execution_count": 2,
   "metadata": {},
   "outputs": [],
   "source": [
    "df = pd.read_csv(\"../IMDB_with_predictions.csv\")[0:1000:1]\n",
    "model = keras.models.load_model(\"../CNN_Non_Dense\")\n",
    "\n",
    "tokenizer = Tokenizer()\n",
    "tokenizer.fit_on_texts(df.review)\n",
    "tokenized_texts = tokenizer.texts_to_sequences(df.review)\n",
    "padded_texts = pad_sequences(tokenized_texts, padding=\"post\", maxlen=1000)\n"
   ]
  },
  {
   "cell_type": "markdown",
   "metadata": {},
   "source": [
    "Training the SHAP model"
   ]
  },
  {
   "cell_type": "code",
   "execution_count": 3,
   "metadata": {},
   "outputs": [
    {
     "name": "stdout",
     "output_type": "stream",
     "text": [
      "  22/2181 [..............................] - ETA: 10s"
     ]
    },
    {
     "name": "stderr",
     "output_type": "stream",
     "text": [
      "2023-10-16 10:36:55.802949: W tensorflow/tsl/platform/profile_utils/cpu_utils.cc:128] Failed to get CPU frequency: 0 Hz\n"
     ]
    },
    {
     "name": "stdout",
     "output_type": "stream",
     "text": [
      "2181/2181 [==============================] - 15s 7ms/step\n"
     ]
    },
    {
     "name": "stderr",
     "output_type": "stream",
     "text": [
      "Permutation explainer:  50%|█████     | 1/2 [00:00<?, ?it/s]"
     ]
    },
    {
     "name": "stdout",
     "output_type": "stream",
     "text": [
      "1575/1575 [==============================] - 11s 7ms/step\n",
      "1256/1256 [==============================] - 9s 7ms/step\n"
     ]
    },
    {
     "name": "stderr",
     "output_type": "stream",
     "text": [
      "Permutation explainer: 3it [00:39, 19.53s/it]               \n"
     ]
    }
   ],
   "source": [
    "explainer = shap.Explainer(model.predict, padded_texts[0:250:1], max_evals=2001)\n",
    "explainer.max_evals = 10000\n",
    "# print(padded_texts[0])\n",
    "first_explanation = explainer(padded_texts[0:2:1])"
   ]
  },
  {
   "cell_type": "markdown",
   "metadata": {},
   "source": [
    "Creating an object to store explanations vs shap values"
   ]
  },
  {
   "cell_type": "code",
   "execution_count": 4,
   "metadata": {},
   "outputs": [
    {
     "name": "stdout",
     "output_type": "stream",
     "text": [
      "[{'Word': 'for', 'SHAP': 0.30543735610350264}, {'Word': 'painted', 'SHAP': 0.2312483792820422}, {'Word': 'romance...OZ', 'SHAP': 0.08252253171682239}, {'Word': 'say', 'SHAP': 0.06456505017516745}, {'Word': 'their', 'SHAP': 0.05604515093138615}, {'Word': 'violence,', 'SHAP': 0.05048413567245008}, {'Word': 'skills', 'SHAP': 0.04930626434361335}, {'Word': 'of', 'SHAP': 0.03304591247229838}, {'Word': 'mess', 'SHAP': 0.027092683818191243}, {'Word': 'and', 'SHAP': 0.023645221504993957}, {'Word': 'it', 'SHAP': 0.02291663631796842}, {'Word': 'thing', 'SHAP': 0.02251451915362851}, {'Word': 'Watching', 'SHAP': 0.01885680101171605}, {'Word': 'ever', 'SHAP': 0.016541904098980875}, {'Word': 'and', 'SHAP': 0.016036240430312293}, {'Word': 'side.', 'SHAP': 0.013819789290428153}, {'Word': 'scuffles,', 'SHAP': 0.0132393301324919}, {'Word': 'far', 'SHAP': 0.012043782785767676}, {'Word': 'so', 'SHAP': 0.011486891476670286}, {'Word': '/>The', 'SHAP': 0.010759277222678054}, {'Word': 'with', 'SHAP': 0.010003292225301275}, {'Word': 'as', 'SHAP': 0.009896692472016216}, {'Word': 'first', 'SHAP': 0.009417326016118721}, {'Word': 'injustice', 'SHAP': 0.009264908275799844}, {'Word': 'gangstas,', 'SHAP': 0.008085839415434726}, {'Word': 'home', 'SHAP': 0.007879501617126167}, {'Word': 'a', 'SHAP': 0.0077242630287310265}, {'Word': 'in', 'SHAP': 0.007689273843734551}, {'Word': 'that', 'SHAP': 0.0076569349039346535}, {'Word': 'being', 'SHAP': 0.007606521282575607}, {'Word': 'drugs,', 'SHAP': 0.007591978303971736}, {'Word': 'GO.', 'SHAP': 0.0068781574745662155}, {'Word': 'and', 'SHAP': 0.006323878411203632}, {'Word': 'prison', 'SHAP': 0.005469740633852749}, {'Word': 'Italians,', 'SHAP': 0.005337066036299853}, {'Word': 'pretty', 'SHAP': 0.00498335029929875}, {'Word': 'the', 'SHAP': 0.004931761702464399}, {'Word': 'section', 'SHAP': 0.004873438620707049}, {'Word': 'is', 'SHAP': 0.004828097901481726}, {'Word': 'is', 'SHAP': 0.004826057008467666}, {'Word': 'Muslims,', 'SHAP': 0.0047312596440314825}, {'Word': 'mentioned', 'SHAP': 0.004707673043740229}, {'Word': 'of', 'SHAP': 0.0044409976527095}, {'Word': '/>It', 'SHAP': 0.004386098601844413}, {'Word': 'privacy', 'SHAP': 0.004342256613783763}, {'Word': 'struck', 'SHAP': 0.004326655189797746}, {'Word': 'forget', 'SHAP': 0.004258073456585465}, {'Word': 'struck', 'SHAP': 0.004124237122014152}, {'Word': 'is', 'SHAP': 0.0040678274517995106}, {'Word': 'as', 'SHAP': 0.004064408259346258}, {'Word': 'high', 'SHAP': 0.00397166668013596}, {'Word': 'the', 'SHAP': 0.0037587682530283995}, {'Word': 'fact', 'SHAP': 0.0037184840487316517}, {'Word': 'the', 'SHAP': 0.0035341742454330083}, {'Word': 'what', 'SHAP': 0.003445894605538319}, {'Word': 'forget', 'SHAP': 0.003382066524529853}, {'Word': 'no', 'SHAP': 0.003341144371624971}, {'Word': 'hearted', 'SHAP': 0.003322227691533064}, {'Word': 'was', 'SHAP': 0.003217471502721281}, {'Word': 'Christians,', 'SHAP': 0.003191962344571919}, {'Word': 'are', 'SHAP': 0.0031392782933744035}, {'Word': 'on', 'SHAP': 0.003092532226746686}, {'Word': 'the', 'SHAP': 0.002937598145435899}, {'Word': 'so', 'SHAP': 0.0028318404674064213}, {'Word': 'graphic', 'SHAP': 0.0028264806978404167}, {'Word': 'It', 'SHAP': 0.002824077866971475}, {'Word': 'you', 'SHAP': 0.0027997551788576103}, {'Word': 'is', 'SHAP': 0.0027387466887012213}, {'Word': 'violence.', 'SHAP': 0.0026712251495883133}, {'Word': 'be', 'SHAP': 0.0025162813998758637}, {'Word': 'to', 'SHAP': 0.0024724310444435293}, {'Word': 'be', 'SHAP': 0.00245146731554996}, {'Word': 'face', 'SHAP': 0.0024127455308917134}, {'Word': 'about', 'SHAP': 0.002377510587975862}, {'Word': 'sex', 'SHAP': 0.002356593403965268}, {'Word': 'appeal', 'SHAP': 0.0022432916214165932}, {'Word': 'inwards,', 'SHAP': 0.0022214367807828483}, {'Word': 'the', 'SHAP': 0.002168138814195114}, {'Word': 'prison', 'SHAP': 0.0021375305205583173}, {'Word': 'Oz,', 'SHAP': 0.002070520083652827}, {'Word': 'right', 'SHAP': 0.002054215967655204}, {'Word': 'street', 'SHAP': 0.002043367251753775}, {'Word': 'nickname', 'SHAP': 0.0020392782484759953}, {'Word': 'is', 'SHAP': 0.002007859470322726}, {'Word': 'me', 'SHAP': 0.0018939545936882962}, {'Word': 'middle', 'SHAP': 0.0017927773343399123}, {'Word': 'regards', 'SHAP': 0.001763765010982743}, {'Word': 'its', 'SHAP': 0.0016390750935534326}, {'Word': 'levels', 'SHAP': 0.0016221542051061966}, {'Word': 'but', 'SHAP': 0.001536338962614514}, {'Word': 'State', 'SHAP': 0.0015246165567077141}, {'Word': 'of', 'SHAP': 0.0015197665290906937}, {'Word': 'episode', 'SHAP': 0.0015005163293789758}, {'Word': \"who'll\", 'SHAP': 0.0014999550976790565}, {'Word': 'in', 'SHAP': 0.0014768726925285525}, {'Word': 'with', 'SHAP': 0.0014331141220645383}, {'Word': 'given', 'SHAP': 0.001399089694623351}, {'Word': 'other', 'SHAP': 0.0013710758108936294}, {'Word': 'watching', 'SHAP': 0.0013644382803067734}, {'Word': 'show', 'SHAP': 0.001344988968339761}, {'Word': 'glass', 'SHAP': 0.0013394804659764836}, {'Word': 'it,', 'SHAP': 0.0013388576711440836}, {'Word': 'as', 'SHAP': 0.0013381099700927601}, {'Word': 'I', 'SHAP': 0.0013305117934941935}, {'Word': 'mainly', 'SHAP': 0.0013159473531413335}, {'Word': \"couldn't\", 'SHAP': 0.0013013242906891043}, {'Word': 'but', 'SHAP': 0.0011971604572317829}, {'Word': 'dare.', 'SHAP': 0.0011338071594946264}, {'Word': 'timid.', 'SHAP': 0.0011322274875055494}, {'Word': 'would', 'SHAP': 0.0011079073045402454}, {'Word': 'or', 'SHAP': 0.0010783386265393047}, {'Word': 'I', 'SHAP': 0.0010776843177154327}, {'Word': '/><br', 'SHAP': 0.0010527821216669841}, {'Word': 'never', 'SHAP': 0.0010448385664494353}, {'Word': 'experimental', 'SHAP': 0.0010361813008785137}, {'Word': 'Not', 'SHAP': 0.001034699894953528}, {'Word': 'where', 'SHAP': 0.0010285586799727575}, {'Word': 'hooked.', 'SHAP': 0.0010229929718479913}, {'Word': 'just', 'SHAP': 0.0010053587332367608}, {'Word': 'violence.', 'SHAP': 0.0010048948414624337}, {'Word': 'as', 'SHAP': 0.0009430011548102191}, {'Word': 'Latinos,', 'SHAP': 0.0009289937327525977}, {'Word': 'viewing....thats', 'SHAP': 0.0008202034235000877}, {'Word': 'that', 'SHAP': 0.0007295020049514211}, {'Word': 'City', 'SHAP': 0.000719374861801042}, {'Word': 'inmates', 'SHAP': 0.0007000041287392733}, {'Word': 'out', 'SHAP': 0.0006759155844338338}, {'Word': 'with', 'SHAP': 0.0006406912447710078}, {'Word': 'with', 'SHAP': 0.0006212458014488442}, {'Word': 'for', 'SHAP': 0.0006121794879436204}, {'Word': 'that', 'SHAP': 0.0005839714738976598}, {'Word': 'hardcore,', 'SHAP': 0.0005786263440495376}, {'Word': 'it,', 'SHAP': 0.000571363307535655}, {'Word': 'This', 'SHAP': 0.0005655119731090841}, {'Word': 'this', 'SHAP': 0.0005617322772741296}, {'Word': 'say', 'SHAP': 0.0005531626939773715}, {'Word': 'taste', 'SHAP': 0.0005415881611406936}, {'Word': 'prison', 'SHAP': 0.0004650337900966306}, {'Word': 'have', 'SHAP': 0.0004609547276049897}, {'Word': 'around.', 'SHAP': 0.0003883458673954454}, {'Word': 'Irish', 'SHAP': 0.00037934447959744877}, {'Word': 'accustomed', 'SHAP': 0.0003675211674999401}, {'Word': 'guards', 'SHAP': 0.00032340944278985706}, {'Word': 'the', 'SHAP': 0.0003141890570804995}, {'Word': 'more....so', 'SHAP': 0.0003049057198223071}, {'Word': 'unflinching', 'SHAP': 0.00027821531486552087}, {'Word': 'Oswald', 'SHAP': 0.0002725046453997404}, {'Word': \"wouldn't\", 'SHAP': 0.00026981226168570904}, {'Word': 'which', 'SHAP': 0.00026400785893199163}, {'Word': 'the', 'SHAP': 0.00020299117823011081}, {'Word': 'of', 'SHAP': 0.00018657848238942676}, {'Word': '/><br', 'SHAP': 0.0001785358833149009}, {'Word': 'the', 'SHAP': 0.0001756455440044824}, {'Word': 'to', 'SHAP': 0.00015890076290817068}, {'Word': 'sold', 'SHAP': 0.0001307676732540397}, {'Word': 'after', 'SHAP': 0.00010842980093000998}, {'Word': '/><br', 'SHAP': 0.000107185763554285}, {'Word': 'comfortable', 'SHAP': 8.579457178709005e-05}, {'Word': 'death', 'SHAP': 5.5453606182698234e-05}, {'Word': 'watched', 'SHAP': 4.681846825405067e-05}, {'Word': 'Security', 'SHAP': 3.1319411355090754e-05}, {'Word': 'you', 'SHAP': 2.4278427008528336e-05}, {'Word': 'in', 'SHAP': 7.561361417163237e-06}, {'Word': 'violence,', 'SHAP': 4.757755432377442e-06}, {'Word': 'can', 'SHAP': -3.423978367211866e-05}, {'Word': 'may', 'SHAP': -7.809743285180915e-05}, {'Word': 'fronts', 'SHAP': -8.270281832667425e-05}, {'Word': 'it', 'SHAP': -8.922005654313225e-05}, {'Word': 'is', 'SHAP': -0.00010779332369564854}, {'Word': 'mannered,', 'SHAP': -0.0001625526137650768}, {'Word': 'the', 'SHAP': -0.00018741239575317814}, {'Word': 'dodgy', 'SHAP': -0.0001965165080036746}, {'Word': 'nickel,', 'SHAP': -0.0002070217765867688}, {'Word': 'more,', 'SHAP': -0.0002511625736951739}, {'Word': 'classic', 'SHAP': -0.0002643668430392099}, {'Word': 'for', 'SHAP': -0.0002762905024064899}, {'Word': 'goes', 'SHAP': -0.00032182851092327214}, {'Word': 'brutality', 'SHAP': -0.0003288003204215406}, {'Word': '1', 'SHAP': -0.00032884341198952116}, {'Word': 'charm,', 'SHAP': -0.0003505261614918931}, {'Word': 'word.<br', 'SHAP': -0.00036796857602888755}, {'Word': 'has', 'SHAP': -0.0003708886754611729}, {'Word': 'get', 'SHAP': -0.0003887800127267971}, {'Word': 'me,', 'SHAP': -0.00039206996560098295}, {'Word': 'a', 'SHAP': -0.00039216123288499105}, {'Word': 'with', 'SHAP': -0.00041098614747173134}, {'Word': 'to', 'SHAP': -0.0004478617931636397}, {'Word': 'kill', 'SHAP': -0.00046610139310360177}, {'Word': 'are', 'SHAP': -0.0004748715460299868}, {'Word': 'developed', 'SHAP': -0.00048381265252833705}, {'Word': 'is', 'SHAP': -0.0005423321248964053}, {'Word': 'away', 'SHAP': -0.0005576102808117489}, {'Word': \"you'll\", 'SHAP': -0.0006136952398810291}, {'Word': 'Maximum', 'SHAP': -0.0006170092855723175}, {'Word': 'scenes', 'SHAP': -0.0006345242727547884}, {'Word': '/>I', 'SHAP': -0.000639214515686104}, {'Word': 'pictures', 'SHAP': -0.0006743618880864222}, {'Word': 'and', 'SHAP': -0.0006909002596512392}, {'Word': 'stares,', 'SHAP': -0.0007181682111694898}, {'Word': 'the', 'SHAP': -0.0007198412576689961}, {'Word': 'your', 'SHAP': -0.0007380043875673814}, {'Word': 'for', 'SHAP': -0.000758852832950685}, {'Word': 'ready', 'SHAP': -0.0009144001891399911}, {'Word': 'Trust', 'SHAP': -0.0009255401417612719}, {'Word': 'Em', 'SHAP': -0.0010466820584087988}, {'Word': 'class', 'SHAP': -0.0010816863911167762}, {'Word': 'on', 'SHAP': -0.0011187516665085995}, {'Word': 'cells', 'SHAP': -0.0011942203989019906}, {'Word': 'what', 'SHAP': -0.0012484327174024645}, {'Word': 'dealings', 'SHAP': -0.0012675913050771426}, {'Word': 'Its', 'SHAP': -0.0013887954216397769}, {'Word': 'set', 'SHAP': -0.0014540180204767328}, {'Word': 'to', 'SHAP': -0.0015387659695079714}, {'Word': 'or', 'SHAP': -0.001553803764400119}, {'Word': 'an', 'SHAP': -0.0016019656347066036}, {'Word': 'high', 'SHAP': -0.0016154097713297344}, {'Word': 'show', 'SHAP': -0.001625769282991324}, {'Word': 'of', 'SHAP': -0.0016287157309125277}, {'Word': \"who'll\", 'SHAP': -0.0016522822005209103}, {'Word': 'punches', 'SHAP': -0.0016987035061174494}, {'Word': 'become', 'SHAP': -0.0017014421109343147}, {'Word': 'inmates', 'SHAP': -0.001702592068759251}, {'Word': 'uncomfortable', 'SHAP': -0.0017202500440180457}, {'Word': 'get', 'SHAP': -0.0017208170890808394}, {'Word': 'shows', 'SHAP': -0.0017429307507700331}, {'Word': 'due', 'SHAP': -0.0017801984252582836}, {'Word': 'Emerald', 'SHAP': -0.001780641352015666}, {'Word': 'the', 'SHAP': -0.0018275926085334349}, {'Word': 'pulls', 'SHAP': -0.0018700128816999673}, {'Word': 'I', 'SHAP': -0.0018886491955345253}, {'Word': 'of', 'SHAP': -0.0019117344170809236}, {'Word': 'is', 'SHAP': -0.0019690261036157675}, {'Word': 'Penitentary.', 'SHAP': -0.0019866270516649687}, {'Word': 'I', 'SHAP': -0.0020405145833501948}, {'Word': 'Forget', 'SHAP': -0.002090176758356377}, {'Word': 'and', 'SHAP': -0.0021159729524515836}, {'Word': 'faint', 'SHAP': -0.002180189557038803}, {'Word': 'where', 'SHAP': -0.0021924082515760723}, {'Word': 'City,', 'SHAP': -0.00220428046439336}, {'Word': 'main', 'SHAP': -0.0022279699542559483}, {'Word': 'One', 'SHAP': -0.002233097758144148}, {'Word': 'was', 'SHAP': -0.0022375907306559917}, {'Word': 'of', 'SHAP': -0.002325851295609027}, {'Word': 'I', 'SHAP': -0.0024323750799521426}, {'Word': 'to', 'SHAP': -0.0025445591540846912}, {'Word': 'word', 'SHAP': -0.0025798272760584884}, {'Word': '(crooked', 'SHAP': -0.0027556960642687034}, {'Word': 'reviewers', 'SHAP': -0.0028355489266687073}, {'Word': 'show', 'SHAP': -0.0028378862701356478}, {'Word': 'first', 'SHAP': -0.0030067773722112223}, {'Word': 'agenda.', 'SHAP': -0.003029368049274117}, {'Word': 'the', 'SHAP': -0.00321063198382035}, {'Word': 'touch', 'SHAP': -0.0032284912865725157}, {'Word': 'a', 'SHAP': -0.0034779599681496465}, {'Word': 'use', 'SHAP': -0.0035588903492316804}, {'Word': 'The', 'SHAP': -0.003606912890099956}, {'Word': 'not', 'SHAP': -0.0036312012844064157}, {'Word': 'shady', 'SHAP': -0.003635389222781643}, {'Word': 'nasty', 'SHAP': -0.003684728589505498}, {'Word': 'me', 'SHAP': -0.003719185097088462}, {'Word': 'exactly', 'SHAP': -0.0039003664912501956}, {'Word': 'called', 'SHAP': -0.003932391460984952}, {'Word': 'agreements', 'SHAP': -0.00402102680873212}, {'Word': 'the', 'SHAP': -0.004442703372042167}, {'Word': 'episode', 'SHAP': -0.004469674312913424}, {'Word': 'many..Aryans,', 'SHAP': -0.004603242129087415}, {'Word': 'focuses', 'SHAP': -0.004761890652589473}, {'Word': 'They', 'SHAP': -0.0049137519532814755}, {'Word': 'Oz', 'SHAP': -0.004915580960607707}, {'Word': 'that', 'SHAP': -0.004957183316000757}, {'Word': 'for', 'SHAP': -0.0051865428413657155}, {'Word': 'right,', 'SHAP': -0.005243244774173955}, {'Word': 'just', 'SHAP': -0.005317667170656903}, {'Word': 'OZ', 'SHAP': -0.005711464195046589}, {'Word': 'the', 'SHAP': -0.006020087781944267}, {'Word': 'was', 'SHAP': -0.006152896375861028}, {'Word': 'other', 'SHAP': -0.006175517050869522}, {'Word': 'all', 'SHAP': -0.0065186053192155535}, {'Word': 'not', 'SHAP': -0.007580203107791006}, {'Word': 'Oz', 'SHAP': -0.007648840930160078}, {'Word': 'got', 'SHAP': -0.007908153635216908}, {'Word': \"doesn't\", 'SHAP': -0.007926268835726696}, {'Word': 'mainstream', 'SHAP': -0.008544569984369477}, {'Word': 'bitches', 'SHAP': -0.008916090405546084}, {'Word': 'from', 'SHAP': -0.009055649413203387}, {'Word': 'happened', 'SHAP': -0.009958599217061381}, {'Word': 'to', 'SHAP': -0.01005714982748035}, {'Word': 'due', 'SHAP': -0.010781660526990866}, {'Word': 'and', 'SHAP': -0.011165613269740804}, {'Word': 'Oz,', 'SHAP': -0.011312230609764828}, {'Word': 'on', 'SHAP': -0.011974552039068859}, {'Word': 'lack', 'SHAP': -0.012092439159750917}, {'Word': 'me.<br', 'SHAP': -0.01325747652546852}, {'Word': 'well', 'SHAP': -0.013261760681634815}, {'Word': 'saw', 'SHAP': -0.014077327522918487}, {'Word': 'turned', 'SHAP': -0.014661622744570196}, {'Word': 'order', 'SHAP': -0.015278487932228024}, {'Word': 'this', 'SHAP': -0.01582607765190916}, {'Word': 'away.<br', 'SHAP': -0.016094695921055946}, {'Word': 'experience)', 'SHAP': -0.016268894011950585}, {'Word': 'is', 'SHAP': -0.01735210782911964}, {'Word': 'if', 'SHAP': -0.021464179480681217}, {'Word': 'or', 'SHAP': -0.03287621185270839}, {'Word': 'surreal,', 'SHAP': -0.03407810117656476}, {'Word': 'into', 'SHAP': -0.06672922391269817}, {'Word': 'darker', 'SHAP': -0.07501768946938683}, {'Word': 'audiences,', 'SHAP': -0.13525289123703257}]\n"
     ]
    }
   ],
   "source": [
    "first_shaps = first_explanation[0].values\n",
    "word_list = list(df.iloc[0].review.split(sep=\" \"))\n",
    "word_vs_shap = list() # list containing the respective word and its shapley additive explanation value\n",
    "\n",
    "for i in range(len(word_list)):\n",
    "    word_vs_shap.append({\"Word\": word_list[i], \"SHAP\": first_shaps[i]})\n",
    "\n",
    "# sorting it so we can visualise it easily\n",
    "\n",
    "def bubbleSort(arr):\n",
    "    n = len(arr)\n",
    "    # optimize code, so if the array is already sorted, it doesn't need\n",
    "    # to go through the entire process\n",
    "    swapped = False\n",
    "    # Traverse through all array elements\n",
    "    for i in range(n-1):\n",
    "        # range(n) also work but outer loop will\n",
    "        # repeat one time more than needed.\n",
    "        # Last i elements are already in place\n",
    "        for j in range(0, n-i-1):\n",
    " \n",
    "            # traverse the array from 0 to n-i-1\n",
    "            # Swap if the element found is greater\n",
    "            # than the next element\n",
    "            if arr[j][\"SHAP\"] < arr[j + 1][\"SHAP\"]:\n",
    "                swapped = True\n",
    "                arr[j], arr[j + 1] = arr[j + 1], arr[j]\n",
    "         \n",
    "        if not swapped:\n",
    "            # if we haven't needed to make a single swap, we \n",
    "            # can just exit the main loop.\n",
    "            return\n",
    "sorted_word_vs_shap = bubbleSort(word_vs_shap)\n",
    "print(word_vs_shap)\n"
   ]
  },
  {
   "cell_type": "markdown",
   "metadata": {},
   "source": [
    "Visualising the SHAP values"
   ]
  },
  {
   "cell_type": "code",
   "execution_count": 7,
   "metadata": {},
   "outputs": [
    {
     "name": "stdout",
     "output_type": "stream",
     "text": [
      "i: 0 position: 32 layer: 1\n",
      "i: 1 position: 16 layer: 3\n",
      "i: 2 position: 48 layer: 3\n",
      "i: 3 position: 8 layer: 5\n",
      "i: 4 position: 16 layer: 5\n",
      "i: 5 position: 48 layer: 5\n",
      "i: 6 position: 56 layer: 5\n"
     ]
    }
   ],
   "source": [
    "import tkinter as tk\n",
    "from tkinter import *\n",
    "from tkinter import ttk\n",
    "max_size=64\n",
    "\n",
    "root = tk.Tk()\n",
    "frm = ttk.Frame(root, padding=10)\n",
    "frm.grid()\n",
    "frm.rowconfigure(max_size*3) \n",
    "frm.columnconfigure(max_size)\n",
    "sorted_word_vs_shap = word_vs_shap\n",
    "layer = 1; position = 0\n",
    "counter = 0\n",
    "l = [32,16,48,8,24,40,54]\n",
    "for i in range(0, 7):\n",
    "    if(i != 0):\n",
    "        if (counter == 1):\n",
    "            position += int(max_size / pow(2, layer-4))\n",
    "            counter = 0\n",
    "        else:\n",
    "            position += int(max_size / pow(2, layer-2))\n",
    "            counter += 1        \n",
    "    else:\n",
    "        position += 32\n",
    "    \n",
    "    if(i > pow(2, layer-2)):\n",
    "        if(counter == 0):\n",
    "            position = int(max_size / pow(2, layer))\n",
    "        else:\n",
    "            position = int(max_size / pow(2, layer+1))\n",
    "        layer += 2\n",
    "        counter = 0\n",
    "    \n",
    "\n",
    "    print(\"i: {} position: {} layer: {}\".format(i, position, layer))\n",
    "    # the starting position is max_size / pow(2, layer)\n",
    "    ttk.Label(root, text=round(sorted_word_vs_shap[i][\"SHAP\"], 5), width=30, wraplength=100, justify=\"center\", font=(\"Arial\", 14)).grid(column=l[i], row=layer)\n",
    "    ttk.Label(root, text=sorted_word_vs_shap[i][\"Word\"], width=30, wraplength=100, justify=\"center\", font=(\"Arial\", 14)).grid(column=l[i], row=layer+1)\n",
    "\n",
    "\n",
    "# root.mainloop()"
   ]
  },
  {
   "cell_type": "code",
   "execution_count": 6,
   "metadata": {},
   "outputs": [],
   "source": [
    "root.mainloop()"
   ]
  }
 ],
 "metadata": {
  "kernelspec": {
   "display_name": "graphsageoncora",
   "language": "python",
   "name": "python3"
  },
  "language_info": {
   "codemirror_mode": {
    "name": "ipython",
    "version": 3
   },
   "file_extension": ".py",
   "mimetype": "text/x-python",
   "name": "python",
   "nbconvert_exporter": "python",
   "pygments_lexer": "ipython3",
   "version": "3.8.17"
  },
  "orig_nbformat": 4
 },
 "nbformat": 4,
 "nbformat_minor": 2
}
