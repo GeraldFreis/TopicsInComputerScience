{
 "cells": [
  {
   "cell_type": "markdown",
   "metadata": {},
   "source": [
    "This code allows the visualisation of SHAP values for interpretability measures"
   ]
  },
  {
   "cell_type": "code",
   "execution_count": 1,
   "metadata": {},
   "outputs": [
    {
     "name": "stderr",
     "output_type": "stream",
     "text": [
      "IProgress not found. Please update jupyter and ipywidgets. See https://ipywidgets.readthedocs.io/en/stable/user_install.html\n"
     ]
    }
   ],
   "source": [
    "import shap\n",
    "import pandas as pd\n",
    "import matplotlib.pyplot as plt\n",
    "import sklearn as sk\n",
    "from sklearn.model_selection import train_test_split\n",
    "import tensorflow as tf\n",
    "import keras\n",
    "from tensorflow.keras.preprocessing.text import Tokenizer\n",
    "from tensorflow.keras.utils import pad_sequences"
   ]
  },
  {
   "cell_type": "code",
   "execution_count": 2,
   "metadata": {},
   "outputs": [],
   "source": [
    "df = pd.read_csv(\"../IMDB_with_predictions.csv\")[0:1000:1]\n",
    "model = keras.models.load_model(\"../CNN_Non_Dense\")\n",
    "\n",
    "tokenizer = Tokenizer()\n",
    "tokenizer.fit_on_texts(df.review)\n",
    "tokenized_texts = tokenizer.texts_to_sequences(df.review)\n",
    "padded_texts = pad_sequences(tokenized_texts, padding=\"post\", maxlen=1000)\n"
   ]
  },
  {
   "cell_type": "markdown",
   "metadata": {},
   "source": [
    "Training the SHAP model"
   ]
  },
  {
   "cell_type": "code",
   "execution_count": 3,
   "metadata": {},
   "outputs": [
    {
     "name": "stdout",
     "output_type": "stream",
     "text": [
      "  17/2181 [..............................] - ETA: 14s"
     ]
    },
    {
     "name": "stderr",
     "output_type": "stream",
     "text": [
      "2023-10-11 13:03:27.845036: W tensorflow/tsl/platform/profile_utils/cpu_utils.cc:128] Failed to get CPU frequency: 0 Hz\n"
     ]
    },
    {
     "name": "stdout",
     "output_type": "stream",
     "text": [
      "2181/2181 [==============================] - 17s 8ms/step\n"
     ]
    },
    {
     "name": "stderr",
     "output_type": "stream",
     "text": [
      "Permutation explainer:  50%|█████     | 1/2 [00:00<?, ?it/s]"
     ]
    },
    {
     "name": "stdout",
     "output_type": "stream",
     "text": [
      "1575/1575 [==============================] - 12s 8ms/step\n",
      "1267/1267 [==============================] - 10s 8ms/step\n"
     ]
    },
    {
     "name": "stderr",
     "output_type": "stream",
     "text": [
      "Permutation explainer: 3it [00:43, 21.92s/it]               \n"
     ]
    }
   ],
   "source": [
    "explainer = shap.Explainer(model.predict, padded_texts[0:250:1], max_evals=2001)\n",
    "explainer.max_evals = 10000\n",
    "# print(padded_texts[0])\n",
    "first_explanation = explainer(padded_texts[0:2:1])"
   ]
  },
  {
   "cell_type": "markdown",
   "metadata": {},
   "source": [
    "Creating an object to store explanations vs shap values"
   ]
  },
  {
   "cell_type": "code",
   "execution_count": 4,
   "metadata": {},
   "outputs": [
    {
     "name": "stdout",
     "output_type": "stream",
     "text": [
      "[{'Word': 'painted', 'SHAP': 0.27917961382201606}, {'Word': 'for', 'SHAP': 0.12184586785529972}, {'Word': 'romance...OZ', 'SHAP': 0.08478112845008584}, {'Word': 'say', 'SHAP': 0.07646232271174086}, {'Word': 'their', 'SHAP': 0.05795222818527351}, {'Word': 'violence,', 'SHAP': 0.04790015072005194}, {'Word': 'it', 'SHAP': 0.039691938899902635}, {'Word': 'and', 'SHAP': 0.03462739880807936}, {'Word': 'Italians,', 'SHAP': 0.029981580926487367}, {'Word': 'pictures', 'SHAP': 0.026689126454002676}, {'Word': 'ever', 'SHAP': 0.026428501637765278}, {'Word': 'middle', 'SHAP': 0.021246977701375735}, {'Word': 'Oz,', 'SHAP': 0.020449592647710235}, {'Word': 'of', 'SHAP': 0.014289577532908881}, {'Word': 'are', 'SHAP': 0.013160331150866178}, {'Word': 'Watching', 'SHAP': 0.013127227459276553}, {'Word': 'to', 'SHAP': 0.011532672300236302}, {'Word': 'skills', 'SHAP': 0.011277813793712982}, {'Word': 'and', 'SHAP': 0.011225380253454237}, {'Word': 'you', 'SHAP': 0.011089627268302094}, {'Word': 'on', 'SHAP': 0.01019036373007115}, {'Word': 'GO.', 'SHAP': 0.009505954415071793}, {'Word': 'nickel,', 'SHAP': 0.008740209742609334}, {'Word': 'I', 'SHAP': 0.008289801164033855}, {'Word': 'and', 'SHAP': 0.0071332712841103985}, {'Word': 'I', 'SHAP': 0.006744002769701163}, {'Word': 'gangstas,', 'SHAP': 0.006290788197406999}, {'Word': 'fronts', 'SHAP': 0.006043520430102922}, {'Word': 'the', 'SHAP': 0.00603608553356022}, {'Word': 'is', 'SHAP': 0.005978599516220151}, {'Word': 'is', 'SHAP': 0.005927169248752695}, {'Word': 'side.', 'SHAP': 0.005782130442967159}, {'Word': 'be', 'SHAP': 0.005727709606289877}, {'Word': 'levels', 'SHAP': 0.005598657904192783}, {'Word': 'the', 'SHAP': 0.005571365696960151}, {'Word': 'thing', 'SHAP': 0.005426229008007821}, {'Word': 'focuses', 'SHAP': 0.005316068305401156}, {'Word': 'street', 'SHAP': 0.005272261643549436}, {'Word': 'watching', 'SHAP': 0.005120469968242114}, {'Word': 'the', 'SHAP': 0.005103627480857548}, {'Word': 'other', 'SHAP': 0.005086924103688939}, {'Word': 'injustice', 'SHAP': 0.005019287186032673}, {'Word': 'given', 'SHAP': 0.004866960777435481}, {'Word': 'of', 'SHAP': 0.004659231867408409}, {'Word': 'Muslims,', 'SHAP': 0.004643986150622392}, {'Word': 'violence,', 'SHAP': 0.004641407959861621}, {'Word': 'first', 'SHAP': 0.004601679492807265}, {'Word': 'just', 'SHAP': 0.004590748613118201}, {'Word': 'that', 'SHAP': 0.004566574560303682}, {'Word': 'privacy', 'SHAP': 0.004411917456202424}, {'Word': '/><br', 'SHAP': 0.004403757291147559}, {'Word': 'hardcore,', 'SHAP': 0.0043957597692497186}, {'Word': 'scuffles,', 'SHAP': 0.004284314184915261}, {'Word': 'show', 'SHAP': 0.004278452172875424}, {'Word': 'pretty', 'SHAP': 0.004192811907851146}, {'Word': 'as', 'SHAP': 0.004073427383373185}, {'Word': 'mentioned', 'SHAP': 0.0040129778684785955}, {'Word': 'struck', 'SHAP': 0.003949059195838295}, {'Word': 'can', 'SHAP': 0.003867165511474091}, {'Word': 'struck', 'SHAP': 0.0036767580173909242}, {'Word': 'mainstream', 'SHAP': 0.0036559863330330455}, {'Word': 'high', 'SHAP': 0.003524521091021582}, {'Word': 'in', 'SHAP': 0.003508350939082472}, {'Word': 'this', 'SHAP': 0.0034897837601602366}, {'Word': 'uncomfortable', 'SHAP': 0.0033637430681847102}, {'Word': 'the', 'SHAP': 0.0033166245247229775}, {'Word': 'is', 'SHAP': 0.003257228008878843}, {'Word': 'and', 'SHAP': 0.003189910992514311}, {'Word': 'death', 'SHAP': 0.0030722624436020363}, {'Word': 'of', 'SHAP': 0.0030399483180371667}, {'Word': 'timid.', 'SHAP': 0.0029951309905891788}, {'Word': 'that', 'SHAP': 0.0029752980586021938}, {'Word': 'face', 'SHAP': 0.002929116887971761}, {'Word': 'home', 'SHAP': 0.0028583836962206843}, {'Word': 'dealings', 'SHAP': 0.0027511416036577474}, {'Word': '1', 'SHAP': 0.002691914882398172}, {'Word': 'faint', 'SHAP': 0.002662429952251827}, {'Word': 'forget', 'SHAP': 0.0025317736726719886}, {'Word': 'not', 'SHAP': 0.002404867596924265}, {'Word': 'but', 'SHAP': 0.0023913963779341185}, {'Word': 'classic', 'SHAP': 0.002293228050693902}, {'Word': 'graphic', 'SHAP': 0.002229075059294705}, {'Word': 'has', 'SHAP': 0.0021374052355531137}, {'Word': 'with', 'SHAP': 0.0021225015530808022}, {'Word': 'pulls', 'SHAP': 0.002097315519640708}, {'Word': 'right', 'SHAP': 0.0020887369010597623}, {'Word': 'is', 'SHAP': 0.0020843709555629086}, {'Word': 'far', 'SHAP': 0.0020616961643099563}, {'Word': 'or', 'SHAP': 0.0019806080160924555}, {'Word': 'State', 'SHAP': 0.0019661010685376734}, {'Word': 'violence.', 'SHAP': 0.0019564888667446267}, {'Word': 'the', 'SHAP': 0.0019065130781382167}, {'Word': 'appeal', 'SHAP': 0.0018265714705921754}, {'Word': 'I', 'SHAP': 0.0018069039983675261}, {'Word': \"doesn't\", 'SHAP': 0.0017453618673607674}, {'Word': 'are', 'SHAP': 0.0017411859189451206}, {'Word': 'of', 'SHAP': 0.0017097657360136131}, {'Word': 'the', 'SHAP': 0.0015864458378564428}, {'Word': 'Maximum', 'SHAP': 0.0015795137401437565}, {'Word': 'use', 'SHAP': 0.001486951585975449}, {'Word': 'to', 'SHAP': 0.0014476129133254023}, {'Word': 'where', 'SHAP': 0.0014234019033028955}, {'Word': 'have', 'SHAP': 0.0013690515712369011}, {'Word': 'the', 'SHAP': 0.001365596254763679}, {'Word': 'a', 'SHAP': 0.0013256465169979442}, {'Word': 'with', 'SHAP': 0.0012471536360681434}, {'Word': 'prison', 'SHAP': 0.001220386646455171}, {'Word': 'as', 'SHAP': 0.0012098033976508105}, {'Word': 'regards', 'SHAP': 0.0011891370825469205}, {'Word': 'but', 'SHAP': 0.001179869440966319}, {'Word': 'main', 'SHAP': 0.0011703066626796432}, {'Word': 'around.', 'SHAP': 0.0011673224560945494}, {'Word': 'on', 'SHAP': 0.0011555106937885529}, {'Word': 'and', 'SHAP': 0.001110165441641553}, {'Word': 'cells', 'SHAP': 0.001104982248507469}, {'Word': 'forget', 'SHAP': 0.0010452469551273658}, {'Word': 'Irish', 'SHAP': 0.0010324471996863704}, {'Word': 'in', 'SHAP': 0.0010113773774355628}, {'Word': 'with', 'SHAP': 0.0010009459406137289}, {'Word': 'prison', 'SHAP': 0.0009636532515286955}, {'Word': 'happened', 'SHAP': 0.0009316224497524783}, {'Word': 'inmates', 'SHAP': 0.0008770631626248138}, {'Word': 'is', 'SHAP': 0.0008754637118545405}, {'Word': 'taste', 'SHAP': 0.0008382450044155387}, {'Word': 'experimental', 'SHAP': 0.0008304075524210863}, {'Word': \"you'll\", 'SHAP': 0.0008283634841791399}, {'Word': 'a', 'SHAP': 0.0008201439445839065}, {'Word': 'to', 'SHAP': 0.0008082956564612886}, {'Word': '/>The', 'SHAP': 0.0008035289320139638}, {'Word': 'what', 'SHAP': 0.0007922678440809294}, {'Word': 'kill', 'SHAP': 0.0007856668205931672}, {'Word': 'would', 'SHAP': 0.0007752750388317908}, {'Word': 'was', 'SHAP': 0.0007547017815522916}, {'Word': 'episode', 'SHAP': 0.0007082066446310042}, {'Word': 'glass', 'SHAP': 0.0007016779109835225}, {'Word': 'me', 'SHAP': 0.0006873933298084112}, {'Word': 'as', 'SHAP': 0.0006744580203666972}, {'Word': 'to', 'SHAP': 0.0006740915018599858}, {'Word': 'or', 'SHAP': 0.0006504698283970045}, {'Word': 'It', 'SHAP': 0.0006484724788424212}, {'Word': '/><br', 'SHAP': 0.000647089269477874}, {'Word': 'nasty', 'SHAP': 0.0006258883466943588}, {'Word': 'never', 'SHAP': 0.0006236497449845502}, {'Word': 'what', 'SHAP': 0.0005930063429741284}, {'Word': 'Oswald', 'SHAP': 0.0005844053088003842}, {'Word': 'viewing....thats', 'SHAP': 0.0005634238373022904}, {'Word': 'ready', 'SHAP': 0.0005098608028493157}, {'Word': 'which', 'SHAP': 0.0004179811023641289}, {'Word': 'mannered,', 'SHAP': 0.00041622689459469564}, {'Word': 'stares,', 'SHAP': 0.0003756806692876702}, {'Word': 'sold', 'SHAP': 0.00037143491230381964}, {'Word': 'as', 'SHAP': 0.00037022322467239466}, {'Word': 'so', 'SHAP': 0.0003659720998258065}, {'Word': 'Latinos,', 'SHAP': 0.0003648822475224578}, {'Word': 'first', 'SHAP': 0.00033340296191453067}, {'Word': \"who'll\", 'SHAP': 0.00027344958478356385}, {'Word': 'sex', 'SHAP': 0.00025279874134864766}, {'Word': 'with', 'SHAP': 0.00020155370235441783}, {'Word': '/>I', 'SHAP': 0.0001991280168294196}, {'Word': 'violence.', 'SHAP': 0.00019529424607753199}, {'Word': 'for', 'SHAP': 0.00015085014398208418}, {'Word': 'out', 'SHAP': 0.00013426868245008938}, {'Word': 'say', 'SHAP': 0.00011504281312230136}, {'Word': 'comfortable', 'SHAP': 9.837281890218152e-05}, {'Word': 'drugs,', 'SHAP': 8.28828715020713e-05}, {'Word': 'inwards,', 'SHAP': 6.211222382257464e-05}, {'Word': 'of', 'SHAP': 4.495980538193889e-05}, {'Word': 'Christians,', 'SHAP': 1.658501234486076e-05}, {'Word': 'in', 'SHAP': -2.4169683456309876e-06}, {'Word': 'City,', 'SHAP': -6.7970727104516016e-06}, {'Word': 'order', 'SHAP': -3.235551954275384e-05}, {'Word': 'it,', 'SHAP': -3.4591885050783144e-05}, {'Word': 'away', 'SHAP': -5.163469817490163e-05}, {'Word': 'lack', 'SHAP': -6.96883443742774e-05}, {'Word': 'nickname', 'SHAP': -8.001590758793808e-05}, {'Word': 'prison', 'SHAP': -8.591264486312866e-05}, {'Word': 'Not', 'SHAP': -9.767710929736717e-05}, {'Word': 'guards', 'SHAP': -0.00012615159153939182}, {'Word': 'you', 'SHAP': -0.00013298534788191985}, {'Word': 'section', 'SHAP': -0.00019529763178069426}, {'Word': 'show', 'SHAP': -0.00023076920537276613}, {'Word': \"wouldn't\", 'SHAP': -0.00024402176612053905}, {'Word': 'and', 'SHAP': -0.00025737494142957784}, {'Word': 'hooked.', 'SHAP': -0.00025827089235466727}, {'Word': 'hearted', 'SHAP': -0.00029570164654610376}, {'Word': 'OZ', 'SHAP': -0.0002980638376902933}, {'Word': 'touch', 'SHAP': -0.0003092032690620028}, {'Word': 'being', 'SHAP': -0.00032466121949259463}, {'Word': 'was', 'SHAP': -0.00032643474638460734}, {'Word': 'may', 'SHAP': -0.0003537414968013963}, {'Word': 'with', 'SHAP': -0.00038502601502388156}, {'Word': 'away.<br', 'SHAP': -0.0004275069991126479}, {'Word': 'get', 'SHAP': -0.00042827370460143954}, {'Word': 'an', 'SHAP': -0.0004902138267652845}, {'Word': 'Em', 'SHAP': -0.0004975486986222855}, {'Word': 'no', 'SHAP': -0.0005182523639177539}, {'Word': 'where', 'SHAP': -0.000535860259551546}, {'Word': 'of', 'SHAP': -0.0005512057617306221}, {'Word': 'all', 'SHAP': -0.0005631289817393248}, {'Word': 'word', 'SHAP': -0.0005922019470017692}, {'Word': 'The', 'SHAP': -0.0006370704754954382}, {'Word': 'agreements', 'SHAP': -0.0006594791298266678}, {'Word': 'become', 'SHAP': -0.0007757999910972813}, {'Word': 'your', 'SHAP': -0.0007896841123875287}, {'Word': 'One', 'SHAP': -0.0008495582151226699}, {'Word': 'more,', 'SHAP': -0.0008593292068689862}, {'Word': 'it', 'SHAP': -0.000883075955789514}, {'Word': 'Its', 'SHAP': -0.0009041310847897055}, {'Word': 'punches', 'SHAP': -0.000905141497414691}, {'Word': 'get', 'SHAP': -0.0009475627324445624}, {'Word': 'the', 'SHAP': -0.0009808901767247025}, {'Word': 'or', 'SHAP': -0.001023907139897362}, {'Word': 'well', 'SHAP': -0.0010489016771317305}, {'Word': 'shady', 'SHAP': -0.0010571920219808462}, {'Word': 'dodgy', 'SHAP': -0.0010955356119666249}, {'Word': 'its', 'SHAP': -0.0011795923362660776}, {'Word': 'for', 'SHAP': -0.0011844252903392416}, {'Word': 'the', 'SHAP': -0.001211179263191281}, {'Word': 'watched', 'SHAP': -0.0012132627237588789}, {'Word': 'it,', 'SHAP': -0.0012240641185780887}, {'Word': 'the', 'SHAP': -0.0012675163149833968}, {'Word': 'the', 'SHAP': -0.0014174380881013526}, {'Word': 'due', 'SHAP': -0.0014421795681119343}, {'Word': 'more....so', 'SHAP': -0.00146855206057811}, {'Word': 'Security', 'SHAP': -0.0014765210333280154}, {'Word': 'is', 'SHAP': -0.001585494801245202}, {'Word': 'inmates', 'SHAP': -0.001636520372703676}, {'Word': 'This', 'SHAP': -0.0016624028619844355}, {'Word': 'agenda.', 'SHAP': -0.0017669050441327383}, {'Word': 'to', 'SHAP': -0.0018691230210243215}, {'Word': 'me', 'SHAP': -0.0019153380548232457}, {'Word': 'me,', 'SHAP': -0.0019707070928415837}, {'Word': 'word.<br', 'SHAP': -0.0020117323454178493}, {'Word': '/><br', 'SHAP': -0.002022174494341056}, {'Word': \"couldn't\", 'SHAP': -0.0020873601335006098}, {'Word': 'Forget', 'SHAP': -0.0021204041107558136}, {'Word': \"who'll\", 'SHAP': -0.0021280428115278416}, {'Word': 'brutality', 'SHAP': -0.0021595015913771776}, {'Word': 'a', 'SHAP': -0.002191684097051616}, {'Word': 'due', 'SHAP': -0.0022867844626034695}, {'Word': 'dare.', 'SHAP': -0.0022868084569927505}, {'Word': '/>It', 'SHAP': -0.002302492531016498}, {'Word': 'developed', 'SHAP': -0.0023495582211762733}, {'Word': 'shows', 'SHAP': -0.0023575697233900184}, {'Word': 'charm,', 'SHAP': -0.002396156962495344}, {'Word': 'fact', 'SHAP': -0.002615878754004375}, {'Word': 'I', 'SHAP': -0.0026351584886288304}, {'Word': 'to', 'SHAP': -0.0027057984704151883}, {'Word': 'high', 'SHAP': -0.002728704101173207}, {'Word': 'reviewers', 'SHAP': -0.002820642005190138}, {'Word': 'set', 'SHAP': -0.0028447948554821134}, {'Word': 'City', 'SHAP': -0.003104530351993151}, {'Word': 'so', 'SHAP': -0.003142497818917067}, {'Word': '(crooked', 'SHAP': -0.00314602989346896}, {'Word': 'after', 'SHAP': -0.0032215479979640915}, {'Word': 'unflinching', 'SHAP': -0.0032807237200904726}, {'Word': 'the', 'SHAP': -0.003385088344030035}, {'Word': 'episode', 'SHAP': -0.0034129749349085525}, {'Word': 'exactly', 'SHAP': -0.003438416158249996}, {'Word': 'Oz', 'SHAP': -0.0036019885239511606}, {'Word': 'was', 'SHAP': -0.003642132226104905}, {'Word': 'the', 'SHAP': -0.003770885419162373}, {'Word': 'that', 'SHAP': -0.0037980424764645637}, {'Word': 'be', 'SHAP': -0.0038109259109478655}, {'Word': 'that', 'SHAP': -0.003878391817561333}, {'Word': 'Trust', 'SHAP': -0.0046398917009719265}, {'Word': 'me.<br', 'SHAP': -0.004656364447437278}, {'Word': 'the', 'SHAP': -0.004727774430066278}, {'Word': 'right,', 'SHAP': -0.004916308922292972}, {'Word': 'is', 'SHAP': -0.0049424917042051875}, {'Word': 'goes', 'SHAP': -0.005462764518160801}, {'Word': 'show', 'SHAP': -0.005816118747898169}, {'Word': 'Oz', 'SHAP': -0.005836461620128852}, {'Word': 'accustomed', 'SHAP': -0.006436688600806428}, {'Word': 'They', 'SHAP': -0.007186334423822743}, {'Word': 'just', 'SHAP': -0.007761278189718723}, {'Word': 'Emerald', 'SHAP': -0.008003938710317016}, {'Word': 'saw', 'SHAP': -0.008102133134380018}, {'Word': 'mess', 'SHAP': -0.008730452760028096}, {'Word': 'Oz,', 'SHAP': -0.009071477921970661}, {'Word': 'called', 'SHAP': -0.009098007270440578}, {'Word': 'mainly', 'SHAP': -0.009107027202844675}, {'Word': 'for', 'SHAP': -0.009202426584233703}, {'Word': 'from', 'SHAP': -0.009792287335731065}, {'Word': 'other', 'SHAP': -0.00983693305402994}, {'Word': 'of', 'SHAP': -0.010009309171327863}, {'Word': 'not', 'SHAP': -0.010146521155365906}, {'Word': 'many..Aryans,', 'SHAP': -0.010264622819377123}, {'Word': 'for', 'SHAP': -0.011433353270112967}, {'Word': 'this', 'SHAP': -0.012139110928510485}, {'Word': 'Penitentary.', 'SHAP': -0.012245331379817814}, {'Word': 'scenes', 'SHAP': -0.012476757482800083}, {'Word': 'is', 'SHAP': -0.013831696818451755}, {'Word': 'about', 'SHAP': -0.01447293967656152}, {'Word': 'bitches', 'SHAP': -0.015082709471462286}, {'Word': 'turned', 'SHAP': -0.016316559117112772}, {'Word': 'surreal,', 'SHAP': -0.01812391628627663}, {'Word': 'class', 'SHAP': -0.018138780746376093}, {'Word': 'is', 'SHAP': -0.022945763362222316}, {'Word': 'experience)', 'SHAP': -0.0243344603905416}, {'Word': 'I', 'SHAP': -0.027416873840847955}, {'Word': 'got', 'SHAP': -0.027687378152040698}, {'Word': 'on', 'SHAP': -0.03334250077483375}, {'Word': 'audiences,', 'SHAP': -0.035857679736145676}, {'Word': 'into', 'SHAP': -0.043271706921514164}, {'Word': 'if', 'SHAP': -0.050853568970278484}, {'Word': 'darker', 'SHAP': -0.05149098677618891}]\n"
     ]
    }
   ],
   "source": [
    "first_shaps = first_explanation[0].values\n",
    "word_list = list(df.iloc[0].review.split(sep=\" \"))\n",
    "word_vs_shap = list() # list containing the respective word and its shapley additive explanation value\n",
    "\n",
    "for i in range(len(word_list)):\n",
    "    word_vs_shap.append({\"Word\": word_list[i], \"SHAP\": first_shaps[i]})\n",
    "\n",
    "# sorting it so we can visualise it easily\n",
    "\n",
    "def bubbleSort(arr):\n",
    "    n = len(arr)\n",
    "    # optimize code, so if the array is already sorted, it doesn't need\n",
    "    # to go through the entire process\n",
    "    swapped = False\n",
    "    # Traverse through all array elements\n",
    "    for i in range(n-1):\n",
    "        # range(n) also work but outer loop will\n",
    "        # repeat one time more than needed.\n",
    "        # Last i elements are already in place\n",
    "        for j in range(0, n-i-1):\n",
    " \n",
    "            # traverse the array from 0 to n-i-1\n",
    "            # Swap if the element found is greater\n",
    "            # than the next element\n",
    "            if arr[j][\"SHAP\"] < arr[j + 1][\"SHAP\"]:\n",
    "                swapped = True\n",
    "                arr[j], arr[j + 1] = arr[j + 1], arr[j]\n",
    "         \n",
    "        if not swapped:\n",
    "            # if we haven't needed to make a single swap, we \n",
    "            # can just exit the main loop.\n",
    "            return\n",
    "sorted_word_vs_shap = bubbleSort(word_vs_shap)\n",
    "print(word_vs_shap)\n"
   ]
  },
  {
   "cell_type": "markdown",
   "metadata": {},
   "source": [
    "Visualising the SHAP values"
   ]
  },
  {
   "cell_type": "code",
   "execution_count": 5,
   "metadata": {},
   "outputs": [
    {
     "name": "stdout",
     "output_type": "stream",
     "text": [
      "i: 0 position: 32 layer: 1\n",
      "i: 1 position: 16 layer: 3\n",
      "i: 2 position: 48 layer: 3\n",
      "i: 3 position: 8 layer: 5\n",
      "i: 4 position: 16 layer: 5\n",
      "i: 5 position: 48 layer: 5\n",
      "i: 6 position: 56 layer: 5\n"
     ]
    }
   ],
   "source": [
    "import tkinter as tk\n",
    "from tkinter import *\n",
    "from tkinter import ttk\n",
    "max_size=64\n",
    "\n",
    "root = tk.Tk()\n",
    "frm = ttk.Frame(root, padding=10)\n",
    "frm.grid()\n",
    "frm.rowconfigure(max_size*3) \n",
    "frm.columnconfigure(max_size)\n",
    "sorted_word_vs_shap = word_vs_shap\n",
    "layer = 1; position = 0\n",
    "counter = 0\n",
    "for i in range(0, 7):\n",
    "    if(i != 0):\n",
    "        if (counter == 1):\n",
    "            position += int(max_size / pow(2, layer-4))\n",
    "            counter = 0\n",
    "        else:\n",
    "            position += int(max_size / pow(2, layer-2))\n",
    "            counter += 1        \n",
    "    else:\n",
    "        position += 32\n",
    "    \n",
    "    if(i > pow(2, layer-2)):\n",
    "        if(counter == 0):\n",
    "            position = int(max_size / pow(2, layer))\n",
    "        else:\n",
    "            position = int(max_size / pow(2, layer+1))\n",
    "        layer += 2\n",
    "        counter = 0\n",
    "    \n",
    "\n",
    "    print(\"i: {} position: {} layer: {}\".format(i, position, layer))\n",
    "    # the starting position is max_size / pow(2, layer)\n",
    "    ttk.Label(root, text=round(sorted_word_vs_shap[i][\"SHAP\"], 5), width=30, wraplength=100, justify=\"center\", font=(\"Arial\", 14)).grid(column=position, row=layer)\n",
    "    ttk.Label(root, text=sorted_word_vs_shap[i][\"Word\"], width=30, wraplength=100, justify=\"center\", font=(\"Arial\", 14)).grid(column=position, row=layer+1)\n",
    "\n",
    "\n",
    "# root.mainloop()"
   ]
  },
  {
   "cell_type": "code",
   "execution_count": 6,
   "metadata": {},
   "outputs": [],
   "source": [
    "root.mainloop()"
   ]
  }
 ],
 "metadata": {
  "kernelspec": {
   "display_name": "graphsageoncora",
   "language": "python",
   "name": "python3"
  },
  "language_info": {
   "codemirror_mode": {
    "name": "ipython",
    "version": 3
   },
   "file_extension": ".py",
   "mimetype": "text/x-python",
   "name": "python",
   "nbconvert_exporter": "python",
   "pygments_lexer": "ipython3",
   "version": "3.8.17"
  },
  "orig_nbformat": 4
 },
 "nbformat": 4,
 "nbformat_minor": 2
}
