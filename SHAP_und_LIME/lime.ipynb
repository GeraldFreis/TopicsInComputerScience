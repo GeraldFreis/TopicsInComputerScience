{
 "cells": [
  {
   "cell_type": "markdown",
   "metadata": {},
   "source": [
    "This file contains the interpretability workings of LIME"
   ]
  },
  {
   "cell_type": "code",
   "execution_count": 1,
   "metadata": {},
   "outputs": [],
   "source": [
    "import lime\n",
    "import pandas as pd\n",
    "import matplotlib.pyplot as plt\n",
    "import sklearn as sk\n",
    "from sklearn.model_selection import train_test_split\n",
    "import tensorflow as tf\n",
    "import keras\n",
    "from tensorflow.keras.preprocessing.text import Tokenizer\n",
    "from tensorflow.keras.utils import pad_sequences\n",
    "import numpy as np"
   ]
  },
  {
   "cell_type": "code",
   "execution_count": 2,
   "metadata": {},
   "outputs": [],
   "source": [
    "df = pd.read_csv(\"../IMDB_with_predictions.csv\")[0:1000:1]\n",
    "model = keras.models.load_model(\"../CNN_Non_Dense\")\n",
    "\n",
    "tokenizer = Tokenizer()\n",
    "tokenizer.fit_on_texts(df.review)\n",
    "tokenized_texts = tokenizer.texts_to_sequences(df.review)\n",
    "padded_texts = pad_sequences(tokenized_texts, padding=\"post\", maxlen=1000)"
   ]
  },
  {
   "cell_type": "markdown",
   "metadata": {},
   "source": [
    "Explanations"
   ]
  },
  {
   "cell_type": "code",
   "execution_count": 10,
   "metadata": {},
   "outputs": [
    {
     "ename": "ValueError",
     "evalue": "could not broadcast input array from shape (1000,) into shape (1,)",
     "output_type": "error",
     "traceback": [
      "\u001b[1;31m---------------------------------------------------------------------------\u001b[0m",
      "\u001b[1;31mValueError\u001b[0m                                Traceback (most recent call last)",
      "\u001b[1;32md:\\Coding\\TopicsInComputerScience\\SHAP_und_LIME\\lime.ipynb Cell 5\u001b[0m line \u001b[0;36m9\n\u001b[0;32m      <a href='vscode-notebook-cell:/d%3A/Coding/TopicsInComputerScience/SHAP_und_LIME/lime.ipynb#W4sZmlsZQ%3D%3D?line=6'>7</a>\u001b[0m \u001b[39mfrom\u001b[39;00m \u001b[39mlime\u001b[39;00m \u001b[39mimport\u001b[39;00m lime_tabular\n\u001b[0;32m      <a href='vscode-notebook-cell:/d%3A/Coding/TopicsInComputerScience/SHAP_und_LIME/lime.ipynb#W4sZmlsZQ%3D%3D?line=7'>8</a>\u001b[0m explainer \u001b[39m=\u001b[39m lime\u001b[39m.\u001b[39mlime_tabular\u001b[39m.\u001b[39mLimeTabularExplainer(class_names\u001b[39m=\u001b[39m[\u001b[39m0\u001b[39m,\u001b[39m1\u001b[39m], training_data\u001b[39m=\u001b[39mpadded_texts)\n\u001b[1;32m----> <a href='vscode-notebook-cell:/d%3A/Coding/TopicsInComputerScience/SHAP_und_LIME/lime.ipynb#W4sZmlsZQ%3D%3D?line=8'>9</a>\u001b[0m explanations \u001b[39m=\u001b[39m explainer\u001b[39m.\u001b[39;49mexplain_instance(padded_texts[\u001b[39m0\u001b[39;49m:\u001b[39m1\u001b[39;49m:\u001b[39m1\u001b[39;49m], prediction_fn, num_features\u001b[39m=\u001b[39;49m\u001b[39m1000\u001b[39;49m)\n\u001b[0;32m     <a href='vscode-notebook-cell:/d%3A/Coding/TopicsInComputerScience/SHAP_und_LIME/lime.ipynb#W4sZmlsZQ%3D%3D?line=9'>10</a>\u001b[0m \u001b[39m# print(prediction_fn(padded_texts[0:1:1]))\u001b[39;00m\n",
      "File \u001b[1;32mc:\\Users\\freis\\anaconda3\\envs\\baseEnv\\lib\\site-packages\\lime\\lime_tabular.py:340\u001b[0m, in \u001b[0;36mLimeTabularExplainer.explain_instance\u001b[1;34m(self, data_row, predict_fn, labels, top_labels, num_features, num_samples, distance_metric, model_regressor)\u001b[0m\n\u001b[0;32m    337\u001b[0m \u001b[39mif\u001b[39;00m sp\u001b[39m.\u001b[39msparse\u001b[39m.\u001b[39missparse(data_row) \u001b[39mand\u001b[39;00m \u001b[39mnot\u001b[39;00m sp\u001b[39m.\u001b[39msparse\u001b[39m.\u001b[39misspmatrix_csr(data_row):\n\u001b[0;32m    338\u001b[0m     \u001b[39m# Preventative code: if sparse, convert to csr format if not in csr format already\u001b[39;00m\n\u001b[0;32m    339\u001b[0m     data_row \u001b[39m=\u001b[39m data_row\u001b[39m.\u001b[39mtocsr()\n\u001b[1;32m--> 340\u001b[0m data, inverse \u001b[39m=\u001b[39m \u001b[39mself\u001b[39;49m\u001b[39m.\u001b[39;49m__data_inverse(data_row, num_samples)\n\u001b[0;32m    341\u001b[0m \u001b[39mif\u001b[39;00m sp\u001b[39m.\u001b[39msparse\u001b[39m.\u001b[39missparse(data):\n\u001b[0;32m    342\u001b[0m     \u001b[39m# Note in sparse case we don't subtract mean since data would become dense\u001b[39;00m\n\u001b[0;32m    343\u001b[0m     scaled_data \u001b[39m=\u001b[39m data\u001b[39m.\u001b[39mmultiply(\u001b[39mself\u001b[39m\u001b[39m.\u001b[39mscaler\u001b[39m.\u001b[39mscale_)\n",
      "File \u001b[1;32mc:\\Users\\freis\\anaconda3\\envs\\baseEnv\\lib\\site-packages\\lime\\lime_tabular.py:539\u001b[0m, in \u001b[0;36mLimeTabularExplainer.__data_inverse\u001b[1;34m(self, data_row, num_samples)\u001b[0m\n\u001b[0;32m    536\u001b[0m     first_row \u001b[39m=\u001b[39m \u001b[39mself\u001b[39m\u001b[39m.\u001b[39mdiscretizer\u001b[39m.\u001b[39mdiscretize(data_row)\n\u001b[0;32m    537\u001b[0m \u001b[39m# my own changes to the code, if this errors it is your fault gerald\u001b[39;00m\n\u001b[0;32m    538\u001b[0m \u001b[39m# print(data_row)\u001b[39;00m\n\u001b[1;32m--> 539\u001b[0m data[\u001b[39m0\u001b[39;49m] \u001b[39m=\u001b[39m data_row\u001b[39m.\u001b[39mcopy()\n\u001b[0;32m    541\u001b[0m inverse \u001b[39m=\u001b[39m data\u001b[39m.\u001b[39mcopy()\n\u001b[0;32m    542\u001b[0m \u001b[39mfor\u001b[39;00m column \u001b[39min\u001b[39;00m categorical_features:\n",
      "\u001b[1;31mValueError\u001b[0m: could not broadcast input array from shape (1000,) into shape (1,)"
     ]
    }
   ],
   "source": [
    "def prediction_fn(data):\n",
    "    pred = model.predict(data).round(2)\n",
    "    if(pred[0] == 1):\n",
    "        return np.array(((0,1.0), (0,0)))\n",
    "    return np.array(((1.0, 0), (0,0)))\n",
    "\n",
    "from lime import lime_tabular\n",
    "explainer = lime.lime_tabular.LimeTabularExplainer(class_names=[0,1], training_data=padded_texts)\n",
    "explanations = explainer.explain_instance(padded_texts[0:1:1], prediction_fn, num_features=1000)\n",
    "# print(prediction_fn(padded_texts[0:1:1]))"
   ]
  }
 ],
 "metadata": {
  "kernelspec": {
   "display_name": "graphsageoncora",
   "language": "python",
   "name": "python3"
  },
  "language_info": {
   "codemirror_mode": {
    "name": "ipython",
    "version": 3
   },
   "file_extension": ".py",
   "mimetype": "text/x-python",
   "name": "python",
   "nbconvert_exporter": "python",
   "pygments_lexer": "ipython3",
   "version": "3.8.17"
  },
  "orig_nbformat": 4
 },
 "nbformat": 4,
 "nbformat_minor": 2
}
