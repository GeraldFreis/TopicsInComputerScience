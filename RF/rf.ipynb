{
 "cells": [
  {
   "cell_type": "markdown",
   "metadata": {},
   "source": [
    "This file seeks to use Random Forests to predict the output of the CNN "
   ]
  },
  {
   "cell_type": "code",
   "execution_count": 10,
   "metadata": {},
   "outputs": [],
   "source": [
    "import pandas as pd\n",
    "import tensorflow as tf\n",
    "import keras\n",
    "import numpy as np\n",
    "import sklearn as sk\n",
    "from sklearn.model_selection import train_test_split\n",
    "from tensorflow.keras.preprocessing.text import Tokenizer\n",
    "from tensorflow.keras.utils import pad_sequences\n",
    "from sklearn.ensemble import RandomForestClassifier"
   ]
  },
  {
   "cell_type": "markdown",
   "metadata": {},
   "source": [
    "Preprocessing text"
   ]
  },
  {
   "cell_type": "code",
   "execution_count": 18,
   "metadata": {},
   "outputs": [],
   "source": [
    "df = pd.read_csv(\"../IMDB_with_predictions.csv\", low_memory=False)\n",
    "reviews = df.review\n",
    "predictions = df.CNN_Predictions\n",
    "\n",
    "# predictions = [round(predictions[i]) for i in range(len(predictions))] # ensuring that this is a classification task\n",
    "\n",
    "\n",
    "tokenizer = Tokenizer()\n",
    "tokenizer.fit_on_texts(reviews)\n",
    "all_tokenized = tokenizer.texts_to_sequences(reviews)\n",
    "all_padded = pad_sequences(all_tokenized, padding=\"post\", maxlen=100)"
   ]
  },
  {
   "cell_type": "markdown",
   "metadata": {},
   "source": [
    "Splitting data"
   ]
  },
  {
   "cell_type": "code",
   "execution_count": 19,
   "metadata": {},
   "outputs": [],
   "source": [
    "train_x, test_x, train_y, test_y = train_test_split(all_padded, predictions, test_size=0.25,  shuffle=True, random_state=1000)"
   ]
  },
  {
   "cell_type": "markdown",
   "metadata": {},
   "source": [
    "Training Random Forest"
   ]
  },
  {
   "cell_type": "code",
   "execution_count": 22,
   "metadata": {},
   "outputs": [
    {
     "name": "stdout",
     "output_type": "stream",
     "text": [
      "Training accuracy: 0.95648\n",
      "Testing accuracy: 0.57304\n"
     ]
    }
   ],
   "source": [
    "tree = RandomForestClassifier(criterion=\"gini\", max_depth=13).fit(train_x, train_y)\n",
    "\n",
    "training_predictions = tree.predict(train_x)\n",
    "testing_predictions = tree.predict(test_x)\n",
    "\n",
    "training_accuracy = sk.metrics.accuracy_score(training_predictions, train_y, normalize=True)\n",
    "testing_accuracy = sk.metrics.accuracy_score(testing_predictions, test_y, normalize=True)\n",
    "\n",
    "\n",
    "print(\"Training accuracy: {}\\nTesting accuracy: {}\".format(training_accuracy, testing_accuracy))\n",
    "\n"
   ]
  }
 ],
 "metadata": {
  "kernelspec": {
   "display_name": "baseEnv",
   "language": "python",
   "name": "python3"
  },
  "language_info": {
   "codemirror_mode": {
    "name": "ipython",
    "version": 3
   },
   "file_extension": ".py",
   "mimetype": "text/x-python",
   "name": "python",
   "nbconvert_exporter": "python",
   "pygments_lexer": "ipython3",
   "version": "3.8.17"
  },
  "orig_nbformat": 4
 },
 "nbformat": 4,
 "nbformat_minor": 2
}
