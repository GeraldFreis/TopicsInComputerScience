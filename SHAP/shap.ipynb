{
 "cells": [
  {
   "cell_type": "code",
   "execution_count": 1,
   "metadata": {},
   "outputs": [
    {
     "name": "stderr",
     "output_type": "stream",
     "text": [
      "IProgress not found. Please update jupyter and ipywidgets. See https://ipywidgets.readthedocs.io/en/stable/user_install.html\n"
     ]
    }
   ],
   "source": [
    "import shap\n",
    "import pandas as pd\n",
    "import matplotlib.pyplot as plt\n",
    "import sklearn as sk\n",
    "from sklearn.model_selection import train_test_split\n",
    "import tensorflow as tf\n",
    "import keras\n",
    "from tensorflow.keras.preprocessing.text import Tokenizer\n",
    "from tensorflow.keras.utils import pad_sequences\n",
    "tf.config.set_visible_devices([], 'GPU') # turning GPU use off as tensors exceed 10000*1000*50\n"
   ]
  },
  {
   "cell_type": "markdown",
   "metadata": {},
   "source": [
    "getting our dataset, and model, and preparing for SHAP so that we can get it all to work\n"
   ]
  },
  {
   "cell_type": "code",
   "execution_count": 2,
   "metadata": {},
   "outputs": [],
   "source": [
    "model = tf.keras.models.load_model(\"../CNN_Non_Dense\")\n",
    "df = pd.read_csv(\"../IMDB_with_predictions.csv\", low_memory=False)[0:1000:1]\n",
    "review = df.review\n",
    "predictions = df.CNN_Predictions\n",
    "\n",
    "\n",
    "tokenizer = Tokenizer()\n",
    "tokenizer.fit_on_texts(review)\n",
    "tokenized_reviews = tokenizer.texts_to_sequences(review)\n",
    "padded_reviews = pad_sequences(tokenized_reviews, padding=\"post\", maxlen=1000)\n",
    "\n",
    "first_half_x, second_half_x, first_half_y, second_half_y = train_test_split(padded_reviews, predictions, train_size=0.25, shuffle=True, random_state=1000)"
   ]
  },
  {
   "cell_type": "markdown",
   "metadata": {},
   "source": [
    "training our shap model"
   ]
  },
  {
   "cell_type": "code",
   "execution_count": 3,
   "metadata": {},
   "outputs": [
    {
     "name": "stdout",
     "output_type": "stream",
     "text": [
      "2745/2745 [==============================] - 8s 3ms/step\n"
     ]
    },
    {
     "name": "stderr",
     "output_type": "stream",
     "text": [
      "Permutation explainer:   0%|          | 1/250 [00:00<?, ?it/s]"
     ]
    },
    {
     "name": "stdout",
     "output_type": "stream",
     "text": [
      "1676/1676 [==============================] - 5s 3ms/step\n",
      "1321/1321 [==============================] - 4s 3ms/step\n"
     ]
    },
    {
     "name": "stderr",
     "output_type": "stream",
     "text": [
      "Permutation explainer:   1%|          | 3/250 [00:23<21:32,  5.23s/it]"
     ]
    },
    {
     "name": "stdout",
     "output_type": "stream",
     "text": [
      "2027/2027 [==============================] - 6s 3ms/step\n",
      "1578/1578 [==============================] - 5s 3ms/step\n"
     ]
    },
    {
     "name": "stderr",
     "output_type": "stream",
     "text": [
      "Permutation explainer:   2%|▏         | 4/250 [00:35<34:14,  8.35s/it]"
     ]
    },
    {
     "name": "stdout",
     "output_type": "stream",
     "text": [
      "1745/1745 [==============================] - 5s 3ms/step\n",
      "1368/1368 [==============================] - 4s 3ms/step\n"
     ]
    },
    {
     "name": "stderr",
     "output_type": "stream",
     "text": [
      "Permutation explainer:   2%|▏         | 5/250 [00:46<37:45,  9.25s/it]"
     ]
    },
    {
     "name": "stdout",
     "output_type": "stream",
     "text": [
      "6177/6177 [==============================] - 18s 3ms/step\n",
      "3097/3097 [==============================] - 9s 3ms/step\n"
     ]
    },
    {
     "name": "stderr",
     "output_type": "stream",
     "text": [
      "Permutation explainer:   2%|▏         | 6/250 [01:17<1:07:45, 16.66s/it]"
     ]
    },
    {
     "name": "stdout",
     "output_type": "stream",
     "text": [
      "1818/1818 [==============================] - 5s 3ms/step\n",
      "1449/1449 [==============================] - 4s 3ms/step\n"
     ]
    },
    {
     "name": "stderr",
     "output_type": "stream",
     "text": [
      "Permutation explainer:   3%|▎         | 7/250 [01:28<1:00:13, 14.87s/it]"
     ]
    },
    {
     "name": "stdout",
     "output_type": "stream",
     "text": [
      "1805/1805 [==============================] - 5s 3ms/step\n",
      "1442/1442 [==============================] - 4s 3ms/step\n"
     ]
    },
    {
     "name": "stderr",
     "output_type": "stream",
     "text": [
      "Permutation explainer:   3%|▎         | 8/250 [01:39<55:07, 13.67s/it]  "
     ]
    },
    {
     "name": "stdout",
     "output_type": "stream",
     "text": [
      "4439/4439 [==============================] - 13s 3ms/step\n",
      "2849/2849 [==============================] - 8s 3ms/step\n"
     ]
    },
    {
     "name": "stderr",
     "output_type": "stream",
     "text": [
      "Permutation explainer:   4%|▎         | 9/250 [02:03<1:08:10, 16.97s/it]"
     ]
    },
    {
     "name": "stdout",
     "output_type": "stream",
     "text": [
      "2139/2139 [==============================] - 6s 3ms/step\n",
      "1682/1682 [==============================] - 5s 3ms/step\n"
     ]
    },
    {
     "name": "stderr",
     "output_type": "stream",
     "text": [
      "Permutation explainer:   4%|▍         | 10/250 [02:16<1:02:54, 15.73s/it]"
     ]
    },
    {
     "name": "stdout",
     "output_type": "stream",
     "text": [
      "2588/2588 [==============================] - 7s 3ms/step\n",
      "2002/2002 [==============================] - 6s 3ms/step\n"
     ]
    },
    {
     "name": "stderr",
     "output_type": "stream",
     "text": [
      "Permutation explainer:   4%|▍         | 11/250 [02:32<1:02:16, 15.63s/it]"
     ]
    },
    {
     "name": "stdout",
     "output_type": "stream",
     "text": [
      "1721/1721 [==============================] - 5s 3ms/step\n",
      "1361/1361 [==============================] - 4s 3ms/step\n"
     ]
    },
    {
     "name": "stderr",
     "output_type": "stream",
     "text": [
      "Permutation explainer:   5%|▍         | 12/250 [02:42<55:39, 14.03s/it]  "
     ]
    },
    {
     "name": "stdout",
     "output_type": "stream",
     "text": [
      "2087/2087 [==============================] - 6s 3ms/step\n",
      "1634/1634 [==============================] - 5s 3ms/step\n"
     ]
    },
    {
     "name": "stderr",
     "output_type": "stream",
     "text": [
      "Permutation explainer:   5%|▌         | 13/250 [02:55<53:43, 13.60s/it]"
     ]
    },
    {
     "name": "stdout",
     "output_type": "stream",
     "text": [
      "1673/1673 [==============================] - 5s 3ms/step\n",
      "1294/1294 [==============================] - 4s 3ms/step\n"
     ]
    },
    {
     "name": "stderr",
     "output_type": "stream",
     "text": [
      "Permutation explainer:   6%|▌         | 14/250 [03:05<49:22, 12.55s/it]"
     ]
    },
    {
     "name": "stdout",
     "output_type": "stream",
     "text": [
      "2652/2652 [==============================] - 8s 3ms/step\n",
      "2018/2018 [==============================] - 6s 3ms/step\n"
     ]
    },
    {
     "name": "stderr",
     "output_type": "stream",
     "text": [
      "Permutation explainer:   6%|▌         | 15/250 [03:21<53:00, 13.53s/it]"
     ]
    },
    {
     "name": "stdout",
     "output_type": "stream",
     "text": [
      "1659/1659 [==============================] - 5s 3ms/step\n",
      "1298/1298 [==============================] - 4s 3ms/step\n"
     ]
    },
    {
     "name": "stderr",
     "output_type": "stream",
     "text": [
      "Permutation explainer:   6%|▋         | 16/250 [03:31<48:41, 12.49s/it]"
     ]
    },
    {
     "name": "stdout",
     "output_type": "stream",
     "text": [
      "1663/1663 [==============================] - 5s 3ms/step\n",
      "1307/1307 [==============================] - 4s 3ms/step\n"
     ]
    },
    {
     "name": "stderr",
     "output_type": "stream",
     "text": [
      "Permutation explainer:   7%|▋         | 17/250 [03:41<45:51, 11.81s/it]"
     ]
    },
    {
     "name": "stdout",
     "output_type": "stream",
     "text": [
      "1851/1851 [==============================] - 5s 3ms/step\n",
      "1479/1479 [==============================] - 5s 3ms/step\n"
     ]
    },
    {
     "name": "stderr",
     "output_type": "stream",
     "text": [
      "Permutation explainer:   7%|▋         | 18/250 [03:53<45:35, 11.79s/it]"
     ]
    },
    {
     "name": "stdout",
     "output_type": "stream",
     "text": [
      "1757/1757 [==============================] - 5s 3ms/step\n",
      "1393/1393 [==============================] - 4s 3ms/step\n"
     ]
    },
    {
     "name": "stderr",
     "output_type": "stream",
     "text": [
      "Permutation explainer:   8%|▊         | 19/250 [04:04<44:52, 11.66s/it]"
     ]
    },
    {
     "name": "stdout",
     "output_type": "stream",
     "text": [
      "1665/1665 [==============================] - 5s 3ms/step\n",
      "1286/1286 [==============================] - 4s 3ms/step\n"
     ]
    },
    {
     "name": "stderr",
     "output_type": "stream",
     "text": [
      "Permutation explainer:   8%|▊         | 20/250 [04:14<42:47, 11.16s/it]"
     ]
    },
    {
     "name": "stdout",
     "output_type": "stream",
     "text": [
      "2926/2926 [==============================] - 9s 3ms/step\n",
      "2173/2173 [==============================] - 6s 3ms/step\n"
     ]
    },
    {
     "name": "stderr",
     "output_type": "stream",
     "text": [
      "Permutation explainer:   8%|▊         | 21/250 [04:31<49:36, 13.00s/it]"
     ]
    },
    {
     "name": "stdout",
     "output_type": "stream",
     "text": [
      "2855/2855 [==============================] - 8s 3ms/step\n",
      "2133/2133 [==============================] - 6s 3ms/step\n"
     ]
    },
    {
     "name": "stderr",
     "output_type": "stream",
     "text": [
      "Permutation explainer:   9%|▉         | 22/250 [04:48<53:51, 14.17s/it]"
     ]
    },
    {
     "name": "stdout",
     "output_type": "stream",
     "text": [
      "2189/2189 [==============================] - 7s 3ms/step\n",
      "1705/1705 [==============================] - 5s 3ms/step\n"
     ]
    },
    {
     "name": "stderr",
     "output_type": "stream",
     "text": [
      "Permutation explainer:   9%|▉         | 23/250 [05:02<53:04, 14.03s/it]"
     ]
    },
    {
     "name": "stdout",
     "output_type": "stream",
     "text": [
      "1665/1665 [==============================] - 5s 3ms/step\n",
      "1309/1309 [==============================] - 4s 3ms/step\n"
     ]
    },
    {
     "name": "stderr",
     "output_type": "stream",
     "text": [
      "Permutation explainer:  10%|▉         | 24/250 [05:12<48:42, 12.93s/it]"
     ]
    },
    {
     "name": "stdout",
     "output_type": "stream",
     "text": [
      "1693/1693 [==============================] - 5s 3ms/step\n",
      "1307/1307 [==============================] - 4s 3ms/step\n"
     ]
    },
    {
     "name": "stderr",
     "output_type": "stream",
     "text": [
      "Permutation explainer:  10%|█         | 25/250 [05:23<45:48, 12.21s/it]"
     ]
    },
    {
     "name": "stdout",
     "output_type": "stream",
     "text": [
      "4554/4554 [==============================] - 14s 3ms/step\n",
      "2897/2897 [==============================] - 9s 3ms/step\n"
     ]
    },
    {
     "name": "stderr",
     "output_type": "stream",
     "text": [
      "Permutation explainer:  10%|█         | 26/250 [05:48<1:00:36, 16.24s/it]"
     ]
    },
    {
     "name": "stdout",
     "output_type": "stream",
     "text": [
      "1688/1688 [==============================] - 5s 3ms/step\n",
      "1336/1336 [==============================] - 4s 3ms/step\n"
     ]
    },
    {
     "name": "stderr",
     "output_type": "stream",
     "text": [
      "Permutation explainer:  11%|█         | 27/250 [05:59<53:59, 14.53s/it]  "
     ]
    },
    {
     "name": "stdout",
     "output_type": "stream",
     "text": [
      "1749/1749 [==============================] - 5s 3ms/step\n",
      "1370/1370 [==============================] - 4s 3ms/step\n"
     ]
    },
    {
     "name": "stderr",
     "output_type": "stream",
     "text": [
      "Permutation explainer:  11%|█         | 28/250 [06:10<49:30, 13.38s/it]"
     ]
    },
    {
     "name": "stdout",
     "output_type": "stream",
     "text": [
      "1719/1719 [==============================] - 5s 3ms/step\n",
      "1367/1367 [==============================] - 4s 3ms/step\n"
     ]
    },
    {
     "name": "stderr",
     "output_type": "stream",
     "text": [
      "Permutation explainer:  12%|█▏        | 29/250 [06:20<46:21, 12.59s/it]"
     ]
    },
    {
     "name": "stdout",
     "output_type": "stream",
     "text": [
      "1719/1719 [==============================] - 5s 3ms/step\n",
      "1353/1353 [==============================] - 4s 3ms/step\n"
     ]
    },
    {
     "name": "stderr",
     "output_type": "stream",
     "text": [
      "Permutation explainer:  12%|█▏        | 30/250 [06:31<43:50, 11.96s/it]"
     ]
    },
    {
     "name": "stdout",
     "output_type": "stream",
     "text": [
      "1749/1749 [==============================] - 5s 3ms/step\n",
      "1367/1367 [==============================] - 4s 3ms/step\n"
     ]
    },
    {
     "name": "stderr",
     "output_type": "stream",
     "text": [
      "Permutation explainer:  12%|█▏        | 31/250 [06:41<42:00, 11.51s/it]"
     ]
    },
    {
     "name": "stdout",
     "output_type": "stream",
     "text": [
      "5345/5345 [==============================] - 16s 3ms/step\n",
      "3053/3053 [==============================] - 9s 3ms/step\n"
     ]
    },
    {
     "name": "stderr",
     "output_type": "stream",
     "text": [
      "Permutation explainer:  13%|█▎        | 32/250 [07:09<59:40, 16.42s/it]"
     ]
    },
    {
     "name": "stdout",
     "output_type": "stream",
     "text": [
      "2507/2507 [==============================] - 7s 3ms/step\n",
      "1930/1930 [==============================] - 6s 3ms/step\n"
     ]
    },
    {
     "name": "stderr",
     "output_type": "stream",
     "text": [
      "Permutation explainer:  13%|█▎        | 33/250 [07:24<57:59, 16.04s/it]"
     ]
    },
    {
     "name": "stdout",
     "output_type": "stream",
     "text": [
      "1695/1695 [==============================] - 5s 3ms/step\n",
      "1331/1331 [==============================] - 4s 3ms/step\n"
     ]
    },
    {
     "name": "stderr",
     "output_type": "stream",
     "text": [
      "Permutation explainer:  14%|█▎        | 34/250 [07:35<51:38, 14.34s/it]"
     ]
    },
    {
     "name": "stdout",
     "output_type": "stream",
     "text": [
      "1754/1754 [==============================] - 5s 3ms/step\n",
      "1386/1386 [==============================] - 4s 3ms/step\n"
     ]
    },
    {
     "name": "stderr",
     "output_type": "stream",
     "text": [
      "Permutation explainer:  14%|█▍        | 35/250 [07:45<47:14, 13.19s/it]"
     ]
    },
    {
     "name": "stdout",
     "output_type": "stream",
     "text": [
      "1758/1758 [==============================] - 5s 3ms/step\n",
      "1380/1380 [==============================] - 4s 3ms/step\n"
     ]
    },
    {
     "name": "stderr",
     "output_type": "stream",
     "text": [
      "Permutation explainer:  14%|█▍        | 36/250 [07:56<44:43, 12.54s/it]"
     ]
    },
    {
     "name": "stdout",
     "output_type": "stream",
     "text": [
      "1680/1680 [==============================] - 5s 3ms/step\n",
      "1327/1327 [==============================] - 4s 3ms/step\n"
     ]
    },
    {
     "name": "stderr",
     "output_type": "stream",
     "text": [
      "Permutation explainer:  15%|█▍        | 37/250 [08:07<42:29, 11.97s/it]"
     ]
    },
    {
     "name": "stdout",
     "output_type": "stream",
     "text": [
      "3082/3082 [==============================] - 9s 3ms/step\n",
      "2277/2277 [==============================] - 7s 3ms/step\n"
     ]
    },
    {
     "name": "stderr",
     "output_type": "stream",
     "text": [
      "Permutation explainer:  15%|█▌        | 38/250 [08:26<49:13, 13.93s/it]"
     ]
    },
    {
     "name": "stdout",
     "output_type": "stream",
     "text": [
      "1871/1871 [==============================] - 6s 3ms/step\n",
      "1487/1487 [==============================] - 5s 3ms/step\n"
     ]
    },
    {
     "name": "stderr",
     "output_type": "stream",
     "text": [
      "Permutation explainer:  16%|█▌        | 39/250 [08:37<46:55, 13.34s/it]"
     ]
    },
    {
     "name": "stdout",
     "output_type": "stream",
     "text": [
      "2448/2448 [==============================] - 7s 3ms/step\n",
      "1927/1927 [==============================] - 6s 3ms/step\n"
     ]
    },
    {
     "name": "stderr",
     "output_type": "stream",
     "text": [
      "Permutation explainer:  16%|█▌        | 40/250 [08:53<48:52, 13.96s/it]"
     ]
    },
    {
     "name": "stdout",
     "output_type": "stream",
     "text": [
      "1820/1820 [==============================] - 6s 3ms/step\n",
      "1435/1435 [==============================] - 4s 3ms/step\n"
     ]
    },
    {
     "name": "stderr",
     "output_type": "stream",
     "text": [
      "Permutation explainer:  16%|█▋        | 41/250 [09:04<46:04, 13.23s/it]"
     ]
    },
    {
     "name": "stdout",
     "output_type": "stream",
     "text": [
      "1730/1730 [==============================] - 5s 3ms/step\n",
      "1369/1369 [==============================] - 4s 3ms/step\n"
     ]
    },
    {
     "name": "stderr",
     "output_type": "stream",
     "text": [
      "Permutation explainer:  17%|█▋        | 42/250 [09:15<43:22, 12.51s/it]"
     ]
    },
    {
     "name": "stdout",
     "output_type": "stream",
     "text": [
      "1727/1727 [==============================] - 5s 3ms/step\n",
      "1374/1374 [==============================] - 4s 3ms/step\n"
     ]
    },
    {
     "name": "stderr",
     "output_type": "stream",
     "text": [
      "Permutation explainer:  17%|█▋        | 43/250 [09:26<41:30, 12.03s/it]"
     ]
    },
    {
     "name": "stdout",
     "output_type": "stream",
     "text": [
      "1708/1708 [==============================] - 5s 3ms/step\n",
      "1342/1342 [==============================] - 4s 3ms/step\n"
     ]
    },
    {
     "name": "stderr",
     "output_type": "stream",
     "text": [
      "Permutation explainer:  18%|█▊        | 44/250 [09:37<40:01, 11.66s/it]"
     ]
    },
    {
     "name": "stdout",
     "output_type": "stream",
     "text": [
      "1690/1690 [==============================] - 5s 3ms/step\n",
      "1331/1331 [==============================] - 4s 3ms/step\n"
     ]
    },
    {
     "name": "stderr",
     "output_type": "stream",
     "text": [
      "Permutation explainer:  18%|█▊        | 45/250 [09:48<38:52, 11.38s/it]"
     ]
    },
    {
     "name": "stdout",
     "output_type": "stream",
     "text": [
      "1660/1660 [==============================] - 5s 3ms/step\n",
      "1308/1308 [==============================] - 4s 3ms/step\n"
     ]
    },
    {
     "name": "stderr",
     "output_type": "stream",
     "text": [
      "Permutation explainer:  18%|█▊        | 46/250 [09:58<37:51, 11.13s/it]"
     ]
    },
    {
     "name": "stdout",
     "output_type": "stream",
     "text": [
      "1696/1696 [==============================] - 5s 3ms/step\n",
      "1333/1333 [==============================] - 4s 3ms/step\n"
     ]
    },
    {
     "name": "stderr",
     "output_type": "stream",
     "text": [
      "Permutation explainer:  19%|█▉        | 47/250 [10:09<37:02, 10.95s/it]"
     ]
    },
    {
     "name": "stdout",
     "output_type": "stream",
     "text": [
      "1700/1700 [==============================] - 5s 3ms/step\n",
      "1331/1331 [==============================] - 4s 3ms/step\n"
     ]
    },
    {
     "name": "stderr",
     "output_type": "stream",
     "text": [
      "Permutation explainer:  19%|█▉        | 48/250 [10:19<36:17, 10.78s/it]"
     ]
    },
    {
     "name": "stdout",
     "output_type": "stream",
     "text": [
      "1686/1686 [==============================] - 5s 3ms/step\n",
      "1321/1321 [==============================] - 4s 3ms/step\n"
     ]
    },
    {
     "name": "stderr",
     "output_type": "stream",
     "text": [
      "Permutation explainer:  20%|█▉        | 49/250 [10:29<35:36, 10.63s/it]"
     ]
    },
    {
     "name": "stdout",
     "output_type": "stream",
     "text": [
      "1792/1792 [==============================] - 5s 3ms/step\n",
      "1403/1403 [==============================] - 4s 3ms/step\n"
     ]
    },
    {
     "name": "stderr",
     "output_type": "stream",
     "text": [
      "Permutation explainer:  20%|██        | 50/250 [10:40<35:48, 10.74s/it]"
     ]
    },
    {
     "name": "stdout",
     "output_type": "stream",
     "text": [
      "1708/1708 [==============================] - 5s 3ms/step\n",
      "1341/1341 [==============================] - 4s 3ms/step\n"
     ]
    },
    {
     "name": "stderr",
     "output_type": "stream",
     "text": [
      "Permutation explainer:  20%|██        | 51/250 [10:51<35:33, 10.72s/it]"
     ]
    },
    {
     "name": "stdout",
     "output_type": "stream",
     "text": [
      "3894/3894 [==============================] - 12s 3ms/step\n",
      "2714/2714 [==============================] - 8s 3ms/step\n"
     ]
    },
    {
     "name": "stderr",
     "output_type": "stream",
     "text": [
      "Permutation explainer:  21%|██        | 52/250 [11:13<46:49, 14.19s/it]"
     ]
    },
    {
     "name": "stdout",
     "output_type": "stream",
     "text": [
      "1659/1659 [==============================] - 5s 3ms/step\n",
      "1301/1301 [==============================] - 4s 3ms/step\n"
     ]
    },
    {
     "name": "stderr",
     "output_type": "stream",
     "text": [
      "Permutation explainer:  21%|██        | 53/250 [11:23<42:23, 12.91s/it]"
     ]
    },
    {
     "name": "stdout",
     "output_type": "stream",
     "text": [
      "1763/1763 [==============================] - 5s 3ms/step\n",
      "1381/1381 [==============================] - 4s 3ms/step\n"
     ]
    },
    {
     "name": "stderr",
     "output_type": "stream",
     "text": [
      "Permutation explainer:  22%|██▏       | 54/250 [11:34<39:56, 12.23s/it]"
     ]
    },
    {
     "name": "stdout",
     "output_type": "stream",
     "text": [
      "3311/3311 [==============================] - 9s 3ms/step\n",
      "2406/2406 [==============================] - 7s 3ms/step\n"
     ]
    },
    {
     "name": "stderr",
     "output_type": "stream",
     "text": [
      "Permutation explainer:  22%|██▏       | 55/250 [11:52<45:47, 14.09s/it]"
     ]
    },
    {
     "name": "stdout",
     "output_type": "stream",
     "text": [
      "1721/1721 [==============================] - 5s 3ms/step\n",
      "1360/1360 [==============================] - 4s 3ms/step\n"
     ]
    },
    {
     "name": "stderr",
     "output_type": "stream",
     "text": [
      "Permutation explainer:  22%|██▏       | 56/250 [12:02<41:41, 12.89s/it]"
     ]
    },
    {
     "name": "stdout",
     "output_type": "stream",
     "text": [
      "1712/1712 [==============================] - 5s 3ms/step\n",
      "1354/1354 [==============================] - 4s 3ms/step\n"
     ]
    },
    {
     "name": "stderr",
     "output_type": "stream",
     "text": [
      "Permutation explainer:  23%|██▎       | 57/250 [12:13<38:53, 12.09s/it]"
     ]
    },
    {
     "name": "stdout",
     "output_type": "stream",
     "text": [
      "1811/1811 [==============================] - 5s 3ms/step\n",
      "1423/1423 [==============================] - 4s 3ms/step\n"
     ]
    },
    {
     "name": "stderr",
     "output_type": "stream",
     "text": [
      "Permutation explainer:  23%|██▎       | 58/250 [12:23<37:19, 11.66s/it]"
     ]
    },
    {
     "name": "stdout",
     "output_type": "stream",
     "text": [
      "1812/1812 [==============================] - 5s 3ms/step\n",
      "1434/1434 [==============================] - 4s 3ms/step\n"
     ]
    },
    {
     "name": "stderr",
     "output_type": "stream",
     "text": [
      "Permutation explainer:  24%|██▎       | 59/250 [12:35<36:38, 11.51s/it]"
     ]
    },
    {
     "name": "stdout",
     "output_type": "stream",
     "text": [
      "1736/1736 [==============================] - 5s 3ms/step\n",
      "1362/1362 [==============================] - 4s 3ms/step\n"
     ]
    },
    {
     "name": "stderr",
     "output_type": "stream",
     "text": [
      "Permutation explainer:  24%|██▍       | 60/250 [12:45<35:35, 11.24s/it]"
     ]
    },
    {
     "name": "stdout",
     "output_type": "stream",
     "text": [
      "1875/1875 [==============================] - 6s 3ms/step\n",
      "1486/1486 [==============================] - 4s 3ms/step\n"
     ]
    },
    {
     "name": "stderr",
     "output_type": "stream",
     "text": [
      "Permutation explainer:  24%|██▍       | 61/250 [12:57<35:40, 11.33s/it]"
     ]
    },
    {
     "name": "stdout",
     "output_type": "stream",
     "text": [
      "1854/1854 [==============================] - 5s 3ms/step\n",
      "1453/1453 [==============================] - 4s 3ms/step\n"
     ]
    },
    {
     "name": "stderr",
     "output_type": "stream",
     "text": [
      "Permutation explainer:  25%|██▍       | 62/250 [13:08<35:23, 11.29s/it]"
     ]
    },
    {
     "name": "stdout",
     "output_type": "stream",
     "text": [
      "1675/1675 [==============================] - 5s 3ms/step\n",
      "1316/1316 [==============================] - 4s 3ms/step\n"
     ]
    },
    {
     "name": "stderr",
     "output_type": "stream",
     "text": [
      "Permutation explainer:  25%|██▌       | 63/250 [13:18<33:56, 10.89s/it]"
     ]
    },
    {
     "name": "stdout",
     "output_type": "stream",
     "text": [
      "1665/1665 [==============================] - 5s 3ms/step\n",
      "1308/1308 [==============================] - 4s 3ms/step\n"
     ]
    },
    {
     "name": "stderr",
     "output_type": "stream",
     "text": [
      "Permutation explainer:  26%|██▌       | 64/250 [13:28<33:05, 10.67s/it]"
     ]
    },
    {
     "name": "stdout",
     "output_type": "stream",
     "text": [
      "2696/2696 [==============================] - 8s 3ms/step\n",
      "2038/2038 [==============================] - 6s 3ms/step\n"
     ]
    },
    {
     "name": "stderr",
     "output_type": "stream",
     "text": [
      "Permutation explainer:  26%|██▌       | 65/250 [13:44<37:56, 12.30s/it]"
     ]
    },
    {
     "name": "stdout",
     "output_type": "stream",
     "text": [
      "1801/1801 [==============================] - 5s 3ms/step\n",
      "1434/1434 [==============================] - 4s 3ms/step\n"
     ]
    },
    {
     "name": "stderr",
     "output_type": "stream",
     "text": [
      "Permutation explainer:  26%|██▋       | 66/250 [13:55<36:34, 11.93s/it]"
     ]
    },
    {
     "name": "stdout",
     "output_type": "stream",
     "text": [
      "1955/1955 [==============================] - 5s 3ms/step\n",
      "1557/1557 [==============================] - 5s 3ms/step\n"
     ]
    },
    {
     "name": "stderr",
     "output_type": "stream",
     "text": [
      "Permutation explainer:  27%|██▋       | 67/250 [14:07<36:09, 11.86s/it]"
     ]
    },
    {
     "name": "stdout",
     "output_type": "stream",
     "text": [
      "1696/1696 [==============================] - 5s 3ms/step\n",
      "1323/1323 [==============================] - 4s 3ms/step\n"
     ]
    },
    {
     "name": "stderr",
     "output_type": "stream",
     "text": [
      "Permutation explainer:  27%|██▋       | 68/250 [14:17<34:37, 11.42s/it]"
     ]
    },
    {
     "name": "stdout",
     "output_type": "stream",
     "text": [
      "1716/1716 [==============================] - 5s 3ms/step\n",
      "1352/1352 [==============================] - 4s 3ms/step\n"
     ]
    },
    {
     "name": "stderr",
     "output_type": "stream",
     "text": [
      "Permutation explainer:  28%|██▊       | 69/250 [14:27<33:23, 11.07s/it]"
     ]
    },
    {
     "name": "stdout",
     "output_type": "stream",
     "text": [
      "1782/1782 [==============================] - 5s 3ms/step\n",
      "1398/1398 [==============================] - 4s 3ms/step\n"
     ]
    },
    {
     "name": "stderr",
     "output_type": "stream",
     "text": [
      "Permutation explainer:  28%|██▊       | 70/250 [14:38<32:58, 10.99s/it]"
     ]
    },
    {
     "name": "stdout",
     "output_type": "stream",
     "text": [
      "2134/2134 [==============================] - 6s 3ms/step\n",
      "1701/1701 [==============================] - 5s 3ms/step\n"
     ]
    },
    {
     "name": "stderr",
     "output_type": "stream",
     "text": [
      "Permutation explainer:  28%|██▊       | 71/250 [14:52<35:04, 11.76s/it]"
     ]
    },
    {
     "name": "stdout",
     "output_type": "stream",
     "text": [
      "3796/3796 [==============================] - 12s 3ms/step\n",
      "2609/2609 [==============================] - 8s 3ms/step\n"
     ]
    },
    {
     "name": "stderr",
     "output_type": "stream",
     "text": [
      "Permutation explainer:  29%|██▉       | 72/250 [15:14<44:08, 14.88s/it]"
     ]
    },
    {
     "name": "stdout",
     "output_type": "stream",
     "text": [
      "1715/1715 [==============================] - 5s 3ms/step\n",
      "1348/1348 [==============================] - 4s 3ms/step\n"
     ]
    },
    {
     "name": "stderr",
     "output_type": "stream",
     "text": [
      "Permutation explainer:  29%|██▉       | 73/250 [15:25<40:22, 13.69s/it]"
     ]
    },
    {
     "name": "stdout",
     "output_type": "stream",
     "text": [
      "1705/1705 [==============================] - 5s 3ms/step\n",
      "1355/1355 [==============================] - 4s 3ms/step\n"
     ]
    },
    {
     "name": "stderr",
     "output_type": "stream",
     "text": [
      "Permutation explainer:  30%|██▉       | 74/250 [15:36<37:46, 12.88s/it]"
     ]
    },
    {
     "name": "stdout",
     "output_type": "stream",
     "text": [
      "5025/5025 [==============================] - 15s 3ms/step\n",
      "2967/2967 [==============================] - 9s 3ms/step\n"
     ]
    },
    {
     "name": "stderr",
     "output_type": "stream",
     "text": [
      "Permutation explainer:  30%|███       | 75/250 [16:03<50:07, 17.19s/it]"
     ]
    },
    {
     "name": "stdout",
     "output_type": "stream",
     "text": [
      "5566/5566 [==============================] - 17s 3ms/step\n",
      "3068/3068 [==============================] - 9s 3ms/step\n"
     ]
    },
    {
     "name": "stderr",
     "output_type": "stream",
     "text": [
      "Permutation explainer:  30%|███       | 76/250 [16:32<1:00:21, 20.81s/it]"
     ]
    },
    {
     "name": "stdout",
     "output_type": "stream",
     "text": [
      "1793/1793 [==============================] - 6s 3ms/step\n",
      "1409/1409 [==============================] - 4s 3ms/step\n"
     ]
    },
    {
     "name": "stderr",
     "output_type": "stream",
     "text": [
      "Permutation explainer:  31%|███       | 77/250 [16:44<51:57, 18.02s/it]  "
     ]
    },
    {
     "name": "stdout",
     "output_type": "stream",
     "text": [
      "3076/3076 [==============================] - 9s 3ms/step\n",
      "2261/2261 [==============================] - 7s 3ms/step\n"
     ]
    },
    {
     "name": "stderr",
     "output_type": "stream",
     "text": [
      "Permutation explainer:  31%|███       | 78/250 [17:02<51:56, 18.12s/it]"
     ]
    },
    {
     "name": "stdout",
     "output_type": "stream",
     "text": [
      "1727/1727 [==============================] - 5s 3ms/step\n",
      "1355/1355 [==============================] - 4s 3ms/step\n"
     ]
    },
    {
     "name": "stderr",
     "output_type": "stream",
     "text": [
      "Permutation explainer:  32%|███▏      | 79/250 [17:13<45:20, 15.91s/it]"
     ]
    },
    {
     "name": "stdout",
     "output_type": "stream",
     "text": [
      "3465/3465 [==============================] - 10s 3ms/step\n",
      "2470/2470 [==============================] - 8s 3ms/step\n"
     ]
    },
    {
     "name": "stderr",
     "output_type": "stream",
     "text": [
      "Permutation explainer:  32%|███▏      | 80/250 [17:33<48:50, 17.24s/it]"
     ]
    },
    {
     "name": "stdout",
     "output_type": "stream",
     "text": [
      "1658/1658 [==============================] - 5s 3ms/step\n",
      "1302/1302 [==============================] - 4s 3ms/step\n"
     ]
    },
    {
     "name": "stderr",
     "output_type": "stream",
     "text": [
      "Permutation explainer:  32%|███▏      | 81/250 [17:44<42:51, 15.21s/it]"
     ]
    },
    {
     "name": "stdout",
     "output_type": "stream",
     "text": [
      "1711/1711 [==============================] - 5s 3ms/step\n",
      "1329/1329 [==============================] - 4s 3ms/step\n"
     ]
    },
    {
     "name": "stderr",
     "output_type": "stream",
     "text": [
      "Permutation explainer:  33%|███▎      | 82/250 [17:55<38:57, 13.91s/it]"
     ]
    },
    {
     "name": "stdout",
     "output_type": "stream",
     "text": [
      "2196/2196 [==============================] - 7s 3ms/step\n",
      "1718/1718 [==============================] - 5s 3ms/step\n"
     ]
    },
    {
     "name": "stderr",
     "output_type": "stream",
     "text": [
      "Permutation explainer:  33%|███▎      | 83/250 [18:08<38:33, 13.86s/it]"
     ]
    },
    {
     "name": "stdout",
     "output_type": "stream",
     "text": [
      "2091/2091 [==============================] - 6s 3ms/step\n",
      "1637/1637 [==============================] - 5s 3ms/step\n"
     ]
    },
    {
     "name": "stderr",
     "output_type": "stream",
     "text": [
      "Permutation explainer:  34%|███▎      | 84/250 [18:21<37:28, 13.55s/it]"
     ]
    },
    {
     "name": "stdout",
     "output_type": "stream",
     "text": [
      "1700/1700 [==============================] - 5s 3ms/step\n",
      "1338/1338 [==============================] - 4s 3ms/step\n"
     ]
    },
    {
     "name": "stderr",
     "output_type": "stream",
     "text": [
      "Permutation explainer:  34%|███▍      | 85/250 [18:32<34:42, 12.62s/it]"
     ]
    },
    {
     "name": "stdout",
     "output_type": "stream",
     "text": [
      "1660/1660 [==============================] - 5s 3ms/step\n",
      "1317/1317 [==============================] - 4s 3ms/step\n"
     ]
    },
    {
     "name": "stderr",
     "output_type": "stream",
     "text": [
      "Permutation explainer:  34%|███▍      | 86/250 [18:42<32:40, 11.95s/it]"
     ]
    },
    {
     "name": "stdout",
     "output_type": "stream",
     "text": [
      "1659/1659 [==============================] - 5s 3ms/step\n",
      "1312/1312 [==============================] - 4s 3ms/step\n"
     ]
    },
    {
     "name": "stderr",
     "output_type": "stream",
     "text": [
      "Permutation explainer:  35%|███▍      | 87/250 [18:52<31:11, 11.48s/it]"
     ]
    },
    {
     "name": "stdout",
     "output_type": "stream",
     "text": [
      "1704/1704 [==============================] - 5s 3ms/step\n",
      "1337/1337 [==============================] - 4s 3ms/step\n"
     ]
    },
    {
     "name": "stderr",
     "output_type": "stream",
     "text": [
      "Permutation explainer:  35%|███▌      | 88/250 [19:03<30:16, 11.22s/it]"
     ]
    },
    {
     "name": "stdout",
     "output_type": "stream",
     "text": [
      "1918/1918 [==============================] - 6s 3ms/step\n",
      "1536/1536 [==============================] - 5s 3ms/step\n"
     ]
    },
    {
     "name": "stderr",
     "output_type": "stream",
     "text": [
      "Permutation explainer:  36%|███▌      | 89/250 [19:15<30:50, 11.49s/it]"
     ]
    },
    {
     "name": "stdout",
     "output_type": "stream",
     "text": [
      "1702/1702 [==============================] - 5s 3ms/step\n",
      "1333/1333 [==============================] - 4s 3ms/step\n"
     ]
    },
    {
     "name": "stderr",
     "output_type": "stream",
     "text": [
      "Permutation explainer:  36%|███▌      | 90/250 [19:26<30:02, 11.26s/it]"
     ]
    },
    {
     "name": "stdout",
     "output_type": "stream",
     "text": [
      "3101/3101 [==============================] - 9s 3ms/step\n",
      "2268/2268 [==============================] - 7s 3ms/step\n"
     ]
    },
    {
     "name": "stderr",
     "output_type": "stream",
     "text": [
      "Permutation explainer:  36%|███▋      | 91/250 [19:44<35:25, 13.37s/it]"
     ]
    },
    {
     "name": "stdout",
     "output_type": "stream",
     "text": [
      "2091/2091 [==============================] - 6s 3ms/step\n",
      "1648/1648 [==============================] - 5s 3ms/step\n"
     ]
    },
    {
     "name": "stderr",
     "output_type": "stream",
     "text": [
      "Permutation explainer:  37%|███▋      | 92/250 [19:57<34:47, 13.21s/it]"
     ]
    },
    {
     "name": "stdout",
     "output_type": "stream",
     "text": [
      "1866/1866 [==============================] - 6s 3ms/step\n",
      "1496/1496 [==============================] - 4s 3ms/step\n"
     ]
    },
    {
     "name": "stderr",
     "output_type": "stream",
     "text": [
      "Permutation explainer:  37%|███▋      | 93/250 [20:09<33:17, 12.72s/it]"
     ]
    },
    {
     "name": "stdout",
     "output_type": "stream",
     "text": [
      "1789/1789 [==============================] - 5s 3ms/step\n",
      "1415/1415 [==============================] - 4s 3ms/step\n"
     ]
    },
    {
     "name": "stderr",
     "output_type": "stream",
     "text": [
      "Permutation explainer:  38%|███▊      | 94/250 [20:20<32:00, 12.31s/it]"
     ]
    },
    {
     "name": "stdout",
     "output_type": "stream",
     "text": [
      "4405/4405 [==============================] - 13s 3ms/step\n",
      "2835/2835 [==============================] - 8s 3ms/step\n"
     ]
    },
    {
     "name": "stderr",
     "output_type": "stream",
     "text": [
      "Permutation explainer:  38%|███▊      | 95/250 [20:44<41:06, 15.91s/it]"
     ]
    },
    {
     "name": "stdout",
     "output_type": "stream",
     "text": [
      "3274/3274 [==============================] - 10s 3ms/step\n",
      "2391/2391 [==============================] - 7s 3ms/step\n"
     ]
    },
    {
     "name": "stderr",
     "output_type": "stream",
     "text": [
      "Permutation explainer:  38%|███▊      | 96/250 [21:04<43:23, 16.91s/it]"
     ]
    },
    {
     "name": "stdout",
     "output_type": "stream",
     "text": [
      "1712/1712 [==============================] - 5s 3ms/step\n",
      "1346/1346 [==============================] - 4s 3ms/step\n"
     ]
    },
    {
     "name": "stderr",
     "output_type": "stream",
     "text": [
      "Permutation explainer:  39%|███▉      | 97/250 [21:14<38:07, 14.95s/it]"
     ]
    },
    {
     "name": "stdout",
     "output_type": "stream",
     "text": [
      "1655/1655 [==============================] - 5s 3ms/step\n",
      "1287/1287 [==============================] - 4s 3ms/step\n"
     ]
    },
    {
     "name": "stderr",
     "output_type": "stream",
     "text": [
      "Permutation explainer:  39%|███▉      | 98/250 [21:24<34:13, 13.51s/it]"
     ]
    },
    {
     "name": "stdout",
     "output_type": "stream",
     "text": [
      "2607/2607 [==============================] - 8s 3ms/step\n",
      "1996/1996 [==============================] - 6s 3ms/step\n"
     ]
    },
    {
     "name": "stderr",
     "output_type": "stream",
     "text": [
      "Permutation explainer:  40%|███▉      | 99/250 [21:40<35:32, 14.12s/it]"
     ]
    },
    {
     "name": "stdout",
     "output_type": "stream",
     "text": [
      "1686/1686 [==============================] - 5s 3ms/step\n",
      "1310/1310 [==============================] - 4s 3ms/step\n"
     ]
    },
    {
     "name": "stderr",
     "output_type": "stream",
     "text": [
      "Permutation explainer:  40%|████      | 100/250 [21:50<32:23, 12.95s/it]"
     ]
    },
    {
     "name": "stdout",
     "output_type": "stream",
     "text": [
      "1701/1701 [==============================] - 5s 3ms/step\n",
      "1349/1349 [==============================] - 4s 3ms/step\n"
     ]
    },
    {
     "name": "stderr",
     "output_type": "stream",
     "text": [
      "Permutation explainer:  40%|████      | 101/250 [22:00<30:14, 12.18s/it]"
     ]
    },
    {
     "name": "stdout",
     "output_type": "stream",
     "text": [
      "2370/2370 [==============================] - 7s 3ms/step\n",
      "1872/1872 [==============================] - 6s 3ms/step\n"
     ]
    },
    {
     "name": "stderr",
     "output_type": "stream",
     "text": [
      "Permutation explainer:  41%|████      | 102/250 [22:15<31:34, 12.80s/it]"
     ]
    },
    {
     "name": "stdout",
     "output_type": "stream",
     "text": [
      "1845/1845 [==============================] - 5s 3ms/step\n",
      "1460/1460 [==============================] - 4s 3ms/step\n"
     ]
    },
    {
     "name": "stderr",
     "output_type": "stream",
     "text": [
      "Permutation explainer:  41%|████      | 103/250 [22:26<30:17, 12.37s/it]"
     ]
    },
    {
     "name": "stdout",
     "output_type": "stream",
     "text": [
      "2547/2547 [==============================] - 8s 3ms/step\n",
      "1972/1972 [==============================] - 6s 3ms/step\n"
     ]
    },
    {
     "name": "stderr",
     "output_type": "stream",
     "text": [
      "Permutation explainer:  42%|████▏     | 104/250 [22:41<32:21, 13.30s/it]"
     ]
    },
    {
     "name": "stdout",
     "output_type": "stream",
     "text": [
      "1696/1696 [==============================] - 5s 3ms/step\n",
      "1329/1329 [==============================] - 4s 3ms/step\n"
     ]
    },
    {
     "name": "stderr",
     "output_type": "stream",
     "text": [
      "Permutation explainer:  42%|████▏     | 105/250 [22:52<29:54, 12.38s/it]"
     ]
    },
    {
     "name": "stdout",
     "output_type": "stream",
     "text": [
      "1706/1706 [==============================] - 5s 3ms/step\n",
      "1358/1358 [==============================] - 4s 3ms/step\n"
     ]
    },
    {
     "name": "stderr",
     "output_type": "stream",
     "text": [
      "Permutation explainer:  42%|████▏     | 106/250 [23:02<28:22, 11.82s/it]"
     ]
    },
    {
     "name": "stdout",
     "output_type": "stream",
     "text": [
      "1659/1659 [==============================] - 5s 3ms/step\n",
      "1306/1306 [==============================] - 4s 3ms/step\n"
     ]
    },
    {
     "name": "stderr",
     "output_type": "stream",
     "text": [
      "Permutation explainer:  43%|████▎     | 107/250 [23:12<26:53, 11.28s/it]"
     ]
    },
    {
     "name": "stdout",
     "output_type": "stream",
     "text": [
      "1693/1693 [==============================] - 5s 3ms/step\n",
      "1339/1339 [==============================] - 4s 3ms/step\n"
     ]
    },
    {
     "name": "stderr",
     "output_type": "stream",
     "text": [
      "Permutation explainer:  43%|████▎     | 108/250 [23:22<25:42, 10.86s/it]"
     ]
    },
    {
     "name": "stdout",
     "output_type": "stream",
     "text": [
      "3542/3542 [==============================] - 10s 3ms/step\n",
      "2534/2534 [==============================] - 7s 3ms/step\n"
     ]
    },
    {
     "name": "stderr",
     "output_type": "stream",
     "text": [
      "Permutation explainer:  44%|████▎     | 109/250 [23:42<31:45, 13.51s/it]"
     ]
    },
    {
     "name": "stdout",
     "output_type": "stream",
     "text": [
      "1657/1657 [==============================] - 5s 3ms/step\n",
      "1320/1320 [==============================] - 4s 3ms/step\n"
     ]
    },
    {
     "name": "stderr",
     "output_type": "stream",
     "text": [
      "Permutation explainer:  44%|████▍     | 110/250 [23:51<28:53, 12.39s/it]"
     ]
    },
    {
     "name": "stdout",
     "output_type": "stream",
     "text": [
      "1698/1698 [==============================] - 6s 3ms/step\n",
      "1342/1342 [==============================] - 4s 3ms/step\n"
     ]
    },
    {
     "name": "stderr",
     "output_type": "stream",
     "text": [
      "Permutation explainer:  44%|████▍     | 111/250 [24:02<27:28, 11.86s/it]"
     ]
    },
    {
     "name": "stdout",
     "output_type": "stream",
     "text": [
      "1954/1954 [==============================] - 6s 3ms/step\n",
      "1580/1580 [==============================] - 4s 3ms/step\n"
     ]
    },
    {
     "name": "stderr",
     "output_type": "stream",
     "text": [
      "Permutation explainer:  45%|████▍     | 112/250 [24:14<27:04, 11.77s/it]"
     ]
    },
    {
     "name": "stdout",
     "output_type": "stream",
     "text": [
      "1688/1688 [==============================] - 5s 3ms/step\n",
      "1326/1326 [==============================] - 4s 3ms/step\n"
     ]
    },
    {
     "name": "stderr",
     "output_type": "stream",
     "text": [
      "Permutation explainer:  45%|████▌     | 113/250 [24:24<25:46, 11.29s/it]"
     ]
    },
    {
     "name": "stdout",
     "output_type": "stream",
     "text": [
      "1729/1729 [==============================] - 5s 3ms/step\n",
      "1351/1351 [==============================] - 4s 3ms/step\n"
     ]
    },
    {
     "name": "stderr",
     "output_type": "stream",
     "text": [
      "Permutation explainer:  46%|████▌     | 114/250 [24:35<25:12, 11.12s/it]"
     ]
    },
    {
     "name": "stdout",
     "output_type": "stream",
     "text": [
      "3976/3976 [==============================] - 11s 3ms/step\n",
      "2738/2738 [==============================] - 8s 3ms/step\n"
     ]
    },
    {
     "name": "stderr",
     "output_type": "stream",
     "text": [
      "Permutation explainer:  46%|████▌     | 115/250 [24:57<32:51, 14.60s/it]"
     ]
    },
    {
     "name": "stdout",
     "output_type": "stream",
     "text": [
      "1708/1708 [==============================] - 5s 3ms/step\n",
      "1337/1337 [==============================] - 4s 3ms/step\n"
     ]
    },
    {
     "name": "stderr",
     "output_type": "stream",
     "text": [
      "Permutation explainer:  46%|████▋     | 116/250 [25:08<29:52, 13.37s/it]"
     ]
    },
    {
     "name": "stdout",
     "output_type": "stream",
     "text": [
      "2088/2088 [==============================] - 6s 3ms/step\n",
      "1625/1625 [==============================] - 5s 3ms/step\n"
     ]
    },
    {
     "name": "stderr",
     "output_type": "stream",
     "text": [
      "Permutation explainer:  47%|████▋     | 117/250 [25:21<29:21, 13.24s/it]"
     ]
    },
    {
     "name": "stdout",
     "output_type": "stream",
     "text": [
      "2844/2844 [==============================] - 8s 3ms/step\n",
      "2157/2157 [==============================] - 6s 3ms/step\n"
     ]
    },
    {
     "name": "stderr",
     "output_type": "stream",
     "text": [
      "Permutation explainer:  47%|████▋     | 118/250 [25:38<31:46, 14.44s/it]"
     ]
    },
    {
     "name": "stdout",
     "output_type": "stream",
     "text": [
      "2808/2808 [==============================] - 8s 3ms/step\n",
      "2135/2135 [==============================] - 6s 3ms/step\n"
     ]
    },
    {
     "name": "stderr",
     "output_type": "stream",
     "text": [
      "Permutation explainer:  48%|████▊     | 119/250 [25:55<33:07, 15.18s/it]"
     ]
    },
    {
     "name": "stdout",
     "output_type": "stream",
     "text": [
      "6177/6177 [==============================] - 18s 3ms/step\n",
      "3097/3097 [==============================] - 9s 3ms/step\n"
     ]
    },
    {
     "name": "stderr",
     "output_type": "stream",
     "text": [
      "Permutation explainer:  48%|████▊     | 120/250 [26:25<42:55, 19.81s/it]"
     ]
    },
    {
     "name": "stdout",
     "output_type": "stream",
     "text": [
      "2211/2211 [==============================] - 7s 3ms/step\n",
      "1761/1761 [==============================] - 5s 3ms/step\n"
     ]
    },
    {
     "name": "stderr",
     "output_type": "stream",
     "text": [
      "Permutation explainer:  48%|████▊     | 121/250 [26:39<38:42, 18.00s/it]"
     ]
    },
    {
     "name": "stdout",
     "output_type": "stream",
     "text": [
      "1685/1685 [==============================] - 5s 3ms/step\n",
      "1308/1308 [==============================] - 4s 3ms/step\n"
     ]
    },
    {
     "name": "stderr",
     "output_type": "stream",
     "text": [
      "Permutation explainer:  49%|████▉     | 122/250 [26:50<33:30, 15.71s/it]"
     ]
    },
    {
     "name": "stdout",
     "output_type": "stream",
     "text": [
      "1747/1747 [==============================] - 5s 3ms/step\n",
      "1384/1384 [==============================] - 4s 3ms/step\n"
     ]
    },
    {
     "name": "stderr",
     "output_type": "stream",
     "text": [
      "Permutation explainer:  49%|████▉     | 123/250 [27:01<30:18, 14.32s/it]"
     ]
    },
    {
     "name": "stdout",
     "output_type": "stream",
     "text": [
      "1669/1669 [==============================] - 5s 3ms/step\n",
      "1306/1306 [==============================] - 4s 3ms/step\n"
     ]
    },
    {
     "name": "stderr",
     "output_type": "stream",
     "text": [
      "Permutation explainer:  50%|████▉     | 124/250 [27:11<27:37, 13.15s/it]"
     ]
    },
    {
     "name": "stdout",
     "output_type": "stream",
     "text": [
      "2362/2362 [==============================] - 7s 3ms/step\n",
      "1835/1835 [==============================] - 5s 3ms/step\n"
     ]
    },
    {
     "name": "stderr",
     "output_type": "stream",
     "text": [
      "Permutation explainer:  50%|█████     | 125/250 [27:26<28:17, 13.58s/it]"
     ]
    },
    {
     "name": "stdout",
     "output_type": "stream",
     "text": [
      "1908/1908 [==============================] - 6s 3ms/step\n",
      "1499/1499 [==============================] - 5s 3ms/step\n"
     ]
    },
    {
     "name": "stderr",
     "output_type": "stream",
     "text": [
      "Permutation explainer:  50%|█████     | 126/250 [27:38<27:06, 13.12s/it]"
     ]
    },
    {
     "name": "stdout",
     "output_type": "stream",
     "text": [
      "1910/1910 [==============================] - 6s 3ms/step\n",
      "1524/1524 [==============================] - 5s 3ms/step\n"
     ]
    },
    {
     "name": "stderr",
     "output_type": "stream",
     "text": [
      "Permutation explainer:  51%|█████     | 127/250 [27:50<26:14, 12.80s/it]"
     ]
    },
    {
     "name": "stdout",
     "output_type": "stream",
     "text": [
      "1865/1865 [==============================] - 6s 3ms/step\n",
      "1458/1458 [==============================] - 4s 3ms/step\n"
     ]
    },
    {
     "name": "stderr",
     "output_type": "stream",
     "text": [
      "Permutation explainer:  51%|█████     | 128/250 [28:02<25:23, 12.48s/it]"
     ]
    },
    {
     "name": "stdout",
     "output_type": "stream",
     "text": [
      "1913/1913 [==============================] - 6s 3ms/step\n",
      "1528/1528 [==============================] - 5s 3ms/step\n"
     ]
    },
    {
     "name": "stderr",
     "output_type": "stream",
     "text": [
      "Permutation explainer:  52%|█████▏    | 129/250 [28:14<25:00, 12.40s/it]"
     ]
    },
    {
     "name": "stdout",
     "output_type": "stream",
     "text": [
      "1791/1791 [==============================] - 6s 3ms/step\n",
      "1396/1396 [==============================] - 4s 3ms/step\n"
     ]
    },
    {
     "name": "stderr",
     "output_type": "stream",
     "text": [
      "Permutation explainer:  52%|█████▏    | 130/250 [28:25<24:18, 12.15s/it]"
     ]
    },
    {
     "name": "stdout",
     "output_type": "stream",
     "text": [
      "1856/1856 [==============================] - 6s 3ms/step\n",
      "1467/1467 [==============================] - 4s 3ms/step\n"
     ]
    },
    {
     "name": "stderr",
     "output_type": "stream",
     "text": [
      "Permutation explainer:  52%|█████▏    | 131/250 [28:37<23:51, 12.03s/it]"
     ]
    },
    {
     "name": "stdout",
     "output_type": "stream",
     "text": [
      "1773/1773 [==============================] - 5s 3ms/step\n",
      "1402/1402 [==============================] - 4s 3ms/step\n"
     ]
    },
    {
     "name": "stderr",
     "output_type": "stream",
     "text": [
      "Permutation explainer:  53%|█████▎    | 132/250 [28:48<23:14, 11.81s/it]"
     ]
    },
    {
     "name": "stdout",
     "output_type": "stream",
     "text": [
      "1924/1924 [==============================] - 6s 3ms/step\n",
      "1512/1512 [==============================] - 5s 3ms/step\n"
     ]
    },
    {
     "name": "stderr",
     "output_type": "stream",
     "text": [
      "Permutation explainer:  53%|█████▎    | 133/250 [29:01<23:24, 12.00s/it]"
     ]
    },
    {
     "name": "stdout",
     "output_type": "stream",
     "text": [
      "2083/2083 [==============================] - 7s 3ms/step\n",
      "1654/1654 [==============================] - 5s 3ms/step\n"
     ]
    },
    {
     "name": "stderr",
     "output_type": "stream",
     "text": [
      "Permutation explainer:  54%|█████▎    | 134/250 [29:14<24:09, 12.49s/it]"
     ]
    },
    {
     "name": "stdout",
     "output_type": "stream",
     "text": [
      "2147/2147 [==============================] - 6s 3ms/step\n",
      "1700/1700 [==============================] - 5s 3ms/step\n"
     ]
    },
    {
     "name": "stderr",
     "output_type": "stream",
     "text": [
      "Permutation explainer:  54%|█████▍    | 135/250 [29:28<24:27, 12.76s/it]"
     ]
    },
    {
     "name": "stdout",
     "output_type": "stream",
     "text": [
      "1659/1659 [==============================] - 5s 3ms/step\n",
      "1293/1293 [==============================] - 4s 3ms/step\n"
     ]
    },
    {
     "name": "stderr",
     "output_type": "stream",
     "text": [
      "Permutation explainer:  54%|█████▍    | 136/250 [29:38<22:50, 12.02s/it]"
     ]
    },
    {
     "name": "stdout",
     "output_type": "stream",
     "text": [
      "3276/3276 [==============================] - 10s 3ms/step\n",
      "2405/2405 [==============================] - 7s 3ms/step\n"
     ]
    },
    {
     "name": "stderr",
     "output_type": "stream",
     "text": [
      "Permutation explainer:  55%|█████▍    | 137/250 [29:58<27:00, 14.34s/it]"
     ]
    },
    {
     "name": "stdout",
     "output_type": "stream",
     "text": [
      "2967/2967 [==============================] - 9s 3ms/step\n",
      "2220/2220 [==============================] - 7s 3ms/step\n"
     ]
    },
    {
     "name": "stderr",
     "output_type": "stream",
     "text": [
      "Permutation explainer:  55%|█████▌    | 138/250 [30:16<28:36, 15.32s/it]"
     ]
    },
    {
     "name": "stdout",
     "output_type": "stream",
     "text": [
      "1722/1722 [==============================] - 5s 3ms/step\n",
      "1356/1356 [==============================] - 4s 3ms/step\n"
     ]
    },
    {
     "name": "stderr",
     "output_type": "stream",
     "text": [
      "Permutation explainer:  56%|█████▌    | 139/250 [30:26<25:51, 13.97s/it]"
     ]
    },
    {
     "name": "stdout",
     "output_type": "stream",
     "text": [
      "2309/2309 [==============================] - 7s 3ms/step\n",
      "1838/1838 [==============================] - 5s 3ms/step\n"
     ]
    },
    {
     "name": "stderr",
     "output_type": "stream",
     "text": [
      "Permutation explainer:  56%|█████▌    | 140/250 [30:41<25:48, 14.07s/it]"
     ]
    },
    {
     "name": "stdout",
     "output_type": "stream",
     "text": [
      "4781/4781 [==============================] - 14s 3ms/step\n",
      "2962/2962 [==============================] - 9s 3ms/step\n"
     ]
    },
    {
     "name": "stderr",
     "output_type": "stream",
     "text": [
      "Permutation explainer:  56%|█████▋    | 141/250 [31:07<32:16, 17.76s/it]"
     ]
    },
    {
     "name": "stdout",
     "output_type": "stream",
     "text": [
      "1696/1696 [==============================] - 5s 3ms/step\n",
      "1346/1346 [==============================] - 4s 3ms/step\n"
     ]
    },
    {
     "name": "stderr",
     "output_type": "stream",
     "text": [
      "Permutation explainer:  57%|█████▋    | 142/250 [31:18<28:03, 15.59s/it]"
     ]
    },
    {
     "name": "stdout",
     "output_type": "stream",
     "text": [
      "2016/2016 [==============================] - 6s 3ms/step\n",
      "1589/1589 [==============================] - 5s 3ms/step\n"
     ]
    },
    {
     "name": "stderr",
     "output_type": "stream",
     "text": [
      "Permutation explainer:  57%|█████▋    | 143/250 [31:30<26:05, 14.63s/it]"
     ]
    },
    {
     "name": "stdout",
     "output_type": "stream",
     "text": [
      "1704/1704 [==============================] - 5s 3ms/step\n",
      "1330/1330 [==============================] - 4s 3ms/step\n"
     ]
    },
    {
     "name": "stderr",
     "output_type": "stream",
     "text": [
      "Permutation explainer:  58%|█████▊    | 144/250 [31:40<23:39, 13.39s/it]"
     ]
    },
    {
     "name": "stdout",
     "output_type": "stream",
     "text": [
      "1718/1718 [==============================] - 5s 3ms/step\n",
      "1343/1343 [==============================] - 4s 3ms/step\n"
     ]
    },
    {
     "name": "stderr",
     "output_type": "stream",
     "text": [
      "Permutation explainer:  58%|█████▊    | 145/250 [31:51<21:56, 12.54s/it]"
     ]
    },
    {
     "name": "stdout",
     "output_type": "stream",
     "text": [
      "4741/4741 [==============================] - 14s 3ms/step\n",
      "2937/2937 [==============================] - 9s 3ms/step\n"
     ]
    },
    {
     "name": "stderr",
     "output_type": "stream",
     "text": [
      "Permutation explainer:  58%|█████▊    | 146/250 [32:17<28:31, 16.45s/it]"
     ]
    },
    {
     "name": "stdout",
     "output_type": "stream",
     "text": [
      "3524/3524 [==============================] - 10s 3ms/step\n",
      "2520/2520 [==============================] - 7s 3ms/step\n"
     ]
    },
    {
     "name": "stderr",
     "output_type": "stream",
     "text": [
      "Permutation explainer:  59%|█████▉    | 147/250 [32:36<30:00, 17.48s/it]"
     ]
    },
    {
     "name": "stdout",
     "output_type": "stream",
     "text": [
      "2773/2773 [==============================] - 8s 3ms/step\n",
      "2099/2099 [==============================] - 6s 3ms/step\n"
     ]
    },
    {
     "name": "stderr",
     "output_type": "stream",
     "text": [
      "Permutation explainer:  59%|█████▉    | 148/250 [32:52<28:57, 17.03s/it]"
     ]
    },
    {
     "name": "stdout",
     "output_type": "stream",
     "text": [
      "1848/1848 [==============================] - 5s 3ms/step\n",
      "1459/1459 [==============================] - 4s 3ms/step\n"
     ]
    },
    {
     "name": "stderr",
     "output_type": "stream",
     "text": [
      "Permutation explainer:  60%|█████▉    | 149/250 [33:04<25:40, 15.25s/it]"
     ]
    },
    {
     "name": "stdout",
     "output_type": "stream",
     "text": [
      "1715/1715 [==============================] - 5s 3ms/step\n",
      "1355/1355 [==============================] - 4s 3ms/step\n"
     ]
    },
    {
     "name": "stderr",
     "output_type": "stream",
     "text": [
      "Permutation explainer:  60%|██████    | 150/250 [33:14<23:00, 13.81s/it]"
     ]
    },
    {
     "name": "stdout",
     "output_type": "stream",
     "text": [
      "1944/1944 [==============================] - 6s 3ms/step\n",
      "1524/1524 [==============================] - 5s 3ms/step\n"
     ]
    },
    {
     "name": "stderr",
     "output_type": "stream",
     "text": [
      "Permutation explainer:  60%|██████    | 151/250 [33:26<21:51, 13.25s/it]"
     ]
    },
    {
     "name": "stdout",
     "output_type": "stream",
     "text": [
      "1655/1655 [==============================] - 5s 3ms/step\n",
      "1304/1304 [==============================] - 4s 3ms/step\n"
     ]
    },
    {
     "name": "stderr",
     "output_type": "stream",
     "text": [
      "Permutation explainer:  61%|██████    | 152/250 [33:36<20:08, 12.33s/it]"
     ]
    },
    {
     "name": "stdout",
     "output_type": "stream",
     "text": [
      "1663/1663 [==============================] - 5s 3ms/step\n",
      "1312/1312 [==============================] - 4s 3ms/step\n"
     ]
    },
    {
     "name": "stderr",
     "output_type": "stream",
     "text": [
      "Permutation explainer:  61%|██████    | 153/250 [33:46<18:52, 11.68s/it]"
     ]
    },
    {
     "name": "stdout",
     "output_type": "stream",
     "text": [
      "1671/1671 [==============================] - 5s 3ms/step\n",
      "1318/1318 [==============================] - 4s 3ms/step\n"
     ]
    },
    {
     "name": "stderr",
     "output_type": "stream",
     "text": [
      "Permutation explainer:  62%|██████▏   | 154/250 [33:57<18:04, 11.29s/it]"
     ]
    },
    {
     "name": "stdout",
     "output_type": "stream",
     "text": [
      "1690/1690 [==============================] - 5s 3ms/step\n",
      "1352/1352 [==============================] - 4s 3ms/step\n"
     ]
    },
    {
     "name": "stderr",
     "output_type": "stream",
     "text": [
      "Permutation explainer:  62%|██████▏   | 155/250 [34:07<17:24, 10.99s/it]"
     ]
    },
    {
     "name": "stdout",
     "output_type": "stream",
     "text": [
      "1655/1655 [==============================] - 5s 3ms/step\n",
      "1286/1286 [==============================] - 4s 3ms/step\n"
     ]
    },
    {
     "name": "stderr",
     "output_type": "stream",
     "text": [
      "Permutation explainer:  62%|██████▏   | 156/250 [34:17<16:46, 10.71s/it]"
     ]
    },
    {
     "name": "stdout",
     "output_type": "stream",
     "text": [
      "1789/1789 [==============================] - 5s 3ms/step\n",
      "1407/1407 [==============================] - 4s 3ms/step\n"
     ]
    },
    {
     "name": "stderr",
     "output_type": "stream",
     "text": [
      "Permutation explainer:  63%|██████▎   | 157/250 [34:28<16:52, 10.89s/it]"
     ]
    },
    {
     "name": "stdout",
     "output_type": "stream",
     "text": [
      "1984/1984 [==============================] - 6s 3ms/step\n",
      "1565/1565 [==============================] - 5s 3ms/step\n"
     ]
    },
    {
     "name": "stderr",
     "output_type": "stream",
     "text": [
      "Permutation explainer:  63%|██████▎   | 158/250 [34:40<17:16, 11.27s/it]"
     ]
    },
    {
     "name": "stdout",
     "output_type": "stream",
     "text": [
      "1835/1835 [==============================] - 6s 3ms/step\n",
      "1462/1462 [==============================] - 4s 3ms/step\n"
     ]
    },
    {
     "name": "stderr",
     "output_type": "stream",
     "text": [
      "Permutation explainer:  64%|██████▎   | 159/250 [34:52<17:09, 11.31s/it]"
     ]
    },
    {
     "name": "stdout",
     "output_type": "stream",
     "text": [
      "1753/1753 [==============================] - 5s 3ms/step\n",
      "1375/1375 [==============================] - 4s 3ms/step\n"
     ]
    },
    {
     "name": "stderr",
     "output_type": "stream",
     "text": [
      "Permutation explainer:  64%|██████▍   | 160/250 [35:03<16:46, 11.18s/it]"
     ]
    },
    {
     "name": "stdout",
     "output_type": "stream",
     "text": [
      "1796/1796 [==============================] - 5s 3ms/step\n",
      "1418/1418 [==============================] - 4s 3ms/step\n"
     ]
    },
    {
     "name": "stderr",
     "output_type": "stream",
     "text": [
      "Permutation explainer:  64%|██████▍   | 161/250 [35:14<16:40, 11.24s/it]"
     ]
    },
    {
     "name": "stdout",
     "output_type": "stream",
     "text": [
      "2528/2528 [==============================] - 8s 3ms/step\n",
      "1969/1969 [==============================] - 6s 3ms/step\n"
     ]
    },
    {
     "name": "stderr",
     "output_type": "stream",
     "text": [
      "Permutation explainer:  65%|██████▍   | 162/250 [35:30<18:19, 12.50s/it]"
     ]
    },
    {
     "name": "stdout",
     "output_type": "stream",
     "text": [
      "1699/1699 [==============================] - 5s 3ms/step\n",
      "1344/1344 [==============================] - 4s 3ms/step\n"
     ]
    },
    {
     "name": "stderr",
     "output_type": "stream",
     "text": [
      "Permutation explainer:  65%|██████▌   | 163/250 [35:40<17:21, 11.97s/it]"
     ]
    },
    {
     "name": "stdout",
     "output_type": "stream",
     "text": [
      "2122/2122 [==============================] - 6s 3ms/step\n",
      "1668/1668 [==============================] - 5s 3ms/step\n"
     ]
    },
    {
     "name": "stderr",
     "output_type": "stream",
     "text": [
      "Permutation explainer:  66%|██████▌   | 164/250 [35:53<17:34, 12.27s/it]"
     ]
    },
    {
     "name": "stdout",
     "output_type": "stream",
     "text": [
      "2032/2032 [==============================] - 6s 3ms/step\n",
      "1623/1623 [==============================] - 5s 3ms/step\n"
     ]
    },
    {
     "name": "stderr",
     "output_type": "stream",
     "text": [
      "Permutation explainer:  66%|██████▌   | 165/250 [36:06<17:27, 12.32s/it]"
     ]
    },
    {
     "name": "stdout",
     "output_type": "stream",
     "text": [
      "1785/1785 [==============================] - 5s 3ms/step\n",
      "1400/1400 [==============================] - 4s 3ms/step\n"
     ]
    },
    {
     "name": "stderr",
     "output_type": "stream",
     "text": [
      "Permutation explainer:  66%|██████▋   | 166/250 [36:17<16:44, 11.95s/it]"
     ]
    },
    {
     "name": "stdout",
     "output_type": "stream",
     "text": [
      "2685/2685 [==============================] - 8s 3ms/step\n",
      "2072/2072 [==============================] - 6s 3ms/step\n"
     ]
    },
    {
     "name": "stderr",
     "output_type": "stream",
     "text": [
      "Permutation explainer:  67%|██████▋   | 167/250 [36:33<18:22, 13.28s/it]"
     ]
    },
    {
     "name": "stdout",
     "output_type": "stream",
     "text": [
      "4195/4195 [==============================] - 12s 3ms/step\n",
      "2830/2830 [==============================] - 8s 3ms/step\n"
     ]
    },
    {
     "name": "stderr",
     "output_type": "stream",
     "text": [
      "Permutation explainer:  67%|██████▋   | 168/250 [36:57<22:18, 16.32s/it]"
     ]
    },
    {
     "name": "stdout",
     "output_type": "stream",
     "text": [
      "1730/1730 [==============================] - 5s 3ms/step\n",
      "1358/1358 [==============================] - 4s 3ms/step\n"
     ]
    },
    {
     "name": "stderr",
     "output_type": "stream",
     "text": [
      "Permutation explainer:  68%|██████▊   | 169/250 [37:07<19:37, 14.54s/it]"
     ]
    },
    {
     "name": "stdout",
     "output_type": "stream",
     "text": [
      "1854/1854 [==============================] - 5s 3ms/step\n",
      "1466/1466 [==============================] - 4s 3ms/step\n"
     ]
    },
    {
     "name": "stderr",
     "output_type": "stream",
     "text": [
      "Permutation explainer:  68%|██████▊   | 170/250 [37:18<18:04, 13.55s/it]"
     ]
    },
    {
     "name": "stdout",
     "output_type": "stream",
     "text": [
      "1749/1749 [==============================] - 5s 3ms/step\n",
      "1384/1384 [==============================] - 4s 3ms/step\n"
     ]
    },
    {
     "name": "stderr",
     "output_type": "stream",
     "text": [
      "Permutation explainer:  68%|██████▊   | 171/250 [37:29<16:38, 12.64s/it]"
     ]
    },
    {
     "name": "stdout",
     "output_type": "stream",
     "text": [
      "1689/1689 [==============================] - 5s 3ms/step\n",
      "1328/1328 [==============================] - 4s 3ms/step\n"
     ]
    },
    {
     "name": "stderr",
     "output_type": "stream",
     "text": [
      "Permutation explainer:  69%|██████▉   | 172/250 [37:39<15:36, 12.01s/it]"
     ]
    },
    {
     "name": "stdout",
     "output_type": "stream",
     "text": [
      "2796/2796 [==============================] - 8s 3ms/step\n",
      "2130/2130 [==============================] - 6s 3ms/step\n"
     ]
    },
    {
     "name": "stderr",
     "output_type": "stream",
     "text": [
      "Permutation explainer:  69%|██████▉   | 173/250 [37:56<17:11, 13.40s/it]"
     ]
    },
    {
     "name": "stdout",
     "output_type": "stream",
     "text": [
      "2183/2183 [==============================] - 6s 3ms/step\n",
      "1702/1702 [==============================] - 5s 3ms/step\n"
     ]
    },
    {
     "name": "stderr",
     "output_type": "stream",
     "text": [
      "Permutation explainer:  70%|██████▉   | 174/250 [38:09<16:53, 13.33s/it]"
     ]
    },
    {
     "name": "stdout",
     "output_type": "stream",
     "text": [
      "1659/1659 [==============================] - 5s 3ms/step\n",
      "1313/1313 [==============================] - 4s 3ms/step\n"
     ]
    },
    {
     "name": "stderr",
     "output_type": "stream",
     "text": [
      "Permutation explainer:  70%|███████   | 175/250 [38:19<15:26, 12.35s/it]"
     ]
    },
    {
     "name": "stdout",
     "output_type": "stream",
     "text": [
      "3588/3588 [==============================] - 11s 3ms/step\n",
      "2535/2535 [==============================] - 7s 3ms/step\n"
     ]
    },
    {
     "name": "stderr",
     "output_type": "stream",
     "text": [
      "Permutation explainer:  70%|███████   | 176/250 [38:40<18:15, 14.81s/it]"
     ]
    },
    {
     "name": "stdout",
     "output_type": "stream",
     "text": [
      "2390/2390 [==============================] - 7s 3ms/step\n",
      "1902/1902 [==============================] - 6s 3ms/step\n"
     ]
    },
    {
     "name": "stderr",
     "output_type": "stream",
     "text": [
      "Permutation explainer:  71%|███████   | 177/250 [38:54<17:55, 14.73s/it]"
     ]
    },
    {
     "name": "stdout",
     "output_type": "stream",
     "text": [
      "1696/1696 [==============================] - 5s 3ms/step\n",
      "1329/1329 [==============================] - 4s 3ms/step\n"
     ]
    },
    {
     "name": "stderr",
     "output_type": "stream",
     "text": [
      "Permutation explainer:  71%|███████   | 178/250 [39:04<16:03, 13.38s/it]"
     ]
    },
    {
     "name": "stdout",
     "output_type": "stream",
     "text": [
      "1731/1731 [==============================] - 5s 3ms/step\n",
      "1361/1361 [==============================] - 4s 3ms/step\n"
     ]
    },
    {
     "name": "stderr",
     "output_type": "stream",
     "text": [
      "Permutation explainer:  72%|███████▏  | 179/250 [39:15<14:51, 12.56s/it]"
     ]
    },
    {
     "name": "stdout",
     "output_type": "stream",
     "text": [
      "2297/2297 [==============================] - 7s 3ms/step\n",
      "1781/1781 [==============================] - 5s 3ms/step\n"
     ]
    },
    {
     "name": "stderr",
     "output_type": "stream",
     "text": [
      "Permutation explainer:  72%|███████▏  | 180/250 [39:29<15:08, 12.97s/it]"
     ]
    },
    {
     "name": "stdout",
     "output_type": "stream",
     "text": [
      "1714/1714 [==============================] - 5s 3ms/step\n",
      "1356/1356 [==============================] - 4s 3ms/step\n"
     ]
    },
    {
     "name": "stderr",
     "output_type": "stream",
     "text": [
      "Permutation explainer:  72%|███████▏  | 181/250 [39:40<14:05, 12.25s/it]"
     ]
    },
    {
     "name": "stdout",
     "output_type": "stream",
     "text": [
      "2564/2564 [==============================] - 8s 3ms/step\n",
      "1949/1949 [==============================] - 6s 3ms/step\n"
     ]
    },
    {
     "name": "stderr",
     "output_type": "stream",
     "text": [
      "Permutation explainer:  73%|███████▎  | 182/250 [39:55<15:01, 13.26s/it]"
     ]
    },
    {
     "name": "stdout",
     "output_type": "stream",
     "text": [
      "2909/2909 [==============================] - 9s 3ms/step\n",
      "2182/2182 [==============================] - 7s 3ms/step\n"
     ]
    },
    {
     "name": "stderr",
     "output_type": "stream",
     "text": [
      "Permutation explainer:  73%|███████▎  | 183/250 [40:13<16:15, 14.56s/it]"
     ]
    },
    {
     "name": "stdout",
     "output_type": "stream",
     "text": [
      "1938/1938 [==============================] - 6s 3ms/step\n",
      "1550/1550 [==============================] - 5s 3ms/step\n"
     ]
    },
    {
     "name": "stderr",
     "output_type": "stream",
     "text": [
      "Permutation explainer:  74%|███████▎  | 184/250 [40:25<15:10, 13.80s/it]"
     ]
    },
    {
     "name": "stdout",
     "output_type": "stream",
     "text": [
      "1675/1675 [==============================] - 5s 3ms/step\n",
      "1318/1318 [==============================] - 4s 3ms/step\n"
     ]
    },
    {
     "name": "stderr",
     "output_type": "stream",
     "text": [
      "Permutation explainer:  74%|███████▍  | 185/250 [40:35<13:41, 12.63s/it]"
     ]
    },
    {
     "name": "stdout",
     "output_type": "stream",
     "text": [
      "1717/1717 [==============================] - 5s 3ms/step\n",
      "1346/1346 [==============================] - 4s 3ms/step\n"
     ]
    },
    {
     "name": "stderr",
     "output_type": "stream",
     "text": [
      "Permutation explainer:  74%|███████▍  | 186/250 [40:45<12:44, 11.95s/it]"
     ]
    },
    {
     "name": "stdout",
     "output_type": "stream",
     "text": [
      "2205/2205 [==============================] - 6s 3ms/step\n",
      "1707/1707 [==============================] - 5s 3ms/step\n"
     ]
    },
    {
     "name": "stderr",
     "output_type": "stream",
     "text": [
      "Permutation explainer:  75%|███████▍  | 187/250 [40:58<12:53, 12.27s/it]"
     ]
    },
    {
     "name": "stdout",
     "output_type": "stream",
     "text": [
      "1708/1708 [==============================] - 5s 3ms/step\n",
      "1324/1324 [==============================] - 4s 3ms/step\n"
     ]
    },
    {
     "name": "stderr",
     "output_type": "stream",
     "text": [
      "Permutation explainer:  75%|███████▌  | 188/250 [41:08<12:01, 11.63s/it]"
     ]
    },
    {
     "name": "stdout",
     "output_type": "stream",
     "text": [
      "3025/3025 [==============================] - 9s 3ms/step\n",
      "2262/2262 [==============================] - 7s 3ms/step\n"
     ]
    },
    {
     "name": "stderr",
     "output_type": "stream",
     "text": [
      "Permutation explainer:  76%|███████▌  | 189/250 [41:26<13:46, 13.55s/it]"
     ]
    },
    {
     "name": "stdout",
     "output_type": "stream",
     "text": [
      "2237/2237 [==============================] - 6s 3ms/step\n",
      "1757/1757 [==============================] - 5s 3ms/step\n"
     ]
    },
    {
     "name": "stderr",
     "output_type": "stream",
     "text": [
      "Permutation explainer:  76%|███████▌  | 190/250 [41:39<13:25, 13.42s/it]"
     ]
    },
    {
     "name": "stdout",
     "output_type": "stream",
     "text": [
      "1711/1711 [==============================] - 5s 3ms/step\n",
      "1340/1340 [==============================] - 4s 3ms/step\n"
     ]
    },
    {
     "name": "stderr",
     "output_type": "stream",
     "text": [
      "Permutation explainer:  76%|███████▋  | 191/250 [41:50<12:13, 12.44s/it]"
     ]
    },
    {
     "name": "stdout",
     "output_type": "stream",
     "text": [
      "1761/1761 [==============================] - 5s 3ms/step\n",
      "1388/1388 [==============================] - 4s 3ms/step\n"
     ]
    },
    {
     "name": "stderr",
     "output_type": "stream",
     "text": [
      "Permutation explainer:  77%|███████▋  | 192/250 [42:00<11:27, 11.86s/it]"
     ]
    },
    {
     "name": "stdout",
     "output_type": "stream",
     "text": [
      "2689/2689 [==============================] - 8s 3ms/step\n",
      "2062/2062 [==============================] - 6s 3ms/step\n"
     ]
    },
    {
     "name": "stderr",
     "output_type": "stream",
     "text": [
      "Permutation explainer:  77%|███████▋  | 193/250 [42:16<12:20, 12.99s/it]"
     ]
    },
    {
     "name": "stdout",
     "output_type": "stream",
     "text": [
      "1954/1954 [==============================] - 6s 3ms/step\n",
      "1555/1555 [==============================] - 5s 3ms/step\n"
     ]
    },
    {
     "name": "stderr",
     "output_type": "stream",
     "text": [
      "Permutation explainer:  78%|███████▊  | 194/250 [42:27<11:44, 12.58s/it]"
     ]
    },
    {
     "name": "stdout",
     "output_type": "stream",
     "text": [
      "1706/1706 [==============================] - 5s 3ms/step\n",
      "1341/1341 [==============================] - 4s 3ms/step\n"
     ]
    },
    {
     "name": "stderr",
     "output_type": "stream",
     "text": [
      "Permutation explainer:  78%|███████▊  | 195/250 [42:38<10:52, 11.87s/it]"
     ]
    },
    {
     "name": "stdout",
     "output_type": "stream",
     "text": [
      "2076/2076 [==============================] - 6s 3ms/step\n",
      "1647/1647 [==============================] - 5s 3ms/step\n"
     ]
    },
    {
     "name": "stderr",
     "output_type": "stream",
     "text": [
      "Permutation explainer:  78%|███████▊  | 196/250 [42:50<10:52, 12.08s/it]"
     ]
    },
    {
     "name": "stdout",
     "output_type": "stream",
     "text": [
      "1800/1800 [==============================] - 5s 3ms/step\n",
      "1429/1429 [==============================] - 4s 3ms/step\n"
     ]
    },
    {
     "name": "stderr",
     "output_type": "stream",
     "text": [
      "Permutation explainer:  79%|███████▉  | 197/250 [43:01<10:21, 11.73s/it]"
     ]
    },
    {
     "name": "stdout",
     "output_type": "stream",
     "text": [
      "1722/1722 [==============================] - 5s 3ms/step\n",
      "1364/1364 [==============================] - 4s 3ms/step\n"
     ]
    },
    {
     "name": "stderr",
     "output_type": "stream",
     "text": [
      "Permutation explainer:  79%|███████▉  | 198/250 [43:11<09:49, 11.34s/it]"
     ]
    },
    {
     "name": "stdout",
     "output_type": "stream",
     "text": [
      "1780/1780 [==============================] - 5s 3ms/step\n",
      "1420/1420 [==============================] - 4s 3ms/step\n"
     ]
    },
    {
     "name": "stderr",
     "output_type": "stream",
     "text": [
      "Permutation explainer:  80%|███████▉  | 199/250 [43:22<09:28, 11.14s/it]"
     ]
    },
    {
     "name": "stdout",
     "output_type": "stream",
     "text": [
      "2486/2486 [==============================] - 7s 3ms/step\n",
      "1933/1933 [==============================] - 6s 3ms/step\n"
     ]
    },
    {
     "name": "stderr",
     "output_type": "stream",
     "text": [
      "Permutation explainer:  80%|████████  | 200/250 [43:37<10:05, 12.10s/it]"
     ]
    },
    {
     "name": "stdout",
     "output_type": "stream",
     "text": [
      "1890/1890 [==============================] - 5s 3ms/step\n",
      "1511/1511 [==============================] - 4s 3ms/step\n"
     ]
    },
    {
     "name": "stderr",
     "output_type": "stream",
     "text": [
      "Permutation explainer:  80%|████████  | 201/250 [43:48<09:41, 11.88s/it]"
     ]
    },
    {
     "name": "stdout",
     "output_type": "stream",
     "text": [
      "1708/1708 [==============================] - 5s 3ms/step\n",
      "1350/1350 [==============================] - 4s 3ms/step\n"
     ]
    },
    {
     "name": "stderr",
     "output_type": "stream",
     "text": [
      "Permutation explainer:  81%|████████  | 202/250 [43:58<09:06, 11.38s/it]"
     ]
    },
    {
     "name": "stdout",
     "output_type": "stream",
     "text": [
      "1836/1836 [==============================] - 5s 3ms/step\n",
      "1441/1441 [==============================] - 4s 3ms/step\n"
     ]
    },
    {
     "name": "stderr",
     "output_type": "stream",
     "text": [
      "Permutation explainer:  81%|████████  | 203/250 [44:09<08:51, 11.31s/it]"
     ]
    },
    {
     "name": "stdout",
     "output_type": "stream",
     "text": [
      "1696/1696 [==============================] - 5s 3ms/step\n",
      "1325/1325 [==============================] - 4s 3ms/step\n"
     ]
    },
    {
     "name": "stderr",
     "output_type": "stream",
     "text": [
      "Permutation explainer:  82%|████████▏ | 204/250 [44:19<08:22, 10.91s/it]"
     ]
    },
    {
     "name": "stdout",
     "output_type": "stream",
     "text": [
      "1721/1721 [==============================] - 5s 3ms/step\n",
      "1359/1359 [==============================] - 4s 3ms/step\n"
     ]
    },
    {
     "name": "stderr",
     "output_type": "stream",
     "text": [
      "Permutation explainer:  82%|████████▏ | 205/250 [44:30<08:04, 10.77s/it]"
     ]
    },
    {
     "name": "stdout",
     "output_type": "stream",
     "text": [
      "1811/1811 [==============================] - 5s 3ms/step\n",
      "1406/1406 [==============================] - 4s 3ms/step\n"
     ]
    },
    {
     "name": "stderr",
     "output_type": "stream",
     "text": [
      "Permutation explainer:  82%|████████▏ | 206/250 [44:40<07:52, 10.74s/it]"
     ]
    },
    {
     "name": "stdout",
     "output_type": "stream",
     "text": [
      "1906/1906 [==============================] - 5s 3ms/step\n",
      "1502/1502 [==============================] - 5s 3ms/step\n"
     ]
    },
    {
     "name": "stderr",
     "output_type": "stream",
     "text": [
      "Permutation explainer:  83%|████████▎ | 207/250 [44:52<07:52, 10.98s/it]"
     ]
    },
    {
     "name": "stdout",
     "output_type": "stream",
     "text": [
      "2374/2374 [==============================] - 7s 3ms/step\n",
      "1867/1867 [==============================] - 6s 3ms/step\n"
     ]
    },
    {
     "name": "stderr",
     "output_type": "stream",
     "text": [
      "Permutation explainer:  83%|████████▎ | 208/250 [45:06<08:21, 11.94s/it]"
     ]
    },
    {
     "name": "stdout",
     "output_type": "stream",
     "text": [
      "2126/2126 [==============================] - 6s 3ms/step\n",
      "1688/1688 [==============================] - 5s 3ms/step\n"
     ]
    },
    {
     "name": "stderr",
     "output_type": "stream",
     "text": [
      "Permutation explainer:  84%|████████▎ | 209/250 [45:19<08:18, 12.15s/it]"
     ]
    },
    {
     "name": "stdout",
     "output_type": "stream",
     "text": [
      "2371/2371 [==============================] - 7s 3ms/step\n",
      "1880/1880 [==============================] - 6s 3ms/step\n"
     ]
    },
    {
     "name": "stderr",
     "output_type": "stream",
     "text": [
      "Permutation explainer:  84%|████████▍ | 210/250 [45:33<08:29, 12.73s/it]"
     ]
    },
    {
     "name": "stdout",
     "output_type": "stream",
     "text": [
      "1672/1672 [==============================] - 5s 3ms/step\n",
      "1310/1310 [==============================] - 4s 3ms/step\n"
     ]
    },
    {
     "name": "stderr",
     "output_type": "stream",
     "text": [
      "Permutation explainer:  84%|████████▍ | 211/250 [45:43<07:44, 11.91s/it]"
     ]
    },
    {
     "name": "stdout",
     "output_type": "stream",
     "text": [
      "2229/2229 [==============================] - 6s 3ms/step\n",
      "1701/1701 [==============================] - 5s 3ms/step\n"
     ]
    },
    {
     "name": "stderr",
     "output_type": "stream",
     "text": [
      "Permutation explainer:  85%|████████▍ | 212/250 [45:56<07:48, 12.34s/it]"
     ]
    },
    {
     "name": "stdout",
     "output_type": "stream",
     "text": [
      "2068/2068 [==============================] - 6s 3ms/step\n",
      "1672/1672 [==============================] - 5s 3ms/step\n"
     ]
    },
    {
     "name": "stderr",
     "output_type": "stream",
     "text": [
      "Permutation explainer:  85%|████████▌ | 213/250 [46:09<07:41, 12.49s/it]"
     ]
    },
    {
     "name": "stdout",
     "output_type": "stream",
     "text": [
      "1667/1667 [==============================] - 5s 3ms/step\n",
      "1310/1310 [==============================] - 4s 3ms/step\n"
     ]
    },
    {
     "name": "stderr",
     "output_type": "stream",
     "text": [
      "Permutation explainer:  86%|████████▌ | 214/250 [46:19<07:08, 11.92s/it]"
     ]
    },
    {
     "name": "stdout",
     "output_type": "stream",
     "text": [
      "1818/1818 [==============================] - 6s 3ms/step\n",
      "1446/1446 [==============================] - 4s 3ms/step\n"
     ]
    },
    {
     "name": "stderr",
     "output_type": "stream",
     "text": [
      "Permutation explainer:  86%|████████▌ | 215/250 [46:31<06:51, 11.77s/it]"
     ]
    },
    {
     "name": "stdout",
     "output_type": "stream",
     "text": [
      "1747/1747 [==============================] - 5s 3ms/step\n",
      "1386/1386 [==============================] - 4s 3ms/step\n"
     ]
    },
    {
     "name": "stderr",
     "output_type": "stream",
     "text": [
      "Permutation explainer:  86%|████████▋ | 216/250 [46:42<06:33, 11.57s/it]"
     ]
    },
    {
     "name": "stdout",
     "output_type": "stream",
     "text": [
      "1677/1677 [==============================] - 5s 3ms/step\n",
      "1323/1323 [==============================] - 4s 3ms/step\n"
     ]
    },
    {
     "name": "stderr",
     "output_type": "stream",
     "text": [
      "Permutation explainer:  87%|████████▋ | 217/250 [46:53<06:14, 11.35s/it]"
     ]
    },
    {
     "name": "stdout",
     "output_type": "stream",
     "text": [
      "1729/1729 [==============================] - 5s 3ms/step\n",
      "1348/1348 [==============================] - 4s 3ms/step\n"
     ]
    },
    {
     "name": "stderr",
     "output_type": "stream",
     "text": [
      "Permutation explainer:  87%|████████▋ | 218/250 [47:04<06:00, 11.27s/it]"
     ]
    },
    {
     "name": "stdout",
     "output_type": "stream",
     "text": [
      "1714/1714 [==============================] - 5s 3ms/step\n",
      "1358/1358 [==============================] - 4s 3ms/step\n"
     ]
    },
    {
     "name": "stderr",
     "output_type": "stream",
     "text": [
      "Permutation explainer:  88%|████████▊ | 219/250 [47:15<05:47, 11.21s/it]"
     ]
    },
    {
     "name": "stdout",
     "output_type": "stream",
     "text": [
      "1795/1795 [==============================] - 6s 3ms/step\n",
      "1437/1437 [==============================] - 5s 3ms/step\n"
     ]
    },
    {
     "name": "stderr",
     "output_type": "stream",
     "text": [
      "Permutation explainer:  88%|████████▊ | 220/250 [47:27<05:43, 11.45s/it]"
     ]
    },
    {
     "name": "stdout",
     "output_type": "stream",
     "text": [
      "1688/1688 [==============================] - 5s 3ms/step\n",
      "1341/1341 [==============================] - 4s 3ms/step\n"
     ]
    },
    {
     "name": "stderr",
     "output_type": "stream",
     "text": [
      "Permutation explainer:  88%|████████▊ | 221/250 [47:38<05:23, 11.16s/it]"
     ]
    },
    {
     "name": "stdout",
     "output_type": "stream",
     "text": [
      "1660/1660 [==============================] - 5s 3ms/step\n",
      "1304/1304 [==============================] - 4s 3ms/step\n"
     ]
    },
    {
     "name": "stderr",
     "output_type": "stream",
     "text": [
      "Permutation explainer:  89%|████████▉ | 222/250 [47:48<05:06, 10.94s/it]"
     ]
    },
    {
     "name": "stdout",
     "output_type": "stream",
     "text": [
      "2228/2228 [==============================] - 7s 3ms/step\n",
      "1740/1740 [==============================] - 5s 3ms/step\n"
     ]
    },
    {
     "name": "stderr",
     "output_type": "stream",
     "text": [
      "Permutation explainer:  89%|████████▉ | 223/250 [48:02<05:21, 11.89s/it]"
     ]
    },
    {
     "name": "stdout",
     "output_type": "stream",
     "text": [
      "1661/1661 [==============================] - 5s 3ms/step\n",
      "1296/1296 [==============================] - 4s 3ms/step\n"
     ]
    },
    {
     "name": "stderr",
     "output_type": "stream",
     "text": [
      "Permutation explainer:  90%|████████▉ | 224/250 [48:13<05:00, 11.54s/it]"
     ]
    },
    {
     "name": "stdout",
     "output_type": "stream",
     "text": [
      "2392/2392 [==============================] - 7s 3ms/step\n",
      "1841/1841 [==============================] - 6s 3ms/step\n"
     ]
    },
    {
     "name": "stderr",
     "output_type": "stream",
     "text": [
      "Permutation explainer:  90%|█████████ | 225/250 [48:28<05:14, 12.56s/it]"
     ]
    },
    {
     "name": "stdout",
     "output_type": "stream",
     "text": [
      "1941/1941 [==============================] - 6s 3ms/step\n",
      "1524/1524 [==============================] - 5s 3ms/step\n"
     ]
    },
    {
     "name": "stderr",
     "output_type": "stream",
     "text": [
      "Permutation explainer:  90%|█████████ | 226/250 [48:40<04:59, 12.46s/it]"
     ]
    },
    {
     "name": "stdout",
     "output_type": "stream",
     "text": [
      "1655/1655 [==============================] - 5s 3ms/step\n",
      "1296/1296 [==============================] - 4s 3ms/step\n"
     ]
    },
    {
     "name": "stderr",
     "output_type": "stream",
     "text": [
      "Permutation explainer:  91%|█████████ | 227/250 [48:50<04:33, 11.88s/it]"
     ]
    },
    {
     "name": "stdout",
     "output_type": "stream",
     "text": [
      "4219/4219 [==============================] - 14s 3ms/step\n",
      "2744/2744 [==============================] - 9s 3ms/step\n"
     ]
    },
    {
     "name": "stderr",
     "output_type": "stream",
     "text": [
      "Permutation explainer:  91%|█████████ | 228/250 [49:16<05:52, 16.02s/it]"
     ]
    },
    {
     "name": "stdout",
     "output_type": "stream",
     "text": [
      "1711/1711 [==============================] - 5s 3ms/step\n",
      "1363/1363 [==============================] - 4s 3ms/step\n"
     ]
    },
    {
     "name": "stderr",
     "output_type": "stream",
     "text": [
      "Permutation explainer:  92%|█████████▏| 229/250 [49:27<05:05, 14.54s/it]"
     ]
    },
    {
     "name": "stdout",
     "output_type": "stream",
     "text": [
      "2884/2884 [==============================] - 9s 3ms/step\n",
      "2168/2168 [==============================] - 7s 3ms/step\n"
     ]
    },
    {
     "name": "stderr",
     "output_type": "stream",
     "text": [
      "Permutation explainer:  92%|█████████▏| 230/250 [49:45<05:09, 15.49s/it]"
     ]
    },
    {
     "name": "stdout",
     "output_type": "stream",
     "text": [
      "2185/2185 [==============================] - 7s 3ms/step\n",
      "1694/1694 [==============================] - 5s 3ms/step\n"
     ]
    },
    {
     "name": "stderr",
     "output_type": "stream",
     "text": [
      "Permutation explainer:  92%|█████████▏| 231/250 [49:59<04:43, 14.94s/it]"
     ]
    },
    {
     "name": "stdout",
     "output_type": "stream",
     "text": [
      "1979/1979 [==============================] - 6s 3ms/step\n",
      "1569/1569 [==============================] - 5s 3ms/step\n"
     ]
    },
    {
     "name": "stderr",
     "output_type": "stream",
     "text": [
      "Permutation explainer:  93%|█████████▎| 232/250 [50:11<04:15, 14.18s/it]"
     ]
    },
    {
     "name": "stdout",
     "output_type": "stream",
     "text": [
      "1862/1862 [==============================] - 6s 3ms/step\n",
      "1448/1448 [==============================] - 4s 3ms/step\n"
     ]
    },
    {
     "name": "stderr",
     "output_type": "stream",
     "text": [
      "Permutation explainer:  93%|█████████▎| 233/250 [50:23<03:47, 13.41s/it]"
     ]
    },
    {
     "name": "stdout",
     "output_type": "stream",
     "text": [
      "1825/1825 [==============================] - 5s 3ms/step\n",
      "1438/1438 [==============================] - 4s 3ms/step\n"
     ]
    },
    {
     "name": "stderr",
     "output_type": "stream",
     "text": [
      "Permutation explainer:  94%|█████████▎| 234/250 [50:34<03:25, 12.83s/it]"
     ]
    },
    {
     "name": "stdout",
     "output_type": "stream",
     "text": [
      "1733/1733 [==============================] - 5s 3ms/step\n",
      "1362/1362 [==============================] - 4s 3ms/step\n"
     ]
    },
    {
     "name": "stderr",
     "output_type": "stream",
     "text": [
      "Permutation explainer:  94%|█████████▍| 235/250 [50:45<03:03, 12.21s/it]"
     ]
    },
    {
     "name": "stdout",
     "output_type": "stream",
     "text": [
      "1795/1795 [==============================] - 5s 3ms/step\n",
      "1412/1412 [==============================] - 4s 3ms/step\n"
     ]
    },
    {
     "name": "stderr",
     "output_type": "stream",
     "text": [
      "Permutation explainer:  94%|█████████▍| 236/250 [50:56<02:47, 11.93s/it]"
     ]
    },
    {
     "name": "stdout",
     "output_type": "stream",
     "text": [
      "1731/1731 [==============================] - 5s 3ms/step\n",
      "1358/1358 [==============================] - 4s 3ms/step\n"
     ]
    },
    {
     "name": "stderr",
     "output_type": "stream",
     "text": [
      "Permutation explainer:  95%|█████████▍| 237/250 [51:07<02:30, 11.57s/it]"
     ]
    },
    {
     "name": "stdout",
     "output_type": "stream",
     "text": [
      "2271/2271 [==============================] - 7s 3ms/step\n",
      "1767/1767 [==============================] - 5s 3ms/step\n"
     ]
    },
    {
     "name": "stderr",
     "output_type": "stream",
     "text": [
      "Permutation explainer:  95%|█████████▌| 238/250 [51:21<02:28, 12.38s/it]"
     ]
    },
    {
     "name": "stdout",
     "output_type": "stream",
     "text": [
      "2728/2728 [==============================] - 8s 3ms/step\n",
      "2109/2109 [==============================] - 6s 3ms/step\n"
     ]
    },
    {
     "name": "stderr",
     "output_type": "stream",
     "text": [
      "Permutation explainer:  96%|█████████▌| 239/250 [51:38<02:31, 13.75s/it]"
     ]
    },
    {
     "name": "stdout",
     "output_type": "stream",
     "text": [
      "2896/2896 [==============================] - 9s 3ms/step\n",
      "2157/2157 [==============================] - 7s 3ms/step\n"
     ]
    },
    {
     "name": "stderr",
     "output_type": "stream",
     "text": [
      "Permutation explainer:  96%|█████████▌| 240/250 [51:55<02:28, 14.81s/it]"
     ]
    },
    {
     "name": "stdout",
     "output_type": "stream",
     "text": [
      "1664/1664 [==============================] - 5s 3ms/step\n",
      "1306/1306 [==============================] - 4s 3ms/step\n"
     ]
    },
    {
     "name": "stderr",
     "output_type": "stream",
     "text": [
      "Permutation explainer:  96%|█████████▋| 241/250 [52:06<02:01, 13.51s/it]"
     ]
    },
    {
     "name": "stdout",
     "output_type": "stream",
     "text": [
      "1793/1793 [==============================] - 5s 3ms/step\n",
      "1415/1415 [==============================] - 4s 3ms/step\n"
     ]
    },
    {
     "name": "stderr",
     "output_type": "stream",
     "text": [
      "Permutation explainer:  97%|█████████▋| 242/250 [52:17<01:42, 12.77s/it]"
     ]
    },
    {
     "name": "stdout",
     "output_type": "stream",
     "text": [
      "1803/1803 [==============================] - 5s 3ms/step\n",
      "1441/1441 [==============================] - 4s 3ms/step\n"
     ]
    },
    {
     "name": "stderr",
     "output_type": "stream",
     "text": [
      "Permutation explainer:  97%|█████████▋| 243/250 [52:28<01:26, 12.34s/it]"
     ]
    },
    {
     "name": "stdout",
     "output_type": "stream",
     "text": [
      "1707/1707 [==============================] - 5s 3ms/step\n",
      "1337/1337 [==============================] - 4s 3ms/step\n"
     ]
    },
    {
     "name": "stderr",
     "output_type": "stream",
     "text": [
      "Permutation explainer:  98%|█████████▊| 244/250 [52:39<01:10, 11.80s/it]"
     ]
    },
    {
     "name": "stdout",
     "output_type": "stream",
     "text": [
      "1734/1734 [==============================] - 5s 3ms/step\n",
      "1358/1358 [==============================] - 4s 3ms/step\n"
     ]
    },
    {
     "name": "stderr",
     "output_type": "stream",
     "text": [
      "Permutation explainer:  98%|█████████▊| 245/250 [52:50<00:57, 11.48s/it]"
     ]
    },
    {
     "name": "stdout",
     "output_type": "stream",
     "text": [
      "2161/2161 [==============================] - 7s 3ms/step\n",
      "1691/1691 [==============================] - 5s 3ms/step\n"
     ]
    },
    {
     "name": "stderr",
     "output_type": "stream",
     "text": [
      "Permutation explainer:  98%|█████████▊| 246/250 [53:03<00:48, 12.05s/it]"
     ]
    },
    {
     "name": "stdout",
     "output_type": "stream",
     "text": [
      "1971/1971 [==============================] - 6s 3ms/step\n",
      "1580/1580 [==============================] - 5s 3ms/step\n"
     ]
    },
    {
     "name": "stderr",
     "output_type": "stream",
     "text": [
      "Permutation explainer:  99%|█████████▉| 247/250 [53:15<00:36, 12.13s/it]"
     ]
    },
    {
     "name": "stdout",
     "output_type": "stream",
     "text": [
      "1892/1892 [==============================] - 6s 3ms/step\n",
      "1463/1463 [==============================] - 4s 3ms/step\n"
     ]
    },
    {
     "name": "stderr",
     "output_type": "stream",
     "text": [
      "Permutation explainer:  99%|█████████▉| 248/250 [53:27<00:24, 12.01s/it]"
     ]
    },
    {
     "name": "stdout",
     "output_type": "stream",
     "text": [
      "2191/2191 [==============================] - 7s 3ms/step\n",
      "1741/1741 [==============================] - 5s 3ms/step\n"
     ]
    },
    {
     "name": "stderr",
     "output_type": "stream",
     "text": [
      "Permutation explainer: 100%|█████████▉| 249/250 [53:41<00:12, 12.53s/it]"
     ]
    },
    {
     "name": "stdout",
     "output_type": "stream",
     "text": [
      "2196/2196 [==============================] - 7s 3ms/step\n",
      "1715/1715 [==============================] - 5s 3ms/step\n"
     ]
    },
    {
     "name": "stderr",
     "output_type": "stream",
     "text": [
      "Permutation explainer: 100%|██████████| 250/250 [53:54<00:00, 12.76s/it]"
     ]
    },
    {
     "name": "stdout",
     "output_type": "stream",
     "text": [
      "3452/3452 [==============================] - 10s 3ms/step\n",
      "2465/2465 [==============================] - 7s 3ms/step\n"
     ]
    },
    {
     "name": "stderr",
     "output_type": "stream",
     "text": [
      "Permutation explainer: 251it [54:14, 13.02s/it]                         \n"
     ]
    }
   ],
   "source": [
    "explainer = shap.Explainer(model.predict, first_half_x, max_evals=2001)\n",
    "explainer.max_evals = 10000\n",
    "first_half_explanations = explainer(first_half_x)\n",
    "# second_half_explanations = explainer(second_half_x)"
   ]
  },
  {
   "cell_type": "code",
   "execution_count": 5,
   "metadata": {},
   "outputs": [
    {
     "name": "stdout",
     "output_type": "stream",
     "text": [
      "[-2.82136891e-04  3.87244452e-03  5.48900415e-03 -4.22506238e-02\n",
      " -4.57903898e-02  4.56630787e-03  4.24196937e-04  1.92770011e-03\n",
      "  5.02726462e-03 -1.41382896e-03 -8.62635129e-04  4.59052692e-04\n",
      " -9.83984623e-03  5.47752920e-03 -6.38972702e-04  7.55171406e-03\n",
      " -2.81454280e-03  8.51019817e-03 -4.98076020e-03  1.03137956e-02\n",
      " -4.06774069e-03 -1.53722540e-03  6.14281374e-03 -1.31314354e-03\n",
      " -2.29338758e-03 -1.91805516e-03 -2.98596401e-03  1.02368218e-02\n",
      " -2.50985333e-03  4.27482578e-05  2.96933658e-04  2.19968214e-03\n",
      " -4.64245545e-03  6.06753842e-04  4.38938628e-03 -4.69280763e-03\n",
      "  3.81334174e-03  9.04525248e-04 -6.23392044e-04 -1.56190103e-03\n",
      " -4.98590072e-03  3.44407625e-02 -5.91580448e-02  1.61769595e-03\n",
      "  7.19257929e-04  3.12998595e-03 -6.37723758e-03 -4.57615658e-03\n",
      "  2.55088756e-03  3.03723256e-03  2.19477614e-03 -5.30771017e-04\n",
      " -1.10208017e-04 -3.98989348e-05 -6.88809231e-04 -1.47904528e-03\n",
      "  7.28029698e-04 -4.48895816e-03 -2.04426274e-03  8.75360431e-04\n",
      " -1.20582799e-02  1.94114390e-02  2.28939558e-02  1.69854487e-02\n",
      " -4.72924672e-06 -6.32242113e-04  1.20353026e-03  3.80488348e-03\n",
      "  3.39009519e-03 -1.63109557e-02  1.23649657e-03  3.23134822e-02\n",
      " -1.04685989e-03 -2.73653790e-03 -1.00084651e-03 -4.58606906e-03\n",
      "  1.00474265e-02  6.59319628e-03  2.22094942e-03 -4.76422394e-03\n",
      "  4.91576881e-04 -6.87403751e-03  6.63261099e-03  1.32823184e-04\n",
      " -5.15145296e-03  8.80119639e-03  8.22297768e-03 -7.90705812e-03\n",
      " -1.71308979e-03  2.52793342e-03 -4.46365239e-03  7.28944275e-04\n",
      " -7.22659684e-04 -7.04303738e-04 -7.53962339e-04  4.05929655e-03\n",
      " -2.25857132e-03  1.20807396e-03  1.71753561e-03  1.51537127e-02\n",
      "  2.17712284e-02  7.62228575e-02  2.58495264e-02 -2.59895674e-02\n",
      "  6.12904398e-03  5.36837785e-03 -1.41691856e-04  3.29013779e-04\n",
      " -3.42716007e-03 -6.69802868e-04  4.56582595e-03  6.98919098e-03\n",
      "  3.84663808e-03 -2.04579202e-03 -1.02244503e-04  3.24517256e-04\n",
      "  1.40922568e-03  1.01186113e-03 -6.59379298e-04 -1.32217578e-03\n",
      " -1.62600717e-03 -1.54181964e-03  2.00151568e-04 -1.52724859e-03\n",
      " -3.61528142e-03  2.10757175e-02  2.41322118e-03  5.14461491e-03\n",
      "  1.22232610e-03 -3.82370001e-03  3.88230589e-03 -1.66839833e-03\n",
      "  1.92604112e-03  3.71943638e-03  1.70248687e-03 -1.32819628e-04\n",
      " -9.60437642e-04 -9.93935278e-04  5.47425112e-04 -2.02132742e-03\n",
      " -4.36879099e-03 -1.29519670e-03  8.46741637e-04 -1.01584825e-03\n",
      " -1.73237004e-03 -2.32076376e-03 -4.56375491e-04  2.31137311e-04\n",
      "  1.98190214e-03  8.94838542e-04 -5.52899783e-03 -3.33421563e-04\n",
      "  2.36730686e-03 -7.92621952e-04  1.68162331e-03 -7.26819180e-02\n",
      " -6.82258832e-03  1.61849977e-01 -2.88607592e-02  3.20610143e-03\n",
      "  2.29306868e-03 -5.92515854e-03  1.01564236e-02  3.33264470e-06\n",
      " -7.61187680e-03  5.62431608e-04 -7.45406837e-02  4.21520566e-02\n",
      "  1.98604896e-01 -8.05083575e-02 -4.91974554e-02  7.45547290e-04\n",
      " -1.83784933e-03 -1.48389996e-03  4.61667022e-03  3.06864073e-03\n",
      " -3.49677632e-03 -3.10921074e-04 -2.44042490e-03  6.90864169e-04\n",
      "  5.85634741e-04 -1.10860686e-03  9.39403709e-03  8.92696674e-04\n",
      " -1.86288692e-03  1.27745616e-02  8.03945593e-06 -4.16588746e-04\n",
      "  2.61409571e-04  2.53868849e-03 -1.29266770e-04 -2.16647598e-02\n",
      "  1.84658486e-03 -2.27639555e-02 -2.79997973e-03 -1.19278942e-02\n",
      " -4.03880757e-04  5.31675242e-03  2.53851505e-03 -4.57878215e-03\n",
      "  2.80059967e-04  2.70735983e-02  2.26582885e-03 -1.42563293e-02\n",
      "  2.06930384e-03 -3.62581033e-03 -1.69355961e-03  5.06873149e-04\n",
      " -4.48158886e-04 -8.92968881e-04 -2.02939199e-03 -8.76481628e-04\n",
      " -4.49743374e-03 -3.67577119e-03 -1.40519608e-02  7.49566580e-04\n",
      " -1.80353960e-04 -1.60831783e-02 -3.63677757e-02  1.64743244e-02\n",
      "  1.93417461e-02 -6.85485128e-04 -2.23359062e-03  2.46762936e-03\n",
      "  8.51003572e-03  2.51587544e-03  8.73183324e-04 -2.83958643e-04\n",
      "  2.14953304e-02 -1.33726693e-02  7.51296749e-04  1.37647830e-02\n",
      "  1.03686436e-02  1.36203212e-02  6.89798996e-03  3.44913083e-03\n",
      "  6.29218932e-03 -2.34420551e-03 -4.53369512e-03 -4.88382038e-04\n",
      "  1.54256922e-04 -3.95313485e-04  4.70527611e-03  1.49863095e-03\n",
      " -1.25694049e-03  5.29171257e-03 -9.01176005e-04  2.94700858e-03\n",
      " -1.23359450e-02 -9.32227984e-03 -2.92793573e-04  2.80851715e-03\n",
      " -1.24852328e-01 -1.87398791e-03  2.41213206e-02 -1.98988981e-02\n",
      "  1.58811311e-02  1.42602186e-02 -1.59407283e-03  2.08313228e-02\n",
      " -3.06791899e-03  4.24076577e-03  7.71174186e-04  8.42791501e-04\n",
      "  6.58107534e-04 -2.65762500e-03  8.77535076e-03 -1.06130487e-03\n",
      " -5.33429787e-03 -3.10232473e-04  2.32408208e-03 -1.70296259e-03\n",
      " -3.06294140e-03  4.42948379e-04  3.89027784e-04  5.01285382e-04\n",
      "  3.45022392e-04 -6.39964957e-05 -3.45519064e-04 -7.02755442e-04\n",
      "  6.53476143e-04  4.36220878e-04  1.15149560e-04 -6.13789524e-03\n",
      "  1.44654230e-02  6.18226748e-04 -1.11762871e-04 -5.34755969e-04\n",
      "  6.06210809e-04  3.60278562e-04 -2.97747650e-04  2.17777719e-04\n",
      " -2.89229241e-03  1.12967868e-05  4.09846214e-03 -2.99014671e-04\n",
      "  1.84042443e-03  7.72856209e-03 -5.68918606e-03 -8.22445983e-05\n",
      "  7.18321622e-04  1.84992854e-04  1.84530782e-03 -2.81264793e-03\n",
      "  3.42549279e-03 -2.83630989e-04  4.21693192e-04  1.39143625e-03\n",
      "  1.27797086e-03  9.33977132e-04  3.58674547e-03 -2.66702905e-03\n",
      "  1.35211780e-03 -1.40198478e-04  7.53101284e-04  2.08581695e-04\n",
      "  6.13602670e-03 -4.48765771e-03  6.53950080e-03  2.50809413e-03\n",
      " -1.37151641e-02  4.21498740e-03  1.08531447e-02 -1.22790091e-02\n",
      " -4.49284746e-02  5.99136611e-02  1.18983609e-02 -1.58935911e-03\n",
      "  2.97517423e-04  2.13268027e-04 -9.72175295e-05 -1.36289024e-05\n",
      "  2.22762624e-04 -7.61913660e-04 -2.34541344e-02  9.69893299e-07\n",
      " -2.61760297e-03 -2.96302756e-04 -1.02822431e-03  1.84956056e-03\n",
      "  1.72660820e-03 -1.00778085e-02 -2.47278420e-03  2.87463522e-03\n",
      "  4.88089616e-03 -6.00470570e-04 -1.21132320e-03  4.38572503e-03\n",
      "  2.26122020e-04 -7.92643648e-03  2.25095968e-02  5.70063370e-03\n",
      "  4.06074966e-04 -6.75293724e-04  1.54151786e-04  4.14451168e-03\n",
      " -7.61936210e-03  1.02145469e-02 -2.92763535e-02 -1.58290434e-01\n",
      " -7.98897971e-04 -3.34088095e-04  5.55151770e-04 -5.73060266e-05\n",
      "  3.93143296e-05  2.00906484e-04  2.05006563e-02  1.64682304e-03\n",
      " -8.87730383e-03 -1.07703326e-02  8.19817241e-02  1.14892325e-02\n",
      " -1.11291728e-03 -6.05856627e-04  3.90103832e-04  1.07840893e-03\n",
      " -2.57335852e-02  1.75418084e-02 -8.73014103e-02 -2.84491289e-02\n",
      " -8.18654250e-02  3.39112500e-02 -5.96049618e-02 -5.08916880e-02\n",
      "  8.09214152e-04  1.70727253e-03  1.75957943e-04  8.11418944e-04\n",
      "  8.12817105e-03 -1.58831308e-02 -8.72747135e-03 -1.26693332e-03\n",
      " -1.33785415e-03  7.11050336e-04  9.71997157e-05 -1.52247976e-03\n",
      "  3.53232083e-04 -7.31556006e-04 -5.11808965e-04  3.27295205e-04\n",
      "  1.97366156e-03 -9.33401831e-04 -1.14391862e-03 -2.35374952e-04\n",
      " -2.00446604e-03  7.39878938e-04  1.09973252e-04  3.02702039e-04\n",
      "  9.89321294e-04 -9.73304131e-05  1.91660821e-04 -5.37667670e-04\n",
      " -7.07155612e-04 -1.03628081e-04  4.95534969e-04 -9.84423669e-05\n",
      "  2.24582417e-03 -3.29728479e-03 -4.57628025e-05 -5.96046434e-10\n",
      "  9.70356105e-04 -3.69507968e-04  5.59761675e-04 -5.67813886e-04\n",
      " -1.65497035e-04 -2.00273211e-04  4.28779304e-04  1.21783091e-04\n",
      "  1.56978539e-03  3.89278363e-04  1.73903957e-03  8.13039821e-04\n",
      " -2.96448246e-04  3.68603766e-04  7.63283186e-04  9.15066164e-06\n",
      "  6.30581118e-04  1.19492370e-04 -8.89419497e-04  1.71532072e-04\n",
      " -2.98535160e-04 -4.66944901e-04  3.19500715e-04  1.23716583e-03\n",
      " -1.43985875e-03 -5.46784149e-03 -8.54653120e-05 -2.59783715e-04\n",
      "  4.44790795e-04 -4.68031913e-04 -1.44345628e-03  2.50785053e-04\n",
      " -6.31240010e-05  6.77750746e-05  5.59348334e-04 -9.44048679e-05\n",
      "  5.16679883e-05  1.52979828e-04  5.67700854e-05 -3.51835862e-04\n",
      " -1.10955238e-04  1.49107695e-03  7.33042881e-05 -1.80908769e-03\n",
      " -2.49124074e-06 -1.97559877e-04  8.05576146e-04 -1.28233433e-03\n",
      " -7.51928836e-04 -3.37288380e-04 -6.73121512e-04  4.00454365e-05\n",
      "  1.27954409e-05 -3.16715986e-05 -5.45708276e-05  1.51395216e-07\n",
      " -4.19983640e-06  2.23517371e-10  0.00000000e+00 -1.49011636e-10\n",
      " -4.38926630e-04  2.40838877e-04  6.42808555e-04  1.19209290e-09\n",
      "  3.94731760e-07  0.00000000e+00 -1.61559135e-05 -1.07163040e-03\n",
      " -9.57825258e-04 -4.26656008e-05 -3.40798954e-04 -4.94498503e-05\n",
      " -2.89994683e-04  3.61334067e-06  2.98023217e-10  1.39469494e-04\n",
      " -5.30517103e-04  4.12834509e-04 -6.57995269e-04  8.61603022e-05\n",
      "  1.19778700e-04  1.85140491e-03 -4.36183959e-04  5.07234782e-05\n",
      "  3.33361030e-04  2.91532762e-04 -1.48394730e-04 -2.11559638e-04\n",
      "  7.93144107e-06 -5.41998406e-04 -4.08193767e-04  8.41260701e-05\n",
      "  1.20245232e-03  5.59022307e-03 -2.54686551e-04  1.48991495e-05\n",
      " -2.02867202e-06  0.00000000e+00  5.05773269e-05  2.21333764e-04\n",
      " -5.09330630e-05  8.06641802e-04  1.48829427e-04  2.30292914e-04\n",
      " -6.18249923e-05 -1.50358956e-05  1.91605836e-05 -5.27505472e-07\n",
      " -5.40603325e-05 -5.71908222e-04  3.95918656e-04 -4.34625149e-05\n",
      "  3.20084393e-06  4.62651253e-05  3.93997732e-04 -2.11167224e-04\n",
      " -4.04913444e-04  5.20901664e-04  1.03092194e-04 -6.95770467e-05\n",
      "  4.56372434e-04 -1.14064030e-03 -2.00842917e-04 -1.05731666e-03\n",
      " -3.72768827e-04 -1.02855116e-03  3.21216211e-04 -1.19595572e-03\n",
      "  3.40344466e-04 -8.94544921e-04  7.74308741e-04  3.98607978e-04\n",
      " -3.71989608e-04  6.16294146e-05  6.25731489e-04 -6.19351864e-05\n",
      "  0.00000000e+00 -3.52505147e-04  2.84842711e-03  9.74810682e-06\n",
      " -1.22064963e-03  0.00000000e+00 -2.10595061e-05  5.96046490e-10\n",
      "  5.96046434e-10 -1.82883739e-04  0.00000000e+00 -1.86264532e-10\n",
      " -5.75135052e-04  9.49616916e-05  8.19563917e-10  5.60233728e-04\n",
      "  4.84724194e-04 -3.87192464e-04 -4.44686413e-05 -4.63263094e-04\n",
      "  2.56037898e-04 -5.07009774e-05  1.26659871e-09 -8.73114886e-10\n",
      " -4.12772894e-04 -8.32631141e-04 -1.25935778e-03 -4.68724966e-05\n",
      " -8.23000073e-05  2.85917595e-04 -7.46968314e-04  6.73649419e-05\n",
      "  7.39374550e-04  1.38506984e-05  5.93990088e-06 -1.44913793e-07\n",
      " -1.40111297e-04 -4.89085913e-06 -5.96094131e-05  3.74887256e-04\n",
      "  1.12727598e-04 -3.85070443e-04  1.26659877e-09  2.79914141e-04\n",
      "  2.29126918e-04  1.06147012e-05  3.04742577e-05  1.27381235e-04\n",
      "  3.21980525e-05  3.18452876e-04  4.23799604e-04 -3.67653370e-05\n",
      " -7.97229824e-04 -1.38058543e-03 -5.77563792e-05  1.36304777e-03\n",
      "  2.29621679e-05 -5.50352633e-04 -5.96046462e-10 -4.63939272e-06\n",
      " -2.56359428e-04 -5.99488616e-06  3.81788611e-05  8.73653591e-05\n",
      " -3.95762101e-04  1.04308126e-09  2.87709292e-06 -1.45791564e-06\n",
      " -2.66647548e-07 -2.98023162e-10  1.78813936e-09 -7.51319529e-05\n",
      "  5.82703352e-04  1.49011636e-10 -9.14138928e-05  7.32324570e-04\n",
      " -3.36030051e-04 -1.95291635e-03  5.57734445e-05  5.53366169e-05\n",
      "  2.01569289e-03  7.75405467e-04  4.09781931e-10  0.00000000e+00\n",
      "  2.41537858e-05  1.69850811e-04  1.06252781e-04  2.43010223e-04\n",
      "  2.64498517e-04  4.74974560e-10 -2.06579333e-03 -1.63912772e-09\n",
      "  2.24154443e-04  1.49011581e-10 -1.65424019e-03  2.81100348e-04\n",
      "  1.48042776e-03 -1.15883940e-03 -2.77297452e-03 -4.00501676e-04\n",
      " -2.73362361e-05  1.74289942e-05  1.14351660e-04  7.28241354e-05\n",
      "  3.90316099e-04  7.09893722e-04  2.11356176e-03  1.19908936e-04\n",
      "  0.00000000e+00 -2.12301016e-04 -2.36208551e-04  2.74861254e-03\n",
      " -4.27989624e-04 -7.82213546e-05 -8.49600136e-05  8.44062418e-04\n",
      "  1.03498243e-03 -3.47654894e-04  2.98023217e-10  2.71242624e-05\n",
      "  2.08616258e-09 -4.47034854e-10  1.78813936e-09 -8.14909251e-12\n",
      "  0.00000000e+00  1.18452589e-09 -1.70104206e-05  2.10708380e-05\n",
      " -4.41243760e-04 -1.10311404e-03 -1.30385158e-09  0.00000000e+00\n",
      "  1.19209292e-09 -1.21086836e-06  0.00000000e+00  5.06497920e-05\n",
      "  5.53669631e-04 -2.07340270e-04 -1.96057580e-03  7.45057349e-11\n",
      " -1.57485604e-04  1.49011611e-09  2.53096521e-04 -5.27323373e-04\n",
      "  4.62759435e-04  2.87474364e-03 -6.44199848e-04  9.81296110e-04\n",
      " -2.23027617e-04 -3.07253823e-04 -7.74493814e-05 -2.93041393e-04\n",
      " -1.23586506e-05  1.82080552e-03  5.46274561e-04 -1.86254382e-04\n",
      "  9.75495577e-05  7.34778866e-05 -9.47982073e-06  1.34110451e-09\n",
      "  2.39573540e-04 -1.78813936e-09  3.93926352e-04 -7.02700019e-05\n",
      " -4.15355265e-04  1.49011581e-10 -7.14582391e-05 -3.24200466e-05\n",
      "  3.37722898e-05  0.00000000e+00  0.00000000e+00  4.34228778e-04\n",
      " -8.50501359e-04 -1.06047094e-05 -3.12871113e-04  0.00000000e+00\n",
      " -1.23467259e-04  1.61376968e-04  1.79583356e-04 -9.08166170e-06\n",
      "  6.70552280e-10  1.02326944e-04 -3.60948741e-04 -1.11758711e-09\n",
      "  2.40302086e-05  4.67806309e-04  0.00000000e+00  0.00000000e+00\n",
      "  0.00000000e+00  1.23303074e-03 -2.20554429e-04  3.59584391e-05\n",
      "  4.60836291e-04 -3.89099531e-04 -1.14279203e-04  0.00000000e+00\n",
      " -5.96046434e-10 -2.59345770e-05 -2.29956508e-04 -3.43677402e-04\n",
      "  3.13645869e-03 -7.74022937e-05 -1.59356236e-03 -5.41373789e-04\n",
      "  9.68873501e-07 -1.73025727e-04  1.02213770e-04 -8.75312090e-05\n",
      " -2.53999978e-04  1.27055943e-04  8.94069679e-10 -1.17745996e-05\n",
      "  0.00000000e+00  4.76327538e-05  3.57781649e-04  5.77569008e-06\n",
      "  7.47024640e-05  7.48397596e-05 -1.80199221e-04  7.45057904e-11\n",
      " -4.41074371e-07 -4.07281518e-05 -2.87098438e-05  4.60880250e-04\n",
      "  1.24027207e-05  2.07262039e-04 -2.18894631e-04 -8.01286399e-04\n",
      " -5.68265319e-04  4.61038053e-04  5.46932220e-06 -2.05874443e-06\n",
      "  1.49011614e-09  2.32347101e-04 -8.08447599e-06 -4.17232515e-09\n",
      " -2.98023217e-10  4.47034854e-10 -1.19209287e-09 -1.03077292e-05\n",
      " -2.46335492e-04  1.60038769e-04  4.01371298e-05  0.00000000e+00\n",
      "  0.00000000e+00 -5.96046434e-10  0.00000000e+00  5.16443253e-04\n",
      "  0.00000000e+00 -6.98124766e-04 -1.30385158e-09 -5.77963144e-05\n",
      "  0.00000000e+00  9.37251002e-05  0.00000000e+00  0.00000000e+00\n",
      " -2.82558501e-04 -6.28608614e-04  2.14029327e-04  3.22367996e-05\n",
      "  1.02405101e-04 -1.87551193e-04  0.00000000e+00 -4.81436402e-05\n",
      "  1.35886222e-03 -1.11151516e-03  1.24722719e-06  0.00000000e+00\n",
      " -8.94069652e-10 -2.98023217e-10  0.00000000e+00 -9.19103622e-07\n",
      "  1.38307095e-03 -1.23697639e-03  1.70305371e-04  0.00000000e+00\n",
      " -7.45058071e-10 -2.52128392e-04  0.00000000e+00  1.53730325e-04\n",
      "  0.00000000e+00  8.67813826e-06  1.11758713e-10 -1.23018026e-04\n",
      " -5.96046434e-10 -1.78813936e-09 -1.46357715e-05 -3.73906344e-04\n",
      "  6.22259080e-05  9.56961513e-05 -1.13499165e-05  1.49011636e-10\n",
      "  0.00000000e+00 -5.61788678e-05 -3.92943621e-06 -1.01346672e-04\n",
      "  8.94069652e-10  0.00000000e+00 -1.02481842e-04 -2.98023273e-10\n",
      "  0.00000000e+00 -5.96046490e-10 -2.44075358e-04  1.53241683e-03\n",
      " -8.37913305e-04 -2.68441970e-04  0.00000000e+00  0.00000000e+00\n",
      "  0.00000000e+00 -5.12227483e-11  5.33466637e-04 -8.52808654e-04\n",
      "  0.00000000e+00  0.00000000e+00  0.00000000e+00  0.00000000e+00\n",
      "  0.00000000e+00  5.07697463e-05 -1.09974295e-04  7.56934285e-05\n",
      " -4.80639935e-05  2.72652581e-04  3.97949994e-03 -1.09038129e-03\n",
      " -1.76156260e-03 -7.45058015e-10  0.00000000e+00 -5.96046434e-10\n",
      " -2.94911414e-04  2.56114019e-11  0.00000000e+00  2.87801027e-06\n",
      "  0.00000000e+00  1.19358301e-05  1.18186772e-04 -5.12033701e-06\n",
      "  0.00000000e+00  1.72487702e-04  1.46274045e-04  0.00000000e+00\n",
      " -1.49011636e-10  0.00000000e+00  1.19209287e-09  0.00000000e+00\n",
      "  0.00000000e+00 -2.98023217e-10  0.00000000e+00  0.00000000e+00\n",
      "  2.98023245e-10  0.00000000e+00  0.00000000e+00  0.00000000e+00\n",
      "  0.00000000e+00  0.00000000e+00  0.00000000e+00  0.00000000e+00\n",
      " -2.92113423e-05  1.23562425e-03 -8.01545456e-04  0.00000000e+00\n",
      "  0.00000000e+00  0.00000000e+00  0.00000000e+00 -1.29735209e-04\n",
      "  0.00000000e+00 -5.71763515e-05  8.94069679e-10  0.00000000e+00\n",
      "  0.00000000e+00  0.00000000e+00  0.00000000e+00  0.00000000e+00\n",
      "  0.00000000e+00  0.00000000e+00  5.96046434e-10  1.32347047e-04\n",
      "  4.71603870e-04 -6.28602114e-04 -1.30906701e-05  0.00000000e+00\n",
      "  2.98023245e-10 -1.05112791e-06  0.00000000e+00  1.62455142e-04\n",
      "  2.03847885e-07 -4.92263436e-04  0.00000000e+00 -1.60242319e-04\n",
      "  5.45575619e-04 -5.96046434e-10  0.00000000e+00  0.00000000e+00\n",
      "  0.00000000e+00  0.00000000e+00 -1.49011614e-09 -4.47034798e-10\n",
      " -1.00350678e-04 -2.72693932e-04 -2.98023245e-10  0.00000000e+00\n",
      "  0.00000000e+00  0.00000000e+00  0.00000000e+00  2.98023217e-10\n",
      "  0.00000000e+00  0.00000000e+00  2.98023217e-10  9.70035791e-06\n",
      " -2.03571916e-04  0.00000000e+00 -1.63912772e-09 -2.91399658e-04\n",
      "  7.85768032e-06  0.00000000e+00  8.94069652e-10 -5.42402267e-06\n",
      "  2.35110521e-06  0.00000000e+00 -4.47034854e-10  1.78813936e-09\n",
      "  0.00000000e+00  0.00000000e+00  0.00000000e+00  0.00000000e+00\n",
      "  0.00000000e+00  0.00000000e+00 -3.53533030e-05  0.00000000e+00\n",
      " -5.96046434e-10  1.63912772e-09  0.00000000e+00  0.00000000e+00\n",
      "  0.00000000e+00  0.00000000e+00  0.00000000e+00  0.00000000e+00\n",
      "  0.00000000e+00  0.00000000e+00  0.00000000e+00 -8.36413056e-04\n",
      "  2.26151347e-04 -2.95834541e-04  0.00000000e+00  0.00000000e+00]\n"
     ]
    }
   ],
   "source": [
    "print(first_half_explanations.values[0])"
   ]
  },
  {
   "cell_type": "code",
   "execution_count": 1,
   "metadata": {},
   "outputs": [
    {
     "ename": "NameError",
     "evalue": "name 'first_half_explanations' is not defined",
     "output_type": "error",
     "traceback": [
      "\u001b[0;31m---------------------------------------------------------------------------\u001b[0m",
      "\u001b[0;31mNameError\u001b[0m                                 Traceback (most recent call last)",
      "\u001b[1;32m/Users/geraldfreislich/Desktop/UNI/Year 2/Semester 2/TCS/TopicsInComputerScience/SHAP/shap.ipynb Cell 7\u001b[0m line \u001b[0;36m1\n\u001b[0;32m----> <a href='vscode-notebook-cell:/Users/geraldfreislich/Desktop/UNI/Year%202/Semester%202/TCS/TopicsInComputerScience/SHAP/shap.ipynb#W6sZmlsZQ%3D%3D?line=0'>1</a>\u001b[0m first_explanations \u001b[39m=\u001b[39m first_half_explanations[\u001b[39m0\u001b[39m]\n\u001b[1;32m      <a href='vscode-notebook-cell:/Users/geraldfreislich/Desktop/UNI/Year%202/Semester%202/TCS/TopicsInComputerScience/SHAP/shap.ipynb#W6sZmlsZQ%3D%3D?line=1'>2</a>\u001b[0m shap\u001b[39m.\u001b[39mplots\u001b[39m.\u001b[39mbar(first_explanations)\n\u001b[1;32m      <a href='vscode-notebook-cell:/Users/geraldfreislich/Desktop/UNI/Year%202/Semester%202/TCS/TopicsInComputerScience/SHAP/shap.ipynb#W6sZmlsZQ%3D%3D?line=2'>3</a>\u001b[0m \u001b[39mprint\u001b[39m(review[\u001b[39m0\u001b[39m]\u001b[39m.\u001b[39msplit(\u001b[39m\"\u001b[39m\u001b[39m \u001b[39m\u001b[39m\"\u001b[39m)[\u001b[39m369\u001b[39m])\n",
      "\u001b[0;31mNameError\u001b[0m: name 'first_half_explanations' is not defined"
     ]
    }
   ],
   "source": [
    "first_explanations = first_half_explanations[0]\n",
    "shap.plots.bar(first_explanations)\n",
    "print(review[0].split(\" \")[369])"
   ]
  }
 ],
 "metadata": {
  "kernelspec": {
   "display_name": "graphsageoncora",
   "language": "python",
   "name": "python3"
  },
  "language_info": {
   "codemirror_mode": {
    "name": "ipython",
    "version": 3
   },
   "file_extension": ".py",
   "mimetype": "text/x-python",
   "name": "python",
   "nbconvert_exporter": "python",
   "pygments_lexer": "ipython3",
   "version": "3.8.17"
  },
  "orig_nbformat": 4
 },
 "nbformat": 4,
 "nbformat_minor": 2
}
