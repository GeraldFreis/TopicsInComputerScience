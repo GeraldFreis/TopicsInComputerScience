{
 "cells": [
  {
   "cell_type": "code",
   "execution_count": 15,
   "metadata": {},
   "outputs": [],
   "source": [
    "import shap\n",
    "import pandas as pd\n",
    "import matplotlib.pyplot as plt\n",
    "import sklearn as sk\n",
    "from sklearn.model_selection import train_test_split\n",
    "import tensorflow as tf\n",
    "import keras\n",
    "from tensorflow.keras.preprocessing.text import Tokenizer\n",
    "from tensorflow.keras.utils import pad_sequences"
   ]
  },
  {
   "cell_type": "markdown",
   "metadata": {},
   "source": [
    "getting our dataset, and model, and preparing for SHAP so that we can get it all to work\n"
   ]
  },
  {
   "cell_type": "code",
   "execution_count": 33,
   "metadata": {},
   "outputs": [],
   "source": [
    "model = tf.keras.models.load_model(\"../CNN_Non_Dense\")\n",
    "df = pd.read_csv(\"../IMDB_with_predictions.csv\", low_memory=False)[0:1000:1]\n",
    "review = df.review\n",
    "predictions = df.CNN_Predictions\n",
    "\n",
    "\n",
    "tokenizer = Tokenizer()\n",
    "tokenizer.fit_on_texts(review)\n",
    "tokenized_reviews = tokenizer.texts_to_sequences(review)\n",
    "padded_reviews = pad_sequences(tokenized_reviews, padding=\"post\", maxlen=1000)\n",
    "\n",
    "first_half_x, second_half_x, first_half_y, second_half_y = train_test_split(padded_reviews, predictions, train_size=0.25, shuffle=True, random_state=1000)"
   ]
  },
  {
   "cell_type": "markdown",
   "metadata": {},
   "source": [
    "training our shap model"
   ]
  },
  {
   "cell_type": "code",
   "execution_count": 34,
   "metadata": {},
   "outputs": [
    {
     "name": "stdout",
     "output_type": "stream",
     "text": [
      "2745/2745 [==============================] - 19s 7ms/step\n"
     ]
    },
    {
     "name": "stderr",
     "output_type": "stream",
     "text": [
      "Permutation explainer:   0%|          | 1/250 [00:00<?, ?it/s]"
     ]
    },
    {
     "name": "stdout",
     "output_type": "stream",
     "text": [
      "1676/1676 [==============================] - 12s 7ms/step\n",
      "1302/1302 [==============================] - 9s 7ms/step\n"
     ]
    },
    {
     "name": "stderr",
     "output_type": "stream",
     "text": [
      "Permutation explainer:   1%|          | 3/250 [00:44<46:53, 11.39s/it]"
     ]
    },
    {
     "name": "stdout",
     "output_type": "stream",
     "text": [
      "2027/2027 [==============================] - 14s 7ms/step\n",
      "1604/1604 [==============================] - 12s 7ms/step\n"
     ]
    },
    {
     "name": "stderr",
     "output_type": "stream",
     "text": [
      "Permutation explainer:   2%|▏         | 4/250 [01:12<1:14:59, 18.29s/it]"
     ]
    },
    {
     "name": "stdout",
     "output_type": "stream",
     "text": [
      "1745/1745 [==============================] - 12s 7ms/step\n",
      "1396/1396 [==============================] - 10s 7ms/step\n"
     ]
    },
    {
     "name": "stderr",
     "output_type": "stream",
     "text": [
      "Permutation explainer:   2%|▏         | 5/250 [01:36<1:22:52, 20.30s/it]"
     ]
    },
    {
     "name": "stdout",
     "output_type": "stream",
     "text": [
      "6177/6177 [==============================] - 45s 7ms/step\n",
      "3097/3097 [==============================] - 23s 7ms/step\n"
     ]
    },
    {
     "name": "stderr",
     "output_type": "stream",
     "text": [
      "Permutation explainer:   2%|▏         | 6/250 [02:49<2:37:10, 38.65s/it]"
     ]
    },
    {
     "name": "stdout",
     "output_type": "stream",
     "text": [
      "1818/1818 [==============================] - 13s 7ms/step\n",
      "1418/1418 [==============================] - 10s 7ms/step\n"
     ]
    },
    {
     "name": "stderr",
     "output_type": "stream",
     "text": [
      "Permutation explainer:   3%|▎         | 7/250 [03:14<2:18:30, 34.20s/it]"
     ]
    },
    {
     "name": "stdout",
     "output_type": "stream",
     "text": [
      "1805/1805 [==============================] - 13s 7ms/step\n",
      "1432/1432 [==============================] - 10s 7ms/step\n"
     ]
    },
    {
     "name": "stderr",
     "output_type": "stream",
     "text": [
      "Permutation explainer:   3%|▎         | 8/250 [03:39<2:05:50, 31.20s/it]"
     ]
    },
    {
     "name": "stdout",
     "output_type": "stream",
     "text": [
      "4439/4439 [==============================] - 33s 7ms/step\n",
      "2823/2823 [==============================] - 20s 7ms/step\n"
     ]
    },
    {
     "name": "stderr",
     "output_type": "stream",
     "text": [
      "Permutation explainer:   4%|▎         | 9/250 [04:36<2:37:56, 39.32s/it]"
     ]
    },
    {
     "name": "stdout",
     "output_type": "stream",
     "text": [
      "2139/2139 [==============================] - 15s 7ms/step\n",
      "1280/1732 [=====================>........] - ETA: 3s"
     ]
    },
    {
     "name": "stderr",
     "output_type": "stream",
     "text": [
      "Permutation explainer:   4%|▎         | 9/250 [05:02<2:31:57, 37.83s/it]\n"
     ]
    },
    {
     "ename": "KeyboardInterrupt",
     "evalue": "",
     "output_type": "error",
     "traceback": [
      "\u001b[0;31m---------------------------------------------------------------------------\u001b[0m",
      "\u001b[0;31mKeyboardInterrupt\u001b[0m                         Traceback (most recent call last)",
      "\u001b[1;32m/Users/geraldfreislich/Desktop/UNI/Year 2/Semester 2/TCS/TopicsInComputerScience/SHAP/shap.ipynb Cell 5\u001b[0m line \u001b[0;36m3\n\u001b[1;32m      <a href='vscode-notebook-cell:/Users/geraldfreislich/Desktop/UNI/Year%202/Semester%202/TCS/TopicsInComputerScience/SHAP/shap.ipynb#W4sZmlsZQ%3D%3D?line=0'>1</a>\u001b[0m explainer \u001b[39m=\u001b[39m shap\u001b[39m.\u001b[39mExplainer(model\u001b[39m.\u001b[39mpredict, first_half_x, max_evals\u001b[39m=\u001b[39m\u001b[39m2001\u001b[39m)\n\u001b[1;32m      <a href='vscode-notebook-cell:/Users/geraldfreislich/Desktop/UNI/Year%202/Semester%202/TCS/TopicsInComputerScience/SHAP/shap.ipynb#W4sZmlsZQ%3D%3D?line=1'>2</a>\u001b[0m explainer\u001b[39m.\u001b[39mmax_evals \u001b[39m=\u001b[39m \u001b[39m10000\u001b[39m\n\u001b[0;32m----> <a href='vscode-notebook-cell:/Users/geraldfreislich/Desktop/UNI/Year%202/Semester%202/TCS/TopicsInComputerScience/SHAP/shap.ipynb#W4sZmlsZQ%3D%3D?line=2'>3</a>\u001b[0m first_half_explanations \u001b[39m=\u001b[39m explainer(first_half_x)\n",
      "File \u001b[0;32m/opt/homebrew/anaconda3/envs/graphsageoncora/lib/python3.8/site-packages/shap/explainers/_permutation.py:62\u001b[0m, in \u001b[0;36mPermutation.__init__.<locals>.Permutation.__call__\u001b[0;34m(self, max_evals, main_effects, error_bounds, batch_size, outputs, silent, *args)\u001b[0m\n\u001b[1;32m     60\u001b[0m \u001b[39mdef\u001b[39;00m \u001b[39m__call__\u001b[39m(\u001b[39mself\u001b[39m, \u001b[39m*\u001b[39margs, max_evals\u001b[39m=\u001b[39m\u001b[39m500\u001b[39m, main_effects\u001b[39m=\u001b[39m\u001b[39mFalse\u001b[39;00m, error_bounds\u001b[39m=\u001b[39m\u001b[39mFalse\u001b[39;00m, batch_size\u001b[39m=\u001b[39m\u001b[39m\"\u001b[39m\u001b[39mauto\u001b[39m\u001b[39m\"\u001b[39m,\n\u001b[1;32m     61\u001b[0m              outputs\u001b[39m=\u001b[39m\u001b[39mNone\u001b[39;00m, silent\u001b[39m=\u001b[39m\u001b[39mFalse\u001b[39;00m):\n\u001b[0;32m---> 62\u001b[0m     \u001b[39mreturn\u001b[39;00m \u001b[39msuper\u001b[39;49m()\u001b[39m.\u001b[39;49m\u001b[39m__call__\u001b[39;49m(\n\u001b[1;32m     63\u001b[0m         \u001b[39m*\u001b[39;49margs, max_evals\u001b[39m=\u001b[39;49mmax_evals, main_effects\u001b[39m=\u001b[39;49mmain_effects, error_bounds\u001b[39m=\u001b[39;49merror_bounds,\n\u001b[1;32m     64\u001b[0m         batch_size\u001b[39m=\u001b[39;49mbatch_size, outputs\u001b[39m=\u001b[39;49moutputs, silent\u001b[39m=\u001b[39;49msilent\n\u001b[1;32m     65\u001b[0m     )\n",
      "File \u001b[0;32m/opt/homebrew/anaconda3/envs/graphsageoncora/lib/python3.8/site-packages/shap/explainers/_permutation.py:76\u001b[0m, in \u001b[0;36mPermutation.__call__\u001b[0;34m(self, max_evals, main_effects, error_bounds, batch_size, outputs, silent, *args)\u001b[0m\n\u001b[1;32m     72\u001b[0m \u001b[39mdef\u001b[39;00m \u001b[39m__call__\u001b[39m(\u001b[39mself\u001b[39m, \u001b[39m*\u001b[39margs, max_evals\u001b[39m=\u001b[39m\u001b[39m500\u001b[39m, main_effects\u001b[39m=\u001b[39m\u001b[39mFalse\u001b[39;00m, error_bounds\u001b[39m=\u001b[39m\u001b[39mFalse\u001b[39;00m, batch_size\u001b[39m=\u001b[39m\u001b[39m\"\u001b[39m\u001b[39mauto\u001b[39m\u001b[39m\"\u001b[39m,\n\u001b[1;32m     73\u001b[0m              outputs\u001b[39m=\u001b[39m\u001b[39mNone\u001b[39;00m, silent\u001b[39m=\u001b[39m\u001b[39mFalse\u001b[39;00m):\n\u001b[1;32m     74\u001b[0m \u001b[39m    \u001b[39m\u001b[39m\"\"\" Explain the output of the model on the given arguments.\u001b[39;00m\n\u001b[1;32m     75\u001b[0m \u001b[39m    \"\"\"\u001b[39;00m\n\u001b[0;32m---> 76\u001b[0m     \u001b[39mreturn\u001b[39;00m \u001b[39msuper\u001b[39;49m()\u001b[39m.\u001b[39;49m\u001b[39m__call__\u001b[39;49m(\n\u001b[1;32m     77\u001b[0m         \u001b[39m*\u001b[39;49margs, max_evals\u001b[39m=\u001b[39;49mmax_evals, main_effects\u001b[39m=\u001b[39;49mmain_effects, error_bounds\u001b[39m=\u001b[39;49merror_bounds, batch_size\u001b[39m=\u001b[39;49mbatch_size,\n\u001b[1;32m     78\u001b[0m         outputs\u001b[39m=\u001b[39;49moutputs, silent\u001b[39m=\u001b[39;49msilent\n\u001b[1;32m     79\u001b[0m     )\n",
      "File \u001b[0;32m/opt/homebrew/anaconda3/envs/graphsageoncora/lib/python3.8/site-packages/shap/explainers/_explainer.py:264\u001b[0m, in \u001b[0;36mExplainer.__call__\u001b[0;34m(self, max_evals, main_effects, error_bounds, batch_size, outputs, silent, *args, **kwargs)\u001b[0m\n\u001b[1;32m    262\u001b[0m     feature_names \u001b[39m=\u001b[39m [[] \u001b[39mfor\u001b[39;00m _ \u001b[39min\u001b[39;00m \u001b[39mrange\u001b[39m(\u001b[39mlen\u001b[39m(args))]\n\u001b[1;32m    263\u001b[0m \u001b[39mfor\u001b[39;00m row_args \u001b[39min\u001b[39;00m show_progress(\u001b[39mzip\u001b[39m(\u001b[39m*\u001b[39margs), num_rows, \u001b[39mself\u001b[39m\u001b[39m.\u001b[39m\u001b[39m__class__\u001b[39m\u001b[39m.\u001b[39m\u001b[39m__name__\u001b[39m\u001b[39m+\u001b[39m\u001b[39m\"\u001b[39m\u001b[39m explainer\u001b[39m\u001b[39m\"\u001b[39m, silent):\n\u001b[0;32m--> 264\u001b[0m     row_result \u001b[39m=\u001b[39m \u001b[39mself\u001b[39;49m\u001b[39m.\u001b[39;49mexplain_row(\n\u001b[1;32m    265\u001b[0m         \u001b[39m*\u001b[39;49mrow_args, max_evals\u001b[39m=\u001b[39;49mmax_evals, main_effects\u001b[39m=\u001b[39;49mmain_effects, error_bounds\u001b[39m=\u001b[39;49merror_bounds,\n\u001b[1;32m    266\u001b[0m         batch_size\u001b[39m=\u001b[39;49mbatch_size, outputs\u001b[39m=\u001b[39;49moutputs, silent\u001b[39m=\u001b[39;49msilent, \u001b[39m*\u001b[39;49m\u001b[39m*\u001b[39;49mkwargs\n\u001b[1;32m    267\u001b[0m     )\n\u001b[1;32m    268\u001b[0m     values\u001b[39m.\u001b[39mappend(row_result\u001b[39m.\u001b[39mget(\u001b[39m\"\u001b[39m\u001b[39mvalues\u001b[39m\u001b[39m\"\u001b[39m, \u001b[39mNone\u001b[39;00m))\n\u001b[1;32m    269\u001b[0m     output_indices\u001b[39m.\u001b[39mappend(row_result\u001b[39m.\u001b[39mget(\u001b[39m\"\u001b[39m\u001b[39moutput_indices\u001b[39m\u001b[39m\"\u001b[39m, \u001b[39mNone\u001b[39;00m))\n",
      "File \u001b[0;32m/opt/homebrew/anaconda3/envs/graphsageoncora/lib/python3.8/site-packages/shap/explainers/_permutation.py:164\u001b[0m, in \u001b[0;36mPermutation.explain_row\u001b[0;34m(self, max_evals, main_effects, error_bounds, batch_size, outputs, silent, *row_args)\u001b[0m\n\u001b[1;32m    162\u001b[0m     \u001b[39m# compute the main effects if we need to\u001b[39;00m\n\u001b[1;32m    163\u001b[0m     \u001b[39mif\u001b[39;00m main_effects:\n\u001b[0;32m--> 164\u001b[0m         main_effect_values \u001b[39m=\u001b[39m fm\u001b[39m.\u001b[39;49mmain_effects(inds, batch_size\u001b[39m=\u001b[39;49mbatch_size)\n\u001b[1;32m    165\u001b[0m \u001b[39melse\u001b[39;00m:\n\u001b[1;32m    166\u001b[0m     masks \u001b[39m=\u001b[39m np\u001b[39m.\u001b[39mzeros(\u001b[39m1\u001b[39m, dtype\u001b[39m=\u001b[39m\u001b[39mint\u001b[39m)\n",
      "File \u001b[0;32m/opt/homebrew/anaconda3/envs/graphsageoncora/lib/python3.8/site-packages/shap/utils/_masked_model.py:259\u001b[0m, in \u001b[0;36mMaskedModel.main_effects\u001b[0;34m(self, inds, batch_size)\u001b[0m\n\u001b[1;32m    256\u001b[0m     last_ind \u001b[39m=\u001b[39m inds[i]\n\u001b[1;32m    258\u001b[0m \u001b[39m# compute the main effects for the given indexes\u001b[39;00m\n\u001b[0;32m--> 259\u001b[0m outputs \u001b[39m=\u001b[39m \u001b[39mself\u001b[39;49m(masks, batch_size\u001b[39m=\u001b[39;49mbatch_size)\n\u001b[1;32m    260\u001b[0m main_effects \u001b[39m=\u001b[39m outputs[\u001b[39m1\u001b[39m:] \u001b[39m-\u001b[39m outputs[\u001b[39m0\u001b[39m]\n\u001b[1;32m    262\u001b[0m \u001b[39m# expand the vector to the full input size\u001b[39;00m\n",
      "File \u001b[0;32m/opt/homebrew/anaconda3/envs/graphsageoncora/lib/python3.8/site-packages/shap/utils/_masked_model.py:59\u001b[0m, in \u001b[0;36mMaskedModel.__call__\u001b[0;34m(self, masks, zero_index, batch_size)\u001b[0m\n\u001b[1;32m     57\u001b[0m \u001b[39mif\u001b[39;00m \u001b[39mlen\u001b[39m(masks\u001b[39m.\u001b[39mshape) \u001b[39m==\u001b[39m \u001b[39m1\u001b[39m:\n\u001b[1;32m     58\u001b[0m     \u001b[39mif\u001b[39;00m \u001b[39mgetattr\u001b[39m(\u001b[39mself\u001b[39m\u001b[39m.\u001b[39mmasker, \u001b[39m\"\u001b[39m\u001b[39msupports_delta_masking\u001b[39m\u001b[39m\"\u001b[39m, \u001b[39mFalse\u001b[39;00m):\n\u001b[0;32m---> 59\u001b[0m         \u001b[39mreturn\u001b[39;00m \u001b[39mself\u001b[39;49m\u001b[39m.\u001b[39;49m_delta_masking_call(masks, zero_index\u001b[39m=\u001b[39;49mzero_index, batch_size\u001b[39m=\u001b[39;49mbatch_size)\n\u001b[1;32m     61\u001b[0m     \u001b[39m# we need to convert from delta masking to a full masking call because we were given a delta masking\u001b[39;00m\n\u001b[1;32m     62\u001b[0m     \u001b[39m# input but the masker does not support delta masking\u001b[39;00m\n\u001b[1;32m     63\u001b[0m     \u001b[39melse\u001b[39;00m:\n\u001b[1;32m     64\u001b[0m         full_masks \u001b[39m=\u001b[39m np\u001b[39m.\u001b[39mzeros((\u001b[39mint\u001b[39m(np\u001b[39m.\u001b[39msum(masks \u001b[39m>\u001b[39m\u001b[39m=\u001b[39m \u001b[39m0\u001b[39m)), \u001b[39mself\u001b[39m\u001b[39m.\u001b[39m_masker_cols), dtype\u001b[39m=\u001b[39m\u001b[39mbool\u001b[39m)\n",
      "File \u001b[0;32m/opt/homebrew/anaconda3/envs/graphsageoncora/lib/python3.8/site-packages/shap/utils/_masked_model.py:205\u001b[0m, in \u001b[0;36mMaskedModel._delta_masking_call\u001b[0;34m(self, masks, zero_index, batch_size)\u001b[0m\n\u001b[1;32m    202\u001b[0m     batch_positions[i\u001b[39m+\u001b[39m\u001b[39m1\u001b[39m] \u001b[39m=\u001b[39m batch_positions[i] \u001b[39m+\u001b[39m num_varying_rows[i]\n\u001b[1;32m    204\u001b[0m \u001b[39m# joined_masked_inputs = self._stack_inputs(all_masked_inputs)\u001b[39;00m\n\u001b[0;32m--> 205\u001b[0m outputs \u001b[39m=\u001b[39m \u001b[39mself\u001b[39;49m\u001b[39m.\u001b[39;49mmodel(\u001b[39m*\u001b[39;49msubset_masked_inputs)\n\u001b[1;32m    206\u001b[0m _assert_output_input_match(subset_masked_inputs, outputs)\n\u001b[1;32m    208\u001b[0m \u001b[39mif\u001b[39;00m \u001b[39mself\u001b[39m\u001b[39m.\u001b[39mlinearize_link \u001b[39mand\u001b[39;00m \u001b[39mself\u001b[39m\u001b[39m.\u001b[39mlink \u001b[39m!=\u001b[39m links\u001b[39m.\u001b[39midentity \u001b[39mand\u001b[39;00m \u001b[39mself\u001b[39m\u001b[39m.\u001b[39m_linearizing_weights \u001b[39mis\u001b[39;00m \u001b[39mNone\u001b[39;00m:\n",
      "File \u001b[0;32m/opt/homebrew/anaconda3/envs/graphsageoncora/lib/python3.8/site-packages/shap/models/_model.py:28\u001b[0m, in \u001b[0;36mModel.__call__\u001b[0;34m(self, *args)\u001b[0m\n\u001b[1;32m     27\u001b[0m \u001b[39mdef\u001b[39;00m \u001b[39m__call__\u001b[39m(\u001b[39mself\u001b[39m, \u001b[39m*\u001b[39margs):\n\u001b[0;32m---> 28\u001b[0m     out \u001b[39m=\u001b[39m \u001b[39mself\u001b[39;49m\u001b[39m.\u001b[39;49minner_model(\u001b[39m*\u001b[39;49margs)\n\u001b[1;32m     29\u001b[0m     is_tensor \u001b[39m=\u001b[39m safe_isinstance(out, \u001b[39m\"\u001b[39m\u001b[39mtorch.Tensor\u001b[39m\u001b[39m\"\u001b[39m)\n\u001b[1;32m     30\u001b[0m     out \u001b[39m=\u001b[39m out\u001b[39m.\u001b[39mcpu()\u001b[39m.\u001b[39mdetach()\u001b[39m.\u001b[39mnumpy() \u001b[39mif\u001b[39;00m is_tensor \u001b[39melse\u001b[39;00m np\u001b[39m.\u001b[39marray(out)\n",
      "File \u001b[0;32m/opt/homebrew/anaconda3/envs/graphsageoncora/lib/python3.8/site-packages/keras/utils/traceback_utils.py:65\u001b[0m, in \u001b[0;36mfilter_traceback.<locals>.error_handler\u001b[0;34m(*args, **kwargs)\u001b[0m\n\u001b[1;32m     63\u001b[0m filtered_tb \u001b[39m=\u001b[39m \u001b[39mNone\u001b[39;00m\n\u001b[1;32m     64\u001b[0m \u001b[39mtry\u001b[39;00m:\n\u001b[0;32m---> 65\u001b[0m     \u001b[39mreturn\u001b[39;00m fn(\u001b[39m*\u001b[39;49margs, \u001b[39m*\u001b[39;49m\u001b[39m*\u001b[39;49mkwargs)\n\u001b[1;32m     66\u001b[0m \u001b[39mexcept\u001b[39;00m \u001b[39mException\u001b[39;00m \u001b[39mas\u001b[39;00m e:\n\u001b[1;32m     67\u001b[0m     filtered_tb \u001b[39m=\u001b[39m _process_traceback_frames(e\u001b[39m.\u001b[39m__traceback__)\n",
      "File \u001b[0;32m/opt/homebrew/anaconda3/envs/graphsageoncora/lib/python3.8/site-packages/keras/engine/training.py:2350\u001b[0m, in \u001b[0;36mModel.predict\u001b[0;34m(self, x, batch_size, verbose, steps, callbacks, max_queue_size, workers, use_multiprocessing)\u001b[0m\n\u001b[1;32m   2348\u001b[0m \u001b[39mfor\u001b[39;00m step \u001b[39min\u001b[39;00m data_handler\u001b[39m.\u001b[39msteps():\n\u001b[1;32m   2349\u001b[0m     callbacks\u001b[39m.\u001b[39mon_predict_batch_begin(step)\n\u001b[0;32m-> 2350\u001b[0m     tmp_batch_outputs \u001b[39m=\u001b[39m \u001b[39mself\u001b[39;49m\u001b[39m.\u001b[39;49mpredict_function(iterator)\n\u001b[1;32m   2351\u001b[0m     \u001b[39mif\u001b[39;00m data_handler\u001b[39m.\u001b[39mshould_sync:\n\u001b[1;32m   2352\u001b[0m         context\u001b[39m.\u001b[39masync_wait()\n",
      "File \u001b[0;32m/opt/homebrew/anaconda3/envs/graphsageoncora/lib/python3.8/site-packages/tensorflow/python/util/traceback_utils.py:150\u001b[0m, in \u001b[0;36mfilter_traceback.<locals>.error_handler\u001b[0;34m(*args, **kwargs)\u001b[0m\n\u001b[1;32m    148\u001b[0m filtered_tb \u001b[39m=\u001b[39m \u001b[39mNone\u001b[39;00m\n\u001b[1;32m    149\u001b[0m \u001b[39mtry\u001b[39;00m:\n\u001b[0;32m--> 150\u001b[0m   \u001b[39mreturn\u001b[39;00m fn(\u001b[39m*\u001b[39;49margs, \u001b[39m*\u001b[39;49m\u001b[39m*\u001b[39;49mkwargs)\n\u001b[1;32m    151\u001b[0m \u001b[39mexcept\u001b[39;00m \u001b[39mException\u001b[39;00m \u001b[39mas\u001b[39;00m e:\n\u001b[1;32m    152\u001b[0m   filtered_tb \u001b[39m=\u001b[39m _process_traceback_frames(e\u001b[39m.\u001b[39m__traceback__)\n",
      "File \u001b[0;32m/opt/homebrew/anaconda3/envs/graphsageoncora/lib/python3.8/site-packages/tensorflow/python/eager/polymorphic_function/polymorphic_function.py:882\u001b[0m, in \u001b[0;36mFunction.__call__\u001b[0;34m(self, *args, **kwds)\u001b[0m\n\u001b[1;32m    879\u001b[0m \u001b[39mwith\u001b[39;00m OptionalXlaContext(\u001b[39mself\u001b[39m\u001b[39m.\u001b[39m_jit_compile):\n\u001b[1;32m    880\u001b[0m   result \u001b[39m=\u001b[39m \u001b[39mself\u001b[39m\u001b[39m.\u001b[39m_call(\u001b[39m*\u001b[39margs, \u001b[39m*\u001b[39m\u001b[39m*\u001b[39mkwds)\n\u001b[0;32m--> 882\u001b[0m new_tracing_count \u001b[39m=\u001b[39m \u001b[39mself\u001b[39;49m\u001b[39m.\u001b[39;49mexperimental_get_tracing_count()\n\u001b[1;32m    883\u001b[0m without_tracing \u001b[39m=\u001b[39m (tracing_count \u001b[39m==\u001b[39m new_tracing_count)\n\u001b[1;32m    884\u001b[0m execution_mode \u001b[39m=\u001b[39m \u001b[39m\"\u001b[39m\u001b[39mnotTraced\u001b[39m\u001b[39m\"\u001b[39m \u001b[39mif\u001b[39;00m without_tracing \u001b[39melse\u001b[39;00m \u001b[39m\"\u001b[39m\u001b[39mtraced\u001b[39m\u001b[39m\"\u001b[39m\n",
      "\u001b[0;31mKeyboardInterrupt\u001b[0m: "
     ]
    }
   ],
   "source": [
    "explainer = shap.Explainer(model.predict, first_half_x, max_evals=2001)\n",
    "explainer.max_evals = 10000\n",
    "first_half_explanations = explainer(first_half_x)\n",
    "# second_half_explanations = explainer(second_half_x)"
   ]
  }
 ],
 "metadata": {
  "kernelspec": {
   "display_name": "graphsageoncora",
   "language": "python",
   "name": "python3"
  },
  "language_info": {
   "codemirror_mode": {
    "name": "ipython",
    "version": 3
   },
   "file_extension": ".py",
   "mimetype": "text/x-python",
   "name": "python",
   "nbconvert_exporter": "python",
   "pygments_lexer": "ipython3",
   "version": "3.8.17"
  },
  "orig_nbformat": 4
 },
 "nbformat": 4,
 "nbformat_minor": 2
}
