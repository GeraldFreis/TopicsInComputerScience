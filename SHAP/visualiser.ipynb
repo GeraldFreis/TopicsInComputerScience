{
 "cells": [
  {
   "cell_type": "markdown",
   "metadata": {},
   "source": [
    "This code allows the visualisation of SHAP values for interpretability measures"
   ]
  },
  {
   "cell_type": "code",
   "execution_count": 1,
   "metadata": {},
   "outputs": [
    {
     "name": "stderr",
     "output_type": "stream",
     "text": [
      "IProgress not found. Please update jupyter and ipywidgets. See https://ipywidgets.readthedocs.io/en/stable/user_install.html\n"
     ]
    }
   ],
   "source": [
    "import shap\n",
    "import pandas as pd\n",
    "import matplotlib.pyplot as plt\n",
    "import sklearn as sk\n",
    "from sklearn.model_selection import train_test_split\n",
    "import tensorflow as tf\n",
    "import keras\n",
    "from tensorflow.keras.preprocessing.text import Tokenizer\n",
    "from tensorflow.keras.utils import pad_sequences"
   ]
  },
  {
   "cell_type": "code",
   "execution_count": 2,
   "metadata": {},
   "outputs": [],
   "source": [
    "df = pd.read_csv(\"../IMDB_with_predictions.csv\")[0:1000:1]\n",
    "model = keras.models.load_model(\"../CNN_Non_Dense\")\n",
    "\n",
    "tokenizer = Tokenizer()\n",
    "tokenizer.fit_on_texts(df.review)\n",
    "tokenized_texts = tokenizer.texts_to_sequences(df.review)\n",
    "padded_texts = pad_sequences(tokenized_texts, padding=\"post\", maxlen=1000)\n"
   ]
  },
  {
   "cell_type": "markdown",
   "metadata": {},
   "source": [
    "Training the SHAP model"
   ]
  },
  {
   "cell_type": "code",
   "execution_count": 3,
   "metadata": {},
   "outputs": [
    {
     "name": "stdout",
     "output_type": "stream",
     "text": [
      "  22/2181 [..............................] - ETA: 11s"
     ]
    },
    {
     "name": "stderr",
     "output_type": "stream",
     "text": [
      "2023-10-09 12:00:12.764761: W tensorflow/tsl/platform/profile_utils/cpu_utils.cc:128] Failed to get CPU frequency: 0 Hz\n"
     ]
    },
    {
     "name": "stdout",
     "output_type": "stream",
     "text": [
      "2181/2181 [==============================] - 16s 7ms/step\n"
     ]
    },
    {
     "name": "stderr",
     "output_type": "stream",
     "text": [
      "Permutation explainer:  50%|█████     | 1/2 [00:00<?, ?it/s]"
     ]
    },
    {
     "name": "stdout",
     "output_type": "stream",
     "text": [
      "1575/1575 [==============================] - 10s 7ms/step\n",
      "1267/1267 [==============================] - 8s 7ms/step\n"
     ]
    },
    {
     "name": "stderr",
     "output_type": "stream",
     "text": [
      "Permutation explainer: 3it [00:38, 19.35s/it]               \n"
     ]
    }
   ],
   "source": [
    "explainer = shap.Explainer(model.predict, padded_texts[0:250:1], max_evals=2001)\n",
    "explainer.max_evals = 10000\n",
    "# print(padded_texts[0])\n",
    "first_explanation = explainer(padded_texts[0:2:1])"
   ]
  },
  {
   "cell_type": "markdown",
   "metadata": {},
   "source": [
    "Creating an object to store explanations vs shap values"
   ]
  },
  {
   "cell_type": "code",
   "execution_count": 4,
   "metadata": {},
   "outputs": [
    {
     "name": "stdout",
     "output_type": "stream",
     "text": [
      "[{'Word': 'painted', 'SHAP': 0.29665495835093225}, {'Word': 'for', 'SHAP': 0.2683359731419113}, {'Word': 'violence,', 'SHAP': 0.09498310590049414}, {'Word': 'prison', 'SHAP': 0.06615926261525598}, {'Word': 'their', 'SHAP': 0.05765376668095945}, {'Word': 'forget', 'SHAP': 0.04710674547124655}, {'Word': 'say', 'SHAP': 0.046712155633435976}, {'Word': 'romance...OZ', 'SHAP': 0.0362281640932679}, {'Word': 'skills', 'SHAP': 0.022565405547866263}, {'Word': '/>The', 'SHAP': 0.017451662627863684}, {'Word': 'inmates', 'SHAP': 0.01650097902165726}, {'Word': 'in', 'SHAP': 0.015305558291811378}, {'Word': 'on', 'SHAP': 0.014862270171361158}, {'Word': 'Italians,', 'SHAP': 0.01412838620308321}, {'Word': 'Watching', 'SHAP': 0.014124304191354908}, {'Word': 'ever', 'SHAP': 0.013987921033985884}, {'Word': 'it', 'SHAP': 0.013213515407987875}, {'Word': 'street', 'SHAP': 0.012653675089240979}, {'Word': 'guards', 'SHAP': 0.012254991611625854}, {'Word': 'with', 'SHAP': 0.011621036114522587}, {'Word': 'and', 'SHAP': 0.011435198364997678}, {'Word': 'injustice', 'SHAP': 0.011195259750529707}, {'Word': 'of', 'SHAP': 0.010944393609970626}, {'Word': 'Oz,', 'SHAP': 0.010643611680716314}, {'Word': 'thing', 'SHAP': 0.010598980363574817}, {'Word': 'and', 'SHAP': 0.01049277255829792}, {'Word': 'high', 'SHAP': 0.010115874309558404}, {'Word': 'gangstas,', 'SHAP': 0.01007281359576151}, {'Word': 'was', 'SHAP': 0.009873397024348418}, {'Word': 'I', 'SHAP': 0.009614045069047283}, {'Word': 'and', 'SHAP': 0.009114531474187948}, {'Word': 'be', 'SHAP': 0.00882861090402004}, {'Word': 'being', 'SHAP': 0.008554663993418254}, {'Word': 'Muslims,', 'SHAP': 0.008430915167555175}, {'Word': 'side.', 'SHAP': 0.008409797156464227}, {'Word': 'the', 'SHAP': 0.007964388557011315}, {'Word': 'are', 'SHAP': 0.007441526288166633}, {'Word': 'watching', 'SHAP': 0.006602372754516611}, {'Word': 'first', 'SHAP': 0.006476726915918801}, {'Word': 'forget', 'SHAP': 0.006329472436096967}, {'Word': 'far', 'SHAP': 0.0062135633523979494}, {'Word': 'scenes', 'SHAP': 0.005794329384199243}, {'Word': 'nickel,', 'SHAP': 0.00577218921955136}, {'Word': 'other', 'SHAP': 0.005702066915837356}, {'Word': 'State', 'SHAP': 0.005525089600123545}, {'Word': 'the', 'SHAP': 0.00524860944598915}, {'Word': 'faint', 'SHAP': 0.005156746887369057}, {'Word': 'prison', 'SHAP': 0.005128197860904071}, {'Word': 'given', 'SHAP': 0.005025582714006327}, {'Word': 'episode', 'SHAP': 0.004664040564821337}, {'Word': 'as', 'SHAP': 0.0044609486963600176}, {'Word': 'of', 'SHAP': 0.004417737125826299}, {'Word': 'so', 'SHAP': 0.004384638150222553}, {'Word': 'levels', 'SHAP': 0.00423061961067675}, {'Word': 'scuffles,', 'SHAP': 0.004221175038019276}, {'Word': 'can', 'SHAP': 0.004057732410728931}, {'Word': '/>It', 'SHAP': 0.004011275525481306}, {'Word': 'violence.', 'SHAP': 0.003979277759790456}, {'Word': 'face', 'SHAP': 0.003942664787173256}, {'Word': 'a', 'SHAP': 0.0039116330444812775}, {'Word': 'to', 'SHAP': 0.0038589022785890936}, {'Word': 'has', 'SHAP': 0.003804550193681311}, {'Word': 'death', 'SHAP': 0.003749293908476836}, {'Word': 'I', 'SHAP': 0.0035447962362400304}, {'Word': 'hardcore,', 'SHAP': 0.003505872394889642}, {'Word': 'violence,', 'SHAP': 0.003157442593947013}, {'Word': 'what', 'SHAP': 0.0030574215389788106}, {'Word': \"who'll\", 'SHAP': 0.0030120588862336817}, {'Word': 'well', 'SHAP': 0.0030030456976964937}, {'Word': 'so', 'SHAP': 0.0029831892997025933}, {'Word': 'to', 'SHAP': 0.002944050122168862}, {'Word': 'an', 'SHAP': 0.0029195119477845033}, {'Word': 'Christians,', 'SHAP': 0.0028633442251566332}, {'Word': 'mannered,', 'SHAP': 0.002815692943195225}, {'Word': 'right', 'SHAP': 0.00281220988603309}, {'Word': 'appeal', 'SHAP': 0.0025965017639101307}, {'Word': 'with', 'SHAP': 0.002589384003076761}, {'Word': 'sex', 'SHAP': 0.0025875132530928102}, {'Word': 'experimental', 'SHAP': 0.0025729433842934246}, {'Word': 'the', 'SHAP': 0.0025490870600816395}, {'Word': 'goes', 'SHAP': 0.0025313059616928757}, {'Word': 'mentioned', 'SHAP': 0.0024922956596128976}, {'Word': 'with', 'SHAP': 0.0024769677405845347}, {'Word': 'middle', 'SHAP': 0.0023752795910513685}, {'Word': 'around.', 'SHAP': 0.0023617238970473076}, {'Word': 'inwards,', 'SHAP': 0.002357980033848406}, {'Word': 'pretty', 'SHAP': 0.0022711602598429192}, {'Word': 'glass', 'SHAP': 0.0022594482451677167}, {'Word': 'first', 'SHAP': 0.0022505618914829273}, {'Word': 'struck', 'SHAP': 0.0021962309480841324}, {'Word': 'is', 'SHAP': 0.0021342912117427726}, {'Word': 'timid.', 'SHAP': 0.0020982006564736477}, {'Word': 'GO.', 'SHAP': 0.0020155670470557996}, {'Word': 'the', 'SHAP': 0.0019906918067272295}, {'Word': 'kill', 'SHAP': 0.001897464506328106}, {'Word': '/><br', 'SHAP': 0.001888352376408886}, {'Word': 'pulls', 'SHAP': 0.0018272441998124223}, {'Word': 'home', 'SHAP': 0.0018272168107796305}, {'Word': 'They', 'SHAP': 0.0017730158241465732}, {'Word': 'this', 'SHAP': 0.001679242420941529}, {'Word': '/><br', 'SHAP': 0.001646930091499188}, {'Word': 'no', 'SHAP': 0.001623289062408717}, {'Word': 'the', 'SHAP': 0.0016010300535709288}, {'Word': 'of', 'SHAP': 0.001580132665112588}, {'Word': 'drugs,', 'SHAP': 0.0015517620602623072}, {'Word': 'you', 'SHAP': 0.001542233061045395}, {'Word': 'pictures', 'SHAP': 0.0015375523664988289}, {'Word': 'as', 'SHAP': 0.0015173097327352003}, {'Word': 'classic', 'SHAP': 0.0015160167263820745}, {'Word': 'privacy', 'SHAP': 0.0014872630289755606}, {'Word': 'as', 'SHAP': 0.0014556122757494183}, {'Word': 'show', 'SHAP': 0.001449614683515399}, {'Word': 'nickname', 'SHAP': 0.0013881002001721876}, {'Word': 'use', 'SHAP': 0.0013697245134972058}, {'Word': \"doesn't\", 'SHAP': 0.001318506917741602}, {'Word': 'are', 'SHAP': 0.0012704471126198658}, {'Word': 'the', 'SHAP': 0.001236037136986834}, {'Word': 'me', 'SHAP': 0.0012347575687453594}, {'Word': 'to', 'SHAP': 0.0012211059091657428}, {'Word': 'is', 'SHAP': 0.0012108554733356314}, {'Word': 'dare.', 'SHAP': 0.00116499472409487}, {'Word': 'dealings', 'SHAP': 0.001123294010758391}, {'Word': 'that', 'SHAP': 0.001009008984547144}, {'Word': 'Irish', 'SHAP': 0.0009321646275929907}, {'Word': 'is', 'SHAP': 0.0008904461895872795}, {'Word': 'nasty', 'SHAP': 0.0008835365623235947}, {'Word': 'show', 'SHAP': 0.0008810013561741936}, {'Word': 'word', 'SHAP': 0.0008698704955395486}, {'Word': 'Its', 'SHAP': 0.0008401467663884943}, {'Word': 'after', 'SHAP': 0.0008078524630661665}, {'Word': 'I', 'SHAP': 0.0007904198463075107}, {'Word': 'Penitentary.', 'SHAP': 0.0007872769421373715}, {'Word': 'Em', 'SHAP': 0.0007719644467215625}, {'Word': 'with', 'SHAP': 0.0007477674260735201}, {'Word': 'taste', 'SHAP': 0.0007236289698631104}, {'Word': 'sold', 'SHAP': 0.0006857679371022884}, {'Word': 'for', 'SHAP': 0.0006012728589121497}, {'Word': 'and', 'SHAP': 0.0005473194294609574}, {'Word': 'be', 'SHAP': 0.0005431135743856896}, {'Word': 'shows', 'SHAP': 0.00048726778477437005}, {'Word': 'graphic', 'SHAP': 0.00047577314660884884}, {'Word': 'struck', 'SHAP': 0.0004501778483972929}, {'Word': 'more....so', 'SHAP': 0.0004456541058607266}, {'Word': 'to', 'SHAP': 0.00042494336232265506}, {'Word': 'out', 'SHAP': 0.0003958337185031302}, {'Word': '/>I', 'SHAP': 0.00038108039647338776}, {'Word': 'never', 'SHAP': 0.0003659088537096844}, {'Word': 'it,', 'SHAP': 0.0003148191355285268}, {'Word': 'of', 'SHAP': 0.0003141291562030746}, {'Word': 'City', 'SHAP': 0.00031122201588004716}, {'Word': 'away.<br', 'SHAP': 0.0003084041178226249}, {'Word': 'it,', 'SHAP': 0.00030463544651865293}, {'Word': 'more,', 'SHAP': 0.00028016805648806153}, {'Word': 'Oswald', 'SHAP': 0.00025778662162168064}, {'Word': 'is', 'SHAP': 0.00025381209270558536}, {'Word': 'that', 'SHAP': 0.0002508214810177378}, {'Word': 'the', 'SHAP': 0.00023597553954463057}, {'Word': 'OZ', 'SHAP': 0.00020976407482520276}, {'Word': 'Maximum', 'SHAP': 0.00019995387643578777}, {'Word': 'as', 'SHAP': 0.00019178000744429768}, {'Word': 'saw', 'SHAP': 0.00012051443336524859}, {'Word': 'you', 'SHAP': 9.59846723708746e-05}, {'Word': 'brutality', 'SHAP': 8.55625607072974e-05}, {'Word': 'may', 'SHAP': 8.054418489333859e-05}, {'Word': 'but', 'SHAP': 6.629049152254152e-05}, {'Word': 'just', 'SHAP': 5.6392848491682024e-05}, {'Word': 'the', 'SHAP': 2.6812758296745898e-05}, {'Word': 'or', 'SHAP': 2.4015735834825858e-05}, {'Word': 'cells', 'SHAP': -6.764784028528981e-06}, {'Word': 'accustomed', 'SHAP': -8.859461959248582e-06}, {'Word': 'in', 'SHAP': -4.2858187116495694e-05}, {'Word': 'section', 'SHAP': -6.578685715796784e-05}, {'Word': 'set', 'SHAP': -9.398705638660743e-05}, {'Word': 'shady', 'SHAP': -9.686714183770873e-05}, {'Word': 'unflinching', 'SHAP': -0.00015608322039040168}, {'Word': 'get', 'SHAP': -0.00015651889611034697}, {'Word': 'ready', 'SHAP': -0.0002121000550686647}, {'Word': 'get', 'SHAP': -0.00021807447075850028}, {'Word': 'prison', 'SHAP': -0.0002574795602413027}, {'Word': 'away', 'SHAP': -0.0002631246550299504}, {'Word': 'violence.', 'SHAP': -0.00027028407319446}, {'Word': 'the', 'SHAP': -0.00029792101136078}, {'Word': 'its', 'SHAP': -0.00033092216588556655}, {'Word': 'regards', 'SHAP': -0.00034243755543000853}, {'Word': 'comfortable', 'SHAP': -0.0003576231212354952}, {'Word': 'but', 'SHAP': -0.0004926938994623264}, {'Word': 'of', 'SHAP': -0.0005636710673571077}, {'Word': 'hearted', 'SHAP': -0.0005755172390490837}, {'Word': 'dodgy', 'SHAP': -0.0005764031922443902}, {'Word': 'the', 'SHAP': -0.0006234098214554229}, {'Word': 'it', 'SHAP': -0.0006487403810024328}, {'Word': 'with', 'SHAP': -0.0006567555677611525}, {'Word': 'the', 'SHAP': -0.0006661098088807244}, {'Word': 'punches', 'SHAP': -0.0006947734645109671}, {'Word': 'Not', 'SHAP': -0.0007513812661636421}, {'Word': 'due', 'SHAP': -0.0008738294988870354}, {'Word': 'hooked.', 'SHAP': -0.00091915326658637}, {'Word': 'where', 'SHAP': -0.0009201565265084394}, {'Word': 'One', 'SHAP': -0.0009336067580443808}, {'Word': 'inmates', 'SHAP': -0.0009449542072980099}, {'Word': 'I', 'SHAP': -0.0009850641945376992}, {'Word': 'to', 'SHAP': -0.0010101146809756711}, {'Word': 'The', 'SHAP': -0.0010118756169685827}, {'Word': 'on', 'SHAP': -0.0010404105449560858}, {'Word': 'a', 'SHAP': -0.0010443378658965274}, {'Word': 'uncomfortable', 'SHAP': -0.0010861889878288067}, {'Word': 'the', 'SHAP': -0.0012110327475238214}, {'Word': 'to', 'SHAP': -0.0012361942790448666}, {'Word': 'where', 'SHAP': -0.001308257710188665}, {'Word': 'or', 'SHAP': -0.001316760703921338}, {'Word': 'Security', 'SHAP': -0.0013231331864108076}, {'Word': '(crooked', 'SHAP': -0.001326204454526303}, {'Word': 'main', 'SHAP': -0.001422933498297474}, {'Word': 'which', 'SHAP': -0.0014493510499595796}, {'Word': 'what', 'SHAP': -0.0014555989392101565}, {'Word': 'agreements', 'SHAP': -0.001570530113385732}, {'Word': 'would', 'SHAP': -0.0016332576679997102}, {'Word': 'say', 'SHAP': -0.0016507569582995263}, {'Word': 'in', 'SHAP': -0.001736815747690329}, {'Word': 'is', 'SHAP': -0.0017521006183119359}, {'Word': 'for', 'SHAP': -0.0017563847947075772}, {'Word': 'stares,', 'SHAP': -0.0017715329211204778}, {'Word': 'word.<br', 'SHAP': -0.0017892639944556976}, {'Word': '/><br', 'SHAP': -0.0017962263780645915}, {'Word': 'the', 'SHAP': -0.001882964343026275}, {'Word': 'happened', 'SHAP': -0.0018836299379473287}, {'Word': 'or', 'SHAP': -0.0018873665621504526}, {'Word': 'show', 'SHAP': -0.00190488153340998}, {'Word': 'is', 'SHAP': -0.002064729653066033}, {'Word': 'Oz', 'SHAP': -0.0022101829247548888}, {'Word': 'right,', 'SHAP': -0.0023834648588672014}, {'Word': 'not', 'SHAP': -0.0024066585204127744}, {'Word': \"wouldn't\", 'SHAP': -0.002423594312276678}, {'Word': 'a', 'SHAP': -0.0024812459736131554}, {'Word': 'class', 'SHAP': -0.002491295235231561}, {'Word': 'for', 'SHAP': -0.002593924818793336}, {'Word': 'order', 'SHAP': -0.002609889786690467}, {'Word': 'fact', 'SHAP': -0.002676253434619913}, {'Word': 'watched', 'SHAP': -0.0027021553227677964}, {'Word': 'This', 'SHAP': -0.0027036487846635593}, {'Word': 'become', 'SHAP': -0.0029190886963624263}, {'Word': 'the', 'SHAP': -0.002955642534006986}, {'Word': 'that', 'SHAP': -0.0030275138001889523}, {'Word': 'Trust', 'SHAP': -0.003056085538119091}, {'Word': 'City,', 'SHAP': -0.0033767471972169227}, {'Word': 'fronts', 'SHAP': -0.003447354614618217}, {'Word': 'have', 'SHAP': -0.003468184115481554}, {'Word': 'experience)', 'SHAP': -0.003562999348941942}, {'Word': 'touch', 'SHAP': -0.003734510341091679}, {'Word': 'that', 'SHAP': -0.003792614246215159}, {'Word': 'me,', 'SHAP': -0.0038191334134899113}, {'Word': 'agenda.', 'SHAP': -0.003849615670051154}, {'Word': 'was', 'SHAP': -0.0038558298349380404}, {'Word': 'viewing....thats', 'SHAP': -0.003863045955076805}, {'Word': 'Forget', 'SHAP': -0.004024096661014553}, {'Word': 'all', 'SHAP': -0.004104655801456802}, {'Word': 'Emerald', 'SHAP': -0.0041332553325856}, {'Word': 'reviewers', 'SHAP': -0.004186081271618569}, {'Word': 'Latinos,', 'SHAP': -0.004198813484981634}, {'Word': 'your', 'SHAP': -0.0042183338035828855}, {'Word': '1', 'SHAP': -0.0042660292109940046}, {'Word': 'of', 'SHAP': -0.004287885965313765}, {'Word': 'developed', 'SHAP': -0.004661584147615916}, {'Word': 'other', 'SHAP': -0.004764922767690208}, {'Word': 'was', 'SHAP': -0.004788910127390411}, {'Word': 'exactly', 'SHAP': -0.004930009540951241}, {'Word': 'mess', 'SHAP': -0.004936976712997421}, {'Word': \"couldn't\", 'SHAP': -0.00494146675569937}, {'Word': \"who'll\", 'SHAP': -0.005406961422413564}, {'Word': 'It', 'SHAP': -0.005456160639878416}, {'Word': 'about', 'SHAP': -0.005511659996700502}, {'Word': 'of', 'SHAP': -0.0055435156222665705}, {'Word': 'Oz', 'SHAP': -0.005840924796508495}, {'Word': 'me', 'SHAP': -0.005892815990141048}, {'Word': 'and', 'SHAP': -0.006749459622915288}, {'Word': \"you'll\", 'SHAP': -0.006928274343226792}, {'Word': 'high', 'SHAP': -0.007136585308636562}, {'Word': 'charm,', 'SHAP': -0.007638081115965201}, {'Word': 'got', 'SHAP': -0.008089135879708914}, {'Word': 'Oz,', 'SHAP': -0.008105218838463796}, {'Word': 'just', 'SHAP': -0.008299677539616829}, {'Word': 'on', 'SHAP': -0.009100954909281422}, {'Word': 'from', 'SHAP': -0.009774382832983985}, {'Word': 'many..Aryans,', 'SHAP': -0.010524364449083834}, {'Word': 'focuses', 'SHAP': -0.011413606323912973}, {'Word': 'called', 'SHAP': -0.011774369408376506}, {'Word': 'bitches', 'SHAP': -0.012370982330758118}, {'Word': 'not', 'SHAP': -0.012420488805335084}, {'Word': 'for', 'SHAP': -0.012560128279848232}, {'Word': 'due', 'SHAP': -0.013048436592798696}, {'Word': 'darker', 'SHAP': -0.014018056483473651}, {'Word': 'lack', 'SHAP': -0.01458659129668377}, {'Word': 'me.<br', 'SHAP': -0.014868981916069973}, {'Word': 'this', 'SHAP': -0.016573157878218586}, {'Word': 'is', 'SHAP': -0.017027911045588595}, {'Word': 'is', 'SHAP': -0.01997109904419625}, {'Word': 'episode', 'SHAP': -0.020584955855738385}, {'Word': 'mainly', 'SHAP': -0.026040873289894073}, {'Word': 'mainstream', 'SHAP': -0.02777781985365435}, {'Word': 'into', 'SHAP': -0.03045929095475003}, {'Word': 'if', 'SHAP': -0.03576804707573841}, {'Word': 'and', 'SHAP': -0.042003349781734894}, {'Word': 'is', 'SHAP': -0.04451536264746439}, {'Word': 'surreal,', 'SHAP': -0.05334436252756858}, {'Word': 'turned', 'SHAP': -0.058191607253393174}, {'Word': 'I', 'SHAP': -0.06000474151587698}, {'Word': 'audiences,', 'SHAP': -0.08534283751330807}]\n"
     ]
    }
   ],
   "source": [
    "first_shaps = first_explanation[0].values\n",
    "word_list = list(df.iloc[0].review.split(sep=\" \"))\n",
    "word_vs_shap = list() # list containing the respective word and its shapley additive explanation value\n",
    "\n",
    "for i in range(len(word_list)):\n",
    "    word_vs_shap.append({\"Word\": word_list[i], \"SHAP\": first_shaps[i]})\n",
    "\n",
    "# sorting it so we can visualise it easily\n",
    "\n",
    "def bubbleSort(arr):\n",
    "    n = len(arr)\n",
    "    # optimize code, so if the array is already sorted, it doesn't need\n",
    "    # to go through the entire process\n",
    "    swapped = False\n",
    "    # Traverse through all array elements\n",
    "    for i in range(n-1):\n",
    "        # range(n) also work but outer loop will\n",
    "        # repeat one time more than needed.\n",
    "        # Last i elements are already in place\n",
    "        for j in range(0, n-i-1):\n",
    " \n",
    "            # traverse the array from 0 to n-i-1\n",
    "            # Swap if the element found is greater\n",
    "            # than the next element\n",
    "            if arr[j][\"SHAP\"] < arr[j + 1][\"SHAP\"]:\n",
    "                swapped = True\n",
    "                arr[j], arr[j + 1] = arr[j + 1], arr[j]\n",
    "         \n",
    "        if not swapped:\n",
    "            # if we haven't needed to make a single swap, we \n",
    "            # can just exit the main loop.\n",
    "            return\n",
    "sorted_word_vs_shap = bubbleSort(word_vs_shap)\n",
    "print(word_vs_shap)\n"
   ]
  },
  {
   "cell_type": "markdown",
   "metadata": {},
   "source": [
    "Visualising the SHAP values"
   ]
  },
  {
   "cell_type": "code",
   "execution_count": 5,
   "metadata": {},
   "outputs": [
    {
     "name": "stdout",
     "output_type": "stream",
     "text": [
      "i: 0 position: 32 layer: 1\n",
      "i: 1 position: 16 layer: 3\n",
      "i: 2 position: 48 layer: 3\n",
      "->i: 3 position: 176\n",
      "i: 3 position: 4 layer: 5\n",
      "i: 4 position: 12 layer: 5\n",
      "->i: 5 position: 44\n",
      "i: 5 position: 44 layer: 5\n",
      "i: 6 position: 52 layer: 5\n"
     ]
    }
   ],
   "source": [
    "import tkinter as tk\n",
    "from tkinter import *\n",
    "from tkinter import ttk\n",
    "max_size=64\n",
    "\n",
    "root = tk.Tk()\n",
    "frm = ttk.Frame(root, padding=10)\n",
    "frm.grid()\n",
    "frm.rowconfigure(max_size*3) \n",
    "frm.columnconfigure(max_size)\n",
    "sorted_word_vs_shap = word_vs_shap\n",
    "layer = 1; position = 0\n",
    "counter = 0\n",
    "for i in range(0, 7):\n",
    "    if(i != 0):\n",
    "        if (counter == 1):\n",
    "            position += int(max_size / pow(2, layer-4))\n",
    "            counter = 0\n",
    "            print(\"->i: {} position: {}\".format(i, position))\n",
    "        else:\n",
    "            position += int(max_size / pow(2, layer-2))\n",
    "            counter += 1        \n",
    "    else:\n",
    "        position += 32\n",
    "\n",
    "    if(i > pow(2, layer-2)):\n",
    "        position = int(max_size / pow(2, layer+1))\n",
    "        layer += 2\n",
    "        counter = 0\n",
    "\n",
    "    print(\"i: {} position: {} layer: {}\".format(i, position, layer))\n",
    "    # the starting position is max_size / pow(2, layer)\n",
    "    ttk.Label(root, text=round(sorted_word_vs_shap[i][\"SHAP\"], 5), width=30, wraplength=50, justify=\"center\", font=(\"Arial\", 8)).grid(column=position, row=layer)\n",
    "    ttk.Label(root, text=sorted_word_vs_shap[i][\"Word\"], width=30, wraplength=50, justify=\"center\", font=(\"Arial\", 8)).grid(column=position, row=layer+1)\n",
    "\n",
    "\n",
    "# root.mainloop()"
   ]
  },
  {
   "cell_type": "code",
   "execution_count": 6,
   "metadata": {},
   "outputs": [],
   "source": [
    "root.mainloop()"
   ]
  }
 ],
 "metadata": {
  "kernelspec": {
   "display_name": "graphsageoncora",
   "language": "python",
   "name": "python3"
  },
  "language_info": {
   "codemirror_mode": {
    "name": "ipython",
    "version": 3
   },
   "file_extension": ".py",
   "mimetype": "text/x-python",
   "name": "python",
   "nbconvert_exporter": "python",
   "pygments_lexer": "ipython3",
   "version": "3.8.17"
  },
  "orig_nbformat": 4
 },
 "nbformat": 4,
 "nbformat_minor": 2
}
