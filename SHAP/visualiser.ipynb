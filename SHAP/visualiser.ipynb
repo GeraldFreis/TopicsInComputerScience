{
 "cells": [
  {
   "cell_type": "markdown",
   "metadata": {},
   "source": [
    "This code allows the visualisation of SHAP values for interpretability measures"
   ]
  },
  {
   "cell_type": "code",
   "execution_count": 1,
   "metadata": {},
   "outputs": [
    {
     "name": "stderr",
     "output_type": "stream",
     "text": [
      "IProgress not found. Please update jupyter and ipywidgets. See https://ipywidgets.readthedocs.io/en/stable/user_install.html\n"
     ]
    }
   ],
   "source": [
    "import shap\n",
    "import pandas as pd\n",
    "import matplotlib.pyplot as plt\n",
    "import sklearn as sk\n",
    "from sklearn.model_selection import train_test_split\n",
    "import tensorflow as tf\n",
    "import keras\n",
    "from tensorflow.keras.preprocessing.text import Tokenizer\n",
    "from tensorflow.keras.utils import pad_sequences"
   ]
  },
  {
   "cell_type": "code",
   "execution_count": 2,
   "metadata": {},
   "outputs": [],
   "source": [
    "df = pd.read_csv(\"../IMDB_with_predictions.csv\")[0:1000:1]\n",
    "model = keras.models.load_model(\"../CNN_Non_Dense\")\n",
    "\n",
    "tokenizer = Tokenizer()\n",
    "tokenizer.fit_on_texts(df.review)\n",
    "tokenized_texts = tokenizer.texts_to_sequences(df.review)\n",
    "padded_texts = pad_sequences(tokenized_texts, padding=\"post\", maxlen=1000)\n"
   ]
  },
  {
   "cell_type": "markdown",
   "metadata": {},
   "source": [
    "Training the SHAP model"
   ]
  },
  {
   "cell_type": "code",
   "execution_count": 3,
   "metadata": {},
   "outputs": [
    {
     "name": "stdout",
     "output_type": "stream",
     "text": [
      "  21/2181 [..............................] - ETA: 11s"
     ]
    },
    {
     "name": "stderr",
     "output_type": "stream",
     "text": [
      "2023-10-08 18:25:51.208868: W tensorflow/tsl/platform/profile_utils/cpu_utils.cc:128] Failed to get CPU frequency: 0 Hz\n"
     ]
    },
    {
     "name": "stdout",
     "output_type": "stream",
     "text": [
      "2181/2181 [==============================] - 15s 7ms/step\n"
     ]
    },
    {
     "name": "stderr",
     "output_type": "stream",
     "text": [
      "Permutation explainer:  50%|█████     | 1/2 [00:00<?, ?it/s]"
     ]
    },
    {
     "name": "stdout",
     "output_type": "stream",
     "text": [
      "1575/1575 [==============================] - 11s 7ms/step\n",
      "1285/1285 [==============================] - 9s 7ms/step\n"
     ]
    },
    {
     "name": "stderr",
     "output_type": "stream",
     "text": [
      "Permutation explainer: 3it [00:38, 19.10s/it]               \n"
     ]
    }
   ],
   "source": [
    "explainer = shap.Explainer(model.predict, padded_texts[0:250:1], max_evals=2001)\n",
    "explainer.max_evals = 10000\n",
    "# print(padded_texts[0])\n",
    "first_explanation = explainer(padded_texts[0:2:1])"
   ]
  },
  {
   "cell_type": "markdown",
   "metadata": {},
   "source": [
    "Creating an object to store explanations vs shap values"
   ]
  },
  {
   "cell_type": "code",
   "execution_count": 4,
   "metadata": {},
   "outputs": [
    {
     "name": "stdout",
     "output_type": "stream",
     "text": [
      "[{'Word': 'painted', 'SHAP': 0.21979196392646205}, {'Word': 'for', 'SHAP': 0.10614891833653248}, {'Word': 'violence,', 'SHAP': 0.10118779145937878}, {'Word': 'say', 'SHAP': 0.09047154737312668}, {'Word': 'their', 'SHAP': 0.059566450598749765}, {'Word': 'romance...OZ', 'SHAP': 0.055156040228148406}, {'Word': 'it', 'SHAP': 0.03637700549588768}, {'Word': 'unflinching', 'SHAP': 0.03212859652994665}, {'Word': 'prison', 'SHAP': 0.026642052377574166}, {'Word': 'skills', 'SHAP': 0.026482229044373223}, {'Word': 'Italians,', 'SHAP': 0.026429355219879658}, {'Word': 'first', 'SHAP': 0.026026878334073467}, {'Word': 'of', 'SHAP': 0.02381881422130394}, {'Word': 'Oz,', 'SHAP': 0.023388539068400827}, {'Word': 'middle', 'SHAP': 0.021363169247633762}, {'Word': \"couldn't\", 'SHAP': 0.019697546963870938}, {'Word': 'pictures', 'SHAP': 0.016679492221983283}, {'Word': 'high', 'SHAP': 0.016181443314271793}, {'Word': '/><br', 'SHAP': 0.015958401661191557}, {'Word': 'on', 'SHAP': 0.015375285387854098}, {'Word': 'viewing....thats', 'SHAP': 0.014526217734673996}, {'Word': 'and', 'SHAP': 0.014277108355890966}, {'Word': 'levels', 'SHAP': 0.01345686906017357}, {'Word': 'due', 'SHAP': 0.013423495665192575}, {'Word': 'the', 'SHAP': 0.013314340543001901}, {'Word': 'and', 'SHAP': 0.012926336906530195}, {'Word': 'ever', 'SHAP': 0.012885721006750839}, {'Word': 'gangstas,', 'SHAP': 0.012700578916701455}, {'Word': 'in', 'SHAP': 0.011283095486287475}, {'Word': 'street', 'SHAP': 0.01041114286403172}, {'Word': 'with', 'SHAP': 0.010231022791595046}, {'Word': 'the', 'SHAP': 0.009687506886548403}, {'Word': 'me', 'SHAP': 0.009435399906360498}, {'Word': 'on', 'SHAP': 0.009316825065761758}, {'Word': 'pretty', 'SHAP': 0.009156520599062745}, {'Word': 'the', 'SHAP': 0.009000688396245071}, {'Word': 'first', 'SHAP': 0.00831365114644994}, {'Word': 'hardcore,', 'SHAP': 0.00785393334474066}, {'Word': 'kill', 'SHAP': 0.007777928348878027}, {'Word': 'brutality', 'SHAP': 0.007584703508764501}, {'Word': 'nickel,', 'SHAP': 0.007517711941618377}, {'Word': 'scuffles,', 'SHAP': 0.007473865605752472}, {'Word': 'was', 'SHAP': 0.007308254719828267}, {'Word': 'you', 'SHAP': 0.00722844836534936}, {'Word': 'I', 'SHAP': 0.006578974331932885}, {'Word': 'watching', 'SHAP': 0.006479809482971166}, {'Word': 'around.', 'SHAP': 0.006384521672516713}, {'Word': 'an', 'SHAP': 0.006365060035514014}, {'Word': 'with', 'SHAP': 0.0060326530129532485}, {'Word': 'in', 'SHAP': 0.005832746939922806}, {'Word': 'and', 'SHAP': 0.005714132982443526}, {'Word': '/>The', 'SHAP': 0.005572817097418026}, {'Word': 'Muslims,', 'SHAP': 0.005505135729908905}, {'Word': 'Oz', 'SHAP': 0.005389734667483048}, {'Word': 'me', 'SHAP': 0.005307911813724808}, {'Word': 'experimental', 'SHAP': 0.0052769306316622355}, {'Word': 'so', 'SHAP': 0.005257046708138591}, {'Word': 'dealings', 'SHAP': 0.005009330063476258}, {'Word': 'forget', 'SHAP': 0.004864791406143876}, {'Word': 'I', 'SHAP': 0.004618024075753069}, {'Word': 'right', 'SHAP': 0.004573106782763708}, {'Word': 'timid.', 'SHAP': 0.004558275561721503}, {'Word': 'is', 'SHAP': 0.004465376842999802}, {'Word': 'other', 'SHAP': 0.0044588317908346164}, {'Word': 'as', 'SHAP': 0.004442327268261603}, {'Word': 'It', 'SHAP': 0.004257932349501059}, {'Word': 'They', 'SHAP': 0.00413661361585127}, {'Word': 'main', 'SHAP': 0.004120492511428875}, {'Word': 'a', 'SHAP': 0.004083350094870181}, {'Word': 'that', 'SHAP': 0.004021919788792683}, {'Word': 'away', 'SHAP': 0.003902361261425513}, {'Word': 'Oz', 'SHAP': 0.003895714018726737}, {'Word': 'of', 'SHAP': 0.003879941549384952}, {'Word': 'Irish', 'SHAP': 0.0038427933680941218}, {'Word': 'GO.', 'SHAP': 0.0038170049234139136}, {'Word': 'home', 'SHAP': 0.0038139461817423004}, {'Word': \"who'll\", 'SHAP': 0.0038039217237383904}, {'Word': 'episode', 'SHAP': 0.0037959665913513407}, {'Word': 'State', 'SHAP': 0.003764281710609829}, {'Word': 'the', 'SHAP': 0.0035801183063086106}, {'Word': 'thing', 'SHAP': 0.0034869067923863906}, {'Word': 'its', 'SHAP': 0.0033345634466968033}, {'Word': 'the', 'SHAP': 0.0033149347454309863}, {'Word': 'violence.', 'SHAP': 0.0032581713184481886}, {'Word': 'struck', 'SHAP': 0.0028403771331068084}, {'Word': 'mentioned', 'SHAP': 0.0026842639170911176}, {'Word': 'death', 'SHAP': 0.002643785584052677}, {'Word': 'given', 'SHAP': 0.002621040859539764}, {'Word': 'faint', 'SHAP': 0.0026133493753149883}, {'Word': 'drugs,', 'SHAP': 0.0025807516550412357}, {'Word': 'struck', 'SHAP': 0.0025707959383726164}, {'Word': 'to', 'SHAP': 0.0025289018274634034}, {'Word': 'shady', 'SHAP': 0.0022718433814589156}, {'Word': 'sold', 'SHAP': 0.0022618048172444727}, {'Word': 'where', 'SHAP': 0.002247414812445614}, {'Word': 'as', 'SHAP': 0.002222173469490385}, {'Word': 'are', 'SHAP': 0.0021543625160120317}, {'Word': 'appeal', 'SHAP': 0.0020218906714581375}, {'Word': 'with', 'SHAP': 0.0019540915824473037}, {'Word': 'or', 'SHAP': 0.0019421117295860268}, {'Word': 'shows', 'SHAP': 0.0019287410282413653}, {'Word': 'inmates', 'SHAP': 0.001894596670754256}, {'Word': 'face', 'SHAP': 0.0018892746791243087}, {'Word': 'that', 'SHAP': 0.0018858496099710131}, {'Word': 'sex', 'SHAP': 0.0017940941116830755}, {'Word': 'for', 'SHAP': 0.0017737571918405304}, {'Word': 'Security', 'SHAP': 0.0017533404027926802}, {'Word': 'guards', 'SHAP': 0.0016809156112139734}, {'Word': 'be', 'SHAP': 0.0016579525568523046}, {'Word': 'focuses', 'SHAP': 0.0016531975945690003}, {'Word': 'is', 'SHAP': 0.0016250889885077169}, {'Word': 'inwards,', 'SHAP': 0.0015935304574668518}, {'Word': 'far', 'SHAP': 0.0015809395327232578}, {'Word': 'would', 'SHAP': 0.00150962993502618}, {'Word': '(crooked', 'SHAP': 0.001399994327221099}, {'Word': 'the', 'SHAP': 0.001353130312636508}, {'Word': 'this', 'SHAP': 0.0012970695318654246}, {'Word': 'fronts', 'SHAP': 0.0011929777264595154}, {'Word': 'is', 'SHAP': 0.0011733457120135238}, {'Word': \"doesn't\", 'SHAP': 0.0011419311878671234}, {'Word': 'it,', 'SHAP': 0.001107935449108477}, {'Word': 'are', 'SHAP': 0.0010871256643440463}, {'Word': 'more....so', 'SHAP': 0.0010610318311956024}, {'Word': 'the', 'SHAP': 0.0009700462312685065}, {'Word': 'show', 'SHAP': 0.0009630340582225672}, {'Word': 'taste', 'SHAP': 0.0009305782802403462}, {'Word': 'for', 'SHAP': 0.0008676389235188209}, {'Word': 'with', 'SHAP': 0.0008613475466529574}, {'Word': 'side.', 'SHAP': 0.0007688995295029866}, {'Word': 'use', 'SHAP': 0.0007582984119653413}, {'Word': 'graphic', 'SHAP': 0.0007532479241490475}, {'Word': 'the', 'SHAP': 0.0007162925063312064}, {'Word': 'just', 'SHAP': 0.0007140781730413104}, {'Word': 'where', 'SHAP': 0.0006944344395742319}, {'Word': 'is', 'SHAP': 0.000681605604768265}, {'Word': 'is', 'SHAP': 0.0006711206890759325}, {'Word': 'hooked.', 'SHAP': 0.0006647947296732903}, {'Word': 'violence.', 'SHAP': 0.000663989689201061}, {'Word': 'out', 'SHAP': 0.0006343635299709272}, {'Word': 'you', 'SHAP': 0.0006255665561183954}, {'Word': 'the', 'SHAP': 0.0005749333044514082}, {'Word': 'comfortable', 'SHAP': 0.0005503664608113579}, {'Word': 'Its', 'SHAP': 0.0005422265466768494}, {'Word': 'is', 'SHAP': 0.0005002827957286682}, {'Word': '/><br', 'SHAP': 0.0004526482208166982}, {'Word': 'glass', 'SHAP': 0.0004488266166299826}, {'Word': 'that', 'SHAP': 0.00041052906878122353}, {'Word': 'and', 'SHAP': 0.00040124698787621926}, {'Word': 'with', 'SHAP': 0.00036510437726977596}, {'Word': 'agreements', 'SHAP': 0.00036475127111768035}, {'Word': 'but', 'SHAP': 0.000357966348819877}, {'Word': 'has', 'SHAP': 0.00031993888318532226}, {'Word': 'so', 'SHAP': 0.00031574474676748787}, {'Word': 'of', 'SHAP': 0.00029206036590040396}, {'Word': 'never', 'SHAP': 0.0002624379965709689}, {'Word': 'forget', 'SHAP': 0.00023102932217738958}, {'Word': 'but', 'SHAP': 0.00022974223858451825}, {'Word': 'violence,', 'SHAP': 0.00021675168653018106}, {'Word': 'show', 'SHAP': 0.0001963102666194816}, {'Word': 'be', 'SHAP': 0.00015296062454578374}, {'Word': 'Not', 'SHAP': 0.00015101204626261078}, {'Word': 'to', 'SHAP': 0.000130772790144007}, {'Word': 'in', 'SHAP': 0.00012698144651945853}, {'Word': 'prison', 'SHAP': 0.00012285591685212705}, {'Word': 'mannered,', 'SHAP': 0.00010685383633246559}, {'Word': '/>I', 'SHAP': 7.852763742446922e-05}, {'Word': 'the', 'SHAP': 7.805805225988283e-05}, {'Word': 'pulls', 'SHAP': 1.1441074311779875e-05}, {'Word': 'get', 'SHAP': -7.379346294328348e-05}, {'Word': 'which', 'SHAP': -9.543420793309276e-05}, {'Word': 'Maximum', 'SHAP': -9.756294104135144e-05}, {'Word': 'Oz,', 'SHAP': -9.841407994826135e-05}, {'Word': 'watched', 'SHAP': -9.872623370027478e-05}, {'Word': 'Emerald', 'SHAP': -0.00010691892557018745}, {'Word': 'of', 'SHAP': -0.00011968494898606519}, {'Word': 'a', 'SHAP': -0.00017223367001859002}, {'Word': 'to', 'SHAP': -0.00019720060750841317}, {'Word': 'prison', 'SHAP': -0.00021996859344647346}, {'Word': 'OZ', 'SHAP': -0.00023417320102453454}, {'Word': 'section', 'SHAP': -0.00023749307903925265}, {'Word': 'punches', 'SHAP': -0.00024137547239655444}, {'Word': 'classic', 'SHAP': -0.0002527937525882984}, {'Word': 'become', 'SHAP': -0.00025722838006919657}, {'Word': 'can', 'SHAP': -0.0002795389392849512}, {'Word': 'word.<br', 'SHAP': -0.0003017021343112436}, {'Word': 'away.<br', 'SHAP': -0.00031873956380878976}, {'Word': 'no', 'SHAP': -0.00036042784340672984}, {'Word': 'as', 'SHAP': -0.00037593005225061704}, {'Word': 'Watching', 'SHAP': -0.0003872902225703079}, {'Word': 'may', 'SHAP': -0.00042226927354926946}, {'Word': 'of', 'SHAP': -0.000435575433075458}, {'Word': 'more,', 'SHAP': -0.0004592877626419245}, {'Word': 'it', 'SHAP': -0.00048273089341821507}, {'Word': 'I', 'SHAP': -0.0004875312224612849}, {'Word': '/><br', 'SHAP': -0.0004878841782920418}, {'Word': 'it,', 'SHAP': -0.0004951525286196468}, {'Word': 'was', 'SHAP': -0.0005417305743321554}, {'Word': 'charm,', 'SHAP': -0.0005702654086053305}, {'Word': 'dare.', 'SHAP': -0.0006561580300331049}, {'Word': 'what', 'SHAP': -0.0007023124633996347}, {'Word': 'reviewers', 'SHAP': -0.0007251400314270962}, {'Word': 'Em', 'SHAP': -0.0007532509247539787}, {'Word': 'Oswald', 'SHAP': -0.0007824319944483848}, {'Word': 'to', 'SHAP': -0.0008596626130247531}, {'Word': 'ready', 'SHAP': -0.0009049836732447636}, {'Word': 'the', 'SHAP': -0.0009480498567017992}, {'Word': \"you'll\", 'SHAP': -0.0009887238522059971}, {'Word': 'for', 'SHAP': -0.0009930291143246395}, {'Word': 'stares,', 'SHAP': -0.0010373564623296638}, {'Word': 'after', 'SHAP': -0.001098417984321698}, {'Word': 'being', 'SHAP': -0.0011886827030684888}, {'Word': 'to', 'SHAP': -0.0011985077868303384}, {'Word': 'due', 'SHAP': -0.0012629644793923367}, {'Word': 'hearted', 'SHAP': -0.0013154548636521157}, {'Word': 'City,', 'SHAP': -0.001329308646090821}, {'Word': 'agenda.', 'SHAP': -0.0013319779829180645}, {'Word': 'a', 'SHAP': -0.0013410697651852488}, {'Word': 'One', 'SHAP': -0.0014064545184374055}, {'Word': 'of', 'SHAP': -0.0015044437137839706}, {'Word': 'of', 'SHAP': -0.0015325250150635683}, {'Word': 'nickname', 'SHAP': -0.0015394906001165998}, {'Word': 'cells', 'SHAP': -0.0016571462358115907}, {'Word': 'or', 'SHAP': -0.0017618872266757513}, {'Word': 'have', 'SHAP': -0.0018044412182052771}, {'Word': 'Latinos,', 'SHAP': -0.001871457448287428}, {'Word': 'set', 'SHAP': -0.0019050256870832283}, {'Word': 'nasty', 'SHAP': -0.0019496200233697358}, {'Word': 'your', 'SHAP': -0.0019963871128857447}, {'Word': 'Forget', 'SHAP': -0.0020171745907282546}, {'Word': \"wouldn't\", 'SHAP': -0.0021677471821658356}, {'Word': 'This', 'SHAP': -0.0022638430727419945}, {'Word': 'accustomed', 'SHAP': -0.0023104354197857613}, {'Word': 'uncomfortable', 'SHAP': -0.0023318677628413054}, {'Word': 'word', 'SHAP': -0.0023920414177701077}, {'Word': 'I', 'SHAP': -0.002412586799655392}, {'Word': 'fact', 'SHAP': -0.0024238793837139117}, {'Word': 'the', 'SHAP': -0.002499451057083213}, {'Word': 'as', 'SHAP': -0.0025686142537620082}, {'Word': 'privacy', 'SHAP': -0.0025689331069588817}, {'Word': 'say', 'SHAP': -0.002591113106755083}, {'Word': 'scenes', 'SHAP': -0.002639788895030526}, {'Word': '/>It', 'SHAP': -0.0026474253912965873}, {'Word': 'regards', 'SHAP': -0.0026920773374149998}, {'Word': 'happened', 'SHAP': -0.002806441188476949}, {'Word': 'to', 'SHAP': -0.0030745674762875375}, {'Word': 'all', 'SHAP': -0.003094245102547577}, {'Word': 'developed', 'SHAP': -0.003452263129620381}, {'Word': 'dodgy', 'SHAP': -0.0034633149683940823}, {'Word': 'I', 'SHAP': -0.003556112851947568}, {'Word': 'Christians,', 'SHAP': -0.003588104690425087}, {'Word': 'and', 'SHAP': -0.0038077129476005167}, {'Word': 'Trust', 'SHAP': -0.003880039347195635}, {'Word': 'exactly', 'SHAP': -0.004119465950061518}, {'Word': 'high', 'SHAP': -0.004320036120479931}, {'Word': '1', 'SHAP': -0.004438460602277705}, {'Word': 'not', 'SHAP': -0.004484000432071311}, {'Word': 'the', 'SHAP': -0.004728158933685334}, {'Word': 'experience)', 'SHAP': -0.0053190855454886}, {'Word': 'touch', 'SHAP': -0.005374775824602718}, {'Word': 'other', 'SHAP': -0.005438048595970024}, {'Word': 'me,', 'SHAP': -0.005582571863233188}, {'Word': 'right,', 'SHAP': -0.0056405547792018895}, {'Word': 'was', 'SHAP': -0.00582141419461546}, {'Word': \"who'll\", 'SHAP': -0.005942104993591768}, {'Word': 'about', 'SHAP': -0.0060659454576671434}, {'Word': 'show', 'SHAP': -0.006070817424915775}, {'Word': 'that', 'SHAP': -0.006369628631218788}, {'Word': 'City', 'SHAP': -0.006490826653316573}, {'Word': 'The', 'SHAP': -0.006679653563478438}, {'Word': 'injustice', 'SHAP': -0.006790227699093487}, {'Word': 'what', 'SHAP': -0.006851640005770626}, {'Word': 'just', 'SHAP': -0.006878669015131955}, {'Word': 'order', 'SHAP': -0.007001758716069173}, {'Word': 'not', 'SHAP': -0.007124348394609181}, {'Word': 'mess', 'SHAP': -0.00727031980419271}, {'Word': 'is', 'SHAP': -0.007613888782388972}, {'Word': 'many..Aryans,', 'SHAP': -0.007758543881936919}, {'Word': 'Penitentary.', 'SHAP': -0.007790601997694435}, {'Word': 'class', 'SHAP': -0.008463308045174922}, {'Word': 'for', 'SHAP': -0.0085825085928809}, {'Word': 'well', 'SHAP': -0.009289187732501869}, {'Word': 'and', 'SHAP': -0.00955240690391293}, {'Word': 'me.<br', 'SHAP': -0.010036936115939199}, {'Word': 'inmates', 'SHAP': -0.011440972348063932}, {'Word': 'this', 'SHAP': -0.012060018454994936}, {'Word': 'mainly', 'SHAP': -0.012664324637225943}, {'Word': 'called', 'SHAP': -0.013141708643233885}, {'Word': 'from', 'SHAP': -0.01403864080901257}, {'Word': 'episode', 'SHAP': -0.01447684910130187}, {'Word': 'into', 'SHAP': -0.014567716438614264}, {'Word': 'is', 'SHAP': -0.014929157256847236}, {'Word': 'goes', 'SHAP': -0.015994808351970258}, {'Word': 'or', 'SHAP': -0.017346419100603583}, {'Word': 'is', 'SHAP': -0.017675905352080024}, {'Word': 'saw', 'SHAP': -0.019832878526158337}, {'Word': 'get', 'SHAP': -0.020335013383882994}, {'Word': 'the', 'SHAP': -0.022012342215602998}, {'Word': 'on', 'SHAP': -0.024226730482987513}, {'Word': 'lack', 'SHAP': -0.031502654012292575}, {'Word': 'surreal,', 'SHAP': -0.03326005784270822}, {'Word': 'got', 'SHAP': -0.03377900303050413}, {'Word': 'darker', 'SHAP': -0.03438684980332485}, {'Word': 'bitches', 'SHAP': -0.03769532812906157}, {'Word': 'if', 'SHAP': -0.04248823415349756}, {'Word': 'turned', 'SHAP': -0.04596951081359296}, {'Word': 'mainstream', 'SHAP': -0.0488027652149321}, {'Word': 'audiences,', 'SHAP': -0.08039044458902936}]\n"
     ]
    }
   ],
   "source": [
    "first_shaps = first_explanation[0].values\n",
    "word_list = list(df.iloc[0].review.split(sep=\" \"))\n",
    "word_vs_shap = list() # list containing the respective word and its shapley additive explanation value\n",
    "\n",
    "for i in range(len(word_list)):\n",
    "    word_vs_shap.append({\"Word\": word_list[i], \"SHAP\": first_shaps[i]})\n",
    "\n",
    "# sorting it so we can visualise it easily\n",
    "\n",
    "def bubbleSort(arr):\n",
    "    n = len(arr)\n",
    "    # optimize code, so if the array is already sorted, it doesn't need\n",
    "    # to go through the entire process\n",
    "    swapped = False\n",
    "    # Traverse through all array elements\n",
    "    for i in range(n-1):\n",
    "        # range(n) also work but outer loop will\n",
    "        # repeat one time more than needed.\n",
    "        # Last i elements are already in place\n",
    "        for j in range(0, n-i-1):\n",
    " \n",
    "            # traverse the array from 0 to n-i-1\n",
    "            # Swap if the element found is greater\n",
    "            # than the next element\n",
    "            if arr[j][\"SHAP\"] < arr[j + 1][\"SHAP\"]:\n",
    "                swapped = True\n",
    "                arr[j], arr[j + 1] = arr[j + 1], arr[j]\n",
    "         \n",
    "        if not swapped:\n",
    "            # if we haven't needed to make a single swap, we \n",
    "            # can just exit the main loop.\n",
    "            return\n",
    "sorted_word_vs_shap = bubbleSort(word_vs_shap)\n",
    "print(word_vs_shap)\n"
   ]
  },
  {
   "cell_type": "markdown",
   "metadata": {},
   "source": [
    "Visualising the SHAP values"
   ]
  },
  {
   "cell_type": "code",
   "execution_count": 25,
   "metadata": {},
   "outputs": [
    {
     "name": "stdout",
     "output_type": "stream",
     "text": [
      "i: 0 position: 32 layer: 1\n",
      "->i: 1 position: 16\n",
      "i: 1 position: 16 layer: 3\n",
      "i: 2 position: 48 layer: 3\n",
      "->i: 3 position: 4\n",
      "i: 3 position: 4 layer: 5\n",
      "i: 4 position: 12 layer: 5\n",
      "i: 5 position: 20 layer: 5\n",
      "i: 6 position: 28 layer: 5\n"
     ]
    }
   ],
   "source": [
    "import tkinter as tk\n",
    "from tkinter import *\n",
    "from tkinter import ttk\n",
    "max_size=64\n",
    "\n",
    "root = tk.Tk()\n",
    "frm = ttk.Frame(root, padding=10)\n",
    "frm.grid()\n",
    "frm.rowconfigure(max_size*3) \n",
    "frm.columnconfigure(max_size)\n",
    "sorted_word_vs_shap = word_vs_shap\n",
    "layer = 1; position = 0\n",
    "for i in range(0, 7):\n",
    "    if(i != 0):\n",
    "        position += int(max_size / pow(2, layer-2))\n",
    "    else:\n",
    "        position += 32\n",
    "\n",
    "    if(i > pow(2, layer-2)):\n",
    "        position = int(max_size / pow(2, layer+1))\n",
    "        layer += 2\n",
    "        print(\"->i: {} position: {}\".format(i, position))\n",
    "\n",
    "    print(\"i: {} position: {} layer: {}\".format(i, position, layer))\n",
    "    # the starting position is max_size / pow(2, layer)\n",
    "    ttk.Label(root, text=round(sorted_word_vs_shap[i][\"SHAP\"], 5), width=30, wraplength=50, justify=\"center\", font=(\"Arial\", 8)).grid(column=position, row=layer)\n",
    "    ttk.Label(root, text=sorted_word_vs_shap[i][\"Word\"], width=30, wraplength=50, justify=\"center\", font=(\"Arial\", 8)).grid(column=position, row=layer+1)\n",
    "\n",
    "\n",
    "# root.mainloop()"
   ]
  },
  {
   "cell_type": "code",
   "execution_count": 26,
   "metadata": {},
   "outputs": [
    {
     "ename": "KeyboardInterrupt",
     "evalue": "",
     "output_type": "error",
     "traceback": [
      "\u001b[0;31m---------------------------------------------------------------------------\u001b[0m",
      "\u001b[0;31mKeyboardInterrupt\u001b[0m                         Traceback (most recent call last)",
      "\u001b[1;32m/Users/geraldfreislich/Desktop/UNI/Year 2/Semester 2/TCS/TopicsInComputerScience/SHAP/visualiser.ipynb Cell 10\u001b[0m line \u001b[0;36m1\n\u001b[0;32m----> <a href='vscode-notebook-cell:/Users/geraldfreislich/Desktop/UNI/Year%202/Semester%202/TCS/TopicsInComputerScience/SHAP/visualiser.ipynb#X13sZmlsZQ%3D%3D?line=0'>1</a>\u001b[0m root\u001b[39m.\u001b[39;49mmainloop()\n",
      "File \u001b[0;32m/opt/homebrew/anaconda3/envs/graphsageoncora/lib/python3.8/tkinter/__init__.py:1429\u001b[0m, in \u001b[0;36mMisc.mainloop\u001b[0;34m(self, n)\u001b[0m\n\u001b[1;32m   1427\u001b[0m \u001b[39mdef\u001b[39;00m \u001b[39mmainloop\u001b[39m(\u001b[39mself\u001b[39m, n\u001b[39m=\u001b[39m\u001b[39m0\u001b[39m):\n\u001b[1;32m   1428\u001b[0m \u001b[39m    \u001b[39m\u001b[39m\"\"\"Call the mainloop of Tk.\"\"\"\u001b[39;00m\n\u001b[0;32m-> 1429\u001b[0m     \u001b[39mself\u001b[39;49m\u001b[39m.\u001b[39;49mtk\u001b[39m.\u001b[39;49mmainloop(n)\n",
      "\u001b[0;31mKeyboardInterrupt\u001b[0m: "
     ]
    },
    {
     "ename": "",
     "evalue": "",
     "output_type": "error",
     "traceback": [
      "\u001b[1;31mThe Kernel crashed while executing code in the the current cell or a previous cell. Please review the code in the cell(s) to identify a possible cause of the failure. Click <a href='https://aka.ms/vscodeJupyterKernelCrash'>here</a> for more info. View Jupyter <a href='command:jupyter.viewOutput'>log</a> for further details."
     ]
    }
   ],
   "source": [
    "root.mainloop()"
   ]
  }
 ],
 "metadata": {
  "kernelspec": {
   "display_name": "graphsageoncora",
   "language": "python",
   "name": "python3"
  },
  "language_info": {
   "codemirror_mode": {
    "name": "ipython",
    "version": 3
   },
   "file_extension": ".py",
   "mimetype": "text/x-python",
   "name": "python",
   "nbconvert_exporter": "python",
   "pygments_lexer": "ipython3",
   "version": "3.8.17"
  },
  "orig_nbformat": 4
 },
 "nbformat": 4,
 "nbformat_minor": 2
}
