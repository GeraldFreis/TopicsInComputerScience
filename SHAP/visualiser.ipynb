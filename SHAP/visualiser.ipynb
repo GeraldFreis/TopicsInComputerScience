{
 "cells": [
  {
   "cell_type": "markdown",
   "metadata": {},
   "source": [
    "This code allows the visualisation of SHAP values for interpretability measures"
   ]
  },
  {
   "cell_type": "code",
   "execution_count": 1,
   "metadata": {},
   "outputs": [
    {
     "name": "stderr",
     "output_type": "stream",
     "text": [
      "IProgress not found. Please update jupyter and ipywidgets. See https://ipywidgets.readthedocs.io/en/stable/user_install.html\n"
     ]
    }
   ],
   "source": [
    "import shap\n",
    "import pandas as pd\n",
    "import matplotlib.pyplot as plt\n",
    "import sklearn as sk\n",
    "from sklearn.model_selection import train_test_split\n",
    "import tensorflow as tf\n",
    "import keras\n",
    "from tensorflow.keras.preprocessing.text import Tokenizer\n",
    "from tensorflow.keras.utils import pad_sequences"
   ]
  },
  {
   "cell_type": "code",
   "execution_count": 2,
   "metadata": {},
   "outputs": [],
   "source": [
    "df = pd.read_csv(\"../IMDB_with_predictions.csv\")[0:1000:1]\n",
    "model = keras.models.load_model(\"../CNN_Non_Dense\")\n",
    "\n",
    "tokenizer = Tokenizer()\n",
    "tokenizer.fit_on_texts(df.review)\n",
    "tokenized_texts = tokenizer.texts_to_sequences(df.review)\n",
    "padded_texts = pad_sequences(tokenized_texts, padding=\"post\", maxlen=1000)\n"
   ]
  },
  {
   "cell_type": "markdown",
   "metadata": {},
   "source": [
    "Training the SHAP model"
   ]
  },
  {
   "cell_type": "code",
   "execution_count": 3,
   "metadata": {},
   "outputs": [
    {
     "name": "stdout",
     "output_type": "stream",
     "text": [
      "  21/2181 [..............................] - ETA: 11s"
     ]
    },
    {
     "name": "stderr",
     "output_type": "stream",
     "text": [
      "2023-10-09 12:08:45.368000: W tensorflow/tsl/platform/profile_utils/cpu_utils.cc:128] Failed to get CPU frequency: 0 Hz\n"
     ]
    },
    {
     "name": "stdout",
     "output_type": "stream",
     "text": [
      "2181/2181 [==============================] - 15s 7ms/step\n"
     ]
    },
    {
     "name": "stderr",
     "output_type": "stream",
     "text": [
      "Permutation explainer:  50%|█████     | 1/2 [00:00<?, ?it/s]"
     ]
    },
    {
     "name": "stdout",
     "output_type": "stream",
     "text": [
      "1575/1575 [==============================] - 11s 7ms/step\n",
      "1273/1273 [==============================] - 8s 7ms/step\n"
     ]
    },
    {
     "name": "stderr",
     "output_type": "stream",
     "text": [
      "Permutation explainer: 3it [00:38, 19.04s/it]               \n"
     ]
    }
   ],
   "source": [
    "explainer = shap.Explainer(model.predict, padded_texts[0:250:1], max_evals=2001)\n",
    "explainer.max_evals = 10000\n",
    "# print(padded_texts[0])\n",
    "first_explanation = explainer(padded_texts[0:2:1])"
   ]
  },
  {
   "cell_type": "markdown",
   "metadata": {},
   "source": [
    "Creating an object to store explanations vs shap values"
   ]
  },
  {
   "cell_type": "code",
   "execution_count": 4,
   "metadata": {},
   "outputs": [
    {
     "name": "stdout",
     "output_type": "stream",
     "text": [
      "[{'Word': 'painted', 'SHAP': 0.18419782744236274}, {'Word': 'for', 'SHAP': 0.14896311448537752}, {'Word': 'violence,', 'SHAP': 0.06380422498186811}, {'Word': 'romance...OZ', 'SHAP': 0.056352716182858587}, {'Word': 'say', 'SHAP': 0.05020237129398991}, {'Word': 'first', 'SHAP': 0.03859035538544961}, {'Word': 'skills', 'SHAP': 0.033907220294167956}, {'Word': 'levels', 'SHAP': 0.032713761866118574}, {'Word': 'ever', 'SHAP': 0.03212737033474919}, {'Word': 'so', 'SHAP': 0.03129059859085831}, {'Word': 'it', 'SHAP': 0.02484951103804628}, {'Word': 'their', 'SHAP': 0.023989962389241504}, {'Word': 'Italians,', 'SHAP': 0.019878783594710958}, {'Word': 'on', 'SHAP': 0.015162984337657615}, {'Word': 'Oz,', 'SHAP': 0.01395286403567303}, {'Word': '/>The', 'SHAP': 0.01385201473836789}, {'Word': 'middle', 'SHAP': 0.013577967635937993}, {'Word': 'and', 'SHAP': 0.013234139330161265}, {'Word': 'in', 'SHAP': 0.012895525186428308}, {'Word': 'Christians,', 'SHAP': 0.011568128958558632}, {'Word': 'inmates', 'SHAP': 0.009779884130693917}, {'Word': 'in', 'SHAP': 0.009189057411645107}, {'Word': 'are', 'SHAP': 0.008792480200806946}, {'Word': 'be', 'SHAP': 0.008237520591046654}, {'Word': 'right', 'SHAP': 0.007434602379798871}, {'Word': 'being', 'SHAP': 0.007291881077276241}, {'Word': 'a', 'SHAP': 0.007182330908908657}, {'Word': 'pretty', 'SHAP': 0.006885271152714256}, {'Word': 'drugs,', 'SHAP': 0.006806505825370568}, {'Word': 'scuffles,', 'SHAP': 0.0064763654898706835}, {'Word': 'away', 'SHAP': 0.0064678641088539435}, {'Word': 'never', 'SHAP': 0.006407702788710556}, {'Word': 'to', 'SHAP': 0.006288441126234889}, {'Word': 'other', 'SHAP': 0.005878719763750234}, {'Word': 'the', 'SHAP': 0.005599503545108742}, {'Word': 'forget', 'SHAP': 0.005394445495330719}, {'Word': 'the', 'SHAP': 0.005357789751142206}, {'Word': 'not', 'SHAP': 0.005261934292248083}, {'Word': 'injustice', 'SHAP': 0.005088188759291373}, {'Word': 'goes', 'SHAP': 0.005005829129368089}, {'Word': 'timid.', 'SHAP': 0.0048160829851258136}, {'Word': 'saw', 'SHAP': 0.004750089310109562}, {'Word': 'sex', 'SHAP': 0.004528590273112032}, {'Word': 'so', 'SHAP': 0.004383258894085917}, {'Word': 'glass', 'SHAP': 0.0043816500504749445}, {'Word': 'me', 'SHAP': 0.0038717346091289295}, {'Word': 'the', 'SHAP': 0.003838752125884609}, {'Word': 'I', 'SHAP': 0.0038037235729962426}, {'Word': 'on', 'SHAP': 0.003618011251091957}, {'Word': 'of', 'SHAP': 0.0036065109504852533}, {'Word': 'prison', 'SHAP': 0.0035911343246698424}, {'Word': 'with', 'SHAP': 0.0035065463303181055}, {'Word': 'as', 'SHAP': 0.003503140584653064}, {'Word': 'show', 'SHAP': 0.003411547243595159}, {'Word': 'that', 'SHAP': 0.0033535395120270484}, {'Word': 'experimental', 'SHAP': 0.003329386999830597}, {'Word': 'sold', 'SHAP': 0.00327306667342786}, {'Word': 'Em', 'SHAP': 0.003267345670610655}, {'Word': 'thing', 'SHAP': 0.003206154182553267}, {'Word': 'scenes', 'SHAP': 0.00301329358496108}, {'Word': 'Watching', 'SHAP': 0.0030098045617342195}, {'Word': 'about', 'SHAP': 0.002988301299046703}, {'Word': 'that', 'SHAP': 0.0028893634099221854}, {'Word': 'what', 'SHAP': 0.002841179755459916}, {'Word': 'of', 'SHAP': 0.002789336154869454}, {'Word': 'is', 'SHAP': 0.002787408195435992}, {'Word': 'given', 'SHAP': 0.0027763710264116503}, {'Word': 'with', 'SHAP': 0.0026644605491310536}, {'Word': 'to', 'SHAP': 0.0026317247550104728}, {'Word': 'privacy', 'SHAP': 0.00258826952427621}, {'Word': 'GO.', 'SHAP': 0.0025412463909015304}, {'Word': 'Not', 'SHAP': 0.00243704778142273}, {'Word': 'I', 'SHAP': 0.0024258564598858556}, {'Word': 'unflinching', 'SHAP': 0.0020630992558290373}, {'Word': 'accustomed', 'SHAP': 0.002033135170058875}, {'Word': 'for', 'SHAP': 0.002028076989809058}, {'Word': \"doesn't\", 'SHAP': 0.0020169593230821015}, {'Word': 'They', 'SHAP': 0.0020161912157322937}, {'Word': 'pictures', 'SHAP': 0.0020150777674279863}, {'Word': 'Irish', 'SHAP': 0.0019836024742108105}, {'Word': 'with', 'SHAP': 0.001963914744555928}, {'Word': 'with', 'SHAP': 0.0019625008362345042}, {'Word': 'Penitentary.', 'SHAP': 0.0019458866736385971}, {'Word': 'where', 'SHAP': 0.001943884959327985}, {'Word': 'home', 'SHAP': 0.001893877689726653}, {'Word': 'lack', 'SHAP': 0.0018737488705664884}, {'Word': 'struck', 'SHAP': 0.0018692220002412552}, {'Word': 'appeal', 'SHAP': 0.0018648703396320632}, {'Word': 'and', 'SHAP': 0.0018420513219462031}, {'Word': 'to', 'SHAP': 0.0018365262015140882}, {'Word': 'this', 'SHAP': 0.001715729014767936}, {'Word': 'face', 'SHAP': 0.0016925785675630522}, {'Word': 'your', 'SHAP': 0.0016826283652335294}, {'Word': 'Muslims,', 'SHAP': 0.0016749397507311858}, {'Word': 'death', 'SHAP': 0.0016211722418665864}, {'Word': 'with', 'SHAP': 0.0016041790569579772}, {'Word': 'as', 'SHAP': 0.0015800862410106087}, {'Word': \"wouldn't\", 'SHAP': 0.001557955667376515}, {'Word': 'have', 'SHAP': 0.0015513145830481911}, {'Word': 'guards', 'SHAP': 0.00148026943206786}, {'Word': 'called', 'SHAP': 0.0014257221935985998}, {'Word': 'no', 'SHAP': 0.0013516141474246846}, {'Word': 'classic', 'SHAP': 0.0013243732624687032}, {'Word': 'me', 'SHAP': 0.0012984213646461962}, {'Word': 'City,', 'SHAP': 0.0012971244403343074}, {'Word': 'the', 'SHAP': 0.0012852966152808454}, {'Word': \"who'll\", 'SHAP': 0.0012623382426682206}, {'Word': 'that', 'SHAP': 0.0012603112985380416}, {'Word': 'a', 'SHAP': 0.0012507452629506033}, {'Word': 'is', 'SHAP': 0.0012117848556954247}, {'Word': 'focuses', 'SHAP': 0.0011531872234194773}, {'Word': 'hardcore,', 'SHAP': 0.0010706603527069203}, {'Word': 'section', 'SHAP': 0.0010647717630490883}, {'Word': 'of', 'SHAP': 0.001054953299462813}, {'Word': 'the', 'SHAP': 0.0010393560663214396}, {'Word': 'watching', 'SHAP': 0.0010265323335977294}, {'Word': 'happened', 'SHAP': 0.0009697447717189056}, {'Word': 'first', 'SHAP': 0.0009628119505942223}, {'Word': 'you', 'SHAP': 0.000959472934191602}, {'Word': 'far', 'SHAP': 0.0009314789599738638}, {'Word': '/><br', 'SHAP': 0.0009097433765419272}, {'Word': 'of', 'SHAP': 0.0009080219909662901}, {'Word': 'is', 'SHAP': 0.0008541447860386797}, {'Word': 'comfortable', 'SHAP': 0.0008222446683794626}, {'Word': 'has', 'SHAP': 0.0008062547989539093}, {'Word': 'it', 'SHAP': 0.0008044881047680752}, {'Word': 'and', 'SHAP': 0.0007876951061188686}, {'Word': '1', 'SHAP': 0.0007688789966050491}, {'Word': 'but', 'SHAP': 0.0006845317035912846}, {'Word': 'high', 'SHAP': 0.0006507630383248697}, {'Word': 'faint', 'SHAP': 0.0006145006278870657}, {'Word': 'the', 'SHAP': 0.0005972406268119901}, {'Word': '/>It', 'SHAP': 0.0005732207559049352}, {'Word': 'violence,', 'SHAP': 0.0005701737504932858}, {'Word': 'the', 'SHAP': 0.0005540666636080216}, {'Word': 'in', 'SHAP': 0.0005215126276016391}, {'Word': 'violence.', 'SHAP': 0.0005197187917655999}, {'Word': 'violence.', 'SHAP': 0.0005098693817853772}, {'Word': 'as', 'SHAP': 0.000506641638394284}, {'Word': 'mess', 'SHAP': 0.0004860297045047868}, {'Word': 'cells', 'SHAP': 0.00044271548469621}, {'Word': 'kill', 'SHAP': 0.0004226852953434501}, {'Word': 'prison', 'SHAP': 0.00041021426157386576}, {'Word': 'mentioned', 'SHAP': 0.0003997143904598266}, {'Word': 'viewing....thats', 'SHAP': 0.00039903708675406713}, {'Word': 'Oz', 'SHAP': 0.00036968853324648165}, {'Word': 'Oswald', 'SHAP': 0.00035795308649538837}, {'Word': 'was', 'SHAP': 0.0003027201510849564}, {'Word': 'is', 'SHAP': 0.00029889233177526897}, {'Word': 'inwards,', 'SHAP': 0.0002682641497813165}, {'Word': 'gangstas,', 'SHAP': 0.00026416655629879493}, {'Word': 'street', 'SHAP': 0.00022330321400654274}, {'Word': 'stares,', 'SHAP': 0.0002180901552969461}, {'Word': 'episode', 'SHAP': 0.00021178031977459044}, {'Word': 'would', 'SHAP': 0.0001869171112775514}, {'Word': 'and', 'SHAP': 0.00016934990009756512}, {'Word': 'are', 'SHAP': 0.00015478360946874492}, {'Word': 'high', 'SHAP': 0.00013802472501994734}, {'Word': 'hooked.', 'SHAP': 0.0001222099922597586}, {'Word': 'set', 'SHAP': 0.00011010985399484419}, {'Word': 'ready', 'SHAP': 0.0001034282159525779}, {'Word': 'and', 'SHAP': 0.0001016272354172898}, {'Word': 'Oz', 'SHAP': 9.156858548520219e-05}, {'Word': 'use', 'SHAP': 9.011976420875145e-05}, {'Word': 'show', 'SHAP': 6.989255547529272e-05}, {'Word': 'is', 'SHAP': 6.586909765246562e-05}, {'Word': 'mannered,', 'SHAP': 4.120185039935276e-05}, {'Word': 'may', 'SHAP': 2.87617859430489e-05}, {'Word': 'shows', 'SHAP': -7.493982557171819e-06}, {'Word': 'shady', 'SHAP': -2.971518668345996e-05}, {'Word': 'the', 'SHAP': -4.691455513239351e-05}, {'Word': 'be', 'SHAP': -6.154626607896008e-05}, {'Word': 'The', 'SHAP': -6.266450975089821e-05}, {'Word': 'Its', 'SHAP': -8.074410259717446e-05}, {'Word': 'forget', 'SHAP': -8.440019097183393e-05}, {'Word': 'what', 'SHAP': -9.777220198883829e-05}, {'Word': 'more,', 'SHAP': -0.00010234557092186902}, {'Word': 'is', 'SHAP': -0.0001416676136432038}, {'Word': 'the', 'SHAP': -0.00014598492199185964}, {'Word': 'nickel,', 'SHAP': -0.00016140172025191912}, {'Word': 'agenda.', 'SHAP': -0.00023249036523331768}, {'Word': 'is', 'SHAP': -0.00023768857121470033}, {'Word': 'prison', 'SHAP': -0.0002530643343925387}, {'Word': 'around.', 'SHAP': -0.00025530793322445233}, {'Word': 'of', 'SHAP': -0.00026032665132791344}, {'Word': 'get', 'SHAP': -0.00027069970965382106}, {'Word': 'I', 'SHAP': -0.00028544545173642133}, {'Word': 'an', 'SHAP': -0.00031086406706887226}, {'Word': 'out', 'SHAP': -0.00032100729178641263}, {'Word': 'word.<br', 'SHAP': -0.00033654367551205766}, {'Word': 'dare.', 'SHAP': -0.0003602772811427679}, {'Word': 'to', 'SHAP': -0.000379410618916165}, {'Word': '/>I', 'SHAP': -0.0004512710322160385}, {'Word': 'reviewers', 'SHAP': -0.00045469756925739513}, {'Word': 'I', 'SHAP': -0.0005169653134180496}, {'Word': 'watched', 'SHAP': -0.0005200413148850058}, {'Word': 'it,', 'SHAP': -0.0005723220226355186}, {'Word': '/><br', 'SHAP': -0.0006570590335104598}, {'Word': 'as', 'SHAP': -0.0006610081168764714}, {'Word': 'it,', 'SHAP': -0.000701767602004133}, {'Word': 'dodgy', 'SHAP': -0.0007333876576740561}, {'Word': 'charm,', 'SHAP': -0.0007495355478022159}, {'Word': 'pulls', 'SHAP': -0.0007799302577040645}, {'Word': 'Emerald', 'SHAP': -0.0008069256923067536}, {'Word': 'the', 'SHAP': -0.0008096840340295064}, {'Word': 'say', 'SHAP': -0.0008172469116425329}, {'Word': 'One', 'SHAP': -0.0008321877905109187}, {'Word': 'dealings', 'SHAP': -0.0008355252331239127}, {'Word': 'taste', 'SHAP': -0.0009167388291098089}, {'Word': 'where', 'SHAP': -0.000926448106765787}, {'Word': 'the', 'SHAP': -0.0009549349918961947}, {'Word': 'developed', 'SHAP': -0.0009609240293502741}, {'Word': 'due', 'SHAP': -0.0010124844301026559}, {'Word': '(crooked', 'SHAP': -0.0010168178912772774}, {'Word': 'you', 'SHAP': -0.0010611919895745503}, {'Word': 'struck', 'SHAP': -0.00109294452281114}, {'Word': 'the', 'SHAP': -0.0011726613482460901}, {'Word': 'the', 'SHAP': -0.0011755223799627956}, {'Word': 'nasty', 'SHAP': -0.001179678901098713}, {'Word': 'punches', 'SHAP': -0.0011804155536810912}, {'Word': 'to', 'SHAP': -0.0011822282732600886}, {'Word': 'fact', 'SHAP': -0.0012460591188346026}, {'Word': 'become', 'SHAP': -0.0012669665133580865}, {'Word': 'and', 'SHAP': -0.0012825405597686745}, {'Word': 'more....so', 'SHAP': -0.0012850479052940456}, {'Word': 'can', 'SHAP': -0.0013083513826131488}, {'Word': 'its', 'SHAP': -0.0013342763483524256}, {'Word': 'turned', 'SHAP': -0.0013697971140050336}, {'Word': 'Maximum', 'SHAP': -0.0013854720732046633}, {'Word': 'OZ', 'SHAP': -0.0013862258323933951}, {'Word': 'the', 'SHAP': -0.0013991090655326721}, {'Word': 'inmates', 'SHAP': -0.0014132510544731802}, {'Word': 'hearted', 'SHAP': -0.0014456445608084234}, {'Word': \"you'll\", 'SHAP': -0.0014722178910653583}, {'Word': 'touch', 'SHAP': -0.0015180939715355724}, {'Word': 'or', 'SHAP': -0.001609413772821422}, {'Word': 'many..Aryans,', 'SHAP': -0.0016183602996170388}, {'Word': 'well', 'SHAP': -0.0016421957686543198}, {'Word': 'Trust', 'SHAP': -0.001659986153244919}, {'Word': 'State', 'SHAP': -0.0016768075865911392}, {'Word': 'of', 'SHAP': -0.0017868946690578202}, {'Word': 'agreements', 'SHAP': -0.001806092089973399}, {'Word': '/><br', 'SHAP': -0.0018427790585002213}, {'Word': 'or', 'SHAP': -0.0018429193238261865}, {'Word': 'Oz,', 'SHAP': -0.001858438242488769}, {'Word': 'uncomfortable', 'SHAP': -0.0019126986851915606}, {'Word': 'side.', 'SHAP': -0.0019172320887446137}, {'Word': 'nickname', 'SHAP': -0.0019533865433186692}, {'Word': 'Security', 'SHAP': -0.002022569550899772}, {'Word': 'regards', 'SHAP': -0.0020384344458580506}, {'Word': 'just', 'SHAP': -0.0020568707629354532}, {'Word': 'Latinos,', 'SHAP': -0.002087588747958724}, {'Word': 'class', 'SHAP': -0.0020877555195374653}, {'Word': 'which', 'SHAP': -0.002268012940476183}, {'Word': 'brutality', 'SHAP': -0.0022848611499648175}, {'Word': 'to', 'SHAP': -0.002767148707062017}, {'Word': 'bitches', 'SHAP': -0.002775216153822868}, {'Word': 'Forget', 'SHAP': -0.0028522708695526977}, {'Word': 'of', 'SHAP': -0.002886851995717754}, {'Word': 'was', 'SHAP': -0.0029069434935218297}, {'Word': 'graphic', 'SHAP': -0.0030305997728828082}, {'Word': 'or', 'SHAP': -0.0031006882010012615}, {'Word': 'a', 'SHAP': -0.003114497850569886}, {'Word': \"who'll\", 'SHAP': -0.0032449417747557052}, {'Word': 'just', 'SHAP': -0.003300482481718048}, {'Word': \"couldn't\", 'SHAP': -0.003355998527258597}, {'Word': 'for', 'SHAP': -0.003376246993284482}, {'Word': 'word', 'SHAP': -0.003682939747923192}, {'Word': 'all', 'SHAP': -0.003777950211369896}, {'Word': 'was', 'SHAP': -0.004068249060183049}, {'Word': 'but', 'SHAP': -0.004102637788746477}, {'Word': 'right,', 'SHAP': -0.004253588688554827}, {'Word': 'main', 'SHAP': -0.0042986076505621695}, {'Word': 'away.<br', 'SHAP': -0.004322627782821609}, {'Word': 'This', 'SHAP': -0.004532549522286905}, {'Word': 'not', 'SHAP': -0.004923149318201536}, {'Word': 'for', 'SHAP': -0.00523061960004273}, {'Word': 'order', 'SHAP': -0.005290171978995173}, {'Word': 'episode', 'SHAP': -0.005566945124883205}, {'Word': 'exactly', 'SHAP': -0.005573424842423236}, {'Word': 'that', 'SHAP': -0.005755929879155686}, {'Word': 'after', 'SHAP': -0.005803281130958987}, {'Word': 'get', 'SHAP': -0.005876795282383718}, {'Word': 'fronts', 'SHAP': -0.005951047931412129}, {'Word': 'me,', 'SHAP': -0.006150746596977175}, {'Word': 'me.<br', 'SHAP': -0.006234169593080929}, {'Word': 'It', 'SHAP': -0.006358394643757481}, {'Word': 'due', 'SHAP': -0.007419582377187872}, {'Word': 'from', 'SHAP': -0.008252517729997577}, {'Word': 'City', 'SHAP': -0.008622524735023951}, {'Word': 'is', 'SHAP': -0.008889296239619787}, {'Word': 'is', 'SHAP': -0.00934524595504621}, {'Word': 'other', 'SHAP': -0.009788380581303546}, {'Word': 'experience)', 'SHAP': -0.010422433905769135}, {'Word': 'into', 'SHAP': -0.010995977260172374}, {'Word': 'show', 'SHAP': -0.012454318717937007}, {'Word': 'on', 'SHAP': -0.0132665098201869}, {'Word': 'mainstream', 'SHAP': -0.01422812559641895}, {'Word': 'for', 'SHAP': -0.01657969876396234}, {'Word': 'mainly', 'SHAP': -0.020233821435977017}, {'Word': 'this', 'SHAP': -0.020667815869746836}, {'Word': 'surreal,', 'SHAP': -0.025044659972190852}, {'Word': 'got', 'SHAP': -0.033060267027467505}, {'Word': 'I', 'SHAP': -0.0366905681358185}, {'Word': 'if', 'SHAP': -0.038743256600573706}, {'Word': 'darker', 'SHAP': -0.04390023863243414}, {'Word': 'audiences,', 'SHAP': -0.04981923762379206}]\n"
     ]
    }
   ],
   "source": [
    "first_shaps = first_explanation[0].values\n",
    "word_list = list(df.iloc[0].review.split(sep=\" \"))\n",
    "word_vs_shap = list() # list containing the respective word and its shapley additive explanation value\n",
    "\n",
    "for i in range(len(word_list)):\n",
    "    word_vs_shap.append({\"Word\": word_list[i], \"SHAP\": first_shaps[i]})\n",
    "\n",
    "# sorting it so we can visualise it easily\n",
    "\n",
    "def bubbleSort(arr):\n",
    "    n = len(arr)\n",
    "    # optimize code, so if the array is already sorted, it doesn't need\n",
    "    # to go through the entire process\n",
    "    swapped = False\n",
    "    # Traverse through all array elements\n",
    "    for i in range(n-1):\n",
    "        # range(n) also work but outer loop will\n",
    "        # repeat one time more than needed.\n",
    "        # Last i elements are already in place\n",
    "        for j in range(0, n-i-1):\n",
    " \n",
    "            # traverse the array from 0 to n-i-1\n",
    "            # Swap if the element found is greater\n",
    "            # than the next element\n",
    "            if arr[j][\"SHAP\"] < arr[j + 1][\"SHAP\"]:\n",
    "                swapped = True\n",
    "                arr[j], arr[j + 1] = arr[j + 1], arr[j]\n",
    "         \n",
    "        if not swapped:\n",
    "            # if we haven't needed to make a single swap, we \n",
    "            # can just exit the main loop.\n",
    "            return\n",
    "sorted_word_vs_shap = bubbleSort(word_vs_shap)\n",
    "print(word_vs_shap)\n"
   ]
  },
  {
   "cell_type": "markdown",
   "metadata": {},
   "source": [
    "Visualising the SHAP values"
   ]
  },
  {
   "cell_type": "code",
   "execution_count": 15,
   "metadata": {},
   "outputs": [
    {
     "name": "stdout",
     "output_type": "stream",
     "text": [
      "i: 0 position: 32 layer: 1\n",
      "H\n",
      "i: 1 position: 16 layer: 3\n",
      "i: 2 position: 48 layer: 3\n",
      "H\n",
      "i: 3 position: 8 layer: 5\n",
      "i: 4 position: 16 layer: 5\n",
      "i: 5 position: 48 layer: 5\n",
      "i: 6 position: 56 layer: 5\n"
     ]
    }
   ],
   "source": [
    "import tkinter as tk\n",
    "from tkinter import *\n",
    "from tkinter import ttk\n",
    "max_size=64\n",
    "\n",
    "root = tk.Tk()\n",
    "frm = ttk.Frame(root, padding=10)\n",
    "frm.grid()\n",
    "frm.rowconfigure(max_size*3) \n",
    "frm.columnconfigure(max_size)\n",
    "sorted_word_vs_shap = word_vs_shap\n",
    "layer = 1; position = 0\n",
    "counter = 0\n",
    "for i in range(0, 7):\n",
    "    if(i != 0):\n",
    "        if (counter == 1):\n",
    "            position += int(max_size / pow(2, layer-4))\n",
    "            counter = 0\n",
    "        else:\n",
    "            position += int(max_size / pow(2, layer-2))\n",
    "            counter += 1        \n",
    "    else:\n",
    "        position += 32\n",
    "    \n",
    "    if(i > pow(2, layer-2)):\n",
    "        if(counter == 0):\n",
    "            position = int(max_size / pow(2, layer))\n",
    "        else:\n",
    "            position = int(max_size / pow(2, layer+1))\n",
    "        layer += 2\n",
    "        counter = 0\n",
    "        print(\"H\")\n",
    "    \n",
    "\n",
    "    print(\"i: {} position: {} layer: {}\".format(i, position, layer))\n",
    "    # the starting position is max_size / pow(2, layer)\n",
    "    ttk.Label(root, text=round(sorted_word_vs_shap[i][\"SHAP\"], 5), width=30, wraplength=100, justify=\"center\", font=(\"Arial\", 14)).grid(column=position, row=layer)\n",
    "    ttk.Label(root, text=sorted_word_vs_shap[i][\"Word\"], width=30, wraplength=100, justify=\"center\", font=(\"Arial\", 14)).grid(column=position, row=layer+1)\n",
    "\n",
    "\n",
    "# root.mainloop()"
   ]
  },
  {
   "cell_type": "code",
   "execution_count": 14,
   "metadata": {},
   "outputs": [],
   "source": [
    "root.mainloop()"
   ]
  }
 ],
 "metadata": {
  "kernelspec": {
   "display_name": "graphsageoncora",
   "language": "python",
   "name": "python3"
  },
  "language_info": {
   "codemirror_mode": {
    "name": "ipython",
    "version": 3
   },
   "file_extension": ".py",
   "mimetype": "text/x-python",
   "name": "python",
   "nbconvert_exporter": "python",
   "pygments_lexer": "ipython3",
   "version": "3.8.17"
  },
  "orig_nbformat": 4
 },
 "nbformat": 4,
 "nbformat_minor": 2
}
