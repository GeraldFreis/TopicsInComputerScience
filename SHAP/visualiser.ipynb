{
 "cells": [
  {
   "cell_type": "markdown",
   "metadata": {},
   "source": [
    "This code allows the visualisation of SHAP values for interpretability measures"
   ]
  },
  {
   "cell_type": "code",
   "execution_count": 1,
   "metadata": {},
   "outputs": [
    {
     "name": "stderr",
     "output_type": "stream",
     "text": [
      "IProgress not found. Please update jupyter and ipywidgets. See https://ipywidgets.readthedocs.io/en/stable/user_install.html\n"
     ]
    }
   ],
   "source": [
    "import shap\n",
    "import pandas as pd\n",
    "import matplotlib.pyplot as plt\n",
    "import sklearn as sk\n",
    "from sklearn.model_selection import train_test_split\n",
    "import tensorflow as tf\n",
    "import keras\n",
    "from tensorflow.keras.preprocessing.text import Tokenizer\n",
    "from tensorflow.keras.utils import pad_sequences"
   ]
  },
  {
   "cell_type": "code",
   "execution_count": 2,
   "metadata": {},
   "outputs": [],
   "source": [
    "df = pd.read_csv(\"../IMDB_with_predictions.csv\")[0:1000:1]\n",
    "model = keras.models.load_model(\"../CNN_Non_Dense\")\n",
    "\n",
    "tokenizer = Tokenizer()\n",
    "tokenizer.fit_on_texts(df.review)\n",
    "tokenized_texts = tokenizer.texts_to_sequences(df.review)\n",
    "padded_texts = pad_sequences(tokenized_texts, padding=\"post\", maxlen=1000)\n"
   ]
  },
  {
   "cell_type": "markdown",
   "metadata": {},
   "source": [
    "Training the SHAP model"
   ]
  },
  {
   "cell_type": "code",
   "execution_count": 3,
   "metadata": {},
   "outputs": [
    {
     "name": "stdout",
     "output_type": "stream",
     "text": [
      "  11/2181 [..............................] - ETA: 11s "
     ]
    },
    {
     "name": "stderr",
     "output_type": "stream",
     "text": [
      "2023-10-11 13:08:29.183083: W tensorflow/tsl/platform/profile_utils/cpu_utils.cc:128] Failed to get CPU frequency: 0 Hz\n"
     ]
    },
    {
     "name": "stdout",
     "output_type": "stream",
     "text": [
      "2181/2181 [==============================] - 16s 7ms/step\n"
     ]
    },
    {
     "name": "stderr",
     "output_type": "stream",
     "text": [
      "Permutation explainer:  50%|█████     | 1/2 [00:00<?, ?it/s]"
     ]
    },
    {
     "name": "stdout",
     "output_type": "stream",
     "text": [
      "1575/1575 [==============================] - 11s 7ms/step\n",
      "1269/1269 [==============================] - 8s 7ms/step\n"
     ]
    },
    {
     "name": "stderr",
     "output_type": "stream",
     "text": [
      "Permutation explainer: 3it [00:40, 20.35s/it]               \n"
     ]
    }
   ],
   "source": [
    "explainer = shap.Explainer(model.predict, padded_texts[0:250:1], max_evals=2001)\n",
    "explainer.max_evals = 10000\n",
    "# print(padded_texts[0])\n",
    "first_explanation = explainer(padded_texts[0:2:1])"
   ]
  },
  {
   "cell_type": "markdown",
   "metadata": {},
   "source": [
    "Creating an object to store explanations vs shap values"
   ]
  },
  {
   "cell_type": "code",
   "execution_count": 4,
   "metadata": {},
   "outputs": [
    {
     "name": "stdout",
     "output_type": "stream",
     "text": [
      "[{'Word': 'painted', 'SHAP': 0.353388078253438}, {'Word': 'for', 'SHAP': 0.09064203549490232}, {'Word': 'viewing....thats', 'SHAP': 0.08873609549133105}, {'Word': 'violence,', 'SHAP': 0.06700804302237881}, {'Word': 'romance...OZ', 'SHAP': 0.06303535398954405}, {'Word': 'and', 'SHAP': 0.06227637249125109}, {'Word': 'prison', 'SHAP': 0.05705577796325083}, {'Word': 'skills', 'SHAP': 0.04196603070973648}, {'Word': 'their', 'SHAP': 0.03366013358579037}, {'Word': 'Watching', 'SHAP': 0.032030778952757855}, {'Word': 'say', 'SHAP': 0.03184523354670091}, {'Word': 'ever', 'SHAP': 0.03132558051204801}, {'Word': 'on', 'SHAP': 0.029295555225398895}, {'Word': 'first', 'SHAP': 0.027880839215358694}, {'Word': 'it', 'SHAP': 0.02054257202216833}, {'Word': '/>The', 'SHAP': 0.019217906387893946}, {'Word': 'Italians,', 'SHAP': 0.01855720112853304}, {'Word': 'in', 'SHAP': 0.014873467908619209}, {'Word': 'forget', 'SHAP': 0.012813842757750521}, {'Word': 'but', 'SHAP': 0.012454832653165826}, {'Word': 'with', 'SHAP': 0.011959747905930296}, {'Word': 'Oz,', 'SHAP': 0.011931225918215257}, {'Word': 'can', 'SHAP': 0.011314433440566068}, {'Word': 'are', 'SHAP': 0.01088322988187429}, {'Word': 'guards', 'SHAP': 0.01068748834441069}, {'Word': 'was', 'SHAP': 0.010275910877389813}, {'Word': 'pictures', 'SHAP': 0.008979827336734136}, {'Word': 'of', 'SHAP': 0.008279485309612922}, {'Word': 'thing', 'SHAP': 0.008076963031780904}, {'Word': 'and', 'SHAP': 0.007544313497890032}, {'Word': 'nickel,', 'SHAP': 0.007485297758985293}, {'Word': 'home', 'SHAP': 0.00683939594950056}, {'Word': 'inmates', 'SHAP': 0.006798687928821878}, {'Word': 'side.', 'SHAP': 0.006458681216190615}, {'Word': 'given', 'SHAP': 0.0063468272861792185}, {'Word': 'accustomed', 'SHAP': 0.006297509411815533}, {'Word': 'Christians,', 'SHAP': 0.0062073117817635914}, {'Word': 'Muslims,', 'SHAP': 0.00618112789699804}, {'Word': 'mannered,', 'SHAP': 0.005896271336241626}, {'Word': 'in', 'SHAP': 0.005864433839451538}, {'Word': 'so', 'SHAP': 0.005663863537993197}, {'Word': 'or', 'SHAP': 0.005560510171976618}, {'Word': 'just', 'SHAP': 0.0055323463982494825}, {'Word': 'mentioned', 'SHAP': 0.005254862288275042}, {'Word': 'scuffles,', 'SHAP': 0.004923549605300642}, {'Word': 'pulls', 'SHAP': 0.004855077319080053}, {'Word': 'uncomfortable', 'SHAP': 0.004826406019637963}, {'Word': 'a', 'SHAP': 0.004818999338895125}, {'Word': 'pretty', 'SHAP': 0.004537535451236169}, {'Word': 'Penitentary.', 'SHAP': 0.004425862001953662}, {'Word': 'appeal', 'SHAP': 0.004312166840536508}, {'Word': 'GO.', 'SHAP': 0.004221460493135987}, {'Word': 'that', 'SHAP': 0.004170290852780478}, {'Word': 'State', 'SHAP': 0.0040830199480206275}, {'Word': 'this', 'SHAP': 0.004006701988409966}, {'Word': 'me,', 'SHAP': 0.003849946604750576}, {'Word': 'drugs,', 'SHAP': 0.0038355141133069315}, {'Word': 'violence,', 'SHAP': 0.0034712467091594645}, {'Word': 'never', 'SHAP': 0.003454523963973749}, {'Word': 'turned', 'SHAP': 0.003395528118708163}, {'Word': 'far', 'SHAP': 0.003344114843930601}, {'Word': 'the', 'SHAP': 0.003316356419527461}, {'Word': 'graphic', 'SHAP': 0.0030816895235329655}, {'Word': 'faint', 'SHAP': 0.0030164074688945886}, {'Word': 'the', 'SHAP': 0.0030029042583191445}, {'Word': 'that', 'SHAP': 0.0029923963664623687}, {'Word': 'have', 'SHAP': 0.002968293055891996}, {'Word': 'privacy', 'SHAP': 0.002910786253378317}, {'Word': 'sold', 'SHAP': 0.0028892097948119144}, {'Word': 'prison', 'SHAP': 0.0028590131153396064}, {'Word': 'timid.', 'SHAP': 0.002717272559602857}, {'Word': 'watching', 'SHAP': 0.0026666083581449312}, {'Word': 'show', 'SHAP': 0.0026525774723586693}, {'Word': 'me', 'SHAP': 0.0026132398671279145}, {'Word': 'you', 'SHAP': 0.0025452908662555174}, {'Word': 'street', 'SHAP': 0.002525344621390091}, {'Word': 'gangstas,', 'SHAP': 0.002490741133224242}, {'Word': 'the', 'SHAP': 0.002412922920740357}, {'Word': 'forget', 'SHAP': 0.0023686202499084708}, {'Word': 'face', 'SHAP': 0.002327099400572491}, {'Word': 'of', 'SHAP': 0.0023088652686419353}, {'Word': '(crooked', 'SHAP': 0.002283355704857909}, {'Word': 'no', 'SHAP': 0.0022654343053000042}, {'Word': 'other', 'SHAP': 0.002262427909236059}, {'Word': 'for', 'SHAP': 0.0022547339898301433}, {'Word': 'due', 'SHAP': 0.002244244951289137}, {'Word': 'middle', 'SHAP': 0.002237009015516378}, {'Word': 'classic', 'SHAP': 0.002181081669405116}, {'Word': 'but', 'SHAP': 0.002167409361336442}, {'Word': 'fronts', 'SHAP': 0.00216023573186247}, {'Word': 'Irish', 'SHAP': 0.0021269585640402433}, {'Word': 'to', 'SHAP': 0.0020783454319462658}, {'Word': 'use', 'SHAP': 0.00204572366550565}, {'Word': 'kill', 'SHAP': 0.0020078253543761027}, {'Word': 'has', 'SHAP': 0.001997711090516524}, {'Word': 'you', 'SHAP': 0.0019971774489385974}, {'Word': 'right', 'SHAP': 0.0019758430737420174}, {'Word': 'with', 'SHAP': 0.0019571922413797183}, {'Word': 'taste', 'SHAP': 0.0018931375254760685}, {'Word': 'inwards,', 'SHAP': 0.001828018520791369}, {'Word': \"you'll\", 'SHAP': 0.0017003104649484235}, {'Word': 'mainly', 'SHAP': 0.0016950038264576528}, {'Word': 'the', 'SHAP': 0.0016921516218121324}, {'Word': 'the', 'SHAP': 0.0016814840771258166}, {'Word': 'experimental', 'SHAP': 0.0016427444666624325}, {'Word': 'its', 'SHAP': 0.0015534703386947957}, {'Word': 'with', 'SHAP': 0.0015451793000102187}, {'Word': 'what', 'SHAP': 0.0015425966726093088}, {'Word': 'nasty', 'SHAP': 0.0014733858746057704}, {'Word': '/><br', 'SHAP': 0.0014453181205317245}, {'Word': 'the', 'SHAP': 0.001423505056882296}, {'Word': 'be', 'SHAP': 0.0013958126679063099}, {'Word': 'a', 'SHAP': 0.0013680313981603576}, {'Word': 'so', 'SHAP': 0.0013421809774808446}, {'Word': 'word', 'SHAP': 0.0013136335421950474}, {'Word': 'and', 'SHAP': 0.0012759162113070432}, {'Word': 'death', 'SHAP': 0.0012711630659759804}, {'Word': 'and', 'SHAP': 0.0012344009662046962}, {'Word': 'sex', 'SHAP': 0.0012081899325130374}, {'Word': 'is', 'SHAP': 0.0012063585966825552}, {'Word': \"doesn't\", 'SHAP': 0.001201740097021703}, {'Word': 'is', 'SHAP': 0.001184992562048126}, {'Word': 'I', 'SHAP': 0.001146404005839971}, {'Word': 'it,', 'SHAP': 0.0011080262129052887}, {'Word': 'Oswald', 'SHAP': 0.00106305120292291}, {'Word': 'on', 'SHAP': 0.0010346964103939704}, {'Word': 'the', 'SHAP': 0.001029559146845771}, {'Word': 'struck', 'SHAP': 0.0009115411713719324}, {'Word': 'or', 'SHAP': 0.0009080602368339713}, {'Word': 'in', 'SHAP': 0.0008350538904778604}, {'Word': 'is', 'SHAP': 0.0007683534199395825}, {'Word': 'glass', 'SHAP': 0.0007599631667835893}, {'Word': 'episode', 'SHAP': 0.0007491689804010049}, {'Word': 'prison', 'SHAP': 0.0007388039014767644}, {'Word': 'which', 'SHAP': 0.0007114685309352331}, {'Word': 'as', 'SHAP': 0.0006853157166188117}, {'Word': 'nickname', 'SHAP': 0.0006571089442877764}, {'Word': '/>I', 'SHAP': 0.0006108309351838676}, {'Word': 'as', 'SHAP': 0.000595784176985012}, {'Word': 'out', 'SHAP': 0.0005628357827663355}, {'Word': 'the', 'SHAP': 0.0005080005899072149}, {'Word': 'They', 'SHAP': 0.0004617543445102068}, {'Word': 'are', 'SHAP': 0.0004550038584921201}, {'Word': 'right,', 'SHAP': 0.00042808788748516236}, {'Word': 'may', 'SHAP': 0.00039861172437663517}, {'Word': 'ready', 'SHAP': 0.0003544266824610509}, {'Word': 'show', 'SHAP': 0.00034313617492448545}, {'Word': 'unflinching', 'SHAP': 0.00033554372107121033}, {'Word': 'is', 'SHAP': 0.0002719247183631812}, {'Word': 'brutality', 'SHAP': 0.00018422373221255173}, {'Word': 'I', 'SHAP': 0.00015888686350082337}, {'Word': 'away.<br', 'SHAP': 0.00014231956331060835}, {'Word': 'an', 'SHAP': 0.00012663114097904993}, {'Word': 'violence.', 'SHAP': 0.00011218837997034603}, {'Word': 'a', 'SHAP': 0.00010953332915961123}, {'Word': 'of', 'SHAP': 9.889516513793273e-05}, {'Word': 'first', 'SHAP': 8.748132190702917e-05}, {'Word': 'of', 'SHAP': 8.72780266217843e-05}, {'Word': 'to', 'SHAP': 8.380605868296698e-05}, {'Word': 'with', 'SHAP': 7.549990317784472e-05}, {'Word': 'Oz,', 'SHAP': 3.5534801259284876e-06}, {'Word': 'watched', 'SHAP': -1.741760643203527e-05}, {'Word': 'would', 'SHAP': -3.8699153810772824e-05}, {'Word': 'get', 'SHAP': -4.566982388495844e-05}, {'Word': 'comfortable', 'SHAP': -5.865021355022648e-05}, {'Word': 'violence.', 'SHAP': -6.932370364665097e-05}, {'Word': 'One', 'SHAP': -8.883457630873282e-05}, {'Word': 'for', 'SHAP': -0.0001031834754394445}, {'Word': 'more....so', 'SHAP': -0.00010649987298164132}, {'Word': 'the', 'SHAP': -0.00012486208169773527}, {'Word': 'it,', 'SHAP': -0.00013535325881094962}, {'Word': 'around.', 'SHAP': -0.00014419974060728147}, {'Word': 'be', 'SHAP': -0.00021838952787220367}, {'Word': 'Maximum', 'SHAP': -0.00023969501420650907}, {'Word': 'shows', 'SHAP': -0.00024114725762047762}, {'Word': 'City,', 'SHAP': -0.0002499721269123012}, {'Word': 'well', 'SHAP': -0.00027856178508954554}, {'Word': 'fact', 'SHAP': -0.00029237386508615404}, {'Word': 'punches', 'SHAP': -0.0002997854980639758}, {'Word': 'away', 'SHAP': -0.00032893590105230464}, {'Word': 'Em', 'SHAP': -0.00033412759927162194}, {'Word': 'is', 'SHAP': -0.00034270222997295763}, {'Word': 'the', 'SHAP': -0.00034953075897647956}, {'Word': 'more,', 'SHAP': -0.0004783579277136407}, {'Word': 'Latinos,', 'SHAP': -0.0005039655903965878}, {'Word': 'hardcore,', 'SHAP': -0.0005359136118386343}, {'Word': 'of', 'SHAP': -0.000540133315589636}, {'Word': \"who'll\", 'SHAP': -0.000548526612110467}, {'Word': 'saw', 'SHAP': -0.0005827339505776741}, {'Word': 'set', 'SHAP': -0.0005967267713276603}, {'Word': 'show', 'SHAP': -0.0006187051707502722}, {'Word': 'your', 'SHAP': -0.0007387898720117025}, {'Word': 'section', 'SHAP': -0.0007423522694443851}, {'Word': 'Not', 'SHAP': -0.0007688349118689097}, {'Word': 'to', 'SHAP': -0.0007879407308064024}, {'Word': 'touch', 'SHAP': -0.0008227565867127973}, {'Word': 'goes', 'SHAP': -0.000865923614646838}, {'Word': 'to', 'SHAP': -0.0008728043081646514}, {'Word': 'the', 'SHAP': -0.0008833194011822476}, {'Word': 'Security', 'SHAP': -0.000906207910575163}, {'Word': 'levels', 'SHAP': -0.0009264911381433316}, {'Word': 'agenda.', 'SHAP': -0.0009699096687836861}, {'Word': 'stares,', 'SHAP': -0.0009733537710599205}, {'Word': 'become', 'SHAP': -0.001003432795405379}, {'Word': 'get', 'SHAP': -0.001045882101734591}, {'Word': 'as', 'SHAP': -0.0010500221123629638}, {'Word': 'class', 'SHAP': -0.0010733338911086132}, {'Word': 'word.<br', 'SHAP': -0.0010834862058982098}, {'Word': 'being', 'SHAP': -0.0011064799781070334}, {'Word': 'dare.', 'SHAP': -0.0011378520533071312}, {'Word': 'I', 'SHAP': -0.0011423010687576785}, {'Word': 'say', 'SHAP': -0.001252232718397861}, {'Word': 'that', 'SHAP': -0.0012747090969970065}, {'Word': 'where', 'SHAP': -0.0013052430233801704}, {'Word': 'shady', 'SHAP': -0.001340942905517284}, {'Word': 'high', 'SHAP': -0.0013876875667665212}, {'Word': 'The', 'SHAP': -0.001400847542163297}, {'Word': 'with', 'SHAP': -0.001441952139139141}, {'Word': 'charm,', 'SHAP': -0.0014872717892285559}, {'Word': \"wouldn't\", 'SHAP': -0.0015399581510882332}, {'Word': 'exactly', 'SHAP': -0.0016292835690546736}, {'Word': 'to', 'SHAP': -0.0016709766752319999}, {'Word': '1', 'SHAP': -0.0017353078431187885}, {'Word': 'City', 'SHAP': -0.0017643199396570608}, {'Word': '/><br', 'SHAP': -0.0018508604762610126}, {'Word': 'cells', 'SHAP': -0.0018801303266445524}, {'Word': '/><br', 'SHAP': -0.0018951489713958936}, {'Word': 'what', 'SHAP': -0.0019306339276954354}, {'Word': 'the', 'SHAP': -0.001936736375255349}, {'Word': 'of', 'SHAP': -0.0019382739369757096}, {'Word': 'after', 'SHAP': -0.0019727433460866584}, {'Word': 'all', 'SHAP': -0.002230066455535945}, {'Word': 'is', 'SHAP': -0.0022724369983598003}, {'Word': 'for', 'SHAP': -0.0023678650608053575}, {'Word': 'struck', 'SHAP': -0.0024078334043178967}, {'Word': 'it', 'SHAP': -0.0024239120475249287}, {'Word': \"who'll\", 'SHAP': -0.002466384465806215}, {'Word': 'was', 'SHAP': -0.0024806765752964643}, {'Word': 'Oz', 'SHAP': -0.0024992240520077813}, {'Word': 'Its', 'SHAP': -0.002520081375841962}, {'Word': '/>It', 'SHAP': -0.0026799531530559972}, {'Word': \"couldn't\", 'SHAP': -0.002691551011848786}, {'Word': 'me', 'SHAP': -0.0026922198863758295}, {'Word': 'the', 'SHAP': -0.0027266793698072778}, {'Word': 'order', 'SHAP': -0.0028105965204304195}, {'Word': 'main', 'SHAP': -0.0030881137959659355}, {'Word': 'as', 'SHAP': -0.0032028525817849873}, {'Word': 'Forget', 'SHAP': -0.003324286382412528}, {'Word': 'inmates', 'SHAP': -0.0033277880470267973}, {'Word': 'dealings', 'SHAP': -0.003433862838865015}, {'Word': 'happened', 'SHAP': -0.003449604347997598}, {'Word': 'of', 'SHAP': -0.003484327876940349}, {'Word': 'Oz', 'SHAP': -0.003498054588529864}, {'Word': 'dodgy', 'SHAP': -0.0035265797609463356}, {'Word': 'was', 'SHAP': -0.0037039083382114923}, {'Word': 'hearted', 'SHAP': -0.0038491882917514597}, {'Word': 'reviewers', 'SHAP': -0.003942241244949407}, {'Word': 'the', 'SHAP': -0.004079353596898677}, {'Word': 'that', 'SHAP': -0.004214772500345104}, {'Word': 'Trust', 'SHAP': -0.004376024734451728}, {'Word': 'where', 'SHAP': -0.004678893029558817}, {'Word': 'regards', 'SHAP': -0.00476445051375779}, {'Word': 'mess', 'SHAP': -0.004813048319856489}, {'Word': 'mainstream', 'SHAP': -0.005080250154614954}, {'Word': 'many..Aryans,', 'SHAP': -0.005124047966674039}, {'Word': 'agreements', 'SHAP': -0.0051622762111946385}, {'Word': 'developed', 'SHAP': -0.005261102274525864}, {'Word': 'or', 'SHAP': -0.005430293135577802}, {'Word': 'This', 'SHAP': -0.00553529958633589}, {'Word': 'other', 'SHAP': -0.005706677142970823}, {'Word': 'focuses', 'SHAP': -0.006144657867262093}, {'Word': 'is', 'SHAP': -0.006168276558746577}, {'Word': 'I', 'SHAP': -0.006197451222687944}, {'Word': 'about', 'SHAP': -0.006269258502468358}, {'Word': 'is', 'SHAP': -0.006957355656513717}, {'Word': 'high', 'SHAP': -0.006987986213243841}, {'Word': 'just', 'SHAP': -0.007428640817233878}, {'Word': 'called', 'SHAP': -0.007564189121476356}, {'Word': 'OZ', 'SHAP': -0.007815950013464273}, {'Word': 'from', 'SHAP': -0.00801515409562853}, {'Word': 'if', 'SHAP': -0.008123646435744841}, {'Word': 'to', 'SHAP': -0.008189017132390342}, {'Word': 'due', 'SHAP': -0.008558051594009186}, {'Word': 'hooked.', 'SHAP': -0.009274084418430029}, {'Word': 'It', 'SHAP': -0.009276730597484864}, {'Word': 'not', 'SHAP': -0.010144125310471264}, {'Word': 'and', 'SHAP': -0.011597975514450826}, {'Word': 'not', 'SHAP': -0.01273418976067378}, {'Word': 'for', 'SHAP': -0.013606026432826185}, {'Word': 'I', 'SHAP': -0.013804845209233474}, {'Word': 'experience)', 'SHAP': -0.014171186442345038}, {'Word': 'injustice', 'SHAP': -0.016958258123777353}, {'Word': 'me.<br', 'SHAP': -0.021137701506515894}, {'Word': 'this', 'SHAP': -0.022558818858233298}, {'Word': 'scenes', 'SHAP': -0.023407692737237057}, {'Word': 'episode', 'SHAP': -0.025413670975249297}, {'Word': 'is', 'SHAP': -0.025480527892941612}, {'Word': 'bitches', 'SHAP': -0.0257001630166451}, {'Word': 'and', 'SHAP': -0.02626377852226143}, {'Word': 'audiences,', 'SHAP': -0.027457337713083257}, {'Word': 'on', 'SHAP': -0.02777438475604696}, {'Word': 'lack', 'SHAP': -0.02864584546281551}, {'Word': 'got', 'SHAP': -0.03331157540960705}, {'Word': 'Emerald', 'SHAP': -0.03961939691802399}, {'Word': 'surreal,', 'SHAP': -0.05273953919997437}, {'Word': 'darker', 'SHAP': -0.057470683399224065}, {'Word': 'into', 'SHAP': -0.08491936862468719}]\n"
     ]
    }
   ],
   "source": [
    "first_shaps = first_explanation[0].values\n",
    "word_list = list(df.iloc[0].review.split(sep=\" \"))\n",
    "word_vs_shap = list() # list containing the respective word and its shapley additive explanation value\n",
    "\n",
    "for i in range(len(word_list)):\n",
    "    word_vs_shap.append({\"Word\": word_list[i], \"SHAP\": first_shaps[i]})\n",
    "\n",
    "# sorting it so we can visualise it easily\n",
    "\n",
    "def bubbleSort(arr):\n",
    "    n = len(arr)\n",
    "    # optimize code, so if the array is already sorted, it doesn't need\n",
    "    # to go through the entire process\n",
    "    swapped = False\n",
    "    # Traverse through all array elements\n",
    "    for i in range(n-1):\n",
    "        # range(n) also work but outer loop will\n",
    "        # repeat one time more than needed.\n",
    "        # Last i elements are already in place\n",
    "        for j in range(0, n-i-1):\n",
    " \n",
    "            # traverse the array from 0 to n-i-1\n",
    "            # Swap if the element found is greater\n",
    "            # than the next element\n",
    "            if arr[j][\"SHAP\"] < arr[j + 1][\"SHAP\"]:\n",
    "                swapped = True\n",
    "                arr[j], arr[j + 1] = arr[j + 1], arr[j]\n",
    "         \n",
    "        if not swapped:\n",
    "            # if we haven't needed to make a single swap, we \n",
    "            # can just exit the main loop.\n",
    "            return\n",
    "sorted_word_vs_shap = bubbleSort(word_vs_shap)\n",
    "print(word_vs_shap)\n"
   ]
  },
  {
   "cell_type": "markdown",
   "metadata": {},
   "source": [
    "Visualising the SHAP values"
   ]
  },
  {
   "cell_type": "code",
   "execution_count": 5,
   "metadata": {},
   "outputs": [
    {
     "name": "stdout",
     "output_type": "stream",
     "text": [
      "i: 0 position: 32 layer: 1\n",
      "i: 1 position: 16 layer: 3\n",
      "i: 2 position: 48 layer: 3\n",
      "i: 3 position: 8 layer: 5\n",
      "i: 4 position: 16 layer: 5\n",
      "i: 5 position: 48 layer: 5\n",
      "i: 6 position: 56 layer: 5\n"
     ]
    }
   ],
   "source": [
    "import tkinter as tk\n",
    "from tkinter import *\n",
    "from tkinter import ttk\n",
    "max_size=64\n",
    "\n",
    "root = tk.Tk()\n",
    "frm = ttk.Frame(root, padding=10)\n",
    "frm.grid()\n",
    "frm.rowconfigure(max_size*3) \n",
    "frm.columnconfigure(max_size)\n",
    "sorted_word_vs_shap = word_vs_shap\n",
    "layer = 1; position = 0\n",
    "counter = 0\n",
    "for i in range(0, 7):\n",
    "    if(i != 0):\n",
    "        if (counter == 1):\n",
    "            position += int(max_size / pow(2, layer-4))\n",
    "            counter = 0\n",
    "        else:\n",
    "            position += int(max_size / pow(2, layer-2))\n",
    "            counter += 1        \n",
    "    else:\n",
    "        position += 32\n",
    "    \n",
    "    if(i > pow(2, layer-2)):\n",
    "        if(counter == 0):\n",
    "            position = int(max_size / pow(2, layer))\n",
    "        else:\n",
    "            position = int(max_size / pow(2, layer+1))\n",
    "        layer += 2\n",
    "        counter = 0\n",
    "    \n",
    "\n",
    "    print(\"i: {} position: {} layer: {}\".format(i, position, layer))\n",
    "    # the starting position is max_size / pow(2, layer)\n",
    "    ttk.Label(root, text=round(sorted_word_vs_shap[i][\"SHAP\"], 5), width=30, wraplength=100, justify=\"center\", font=(\"Arial\", 14)).grid(column=position, row=layer)\n",
    "    ttk.Label(root, text=sorted_word_vs_shap[i][\"Word\"], width=30, wraplength=100, justify=\"center\", font=(\"Arial\", 14)).grid(column=position, row=layer+1)\n",
    "\n",
    "\n",
    "# root.mainloop()"
   ]
  },
  {
   "cell_type": "code",
   "execution_count": 6,
   "metadata": {},
   "outputs": [],
   "source": [
    "root.mainloop()"
   ]
  }
 ],
 "metadata": {
  "kernelspec": {
   "display_name": "graphsageoncora",
   "language": "python",
   "name": "python3"
  },
  "language_info": {
   "codemirror_mode": {
    "name": "ipython",
    "version": 3
   },
   "file_extension": ".py",
   "mimetype": "text/x-python",
   "name": "python",
   "nbconvert_exporter": "python",
   "pygments_lexer": "ipython3",
   "version": "3.8.17"
  },
  "orig_nbformat": 4
 },
 "nbformat": 4,
 "nbformat_minor": 2
}
