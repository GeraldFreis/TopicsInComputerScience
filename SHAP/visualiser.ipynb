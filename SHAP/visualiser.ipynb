{
 "cells": [
  {
   "cell_type": "markdown",
   "metadata": {},
   "source": [
    "This code allows the visualisation of SHAP values for interpretability measures"
   ]
  },
  {
   "cell_type": "code",
   "execution_count": 1,
   "metadata": {},
   "outputs": [
    {
     "name": "stderr",
     "output_type": "stream",
     "text": [
      "IProgress not found. Please update jupyter and ipywidgets. See https://ipywidgets.readthedocs.io/en/stable/user_install.html\n"
     ]
    }
   ],
   "source": [
    "import shap\n",
    "import pandas as pd\n",
    "import matplotlib.pyplot as plt\n",
    "import sklearn as sk\n",
    "from sklearn.model_selection import train_test_split\n",
    "import tensorflow as tf\n",
    "import keras\n",
    "from tensorflow.keras.preprocessing.text import Tokenizer\n",
    "from tensorflow.keras.utils import pad_sequences"
   ]
  },
  {
   "cell_type": "code",
   "execution_count": 8,
   "metadata": {},
   "outputs": [],
   "source": [
    "df = pd.read_csv(\"../IMDB_with_predictions.csv\")[0:1000:1]\n",
    "model = keras.models.load_model(\"../CNN_Non_Dense\")\n",
    "\n",
    "tokenizer = Tokenizer()\n",
    "tokenizer.fit_on_texts(df.review)\n",
    "tokenized_texts = tokenizer.texts_to_sequences(df.review)\n",
    "padded_texts = pad_sequences(tokenized_texts, padding=\"post\", maxlen=1000)\n"
   ]
  },
  {
   "cell_type": "markdown",
   "metadata": {},
   "source": [
    "Training the SHAP model"
   ]
  },
  {
   "cell_type": "code",
   "execution_count": 10,
   "metadata": {},
   "outputs": [
    {
     "name": "stdout",
     "output_type": "stream",
     "text": [
      "2181/2181 [==============================] - 16s 7ms/step\n"
     ]
    },
    {
     "name": "stderr",
     "output_type": "stream",
     "text": [
      "Permutation explainer:  50%|█████     | 1/2 [00:00<?, ?it/s]"
     ]
    },
    {
     "name": "stdout",
     "output_type": "stream",
     "text": [
      "1575/1575 [==============================] - 11s 7ms/step\n",
      "1279/1279 [==============================] - 9s 7ms/step\n"
     ]
    },
    {
     "name": "stderr",
     "output_type": "stream",
     "text": [
      "Permutation explainer: 3it [00:38, 19.42s/it]               \n"
     ]
    }
   ],
   "source": [
    "explainer = shap.Explainer(model.predict, padded_texts[0:250:1], max_evals=2001)\n",
    "explainer.max_evals = 10000\n",
    "# print(padded_texts[0])\n",
    "first_explanation = explainer(padded_texts[0:2:1])"
   ]
  },
  {
   "cell_type": "markdown",
   "metadata": {},
   "source": [
    "Creating an object to store explanations vs shap values"
   ]
  },
  {
   "cell_type": "code",
   "execution_count": 42,
   "metadata": {},
   "outputs": [
    {
     "name": "stdout",
     "output_type": "stream",
     "text": [
      "[{'Word': 'for', 'SHAP': 0.19821724590403395}, {'Word': 'painted', 'SHAP': 0.15581328305081116}, {'Word': 'violence,', 'SHAP': 0.0925168165958894}, {'Word': 'romance...OZ', 'SHAP': 0.0816423126135487}, {'Word': 'their', 'SHAP': 0.051297623365014755}, {'Word': 'and', 'SHAP': 0.033230820278185996}, {'Word': 'Watching', 'SHAP': 0.027766746308188928}, {'Word': 'of', 'SHAP': 0.02457786173594287}, {'Word': 'Italians,', 'SHAP': 0.024425490847061165}, {'Word': 'skills', 'SHAP': 0.023661259703785617}, {'Word': 'so', 'SHAP': 0.0236258314106976}, {'Word': '/>The', 'SHAP': 0.023469660207483672}, {'Word': 'forget', 'SHAP': 0.02181700992747207}, {'Word': 'kill', 'SHAP': 0.01992651870083134}, {'Word': 'say', 'SHAP': 0.018928893630036345}, {'Word': 'and', 'SHAP': 0.018008812061743817}, {'Word': 'high', 'SHAP': 0.016501077777484205}, {'Word': 'prison', 'SHAP': 0.015397845680417938}, {'Word': 'as', 'SHAP': 0.015052941976211959}, {'Word': 'right', 'SHAP': 0.013996227122552274}, {'Word': 'it', 'SHAP': 0.013398687045846625}, {'Word': 'I', 'SHAP': 0.008825559632387042}, {'Word': 'in', 'SHAP': 0.008696421997883619}, {'Word': 'episode', 'SHAP': 0.008519586152942737}, {'Word': \"couldn't\", 'SHAP': 0.008517601646581135}, {'Word': 'in', 'SHAP': 0.008455456825904595}, {'Word': 'experience)', 'SHAP': 0.007548992869569712}, {'Word': 'middle', 'SHAP': 0.0072364552482031}, {'Word': 'home', 'SHAP': 0.0063415853606784145}, {'Word': 'or', 'SHAP': 0.006303259163826125}, {'Word': 'first', 'SHAP': 0.006151409637295713}, {'Word': 'other', 'SHAP': 0.005644270278426122}, {'Word': 'on', 'SHAP': 0.004845867605825976}, {'Word': 'ever', 'SHAP': 0.004764339956218472}, {'Word': 'Penitentary.', 'SHAP': 0.00453481565124092}, {'Word': 'I', 'SHAP': 0.004086768166962407}, {'Word': 'this', 'SHAP': 0.003976929131895346}, {'Word': 'Oz', 'SHAP': 0.0039057811212842297}, {'Word': 'prison', 'SHAP': 0.003572060305887151}, {'Word': 'sold', 'SHAP': 0.0035349426825996566}, {'Word': 'thing', 'SHAP': 0.003332496780203642}, {'Word': 'watching', 'SHAP': 0.0033042556086002317}, {'Word': 'Christians,', 'SHAP': 0.003250495940596926}, {'Word': 'State', 'SHAP': 0.0031526067856543216}, {'Word': \"who'll\", 'SHAP': 0.003039683785755143}, {'Word': 'the', 'SHAP': 0.0030315750293993457}, {'Word': 'scuffles,', 'SHAP': 0.002844505441651074}, {'Word': 'pretty', 'SHAP': 0.0028361549042165424}, {'Word': 'Muslims,', 'SHAP': 0.0028333348291925964}, {'Word': 'away', 'SHAP': 0.002693516578583549}, {'Word': 'GO.', 'SHAP': 0.0026162923319497863}, {'Word': 'more....so', 'SHAP': 0.0025916858762502493}, {'Word': 'not', 'SHAP': 0.0025623795762658164}, {'Word': 'saw', 'SHAP': 0.0024237180009367976}, {'Word': 'around.', 'SHAP': 0.0024109210189090097}, {'Word': 'was', 'SHAP': 0.0023808507306967153}, {'Word': 'violence,', 'SHAP': 0.0023684872469129925}, {'Word': 'gangstas,', 'SHAP': 0.0023535957898911664}, {'Word': 'it,', 'SHAP': 0.0022821843915153683}, {'Word': 'the', 'SHAP': 0.0022790927447931264}, {'Word': 'the', 'SHAP': 0.002237849408902537}, {'Word': 'where', 'SHAP': 0.00216793275321836}, {'Word': 'for', 'SHAP': 0.0021359962201676908}, {'Word': 'is', 'SHAP': 0.002063852514165798}, {'Word': 'pictures', 'SHAP': 0.0020169740675191616}, {'Word': 'but', 'SHAP': 0.0020153970725095838}, {'Word': 'hardcore,', 'SHAP': 0.0018818381566029219}, {'Word': 'of', 'SHAP': 0.0018810862320242094}, {'Word': 'injustice', 'SHAP': 0.0018371498887427284}, {'Word': 'is', 'SHAP': 0.0018174814601661926}, {'Word': 'first', 'SHAP': 0.0017789397084106706}, {'Word': 'that', 'SHAP': 0.0017471297224983529}, {'Word': 'the', 'SHAP': 0.001732932026934586}, {'Word': 'violence.', 'SHAP': 0.0017062445283226868}, {'Word': \"doesn't\", 'SHAP': 0.0016842391435057114}, {'Word': 'Security', 'SHAP': 0.0016536195203661619}, {'Word': 'be', 'SHAP': 0.0016507772449403935}, {'Word': 'is', 'SHAP': 0.0016035615390865565}, {'Word': 'main', 'SHAP': 0.00158438551865403}, {'Word': 'me', 'SHAP': 0.001536319619044657}, {'Word': 'the', 'SHAP': 0.0014716314158750299}, {'Word': 'the', 'SHAP': 0.0014529523253440368}, {'Word': 'the', 'SHAP': 0.0014210546202957641}, {'Word': 'sex', 'SHAP': 0.0013771684276798757}, {'Word': 'inmates', 'SHAP': 0.0013277517660754135}, {'Word': 'graphic', 'SHAP': 0.0013173746806569575}, {'Word': 'show', 'SHAP': 0.001277051902288752}, {'Word': 'classic', 'SHAP': 0.0012250354303978694}, {'Word': 'is', 'SHAP': 0.0012041227740701155}, {'Word': 'faint', 'SHAP': 0.0011752992216498004}, {'Word': 'shady', 'SHAP': 0.0011741381784667881}, {'Word': 'to', 'SHAP': 0.0011364293866063246}, {'Word': '/><br', 'SHAP': 0.0011355429037939596}, {'Word': 'Its', 'SHAP': 0.001115446854382779}, {'Word': 'happened', 'SHAP': 0.001063245966797688}, {'Word': 'scenes', 'SHAP': 0.0010603615559193758}, {'Word': 'that', 'SHAP': 0.0010494235602346025}, {'Word': 'mannered,', 'SHAP': 0.0010063970189366778}, {'Word': 'drugs,', 'SHAP': 0.0010019092858419565}, {'Word': 'get', 'SHAP': 0.0009965903444390523}, {'Word': 'as', 'SHAP': 0.0009833534806966693}, {'Word': 'stares,', 'SHAP': 0.0009679103997040917}, {'Word': 'violence.', 'SHAP': 0.0009549397346563793}, {'Word': 'are', 'SHAP': 0.0009147123390721018}, {'Word': 'and', 'SHAP': 0.0009091753597658125}, {'Word': 'a', 'SHAP': 0.0008895278381533256}, {'Word': 'can', 'SHAP': 0.0008695980906486545}, {'Word': 'use', 'SHAP': 0.0008587875956437008}, {'Word': 'never', 'SHAP': 0.0008564022067002464}, {'Word': 'The', 'SHAP': 0.0008446827220177644}, {'Word': 'and', 'SHAP': 0.0008321567811071864}, {'Word': 'with', 'SHAP': 0.0008044100254482739}, {'Word': 'just', 'SHAP': 0.0008041385444813032}, {'Word': 'levels', 'SHAP': 0.000787645336695314}, {'Word': 'death', 'SHAP': 0.0007847433851566055}, {'Word': 'the', 'SHAP': 0.0007796609608521909}, {'Word': 'it,', 'SHAP': 0.0007685954945918505}, {'Word': 'It', 'SHAP': 0.0007643915086487096}, {'Word': 'or', 'SHAP': 0.0007219544856343074}, {'Word': 'Em', 'SHAP': 0.0007217550976202011}, {'Word': 'privacy', 'SHAP': 0.0006707649497547652}, {'Word': 'focuses', 'SHAP': 0.0006658173387404931}, {'Word': 'due', 'SHAP': 0.0006472250865772466}, {'Word': 'which', 'SHAP': 0.0006377310875597952}, {'Word': 'be', 'SHAP': 0.0006258777063340437}, {'Word': 'face', 'SHAP': 0.0005894216708111077}, {'Word': 'far', 'SHAP': 0.0005814376365560828}, {'Word': 'but', 'SHAP': 0.0005805645766668033}, {'Word': 'unflinching', 'SHAP': 0.0005447840006672783}, {'Word': 'mentioned', 'SHAP': 0.0005356241889239721}, {'Word': 'given', 'SHAP': 0.0005240876233438274}, {'Word': 'show', 'SHAP': 0.0005213854461907919}, {'Word': 'Not', 'SHAP': 0.0004990693261788248}, {'Word': 'to', 'SHAP': 0.000473331641405797}, {'Word': 'has', 'SHAP': 0.0004484456242789814}, {'Word': 'struck', 'SHAP': 0.0004296248126957336}, {'Word': 'with', 'SHAP': 0.0004168893164024079}, {'Word': 'Oswald', 'SHAP': 0.0004006944695720688}, {'Word': 'prison', 'SHAP': 0.0003922714199870725}, {'Word': \"wouldn't\", 'SHAP': 0.00038554865299375574}, {'Word': 'me,', 'SHAP': 0.0003780228394771046}, {'Word': 'are', 'SHAP': 0.00036436108903220576}, {'Word': 'with', 'SHAP': 0.00034917410463095044}, {'Word': 'struck', 'SHAP': 0.00034662740028579275}, {'Word': 'all', 'SHAP': 0.00031550169633418057}, {'Word': '(crooked', 'SHAP': 0.0002996762131805969}, {'Word': 'for', 'SHAP': 0.00022949423101636945}, {'Word': 'you', 'SHAP': 0.00022098335386092072}, {'Word': 'shows', 'SHAP': 0.00021054439246653844}, {'Word': 'Oz,', 'SHAP': 0.00021026375698962596}, {'Word': 'a', 'SHAP': 0.0001731501120957879}, {'Word': 'viewing....thats', 'SHAP': 0.00016685118433093504}, {'Word': 'forget', 'SHAP': 0.00015336877098887092}, {'Word': 'where', 'SHAP': 0.00015299386810509186}, {'Word': 'in', 'SHAP': 8.329311036500697e-05}, {'Word': '/>It', 'SHAP': 7.951291290739237e-05}, {'Word': 'right,', 'SHAP': 3.400788176805003e-05}, {'Word': 'hooked.', 'SHAP': 2.316790721582085e-05}, {'Word': 'and', 'SHAP': 2.235524822025159e-05}, {'Word': 'is', 'SHAP': 9.934512436290954e-06}, {'Word': 'comfortable', 'SHAP': -6.555520230905332e-06}, {'Word': 'street', 'SHAP': -6.679129437525688e-06}, {'Word': 'out', 'SHAP': -2.2060386836525447e-05}, {'Word': 'the', 'SHAP': -4.586183293214807e-05}, {'Word': 'dodgy', 'SHAP': -4.902512300763995e-05}, {'Word': 'reviewers', 'SHAP': -6.55998475850017e-05}, {'Word': 'watched', 'SHAP': -6.940121529624976e-05}, {'Word': 'ready', 'SHAP': -8.626883907703053e-05}, {'Word': 'would', 'SHAP': -9.8799470579225e-05}, {'Word': 'lack', 'SHAP': -0.00011113585904243273}, {'Word': 'say', 'SHAP': -0.00017186695658891887}, {'Word': 'appeal', 'SHAP': -0.0001754713753507886}, {'Word': 'called', 'SHAP': -0.00019735887994104528}, {'Word': 'get', 'SHAP': -0.00019925750792032515}, {'Word': 'was', 'SHAP': -0.00023240929353048057}, {'Word': 'have', 'SHAP': -0.0002329792872297065}, {'Word': 'set', 'SHAP': -0.00025816167661103784}, {'Word': 'away.<br', 'SHAP': -0.00029083597939466577}, {'Word': 'it', 'SHAP': -0.0002938551269471845}, {'Word': 'nasty', 'SHAP': -0.0002981988598185492}, {'Word': 'may', 'SHAP': -0.00032107315026225214}, {'Word': 'Irish', 'SHAP': -0.00033081912612034636}, {'Word': 'an', 'SHAP': -0.00033480111514561095}, {'Word': 'with', 'SHAP': -0.00034743031937981006}, {'Word': 'experimental', 'SHAP': -0.00035088195600110894}, {'Word': 'cells', 'SHAP': -0.00037126816343518304}, {'Word': 'inwards,', 'SHAP': -0.00037752968666612124}, {'Word': 'order', 'SHAP': -0.00041404604678974}, {'Word': 'guards', 'SHAP': -0.0004267527349293698}, {'Word': 'goes', 'SHAP': -0.0004765530998020462}, {'Word': 'inmates', 'SHAP': -0.0004912476698518686}, {'Word': 'agreements', 'SHAP': -0.0004971814792588958}, {'Word': 'to', 'SHAP': -0.0005272782426254743}, {'Word': 'become', 'SHAP': -0.0005278169456869319}, {'Word': 'no', 'SHAP': -0.0005429948341588997}, {'Word': 'One', 'SHAP': -0.0005634073799592187}, {'Word': 'the', 'SHAP': -0.00062046919982095}, {'Word': 'Forget', 'SHAP': -0.0006342701334505901}, {'Word': 'agenda.', 'SHAP': -0.0006446471379422114}, {'Word': 'that', 'SHAP': -0.0006485770965763971}, {'Word': 'taste', 'SHAP': -0.0006604939699172974}, {'Word': 'of', 'SHAP': -0.0007121726963668917}, {'Word': 'of', 'SHAP': -0.0007137168506596847}, {'Word': 'you', 'SHAP': -0.0007253502239473186}, {'Word': 'me', 'SHAP': -0.0007540343066648469}, {'Word': 'of', 'SHAP': -0.0007582803771947755}, {'Word': 'timid.', 'SHAP': -0.0007663072308059654}, {'Word': 'class', 'SHAP': -0.0008473625854821809}, {'Word': 'accustomed', 'SHAP': -0.0008665518613270862}, {'Word': '/><br', 'SHAP': -0.0008698757179081418}, {'Word': 'Oz,', 'SHAP': -0.0008823387138545968}, {'Word': 'pulls', 'SHAP': -0.000894791035625564}, {'Word': 'nickel,', 'SHAP': -0.0009667912777513582}, {'Word': 'a', 'SHAP': -0.0009796840790659012}, {'Word': 'with', 'SHAP': -0.0009833720637106858}, {'Word': 'of', 'SHAP': -0.0010216115892399125}, {'Word': 'high', 'SHAP': -0.001074678330915041}, {'Word': 'touch', 'SHAP': -0.0010879441731958817}, {'Word': 'fact', 'SHAP': -0.0011861139896063855}, {'Word': 'charm,', 'SHAP': -0.0011921527551020938}, {'Word': 'Maximum', 'SHAP': -0.0012324233353138148}, {'Word': 'mainstream', 'SHAP': -0.001258576071995754}, {'Word': 'on', 'SHAP': -0.0013213439774699687}, {'Word': 'the', 'SHAP': -0.0014456421388603924}, {'Word': 'punches', 'SHAP': -0.0014585369280757376}, {'Word': 'City,', 'SHAP': -0.001479296958641546}, {'Word': 'nickname', 'SHAP': -0.0015116637328173588}, {'Word': 'OZ', 'SHAP': -0.0015548256823422202}, {'Word': 'of', 'SHAP': -0.001565861221170084}, {'Word': 'I', 'SHAP': -0.0016030074656009363}, {'Word': 'to', 'SHAP': -0.001605143601191239}, {'Word': 'word.<br', 'SHAP': -0.001630248345127247}, {'Word': 'the', 'SHAP': -0.0016348742729314497}, {'Word': 'its', 'SHAP': -0.001653684985903986}, {'Word': 'more,', 'SHAP': -0.0016797512082848687}, {'Word': '/>I', 'SHAP': -0.0017225508342380569}, {'Word': 'and', 'SHAP': -0.001729897421755576}, {'Word': 'other', 'SHAP': -0.001818229081254702}, {'Word': '/><br', 'SHAP': -0.00182426810733885}, {'Word': 'into', 'SHAP': -0.0018400421304977585}, {'Word': 'for', 'SHAP': -0.0018769018421881042}, {'Word': 'dealings', 'SHAP': -0.0019204404728953017}, {'Word': 'many..Aryans,', 'SHAP': -0.0019613771454897178}, {'Word': 'what', 'SHAP': -0.0020289445890375457}, {'Word': 'side.', 'SHAP': -0.00208308866689097}, {'Word': 'word', 'SHAP': -0.002085531330667467}, {'Word': '1', 'SHAP': -0.0021543795466641424}, {'Word': 'being', 'SHAP': -0.0021827690862119}, {'Word': 'episode', 'SHAP': -0.0021878618232949454}, {'Word': 'what', 'SHAP': -0.0022074786754092135}, {'Word': 'glass', 'SHAP': -0.002356333968127705}, {'Word': 'after', 'SHAP': -0.0024094732485127612}, {'Word': 'as', 'SHAP': -0.0025285627652919807}, {'Word': 'regards', 'SHAP': -0.0025583061463839707}, {'Word': 'the', 'SHAP': -0.002672686245768968}, {'Word': 'section', 'SHAP': -0.002944240533088338}, {'Word': 'fronts', 'SHAP': -0.0029519510053796494}, {'Word': 'They', 'SHAP': -0.0030098351193737355}, {'Word': 'exactly', 'SHAP': -0.0032366796706628786}, {'Word': 'as', 'SHAP': -0.0033676267269766302}, {'Word': 'is', 'SHAP': -0.0033958768413140106}, {'Word': 'Oz', 'SHAP': -0.0034436554589047097}, {'Word': 'to', 'SHAP': -0.003583267932990547}, {'Word': 'uncomfortable', 'SHAP': -0.0037263176076521576}, {'Word': 'is', 'SHAP': -0.003803709264848243}, {'Word': 'the', 'SHAP': -0.003937187150877458}, {'Word': 'show', 'SHAP': -0.004152669873265041}, {'Word': 'so', 'SHAP': -0.004367893481644347}, {'Word': 'was', 'SHAP': -0.004637218785871922}, {'Word': 'that', 'SHAP': -0.004907811229786591}, {'Word': 'just', 'SHAP': -0.004936144611356191}, {'Word': 'developed', 'SHAP': -0.004974214391258988}, {'Word': \"who'll\", 'SHAP': -0.005103986389021903}, {'Word': 'mess', 'SHAP': -0.005317677184648345}, {'Word': 'Latinos,', 'SHAP': -0.005470877284751652}, {'Word': 'if', 'SHAP': -0.005576504189775705}, {'Word': 'City', 'SHAP': -0.005707663270186486}, {'Word': 'to', 'SHAP': -0.005823877772595548}, {'Word': \"you'll\", 'SHAP': -0.005859039188671922}, {'Word': 'dare.', 'SHAP': -0.00594694982200733}, {'Word': 'on', 'SHAP': -0.006321671158329989}, {'Word': 'well', 'SHAP': -0.006489547137171037}, {'Word': 'This', 'SHAP': -0.006676407096747383}, {'Word': 'hearted', 'SHAP': -0.006983329713543762}, {'Word': 'darker', 'SHAP': -0.007034852230499419}, {'Word': 'I', 'SHAP': -0.0072714444695884395}, {'Word': 'is', 'SHAP': -0.007361793459349439}, {'Word': 'Trust', 'SHAP': -0.00767925219857718}, {'Word': 'for', 'SHAP': -0.0077926794010272915}, {'Word': 'turned', 'SHAP': -0.009170102566333743}, {'Word': 'not', 'SHAP': -0.009242370901511088}, {'Word': 'this', 'SHAP': -0.010500361328850003}, {'Word': 'from', 'SHAP': -0.01063625877468441}, {'Word': 'me.<br', 'SHAP': -0.010787319515948177}, {'Word': 'got', 'SHAP': -0.010849623395042696}, {'Word': 'brutality', 'SHAP': -0.010966058819940394}, {'Word': 'Emerald', 'SHAP': -0.011090336263987394}, {'Word': 'is', 'SHAP': -0.0133021293775209}, {'Word': 'due', 'SHAP': -0.015787019161507515}, {'Word': 'surreal,', 'SHAP': -0.01628508850478283}, {'Word': 'about', 'SHAP': -0.016821548044335888}, {'Word': 'or', 'SHAP': -0.019850222457025626}, {'Word': 'your', 'SHAP': -0.021214681196652277}, {'Word': 'mainly', 'SHAP': -0.02171383570661417}, {'Word': 'bitches', 'SHAP': -0.028124644253748568}, {'Word': 'I', 'SHAP': -0.04447022807820758}, {'Word': 'audiences,', 'SHAP': -0.04683431401434062}]\n"
     ]
    }
   ],
   "source": [
    "first_shaps = first_explanation[0].values\n",
    "word_list = list(df.iloc[0].review.split(sep=\" \"))\n",
    "word_vs_shap = list() # list containing the respective word and its shapley additive explanation value\n",
    "\n",
    "for i in range(len(word_list)):\n",
    "    word_vs_shap.append({\"Word\": word_list[i], \"SHAP\": first_shaps[i]})\n",
    "\n",
    "# sorting it so we can visualise it easily\n",
    "\n",
    "def bubbleSort(arr):\n",
    "    n = len(arr)\n",
    "    # optimize code, so if the array is already sorted, it doesn't need\n",
    "    # to go through the entire process\n",
    "    swapped = False\n",
    "    # Traverse through all array elements\n",
    "    for i in range(n-1):\n",
    "        # range(n) also work but outer loop will\n",
    "        # repeat one time more than needed.\n",
    "        # Last i elements are already in place\n",
    "        for j in range(0, n-i-1):\n",
    " \n",
    "            # traverse the array from 0 to n-i-1\n",
    "            # Swap if the element found is greater\n",
    "            # than the next element\n",
    "            if arr[j][\"SHAP\"] < arr[j + 1][\"SHAP\"]:\n",
    "                swapped = True\n",
    "                arr[j], arr[j + 1] = arr[j + 1], arr[j]\n",
    "         \n",
    "        if not swapped:\n",
    "            # if we haven't needed to make a single swap, we \n",
    "            # can just exit the main loop.\n",
    "            return\n",
    "sorted_word_vs_shap = bubbleSort(word_vs_shap)\n",
    "print(word_vs_shap)\n"
   ]
  },
  {
   "cell_type": "markdown",
   "metadata": {},
   "source": [
    "Visualising the SHAP values"
   ]
  },
  {
   "cell_type": "code",
   "execution_count": null,
   "metadata": {},
   "outputs": [],
   "source": []
  }
 ],
 "metadata": {
  "kernelspec": {
   "display_name": "graphsageoncora",
   "language": "python",
   "name": "python3"
  },
  "language_info": {
   "codemirror_mode": {
    "name": "ipython",
    "version": 3
   },
   "file_extension": ".py",
   "mimetype": "text/x-python",
   "name": "python",
   "nbconvert_exporter": "python",
   "pygments_lexer": "ipython3",
   "version": "3.8.17"
  },
  "orig_nbformat": 4
 },
 "nbformat": 4,
 "nbformat_minor": 2
}
