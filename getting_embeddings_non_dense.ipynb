{
 "cells": [
  {
   "cell_type": "code",
   "execution_count": 1,
   "metadata": {},
   "outputs": [],
   "source": [
    "import pandas as pd\n",
    "\n",
    "raw_data = pd.read_csv(\"IMDB_with_predictions.csv\", low_memory=False)\n",
    "\n",
    "# printing statements to check the variables\n",
    "raw_x = raw_data.review; # print(raw_x)\n",
    "raw_y = raw_data.CNN_Predictions; # print(raw_y)\n",
    "\n",
    "number_of_words_in_dic = 37500; \n",
    "\n",
    "import tensorflow as tf\n",
    "from tensorflow.keras.preprocessing.text import Tokenizer\n",
    "tf.config.set_visible_devices([], 'GPU')\n",
    "\n",
    "\n",
    "tokenizer = Tokenizer(num_words=number_of_words_in_dic) # to tokenize the words for learning\n",
    "tokenizer.fit_on_texts(raw_x)\n",
    "tokenized_sentiments = tokenizer.texts_to_sequences(raw_x) # converting the words to number arrays\n",
    "\n",
    "vocab_size = len(tokenizer.word_index) + 1\n",
    "\n",
    "padded_tokenized_sentiments= tf.keras.utils.pad_sequences(tokenized_sentiments, padding=\"post\", maxlen=1000)"
   ]
  },
  {
   "cell_type": "code",
   "execution_count": 2,
   "metadata": {},
   "outputs": [],
   "source": [
    "import keras\n",
    "from keras import Sequential # we will be using this for the CNN\n",
    "from keras import layers\n",
    "import tensorflow as tf\n",
    "import os"
   ]
  },
  {
   "cell_type": "markdown",
   "metadata": {},
   "source": [
    "The code beneath changes every time you run it and hence shows a bad approach to extracting the embeddings"
   ]
  },
  {
   "cell_type": "code",
   "execution_count": 3,
   "metadata": {},
   "outputs": [
    {
     "name": "stdout",
     "output_type": "stream",
     "text": [
      "Model: \"sequential\"\n",
      "_________________________________________________________________\n",
      " Layer (type)                Output Shape              Param #   \n",
      "=================================================================\n",
      " embedding (Embedding)       (None, 1000, 50)          1875000   \n",
      "                                                                 \n",
      " conv1d (Conv1D)             (None, 998, 32)           4832      \n",
      "                                                                 \n",
      " global_max_pooling1d (Globa  (None, 32)               0         \n",
      " lMaxPooling1D)                                                  \n",
      "                                                                 \n",
      " dense (Dense)               (None, 10)                330       \n",
      "                                                                 \n",
      " dense_1 (Dense)             (None, 1)                 11        \n",
      "                                                                 \n",
      "=================================================================\n",
      "Total params: 1,880,173\n",
      "Trainable params: 1,880,173\n",
      "Non-trainable params: 0\n",
      "_________________________________________________________________\n"
     ]
    }
   ],
   "source": [
    "# importing the trained keras cnn\n",
    "CNN = tf.keras.models.load_model(\"CNN_Non_Dense\")\n",
    "CNN.summary()"
   ]
  },
  {
   "cell_type": "markdown",
   "metadata": {},
   "source": [
    "Getting the node embedding outputs from the STABLE CNN model"
   ]
  },
  {
   "cell_type": "code",
   "execution_count": 4,
   "metadata": {},
   "outputs": [
    {
     "name": "stdout",
     "output_type": "stream",
     "text": [
      "tf.Tensor(\n",
      "[[-0.04275493 -0.08479704  0.0292923  ...  0.08790416  0.07556851\n",
      "  -0.06879054]\n",
      " [ 0.00583083 -0.01126311  0.00234818 ...  0.08790416  0.07556851\n",
      "  -0.06879054]\n",
      " [ 0.01972886  0.07676113 -0.08007895 ...  0.08790416  0.07556851\n",
      "  -0.06879054]\n",
      " ...\n",
      " [ 0.01972886  0.07676113 -0.08007895 ...  0.08790416  0.07556851\n",
      "  -0.06879054]\n",
      " [ 0.08189929  0.08689225  0.11288299 ...  0.08790416  0.07556851\n",
      "  -0.06879054]\n",
      " [-0.09420051  0.00115355 -0.06794097 ...  0.08790416  0.07556851\n",
      "  -0.06879054]], shape=(50000, 50000), dtype=float32)\n"
     ]
    }
   ],
   "source": [
    "# getting the outputs from the embedding layer of the CNN\n",
    "embeddings = keras.Model(inputs=CNN.inputs, outputs=CNN.get_layer(name=\"embedding\").output) \n",
    "\n",
    "embedding_raw_outputs = embeddings(padded_tokenized_sentiments[0:50000:1])\n",
    "flatten_layer = keras.layers.Flatten()\n",
    "embedding_outputs = flatten_layer(embedding_raw_outputs)\n",
    "print(embedding_outputs)\n"
   ]
  },
  {
   "cell_type": "markdown",
   "metadata": {},
   "source": [
    "Splitting this big tensor up into train test and validation segments"
   ]
  },
  {
   "cell_type": "code",
   "execution_count": 5,
   "metadata": {},
   "outputs": [],
   "source": [
    "import numpy as np\n",
    "from sklearn.model_selection import train_test_split\n",
    "embedding_outputs = np.array(embedding_outputs)\n",
    "train_x, test_x, train_y, test_y = train_test_split(embedding_outputs, raw_y, random_state=1000, shuffle=True, test_size=0.3)\n"
   ]
  },
  {
   "cell_type": "markdown",
   "metadata": {},
   "source": [
    "Training a DT on embedding_outputs (Don't need validation)"
   ]
  },
  {
   "cell_type": "code",
   "execution_count": 6,
   "metadata": {},
   "outputs": [
    {
     "name": "stdout",
     "output_type": "stream",
     "text": [
      "Training accuracy: 0.565 vs Testing Accuracy 0.5488666666666666\n"
     ]
    }
   ],
   "source": [
    "import sklearn as sk\n",
    "from sklearn.tree import DecisionTreeClassifier\n",
    "\n",
    "best_test_accuracy = 0\n",
    "best_i = 0\n",
    "# evaluating the models\n",
    "tree = DecisionTreeClassifier(max_depth=5).fit(train_x, train_y)\n",
    "training_prediction = tree.predict(train_x)\n",
    "test_prediction = tree.predict(test_x)\n",
    "\n",
    "training_prediction_accuracy = sk.metrics.accuracy_score(train_y, training_prediction, normalize=True)\n",
    "test_prediction_accuracy = sk.metrics.accuracy_score(test_y, test_prediction, normalize=True)\n",
    "\n",
    "\n",
    "print(\"Training accuracy: {} vs Testing Accuracy {}\".format(training_prediction_accuracy, test_prediction_accuracy))\n"
   ]
  },
  {
   "cell_type": "markdown",
   "metadata": {},
   "source": [
    "Getting convolutional layer outputs "
   ]
  },
  {
   "cell_type": "code",
   "execution_count": 7,
   "metadata": {},
   "outputs": [
    {
     "name": "stdout",
     "output_type": "stream",
     "text": [
      "tf.Tensor(\n",
      "[[0.         0.01070739 0.         ... 0.         0.07876873 0.        ]\n",
      " [0.24322078 0.         0.97995    ... 0.         0.07876873 0.        ]\n",
      " [0.6055584  0.         0.04483942 ... 0.         0.07876873 0.        ]\n",
      " ...\n",
      " [0.05258211 0.         0.7495864  ... 0.         0.07876873 0.        ]\n",
      " [0.         0.         0.         ... 0.         0.07876873 0.        ]\n",
      " [0.04430513 0.         0.         ... 0.         0.07876873 0.        ]], shape=(50000, 31936), dtype=float32)\n"
     ]
    }
   ],
   "source": [
    "conv = keras.Model(inputs=CNN.inputs, outputs=CNN.get_layer(name=\"conv1d\").output) \n",
    "\n",
    "conv_raw_out = conv(padded_tokenized_sentiments[0:50000:1])\n",
    "flatten_layer = keras.layers.Flatten()\n",
    "conv_outputs = flatten_layer(conv_raw_out)\n",
    "print(conv_outputs)\n"
   ]
  },
  {
   "cell_type": "markdown",
   "metadata": {},
   "source": [
    "Splitting output"
   ]
  },
  {
   "cell_type": "code",
   "execution_count": 8,
   "metadata": {},
   "outputs": [],
   "source": [
    "import numpy as np\n",
    "from sklearn.model_selection import train_test_split\n",
    "conv_output = np.array(conv_outputs)\n",
    "train_x, test_x, train_y, test_y = train_test_split(conv_output, raw_y, random_state=1000, shuffle=True, test_size=0.3)"
   ]
  },
  {
   "cell_type": "markdown",
   "metadata": {},
   "source": [
    "Training DT on conv layer outputs"
   ]
  },
  {
   "cell_type": "code",
   "execution_count": 9,
   "metadata": {},
   "outputs": [
    {
     "name": "stdout",
     "output_type": "stream",
     "text": [
      "Training accuracy: 0.5502285714285714 vs Testing Accuracy 0.5571333333333334\n"
     ]
    }
   ],
   "source": [
    "import sklearn as sk\n",
    "from sklearn.tree import DecisionTreeClassifier\n",
    "best_test_accuracy = 0\n",
    "best_i = 0\n",
    "# evaluating the models\n",
    "tree = DecisionTreeClassifier(max_depth=5).fit(train_x, train_y)\n",
    "training_prediction = tree.predict(train_x)\n",
    "test_prediction = tree.predict(test_x)\n",
    "\n",
    "training_prediction_accuracy = sk.metrics.accuracy_score(train_y, training_prediction, normalize=True)\n",
    "test_prediction_accuracy = sk.metrics.accuracy_score(test_y, test_prediction, normalize=True)\n",
    "\n",
    "\n",
    "print(\"Training accuracy: {} vs Testing Accuracy {}\".format(training_prediction_accuracy, test_prediction_accuracy))"
   ]
  },
  {
   "cell_type": "markdown",
   "metadata": {},
   "source": [
    "Getting output of pooling layer"
   ]
  },
  {
   "cell_type": "code",
   "execution_count": 10,
   "metadata": {},
   "outputs": [
    {
     "ename": "",
     "evalue": "",
     "output_type": "error",
     "traceback": [
      "\u001b[1;31mCannot execute code, session has been disposed. Please try restarting the Kernel."
     ]
    },
    {
     "ename": "",
     "evalue": "",
     "output_type": "error",
     "traceback": [
      "\u001b[1;31mThe Kernel crashed while executing code in the the current cell or a previous cell. Please review the code in the cell(s) to identify a possible cause of the failure. Click <a href='https://aka.ms/vscodeJupyterKernelCrash'>here</a> for more info. View Jupyter <a href='command:jupyter.viewOutput'>log</a> for further details."
     ]
    }
   ],
   "source": [
    "pooling = keras.Model(inputs=CNN.inputs, outputs=CNN.get_layer(name=\"global_max_pooling1d\").output) \n",
    "\n",
    "pooling_raw_out = pooling(padded_tokenized_sentiments[0:50000:1])\n",
    "flatten_layer = keras.layers.Flatten()\n",
    "pooling_outputs = flatten_layer(pooling_raw_out)\n",
    "print(pooling_outputs)"
   ]
  },
  {
   "cell_type": "markdown",
   "metadata": {},
   "source": [
    "Splitting pooling output"
   ]
  },
  {
   "cell_type": "code",
   "execution_count": null,
   "metadata": {},
   "outputs": [],
   "source": [
    "import numpy as np\n",
    "from sklearn.model_selection import train_test_split\n",
    "pooling_output = np.array(pooling_outputs)\n",
    "train_x, test_x, train_y, test_y = train_test_split(pooling_output, raw_y, random_state=1000, shuffle=True, test_size=0.3)"
   ]
  },
  {
   "cell_type": "markdown",
   "metadata": {},
   "source": [
    "Training Dt on pooling"
   ]
  },
  {
   "cell_type": "code",
   "execution_count": null,
   "metadata": {},
   "outputs": [
    {
     "name": "stdout",
     "output_type": "stream",
     "text": [
      "Training accuracy: 0.5735142857142858 vs Testing Accuracy 0.5683333333333334\n"
     ]
    }
   ],
   "source": [
    "import sklearn as sk\n",
    "from sklearn.tree import DecisionTreeClassifier\n",
    "\n",
    "best_test_accuracy = 0\n",
    "best_i = 0\n",
    "# evaluating the models\n",
    "tree = DecisionTreeClassifier(max_depth=5).fit(train_x, train_y)\n",
    "training_prediction = tree.predict(train_x)\n",
    "test_prediction = tree.predict(test_x)\n",
    "\n",
    "training_prediction_accuracy = sk.metrics.accuracy_score(train_y, training_prediction, normalize=True)\n",
    "test_prediction_accuracy = sk.metrics.accuracy_score(test_y, test_prediction, normalize=True)\n",
    "\n",
    "\n",
    "print(\"Training accuracy: {} vs Testing Accuracy {}\".format(training_prediction_accuracy, test_prediction_accuracy))"
   ]
  },
  {
   "cell_type": "markdown",
   "metadata": {},
   "source": [
    "Getting output from first dense layer"
   ]
  },
  {
   "cell_type": "code",
   "execution_count": null,
   "metadata": {},
   "outputs": [
    {
     "name": "stdout",
     "output_type": "stream",
     "text": [
      "tf.Tensor(\n",
      "[[0.9367351  2.4739137  2.6744     ... 1.157961   1.2296641  1.903941  ]\n",
      " [0.6682062  2.8604558  1.5090369  ... 1.0655558  1.1144934  1.9300716 ]\n",
      " [1.6244669  1.4200797  1.4253105  ... 1.2042524  1.1858108  1.2665263 ]\n",
      " ...\n",
      " [1.5316938  1.5835792  2.2751236  ... 1.3601041  1.4951031  1.1588593 ]\n",
      " [1.6358929  0.74724245 2.4778965  ... 1.2150865  0.9762061  1.0232066 ]\n",
      " [2.0390623  1.1072648  2.3255944  ... 1.816544   1.8689241  0.88813496]], shape=(50000, 10), dtype=float32)\n"
     ]
    }
   ],
   "source": [
    "dense = keras.Model(inputs=CNN.inputs, outputs=CNN.get_layer(name=\"dense\").output) \n",
    "\n",
    "dense_raw_out = dense(padded_tokenized_sentiments[0:50000:1])\n",
    "flatten_layer = keras.layers.Flatten()\n",
    "dense_outputs = flatten_layer(dense_raw_out)\n",
    "print(dense_outputs)"
   ]
  },
  {
   "cell_type": "markdown",
   "metadata": {},
   "source": [
    "Splitting dense into train and test"
   ]
  },
  {
   "cell_type": "code",
   "execution_count": null,
   "metadata": {},
   "outputs": [],
   "source": [
    "import numpy as np\n",
    "from sklearn.model_selection import train_test_split\n",
    "dense_output = np.array(dense_outputs)\n",
    "train_x, test_x, train_y, test_y = train_test_split(dense_output, raw_y, random_state=1000, shuffle=True, test_size=0.3)"
   ]
  },
  {
   "cell_type": "markdown",
   "metadata": {},
   "source": [
    "Training DT on dense layer"
   ]
  },
  {
   "cell_type": "code",
   "execution_count": null,
   "metadata": {},
   "outputs": [
    {
     "name": "stdout",
     "output_type": "stream",
     "text": [
      "Training accuracy: 0.5800285714285714 vs Testing Accuracy 0.5675333333333333\n"
     ]
    }
   ],
   "source": [
    "import sklearn as sk\n",
    "from sklearn.tree import DecisionTreeClassifier\n",
    "\n",
    "best_test_accuracy = 0\n",
    "best_i = 0\n",
    "# evaluating the models\n",
    "tree = DecisionTreeClassifier(max_depth=5).fit(train_x, train_y)\n",
    "training_prediction = tree.predict(train_x)\n",
    "test_prediction = tree.predict(test_x)\n",
    "\n",
    "training_prediction_accuracy = sk.metrics.accuracy_score(train_y, training_prediction, normalize=True)\n",
    "test_prediction_accuracy = sk.metrics.accuracy_score(test_y, test_prediction, normalize=True)\n",
    "\n",
    "\n",
    "print(\"Training accuracy: {} vs Testing Accuracy {}\".format(training_prediction_accuracy, test_prediction_accuracy))"
   ]
  },
  {
   "cell_type": "markdown",
   "metadata": {},
   "source": [
    "Extracting output from last dense layer"
   ]
  },
  {
   "cell_type": "code",
   "execution_count": null,
   "metadata": {},
   "outputs": [
    {
     "name": "stdout",
     "output_type": "stream",
     "text": [
      "tf.Tensor(\n",
      "[[0.61962384]\n",
      " [0.95021033]\n",
      " [0.41221657]\n",
      " ...\n",
      " [0.13051863]\n",
      " [0.03999363]\n",
      " [0.00474292]], shape=(50000, 1), dtype=float32)\n"
     ]
    }
   ],
   "source": [
    "dense = keras.Model(inputs=CNN.inputs, outputs=CNN.get_layer(name=\"dense_1\").output) \n",
    "\n",
    "dense_raw_out = dense(padded_tokenized_sentiments[0:50000:1])\n",
    "flatten_layer = keras.layers.Flatten()\n",
    "dense_outputs = flatten_layer(dense_raw_out)\n",
    "print(dense_outputs)"
   ]
  },
  {
   "cell_type": "code",
   "execution_count": null,
   "metadata": {},
   "outputs": [],
   "source": [
    "import numpy as np\n",
    "from sklearn.model_selection import train_test_split\n",
    "dense_output = np.array(dense_outputs)\n",
    "train_x, test_x, train_y, test_y = train_test_split(dense_output, raw_y, random_state=1000, shuffle=True, test_size=0.3)"
   ]
  },
  {
   "cell_type": "code",
   "execution_count": null,
   "metadata": {},
   "outputs": [
    {
     "name": "stdout",
     "output_type": "stream",
     "text": [
      "Training accuracy: 0.5702 vs Testing Accuracy 0.5608\n"
     ]
    }
   ],
   "source": [
    "import sklearn as sk\n",
    "from sklearn.tree import DecisionTreeClassifier\n",
    "\n",
    "best_test_accuracy = 0\n",
    "best_i = 0\n",
    "# evaluating the models\n",
    "tree = DecisionTreeClassifier(max_depth=5).fit(train_x, train_y)\n",
    "training_prediction = tree.predict(train_x)\n",
    "test_prediction = tree.predict(test_x)\n",
    "\n",
    "training_prediction_accuracy = sk.metrics.accuracy_score(train_y, training_prediction, normalize=True)\n",
    "test_prediction_accuracy = sk.metrics.accuracy_score(test_y, test_prediction, normalize=True)\n",
    "\n",
    "\n",
    "print(\"Training accuracy: {} vs Testing Accuracy {}\".format(training_prediction_accuracy, test_prediction_accuracy))"
   ]
  }
 ],
 "metadata": {
  "kernelspec": {
   "display_name": "baseEnv",
   "language": "python",
   "name": "python3"
  },
  "language_info": {
   "codemirror_mode": {
    "name": "ipython",
    "version": 3
   },
   "file_extension": ".py",
   "mimetype": "text/x-python",
   "name": "python",
   "nbconvert_exporter": "python",
   "pygments_lexer": "ipython3",
   "version": "3.8.17"
  },
  "orig_nbformat": 4
 },
 "nbformat": 4,
 "nbformat_minor": 2
}
