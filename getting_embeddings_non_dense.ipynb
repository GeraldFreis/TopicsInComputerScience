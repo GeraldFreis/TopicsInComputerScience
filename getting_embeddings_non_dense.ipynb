{
 "cells": [
  {
   "cell_type": "code",
   "execution_count": 2,
   "metadata": {},
   "outputs": [],
   "source": [
    "import pandas as pd\n",
    "\n",
    "raw_data = pd.read_csv(\"IMDB_dataset_final.csv\", low_memory=False)\n",
    "\n",
    "# printing statements to check the variables\n",
    "raw_x = raw_data.review; # print(raw_x)\n",
    "raw_y = raw_data.sentiment; # print(raw_y)\n",
    "\n",
    "number_of_words_in_dic = 37500; \n",
    "\n",
    "import tensorflow as tf\n",
    "from tensorflow.keras.preprocessing.text import Tokenizer\n",
    "tf.config.set_visible_devices([], 'GPU')\n",
    "\n",
    "\n",
    "tokenizer = Tokenizer(num_words=number_of_words_in_dic) # to tokenize the words for learning\n",
    "tokenizer.fit_on_texts(raw_x)\n",
    "tokenized_sentiments = tokenizer.texts_to_sequences(raw_x) # converting the words to number arrays\n",
    "\n",
    "vocab_size = len(tokenizer.word_index) + 1\n",
    "\n",
    "padded_tokenized_sentiments= tf.keras.utils.pad_sequences(tokenized_sentiments, padding=\"post\", maxlen=1000)"
   ]
  },
  {
   "cell_type": "code",
   "execution_count": 3,
   "metadata": {},
   "outputs": [],
   "source": [
    "import keras\n",
    "from keras import Sequential # we will be using this for the CNN\n",
    "from keras import layers\n",
    "import tensorflow as tf\n",
    "import os"
   ]
  },
  {
   "cell_type": "markdown",
   "metadata": {},
   "source": [
    "The code beneath changes every time you run it and hence shows a bad approach to extracting the embeddings"
   ]
  },
  {
   "cell_type": "code",
   "execution_count": 4,
   "metadata": {},
   "outputs": [
    {
     "name": "stdout",
     "output_type": "stream",
     "text": [
      "Model: \"sequential\"\n",
      "_________________________________________________________________\n",
      " Layer (type)                Output Shape              Param #   \n",
      "=================================================================\n",
      " embedding (Embedding)       (None, 1000, 50)          1875000   \n",
      "                                                                 \n",
      " conv1d (Conv1D)             (None, 998, 32)           4832      \n",
      "                                                                 \n",
      " global_max_pooling1d (Globa  (None, 32)               0         \n",
      " lMaxPooling1D)                                                  \n",
      "                                                                 \n",
      " dense (Dense)               (None, 10)                330       \n",
      "                                                                 \n",
      " dense_1 (Dense)             (None, 1)                 11        \n",
      "                                                                 \n",
      "=================================================================\n",
      "Total params: 1,880,173\n",
      "Trainable params: 1,880,173\n",
      "Non-trainable params: 0\n",
      "_________________________________________________________________\n"
     ]
    }
   ],
   "source": [
    "# importing the trained keras cnn\n",
    "CNN = tf.keras.models.load_model(\"CNN_Non_Dense\")\n",
    "CNN.summary()"
   ]
  },
  {
   "cell_type": "markdown",
   "metadata": {},
   "source": [
    "Getting the node embedding outputs from the STABLE CNN model"
   ]
  },
  {
   "cell_type": "code",
   "execution_count": 5,
   "metadata": {},
   "outputs": [
    {
     "name": "stdout",
     "output_type": "stream",
     "text": [
      "tf.Tensor(\n",
      "[[-0.04275493 -0.08479704  0.0292923  ...  0.08790416  0.07556851\n",
      "  -0.06879054]\n",
      " [ 0.00583083 -0.01126311  0.00234818 ...  0.08790416  0.07556851\n",
      "  -0.06879054]\n",
      " [ 0.01972886  0.07676113 -0.08007895 ...  0.08790416  0.07556851\n",
      "  -0.06879054]\n",
      " ...\n",
      " [ 0.01972886  0.07676113 -0.08007895 ...  0.08790416  0.07556851\n",
      "  -0.06879054]\n",
      " [ 0.08189929  0.08689225  0.11288299 ...  0.08790416  0.07556851\n",
      "  -0.06879054]\n",
      " [-0.09420051  0.00115355 -0.06794097 ...  0.08790416  0.07556851\n",
      "  -0.06879054]], shape=(50000, 50000), dtype=float32)\n"
     ]
    }
   ],
   "source": [
    "# getting the outputs from the embedding layer of the CNN\n",
    "embeddings = keras.Model(inputs=CNN.inputs, outputs=CNN.get_layer(name=\"embedding\").output) \n",
    "\n",
    "embedding_raw_outputs = embeddings(padded_tokenized_sentiments[0:50000:1])\n",
    "flatten_layer = keras.layers.Flatten()\n",
    "embedding_outputs = flatten_layer(embedding_raw_outputs)\n",
    "print(embedding_outputs)\n"
   ]
  },
  {
   "cell_type": "markdown",
   "metadata": {},
   "source": [
    "Splitting this big tensor up into train test and validation segments"
   ]
  },
  {
   "cell_type": "code",
   "execution_count": 6,
   "metadata": {},
   "outputs": [],
   "source": [
    "import numpy as np\n",
    "from sklearn.model_selection import train_test_split\n",
    "embedding_outputs = np.array(embedding_outputs)\n",
    "train_x, test_x, train_y, test_y = train_test_split(embedding_outputs, raw_y, random_state=1000, shuffle=True, test_size=0.3)\n"
   ]
  },
  {
   "cell_type": "markdown",
   "metadata": {},
   "source": [
    "Training a DT (Don't need validation)"
   ]
  },
  {
   "cell_type": "code",
   "execution_count": 7,
   "metadata": {},
   "outputs": [
    {
     "name": "stdout",
     "output_type": "stream",
     "text": [
      "Training accuracy: 0.5561714285714285 vs Testing Accuracy 0.5296666666666666\n"
     ]
    }
   ],
   "source": [
    "import sklearn as sk\n",
    "from sklearn.tree import DecisionTreeClassifier\n",
    "best_test_accuracy = 0\n",
    "best_i = 0\n",
    "# evaluating the models\n",
    "tree = DecisionTreeClassifier(max_depth=5).fit(train_x, train_y)\n",
    "training_prediction = tree.predict(train_x)\n",
    "test_prediction = tree.predict(test_x)\n",
    "\n",
    "training_prediction_accuracy = sk.metrics.accuracy_score(train_y, training_prediction, normalize=True)\n",
    "test_prediction_accuracy = sk.metrics.accuracy_score(test_y, test_prediction, normalize=True)\n",
    "\n",
    "\n",
    "print(\"Training accuracy: {} vs Testing Accuracy {}\".format(training_prediction_accuracy, test_prediction_accuracy))\n"
   ]
  }
 ],
 "metadata": {
  "kernelspec": {
   "display_name": "baseEnv",
   "language": "python",
   "name": "python3"
  },
  "language_info": {
   "codemirror_mode": {
    "name": "ipython",
    "version": 3
   },
   "file_extension": ".py",
   "mimetype": "text/x-python",
   "name": "python",
   "nbconvert_exporter": "python",
   "pygments_lexer": "ipython3",
   "version": "3.8.17"
  },
  "orig_nbformat": 4
 },
 "nbformat": 4,
 "nbformat_minor": 2
}
